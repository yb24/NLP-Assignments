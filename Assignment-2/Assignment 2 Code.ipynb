{
 "cells": [
  {
   "cell_type": "markdown",
   "metadata": {
    "id": "D9tBa0rPKzVP"
   },
   "source": [
    "# NLP Assignment 2\n",
    "# Harman Singh 2019042\n",
    "# Yash Bhargava 2019289"
   ]
  },
  {
   "cell_type": "code",
   "execution_count": 1,
   "metadata": {
    "colab": {
     "base_uri": "https://localhost:8080/"
    },
    "id": "3zAsw8TFJKyk",
    "outputId": "cd8f893d-f032-45b2-8e8b-fbca1067d49f"
   },
   "outputs": [
    {
     "name": "stderr",
     "output_type": "stream",
     "text": [
      "[nltk_data] Downloading package punkt to\n",
      "[nltk_data]     C:\\Users\\Asus\\AppData\\Roaming\\nltk_data...\n",
      "[nltk_data]   Package punkt is already up-to-date!\n",
      "[nltk_data] Downloading package stopwords to\n",
      "[nltk_data]     C:\\Users\\Asus\\AppData\\Roaming\\nltk_data...\n",
      "[nltk_data]   Package stopwords is already up-to-date!\n",
      "[nltk_data] Downloading package vader_lexicon to\n",
      "[nltk_data]     C:\\Users\\Asus\\AppData\\Roaming\\nltk_data...\n",
      "[nltk_data]   Package vader_lexicon is already up-to-date!\n"
     ]
    }
   ],
   "source": [
    "#Importing essential libraries\n",
    "import numpy as np\n",
    "import re\n",
    "import pandas as pd\n",
    "import nltk\n",
    "import pickle\n",
    "from nltk.corpus import stopwords\n",
    "from nltk.stem import WordNetLemmatizer\n",
    "from nltk.tokenize import word_tokenize\n",
    "from nltk.stem import PorterStemmer\n",
    "from tqdm import tqdm\n",
    "import copy\n",
    "import random\n",
    "from nltk.sentiment.vader import SentimentIntensityAnalyzer\n",
    "from nltk.tokenize import TweetTokenizer\n",
    "nltk.download('punkt')\n",
    "nltk.download('stopwords')\n",
    "nltk.download(\"vader_lexicon\")\n",
    "from sklearn.utils import shuffle\n",
    "from sklearn.feature_extraction.text import TfidfVectorizer\n",
    "from sklearn.naive_bayes import MultinomialNB\n",
    "from sklearn.linear_model import LogisticRegression\n",
    "from sklearn.pipeline import make_pipeline\n",
    "from sklearn.metrics import accuracy_score"
   ]
  },
  {
   "cell_type": "code",
   "execution_count": 2,
   "metadata": {
    "id": "P-Tq4ZO-LlrC"
   },
   "outputs": [],
   "source": [
    "#Preprocessing\n",
    "\n",
    "#Converting to lowercase\n",
    "def to_lower_case(text):\n",
    "  text = text.lower()\n",
    "  return text\n",
    "\n",
    "#Substituting words with apostrophe with their possible base form\n",
    "def substitute_text(text):\n",
    "  text_list = []\n",
    "  substitutes = {\"aren't\": 'are not', \"can't\": 'cannot', \"couldn't\": 'could not', \"didn't\": 'did not', \"doesn't\": 'does not', \"don't\": 'do not', \"hadn't\": 'had not', \"hasn't\": 'has not', \"haven't\": 'have not', \"he'd\": 'he would', \"he'll\": 'he will', \"he's\": 'he is', \"i'd\": 'i would', \"i'll\": 'i will', \"i'm\": 'i am', \"isn't\": 'is not', \"it's\": 'it is', \"it'll\": 'it will', \"i've\": 'i have', \"let's\": 'let us', \"mightn't\": 'might not', \"mustn't\": 'must not',\"n't\": 'not', \"shan't\": 'shall not', \"she'd\": 'she would', \"she'll\": 'she will', \"she's\": 'she is', \"shouldn't\": 'should not', \"that's\": 'that is', \"there's\": 'there is', \"they'd\": 'they would', \"they'll\": 'they will', \"they're\": 'they are', \"they've\": 'they have', \"we'd\": 'we would', \"we're\": 'we are', \"weren't\": 'were not', \"we've\": 'we have', \"what'll\": 'what will', \"what're\": 'what are', \"what's\": 'what is', \"what've\": 'what have', \"where's\": 'where is', \"who'd\": 'who would', \"who'll\": 'who will', \"who're\": 'who are', \"who's\": 'who is', \"who've\": 'who have', \"won't\": 'will not', \"wouldn't\": 'would not', \"you'd\": 'you would', \"you'll\": 'you will', \"you're\": 'you are', \"you've\": 'you have', \"'re\": ' are', \"wasn't\": 'was not', \"we'll\": 'we will', \"'cause\": 'because', \"could've\": 'could have', \"how'd\": 'how did', \"how'd'y\": 'how do you', \"how'll\": 'how will', \"how's\": 'how is', \"I'd\": 'I would', \"I'd've\": 'I would have', \"I'll\": 'I will', \"I'll've\": 'I will have', \"I'm\": 'I am', \"I've\": 'I have', \"i'd've\": 'i would have', \"i'll've\": 'i will have', \"it'd\": 'it would', \"it'd've\": 'it would have', \"it'll've\": 'it will have', \"ma'am\": 'madam', \"mayn't\": 'may not', \"might've\": 'might have', \"mightn't've\": 'might not have', \"must've\": 'must have', \"mustn't've\": 'must not have', \"needn't\": 'need not', \"needn't've\": 'need not have', \"o'clock\": 'of the clock', \"oughtn't\": 'ought not', \"oughtn't've\": 'ought not have', \"sha'n't\": 'shall not', \"shan't've\": 'shall not have', \"she'd've\": 'she would have', \"she'll've\": 'she will have', \"should've\": 'should have', \"shouldn't've\": 'should not have', \"so've\": 'so have', \"so's\": 'so as', \"this's\": 'this is', \"that'd\": 'that would', \"that'd've\": 'that would have', \"there'd\": 'there would', \"there'd've\": 'there would have', \"here's\": 'here is', \"they'd've\": 'they would have', \"they'll've\": 'they will have', \"to've\": 'to have', \"we'd've\": 'we would have', \"we'll've\": 'we will have', \"what'll've\": 'what will have', \"when's\": 'when is', \"when've\": 'when have', \"where'd\": 'where did', \"where've\": 'where have', \"who'll've\": 'who will have', \"why's\": 'why is', \"why've\": 'why have', \"will've\": 'will have', \"won't've\": 'will not have', \"would've\": 'would have', \"wouldn't've\": 'would not have', \"y'all\": 'you all', \"y'all'd\": 'you all would', \"y'all'd've\": 'you all would have', \"y'all're\": 'you all are', \"y'all've\": 'you all have', \"you'd've\": 'you would have', \"you'll've\": 'you will have'}\n",
    "  text_tokenised = text.split()\n",
    "  for i in text_tokenised:\n",
    "    if(i in substitutes):\n",
    "      text_list.append(substitutes[i])\n",
    "    else:\n",
    "      text_list.append(i)\n",
    "  return ' '.join(text_list)\n",
    "\n",
    "\n",
    "#Removing punctuations\n",
    "def remove_punctuations(text):\n",
    "  punctuations = '''!()-[|]`{};:'\"\\,<>./?@#$=+%^&*_~'''\n",
    "  new_list = ['' if x in punctuations else x for x in text]\n",
    "  new_list_final = []\n",
    "  for token in new_list:\n",
    "    new_token=\"\"\n",
    "    for char in token:\n",
    "      if(char not in punctuations):\n",
    "        new_token+=char\n",
    "    if(len(new_token)!=0):\n",
    "      new_list_final.append(new_token)\n",
    "  return new_list_final\n",
    "\n",
    "#Removing stopwords\n",
    "def remove_stopwords(text):\n",
    "  stopword = stopwords.words('english')\n",
    "  new_list = [x for x in text if x not in stopword]\n",
    "  return new_list\n",
    "  \n",
    "#Stemming\n",
    "def stemming(text):\n",
    "  stemmer = PorterStemmer()\n",
    "  new_list = [stemmer.stem(x) for x in text]\n",
    "  return new_list\n",
    "\n",
    "#Tokenization\n",
    "def tokenization(text):\n",
    "  tk = TweetTokenizer()\n",
    "  return tk.tokenize(text)\n",
    "\n",
    "def perform_url_html_tag_removal(text):\n",
    "  new_text = []\n",
    "  for tt in text:\n",
    "    temp = re.sub(r'^(https?|www\\.|tinyurl|t\\.co).*|.*\\.(com|org|edu).*|^<.*>$', '', tt)\n",
    "    temp2 = re.sub(r'^(@|#).*', '', temp)\n",
    "    if temp2!='':\n",
    "      new_text.append(temp2)\n",
    "  return new_text\n",
    "\n",
    "#Combining all preprocessing steps together for a text\n",
    "def text_preprocess(text):\n",
    "  text = to_lower_case(text)\n",
    "  text = substitute_text(text)\n",
    "  text = tokenization(text)\n",
    "  #text = remove_stopwords(text)\n",
    "  text = remove_punctuations(text)\n",
    "  text = perform_url_html_tag_removal(text)\n",
    "  text = [x.strip() for x in text if len(x.strip())]\n",
    "  #text = stemming(text)\n",
    "  return text\n",
    "\n",
    "def data_preprocess(df, col_name):\n",
    "  data = df.copy(deep=True)\n",
    "  data[col_name] = data[col_name].apply(text_preprocess)\n",
    "  return data"
   ]
  },
  {
   "cell_type": "code",
   "execution_count": 3,
   "metadata": {
    "id": "3veCro1GPvUU"
   },
   "outputs": [],
   "source": [
    "#Loading dataset\n",
    "\n",
    "def load_dataset(path):\n",
    "  '''Loads the dataset (in CSV format) from the path provided\n",
    "\n",
    "  Parameters:\n",
    "  ------------\n",
    "  path: str\n",
    "     OS path at which the file is located\n",
    "    \n",
    "  Returns\n",
    "  ------------\n",
    "  pandas.core.frame.DataFrame\n",
    "     Pandas dataframe object consisting of the data\n",
    "\n",
    "  '''\n",
    "\n",
    "  df = pd.read_csv(path)\n",
    "  return df"
   ]
  },
  {
   "cell_type": "code",
   "execution_count": 4,
   "metadata": {
    "id": "5M8D4dVEP5LC"
   },
   "outputs": [],
   "source": [
    "if __name__ == \"__main__\":\n",
    "  #Loading dataset\n",
    "  df = load_dataset(r\"E:\\Sem7\\NLP\\Assignments\\Assignment 2\\A2_dataset.csv\")\n",
    "  test_df = load_dataset(r\"E:\\Sem7\\NLP\\Assignments\\Assignment 2\\A2_test_dataset.csv\")"
   ]
  },
  {
   "cell_type": "code",
   "execution_count": 5,
   "metadata": {
    "id": "myuodyf9P-zo"
   },
   "outputs": [],
   "source": [
    "#Applying preprocessing steps\n",
    "df_preprocessed = data_preprocess(df, 'TEXT')"
   ]
  },
  {
   "cell_type": "code",
   "execution_count": 6,
   "metadata": {
    "colab": {
     "base_uri": "https://localhost:8080/",
     "height": 206
    },
    "id": "w7XLJL4QQiXc",
    "outputId": "93855239-4d43-4f15-ccab-b786f07f4f02"
   },
   "outputs": [
    {
     "data": {
      "text/html": [
       "<div>\n",
       "<style scoped>\n",
       "    .dataframe tbody tr th:only-of-type {\n",
       "        vertical-align: middle;\n",
       "    }\n",
       "\n",
       "    .dataframe tbody tr th {\n",
       "        vertical-align: top;\n",
       "    }\n",
       "\n",
       "    .dataframe thead th {\n",
       "        text-align: right;\n",
       "    }\n",
       "</style>\n",
       "<table border=\"1\" class=\"dataframe\">\n",
       "  <thead>\n",
       "    <tr style=\"text-align: right;\">\n",
       "      <th></th>\n",
       "      <th>LABEL</th>\n",
       "      <th>DATE_TIME</th>\n",
       "      <th>TEXT</th>\n",
       "    </tr>\n",
       "  </thead>\n",
       "  <tbody>\n",
       "    <tr>\n",
       "      <th>0</th>\n",
       "      <td>0</td>\n",
       "      <td>Fri Jun 05 14:26:50 2009</td>\n",
       "      <td>About to get threaded and scared</td>\n",
       "    </tr>\n",
       "    <tr>\n",
       "      <th>1</th>\n",
       "      <td>1</td>\n",
       "      <td>Thu May 14 10:13:55 2009</td>\n",
       "      <td>@awaisnaseer I like Shezan Mangooo too!!! I ha...</td>\n",
       "    </tr>\n",
       "    <tr>\n",
       "      <th>2</th>\n",
       "      <td>1</td>\n",
       "      <td>Fri Jun 05 21:02:20 2009</td>\n",
       "      <td>worked on my car after work. showering then go...</td>\n",
       "    </tr>\n",
       "    <tr>\n",
       "      <th>3</th>\n",
       "      <td>1</td>\n",
       "      <td>Sun Jun 14 22:25:52 2009</td>\n",
       "      <td>@Marama Actually we start this afternoon!  I w...</td>\n",
       "    </tr>\n",
       "    <tr>\n",
       "      <th>4</th>\n",
       "      <td>1</td>\n",
       "      <td>Sun May 31 00:42:12 2009</td>\n",
       "      <td>@gfalcone601 Aww Gi.don't worry.we'll vote for...</td>\n",
       "    </tr>\n",
       "  </tbody>\n",
       "</table>\n",
       "</div>"
      ],
      "text/plain": [
       "   LABEL                 DATE_TIME  \\\n",
       "0      0  Fri Jun 05 14:26:50 2009   \n",
       "1      1  Thu May 14 10:13:55 2009   \n",
       "2      1  Fri Jun 05 21:02:20 2009   \n",
       "3      1  Sun Jun 14 22:25:52 2009   \n",
       "4      1  Sun May 31 00:42:12 2009   \n",
       "\n",
       "                                                TEXT  \n",
       "0                  About to get threaded and scared   \n",
       "1  @awaisnaseer I like Shezan Mangooo too!!! I ha...  \n",
       "2  worked on my car after work. showering then go...  \n",
       "3  @Marama Actually we start this afternoon!  I w...  \n",
       "4  @gfalcone601 Aww Gi.don't worry.we'll vote for...  "
      ]
     },
     "execution_count": 6,
     "metadata": {},
     "output_type": "execute_result"
    }
   ],
   "source": [
    "df.head()"
   ]
  },
  {
   "cell_type": "code",
   "execution_count": 7,
   "metadata": {
    "colab": {
     "base_uri": "https://localhost:8080/",
     "height": 206
    },
    "id": "vGXSwJyYQTTm",
    "outputId": "b08559c2-fcaa-48bd-e051-53e813c3663f"
   },
   "outputs": [
    {
     "data": {
      "text/html": [
       "<div>\n",
       "<style scoped>\n",
       "    .dataframe tbody tr th:only-of-type {\n",
       "        vertical-align: middle;\n",
       "    }\n",
       "\n",
       "    .dataframe tbody tr th {\n",
       "        vertical-align: top;\n",
       "    }\n",
       "\n",
       "    .dataframe thead th {\n",
       "        text-align: right;\n",
       "    }\n",
       "</style>\n",
       "<table border=\"1\" class=\"dataframe\">\n",
       "  <thead>\n",
       "    <tr style=\"text-align: right;\">\n",
       "      <th></th>\n",
       "      <th>LABEL</th>\n",
       "      <th>DATE_TIME</th>\n",
       "      <th>TEXT</th>\n",
       "    </tr>\n",
       "  </thead>\n",
       "  <tbody>\n",
       "    <tr>\n",
       "      <th>0</th>\n",
       "      <td>0</td>\n",
       "      <td>Fri Jun 05 14:26:50 2009</td>\n",
       "      <td>[about, to, get, threaded, and, scared]</td>\n",
       "    </tr>\n",
       "    <tr>\n",
       "      <th>1</th>\n",
       "      <td>1</td>\n",
       "      <td>Thu May 14 10:13:55 2009</td>\n",
       "      <td>[awaisnaseer, i, like, shezan, mangooo, too, i...</td>\n",
       "    </tr>\n",
       "    <tr>\n",
       "      <th>2</th>\n",
       "      <td>1</td>\n",
       "      <td>Fri Jun 05 21:02:20 2009</td>\n",
       "      <td>[worked, on, my, car, after, work, showering, ...</td>\n",
       "    </tr>\n",
       "    <tr>\n",
       "      <th>3</th>\n",
       "      <td>1</td>\n",
       "      <td>Sun Jun 14 22:25:52 2009</td>\n",
       "      <td>[marama, actually, we, start, this, afternoon,...</td>\n",
       "    </tr>\n",
       "    <tr>\n",
       "      <th>4</th>\n",
       "      <td>1</td>\n",
       "      <td>Sun May 31 00:42:12 2009</td>\n",
       "      <td>[gfalcone601, aww, gidon, t, worrywe, ll, vote...</td>\n",
       "    </tr>\n",
       "  </tbody>\n",
       "</table>\n",
       "</div>"
      ],
      "text/plain": [
       "   LABEL                 DATE_TIME  \\\n",
       "0      0  Fri Jun 05 14:26:50 2009   \n",
       "1      1  Thu May 14 10:13:55 2009   \n",
       "2      1  Fri Jun 05 21:02:20 2009   \n",
       "3      1  Sun Jun 14 22:25:52 2009   \n",
       "4      1  Sun May 31 00:42:12 2009   \n",
       "\n",
       "                                                TEXT  \n",
       "0            [about, to, get, threaded, and, scared]  \n",
       "1  [awaisnaseer, i, like, shezan, mangooo, too, i...  \n",
       "2  [worked, on, my, car, after, work, showering, ...  \n",
       "3  [marama, actually, we, start, this, afternoon,...  \n",
       "4  [gfalcone601, aww, gidon, t, worrywe, ll, vote...  "
      ]
     },
     "execution_count": 7,
     "metadata": {},
     "output_type": "execute_result"
    }
   ],
   "source": [
    "df_preprocessed.head()"
   ]
  },
  {
   "cell_type": "code",
   "execution_count": 8,
   "metadata": {
    "id": "iJ9_-AUY-cpU"
   },
   "outputs": [],
   "source": [
    "#Pickling preprocessed dataframe\n",
    "pickle_out = open(r\"E:\\Sem7\\NLP\\Assignments\\Assignment 2\\A2_df_preprocessed.pickle\",\"wb\")\n",
    "pickle.dump(df_preprocessed, pickle_out)\n",
    "pickle_out.close()"
   ]
  },
  {
   "cell_type": "code",
   "execution_count": 9,
   "metadata": {
    "id": "LruyWSoo-sS7"
   },
   "outputs": [],
   "source": [
    "df_preprocessed = pickle.load(open(r\"E:\\Sem7\\NLP\\Assignments\\Assignment 2\\A2_df_preprocessed.pickle\",\"rb\"))"
   ]
  },
  {
   "cell_type": "code",
   "execution_count": 10,
   "metadata": {
    "id": "J8ZsiwRFQorb"
   },
   "outputs": [],
   "source": [
    "#Getting vocabulary of our data\n",
    "def get_vocab(data, col_name):\n",
    "  vocab = set()\n",
    "  for text in data[col_name]:\n",
    "    vocab.update(text)\n",
    "  return vocab\n"
   ]
  },
  {
   "cell_type": "code",
   "execution_count": 11,
   "metadata": {
    "id": "R90dTwB0UGTr"
   },
   "outputs": [],
   "source": [
    "#Constructing co-occurrence matrix\n",
    "def construct_bigram_model(data, col_name, vocab):\n",
    "\n",
    "  bigrams = []\n",
    "  co_occurrence_matrix = {}\n",
    "  unigram_count = {}\n",
    "\n",
    "\n",
    "\n",
    "  #Initialising bigram counts with 0\n",
    "  for token in tqdm(vocab):\n",
    "    co_occurrence_matrix[token] = {}\n",
    "    unigram_count[token] = 0\n",
    "    for token_n in vocab:\n",
    "      co_occurrence_matrix[token][token_n] = 0\n",
    "\n",
    "\n",
    "  \n",
    "  #Updating bigram and unigram counts\n",
    "  for tokenised_text in tqdm(list(data[col_name])):\n",
    "\n",
    "    unigram_count[tokenised_text[0]]+=1\n",
    "\n",
    "    for i in range(1, len(tokenised_text)):\n",
    "\n",
    "      #increasing unigram count\n",
    "      unigram_count[tokenised_text[i]]+=1\n",
    "\n",
    "      #Updating bigrams\n",
    "      if((tokenised_text[i-1], tokenised_text[i]) not in bigrams):\n",
    "        bigrams.append((tokenised_text[i-1], tokenised_text[i]))\n",
    "\n",
    "      #Increasing bigram count\n",
    "      co_occurrence_matrix[tokenised_text[i-1]][tokenised_text[i]]+=1\n",
    "    \n",
    "\n",
    "  return unigram_count, bigrams, co_occurrence_matrix\n"
   ]
  },
  {
   "cell_type": "code",
   "execution_count": 12,
   "metadata": {
    "id": "7dMalXDaabNX"
   },
   "outputs": [],
   "source": [
    "#Applying laplace smoothing and returning bigram probabilities\n",
    "def laplace_smoothed_bigram_model(unigram_count, bigrams, co_occurrence_matrix, vocab_size):\n",
    "\n",
    "  smoothed_co_occurrence_matrix = {}\n",
    "\n",
    "  for token in tqdm(co_occurrence_matrix.keys()):\n",
    "    smoothed_co_occurrence_matrix[token]={}\n",
    "    for token_n in co_occurrence_matrix[token].keys():\n",
    "      smoothed_co_occurrence_matrix[token][token_n] = ((co_occurrence_matrix[token][token_n]+1)/(unigram_count[token]+vocab_size))\n",
    "\n",
    "  return smoothed_co_occurrence_matrix"
   ]
  },
  {
   "cell_type": "code",
   "execution_count": 13,
   "metadata": {
    "id": "aP8VOP32c6l8"
   },
   "outputs": [],
   "source": [
    "#Getting vocabulary\n",
    "vocab = get_vocab(df_preprocessed, 'TEXT')"
   ]
  },
  {
   "cell_type": "code",
   "execution_count": 14,
   "metadata": {
    "colab": {
     "base_uri": "https://localhost:8080/"
    },
    "id": "iJt7BRwiVDJF",
    "outputId": "a80a999a-4e8e-48cd-f949-bfbebf84a0ef"
   },
   "outputs": [
    {
     "name": "stderr",
     "output_type": "stream",
     "text": [
      "100%|███████████████████████████████████████████████████████████████████████████| 10142/10142 [00:57<00:00, 176.77it/s]\n",
      "100%|██████████████████████████████████████████████████████████████████████████████| 4287/4287 [00:56<00:00, 75.57it/s]\n"
     ]
    }
   ],
   "source": [
    "#Creating bigram model\n",
    "unigram_count, bigrams, co_occurrence_matrix = construct_bigram_model(df_preprocessed, 'TEXT', vocab)"
   ]
  },
  {
   "cell_type": "code",
   "execution_count": 15,
   "metadata": {
    "colab": {
     "base_uri": "https://localhost:8080/"
    },
    "id": "VyGyfKqHaavz",
    "outputId": "87c1add9-3efd-4d1e-ee64-7fb29d00cced"
   },
   "outputs": [
    {
     "name": "stderr",
     "output_type": "stream",
     "text": [
      "100%|████████████████████████████████████████████████████████████████████████████| 10142/10142 [02:00<00:00, 84.17it/s]\n"
     ]
    }
   ],
   "source": [
    "#Applying laplace smoothing\n",
    "smoothed_co_occurrence_matrix = laplace_smoothed_bigram_model(unigram_count, bigrams, co_occurrence_matrix ,len(vocab))"
   ]
  },
  {
   "cell_type": "code",
   "execution_count": 16,
   "metadata": {
    "colab": {
     "base_uri": "https://localhost:8080/"
    },
    "id": "KNGJA06QvRS0",
    "outputId": "d74f976b-efcf-4f08-a6c8-0e9b3ad2d6d1"
   },
   "outputs": [
    {
     "name": "stdout",
     "output_type": "stream",
     "text": [
      "{'twistedtamsyn': 9.859016070196194e-05, 'alba': 9.859016070196194e-05, 'rkuang': 9.859016070196194e-05, 'lime': 9.859016070196194e-05, 'fbb420': 9.859016070196194e-05, 'hungry': 9.859016070196194e-05, 'not': 9.859016070196194e-05, 'honestly': 9.859016070196194e-05, 'hmmx': 9.859016070196194e-05, 'leading': 9.859016070196194e-05, 'development01': 9.859016070196194e-05, 'pc': 9.859016070196194e-05, 'torehtard': 9.859016070196194e-05, 'bundle': 9.859016070196194e-05, 'vomiting': 9.859016070196194e-05, 'arcticpenguin': 9.859016070196194e-05, 'georgiielu': 9.859016070196194e-05, 'replaced': 9.859016070196194e-05, 'sunshinerocker': 9.859016070196194e-05, 'savorthethyme': 9.859016070196194e-05, 'black': 9.859016070196194e-05, 'spundae': 9.859016070196194e-05, 'shanika': 9.859016070196194e-05, 'greenwich': 9.859016070196194e-05, 'favorites': 9.859016070196194e-05, 'everythinggg': 9.859016070196194e-05, 'ross': 9.859016070196194e-05, 'whedonverse': 9.859016070196194e-05, 'nyc': 9.859016070196194e-05, 'dont': 9.859016070196194e-05, 'jerk': 9.859016070196194e-05, 'sagittarius': 9.859016070196194e-05, 'anticipated': 9.859016070196194e-05, 'form': 9.859016070196194e-05, 'exchange': 9.859016070196194e-05, 'unreal': 9.859016070196194e-05, 'clap': 9.859016070196194e-05, 'kris': 9.859016070196194e-05, 'mentioned': 9.859016070196194e-05, 'sherryhorror': 9.859016070196194e-05, 'pple': 9.859016070196194e-05, '928': 9.859016070196194e-05, 'something': 9.859016070196194e-05, 'tissues': 9.859016070196194e-05, 'maddieque': 9.859016070196194e-05, 'promoting': 9.859016070196194e-05, 'wait': 9.859016070196194e-05, 'pressure': 9.859016070196194e-05, 'shelley1005': 9.859016070196194e-05, 'boxxybabee': 9.859016070196194e-05, 'carinafox5': 9.859016070196194e-05, 'brought': 9.859016070196194e-05, 'total': 9.859016070196194e-05, 'anoopdoggdesai': 9.859016070196194e-05, 'jobro': 9.859016070196194e-05, 'under': 9.859016070196194e-05, 'excited': 9.859016070196194e-05, 'hollie': 9.859016070196194e-05, 'millzz': 9.859016070196194e-05, 'started': 9.859016070196194e-05, 'amberbenson': 9.859016070196194e-05, 'goodnite': 9.859016070196194e-05, 'puter': 9.859016070196194e-05, 'pages': 9.859016070196194e-05, 'schoolwork': 9.859016070196194e-05, 'popcorns': 9.859016070196194e-05, 'youre': 9.859016070196194e-05, 'sandy': 9.859016070196194e-05, 'retweet': 9.859016070196194e-05, 'feather': 9.859016070196194e-05, 'loved': 9.859016070196194e-05, 'pause': 9.859016070196194e-05, 'jasontancy': 9.859016070196194e-05, 'uncoool': 9.859016070196194e-05, 'screen': 9.859016070196194e-05, 'robot': 9.859016070196194e-05, 'sings': 9.859016070196194e-05, 'managed': 9.859016070196194e-05, '2get': 9.859016070196194e-05, 'xero': 9.859016070196194e-05, 'vecordy': 9.859016070196194e-05, 'hahahaha': 9.859016070196194e-05, 'synisterchyck': 9.859016070196194e-05, '4rm': 9.859016070196194e-05, 'unforgettable': 9.859016070196194e-05, 'different': 9.859016070196194e-05, 'eatin': 9.859016070196194e-05, 'vip': 9.859016070196194e-05, 'travelpilot': 9.859016070196194e-05, 'jarron': 9.859016070196194e-05, 'celeb': 9.859016070196194e-05, 'compared': 9.859016070196194e-05, 'laggin': 9.859016070196194e-05, 'yimou': 9.859016070196194e-05, 'dsi': 9.859016070196194e-05, 'earthquake': 9.859016070196194e-05, 'invisable': 9.859016070196194e-05, 'licks': 9.859016070196194e-05, 'brianhahn': 9.859016070196194e-05, 'tutorials': 9.859016070196194e-05, 'trace027': 9.859016070196194e-05, 'understand': 9.859016070196194e-05, 'being': 9.859016070196194e-05, 'helping': 9.859016070196194e-05, 'shezan': 9.859016070196194e-05, 'orange': 9.859016070196194e-05, 'woohoo': 9.859016070196194e-05, 'red': 9.859016070196194e-05, 'plutonic': 9.859016070196194e-05, 'swags0trendee': 9.859016070196194e-05, 'winstanley': 9.859016070196194e-05, 'programx': 9.859016070196194e-05, 'shouted': 9.859016070196194e-05, 'sleepover': 9.859016070196194e-05, 'anchovy': 9.859016070196194e-05, '7': 9.859016070196194e-05, 'stickers': 9.859016070196194e-05, 'cathvontrapp': 9.859016070196194e-05, 'worker': 9.859016070196194e-05, 'mizzdangerous': 9.859016070196194e-05, 'ailujulia': 9.859016070196194e-05, 'hates': 9.859016070196194e-05, 'phelps': 9.859016070196194e-05, 'units': 9.859016070196194e-05, 'realize': 9.859016070196194e-05, 'telecon': 9.859016070196194e-05, 'channel': 9.859016070196194e-05, 'staying': 9.859016070196194e-05, 'comes': 9.859016070196194e-05, 'shoutouts': 9.859016070196194e-05, 'hairs': 9.859016070196194e-05, 'cmrush': 9.859016070196194e-05, 'prepping': 9.859016070196194e-05, 'disneys': 9.859016070196194e-05, 'kate': 9.859016070196194e-05, 'roxannegregorio': 9.859016070196194e-05, 'backkkk': 9.859016070196194e-05, 'butty': 9.859016070196194e-05, 'docs': 9.859016070196194e-05, 'piece': 9.859016070196194e-05, 'greys': 9.859016070196194e-05, 'haf': 9.859016070196194e-05, 'hawaiian': 9.859016070196194e-05, 'left': 9.859016070196194e-05, 'todayyy': 9.859016070196194e-05, 'runs': 9.859016070196194e-05, 'mee': 9.859016070196194e-05, 'teenhearts': 9.859016070196194e-05, 'yankees': 9.859016070196194e-05, 'foundation': 9.859016070196194e-05, 'veritylola': 9.859016070196194e-05, 'ok': 9.859016070196194e-05, '20654': 9.859016070196194e-05, 'denmark': 9.859016070196194e-05, 'disappointments': 9.859016070196194e-05, 'shopaholic': 9.859016070196194e-05, 'clipping': 9.859016070196194e-05, 'rayamartin': 9.859016070196194e-05, 'borrow': 9.859016070196194e-05, 'titanic': 9.859016070196194e-05, 'almostt': 9.859016070196194e-05, 'sacrifices': 9.859016070196194e-05, 'junyurs': 9.859016070196194e-05, 'julie': 9.859016070196194e-05, 'aww': 9.859016070196194e-05, 'xd': 9.859016070196194e-05, 'wet': 9.859016070196194e-05, 'mn': 9.859016070196194e-05, 'return': 9.859016070196194e-05, 'wrist': 9.859016070196194e-05, 'knew': 9.859016070196194e-05, 'mommasalty': 9.859016070196194e-05, 'notes': 9.859016070196194e-05, 'jurate': 9.859016070196194e-05, 'darealamberrose': 9.859016070196194e-05, 'invisible': 9.859016070196194e-05, 'winter': 9.859016070196194e-05, 'movie': 9.859016070196194e-05, 'corriander': 9.859016070196194e-05, 'childrens': 9.859016070196194e-05, 'oxford': 9.859016070196194e-05, 'football': 9.859016070196194e-05, 'sophystar': 9.859016070196194e-05, 'handyman': 9.859016070196194e-05, 'kinda': 9.859016070196194e-05, 'squishymatter': 9.859016070196194e-05, 'goooood': 9.859016070196194e-05, 'chrisandcaleb': 9.859016070196194e-05, 'scraping': 9.859016070196194e-05, 'yr': 9.859016070196194e-05, 'fails': 9.859016070196194e-05, 'mountain': 9.859016070196194e-05, 'sis': 9.859016070196194e-05, 'civics': 9.859016070196194e-05, 'programs': 9.859016070196194e-05, 'seinfeld': 9.859016070196194e-05, 'halfway': 9.859016070196194e-05, 'rhythm': 9.859016070196194e-05, 'jennieaguirre': 9.859016070196194e-05, 'readings': 9.859016070196194e-05, 'fries': 9.859016070196194e-05, 'express': 9.859016070196194e-05, 'sleeep': 9.859016070196194e-05, 'lane': 9.859016070196194e-05, 'beaaaautiful': 9.859016070196194e-05, 'work': 9.859016070196194e-05, 'aint': 9.859016070196194e-05, 'patito': 9.859016070196194e-05, 'ringaroses': 9.859016070196194e-05, 'nethin': 9.859016070196194e-05, 'lastfm': 9.859016070196194e-05, 'nels': 9.859016070196194e-05, 'adamandevewed': 9.859016070196194e-05, 'cdn': 9.859016070196194e-05, 'sking': 9.859016070196194e-05, 'benches': 9.859016070196194e-05, 'jeeeeeeeze': 9.859016070196194e-05, 'josefamanriquez': 9.859016070196194e-05, 'ferrite': 9.859016070196194e-05, 'sweatshirt': 9.859016070196194e-05, 'medals': 9.859016070196194e-05, 'length': 9.859016070196194e-05, 'soma': 9.859016070196194e-05, 'nulldev': 9.859016070196194e-05, 'lesleychang': 9.859016070196194e-05, 'isss': 9.859016070196194e-05, 'tweetschoolonline': 9.859016070196194e-05, 'yall': 9.859016070196194e-05, 'thatchickleelee': 9.859016070196194e-05, '5': 9.859016070196194e-05, 'jessclarke': 9.859016070196194e-05, 'esp': 9.859016070196194e-05, 'load': 9.859016070196194e-05, 'redguitarfreak': 9.859016070196194e-05, 'errors': 9.859016070196194e-05, 'tyrstag': 9.859016070196194e-05, 'jessikasay': 9.859016070196194e-05, 'angelbysea': 9.859016070196194e-05, 'radar': 9.859016070196194e-05, 'wind': 9.859016070196194e-05, 'nebo': 9.859016070196194e-05, 'questlove': 9.859016070196194e-05, 'killling': 9.859016070196194e-05, 'goddam': 9.859016070196194e-05, 'thumb': 9.859016070196194e-05, 'stefni127': 9.859016070196194e-05, 'bbf': 9.859016070196194e-05, 'sigh': 9.859016070196194e-05, 'apart': 9.859016070196194e-05, 'harry': 9.859016070196194e-05, 'ck3d': 9.859016070196194e-05, 'l8ly': 9.859016070196194e-05, 'snap': 9.859016070196194e-05, 'o': 9.859016070196194e-05, 'netflix': 9.859016070196194e-05, 'coursework': 9.859016070196194e-05, 'statement': 9.859016070196194e-05, 'technology': 9.859016070196194e-05, 'miriamcheah': 9.859016070196194e-05, 'thomasfiss': 9.859016070196194e-05, 'jus': 9.859016070196194e-05, 'far': 9.859016070196194e-05, 'interests': 9.859016070196194e-05, 'jaimela': 9.859016070196194e-05, 'subbspy': 9.859016070196194e-05, 'domination': 9.859016070196194e-05, 'riding': 9.859016070196194e-05, 'majorca': 9.859016070196194e-05, '30stmluva': 9.859016070196194e-05, 'mammie': 9.859016070196194e-05, 'gaylechance': 9.859016070196194e-05, 'ranch': 9.859016070196194e-05, 'insssane': 9.859016070196194e-05, 'kiwinut': 9.859016070196194e-05, 'demo': 9.859016070196194e-05, 'prolife': 9.859016070196194e-05, 'admit': 9.859016070196194e-05, 'vision': 9.859016070196194e-05, 'san': 9.859016070196194e-05, 'sunt': 9.859016070196194e-05, 'inkophile': 9.859016070196194e-05, 'josh': 9.859016070196194e-05, 'trying': 9.859016070196194e-05, 'shaving': 9.859016070196194e-05, 'jgn': 9.859016070196194e-05, 'share': 9.859016070196194e-05, 'shareholder': 9.859016070196194e-05, 'lcs': 9.859016070196194e-05, 'bocelli': 9.859016070196194e-05, 'cu': 9.859016070196194e-05, 'st': 9.859016070196194e-05, 'screwed': 9.859016070196194e-05, 'toothpaste': 9.859016070196194e-05, 'dust': 9.859016070196194e-05, 'group': 9.859016070196194e-05, '4movers': 9.859016070196194e-05, 'headlight': 9.859016070196194e-05, 'dull': 9.859016070196194e-05, 'noticed': 9.859016070196194e-05, 'tweetgenius': 9.859016070196194e-05, 'drwiz': 9.859016070196194e-05, 'wooooo': 9.859016070196194e-05, 'messages': 9.859016070196194e-05, 'save': 9.859016070196194e-05, 'joelyah': 9.859016070196194e-05, 'point': 9.859016070196194e-05, 'succesfully': 9.859016070196194e-05, 'martin': 9.859016070196194e-05, 'temperatures': 9.859016070196194e-05, 'the': 9.859016070196194e-05, 'mean': 9.859016070196194e-05, 'entry': 9.859016070196194e-05, 'however': 9.859016070196194e-05, 'naheen': 9.859016070196194e-05, 'bdb': 9.859016070196194e-05, 'golf': 9.859016070196194e-05, 'ahhaha': 9.859016070196194e-05, 'jakarta': 9.859016070196194e-05, '10': 9.859016070196194e-05, 'girlie': 9.859016070196194e-05, 'retrohard': 9.859016070196194e-05, 'wacth': 9.859016070196194e-05, 'danielskowalski': 9.859016070196194e-05, 'expect': 9.859016070196194e-05, 'oasis': 9.859016070196194e-05, 'rv': 9.859016070196194e-05, 'thnx': 9.859016070196194e-05, 'hrs': 9.859016070196194e-05, 'supernatural': 9.859016070196194e-05, 'ordered': 9.859016070196194e-05, 'racing': 9.859016070196194e-05, 'deleting': 9.859016070196194e-05, 'james': 9.859016070196194e-05, 'either': 9.859016070196194e-05, 'huaaaa': 9.859016070196194e-05, 'current': 9.859016070196194e-05, 'cheer': 9.859016070196194e-05, 'madirigh': 9.859016070196194e-05, 'needa': 9.859016070196194e-05, 'bananas': 9.859016070196194e-05, 'lolbethie': 9.859016070196194e-05, 'ianrobinson': 9.859016070196194e-05, 'mega': 9.859016070196194e-05, 'aimane2i': 9.859016070196194e-05, 'costume': 9.859016070196194e-05, 'sux': 9.859016070196194e-05, 'cba': 9.859016070196194e-05, 'years': 9.859016070196194e-05, 'thick': 9.859016070196194e-05, 'ages': 9.859016070196194e-05, 'slovenia': 9.859016070196194e-05, 'verizon': 9.859016070196194e-05, 'inventing': 9.859016070196194e-05, 'bipolar': 9.859016070196194e-05, 'cbf': 9.859016070196194e-05, 'knowwwwww': 9.859016070196194e-05, 'smaller': 9.859016070196194e-05, 'government': 9.859016070196194e-05, 'creativesoul': 9.859016070196194e-05, 'bulimic': 9.859016070196194e-05, 'bothered': 9.859016070196194e-05, 'paulkinlan': 9.859016070196194e-05, 'personal': 9.859016070196194e-05, 'eighth': 9.859016070196194e-05, 'bengay': 9.859016070196194e-05, 'rejected': 9.859016070196194e-05, 'jammer': 9.859016070196194e-05, 'pink': 9.859016070196194e-05, 'dreamluverz': 9.859016070196194e-05, 'paella': 9.859016070196194e-05, 'nick': 9.859016070196194e-05, '½': 9.859016070196194e-05, 'orientation': 9.859016070196194e-05, 'celebrate': 9.859016070196194e-05, 'dq': 9.859016070196194e-05, 'foofoomckinley': 9.859016070196194e-05, 'yea': 9.859016070196194e-05, 'bumbed': 9.859016070196194e-05, 'hurry': 9.859016070196194e-05, 'bob': 9.859016070196194e-05, 'answer': 9.859016070196194e-05, 'birth': 9.859016070196194e-05, 'scared': 9.859016070196194e-05, 'fer': 9.859016070196194e-05, 'stuck': 9.859016070196194e-05, 'bitly': 9.859016070196194e-05, 'headset': 9.859016070196194e-05, 'twitteren': 9.859016070196194e-05, 'n97': 9.859016070196194e-05, 'participate': 9.859016070196194e-05, 'manipulation': 9.859016070196194e-05, 'admin': 9.859016070196194e-05, 'bank': 9.859016070196194e-05, 'kporcalla': 9.859016070196194e-05, 'dancy': 9.859016070196194e-05, 'care': 9.859016070196194e-05, 'spongebobss': 9.859016070196194e-05, 'noon': 9.859016070196194e-05, 'parents': 9.859016070196194e-05, 'so0': 9.859016070196194e-05, 'clep': 9.859016070196194e-05, 'download': 9.859016070196194e-05, 'bryan': 9.859016070196194e-05, 'dover': 9.859016070196194e-05, 'even': 9.859016070196194e-05, 'opens': 9.859016070196194e-05, 'weeks': 9.859016070196194e-05, 'mammoth': 9.859016070196194e-05, 'hook': 9.859016070196194e-05, 'marama': 9.859016070196194e-05, 'lowe': 9.859016070196194e-05, 'timeee': 9.859016070196194e-05, 'markhoppus': 9.859016070196194e-05, 'shiny': 9.859016070196194e-05, 'up': 9.859016070196194e-05, 'project': 9.859016070196194e-05, 'currently': 9.859016070196194e-05, 'fucked': 9.859016070196194e-05, 'mellu': 9.859016070196194e-05, 'dried': 9.859016070196194e-05, 'ourselves': 9.859016070196194e-05, 'mint': 9.859016070196194e-05, 'effy': 9.859016070196194e-05, 'yer': 9.859016070196194e-05, 'nz': 9.859016070196194e-05, 'crap': 9.859016070196194e-05, 'ahn': 9.859016070196194e-05, 'stumble': 9.859016070196194e-05, 'pitty': 9.859016070196194e-05, 'punked': 9.859016070196194e-05, 'dick': 9.859016070196194e-05, 'butt': 9.859016070196194e-05, 'skinny': 9.859016070196194e-05, 'sexies': 9.859016070196194e-05, 'gkarageorge': 9.859016070196194e-05, 'remembered': 9.859016070196194e-05, 'recommending': 9.859016070196194e-05, '¹': 9.859016070196194e-05, 'soycamo': 9.859016070196194e-05, 'twitters': 9.859016070196194e-05, 'votes': 9.859016070196194e-05, 'salmon': 9.859016070196194e-05, 'evryday': 9.859016070196194e-05, 'twiparty': 9.859016070196194e-05, 'goodness500': 9.859016070196194e-05, 'peeling': 9.859016070196194e-05, 'canceled': 9.859016070196194e-05, 'blink': 9.859016070196194e-05, 'deadlines': 9.859016070196194e-05, 'ago': 9.859016070196194e-05, 'xscarletmx': 9.859016070196194e-05, 'oothentic': 9.859016070196194e-05, 'martianlove': 9.859016070196194e-05, 'that': 9.859016070196194e-05, 'mor': 9.859016070196194e-05, 'gooooood': 9.859016070196194e-05, 'jeffreecuntstar': 9.859016070196194e-05, 'browsers': 9.859016070196194e-05, 'mmiddleton': 9.859016070196194e-05, 'debs': 9.859016070196194e-05, 'bbc': 9.859016070196194e-05, 'mgi88s': 9.859016070196194e-05, 'deny': 9.859016070196194e-05, 'nonetheless': 9.859016070196194e-05, 'nowadays': 9.859016070196194e-05, 'away': 9.859016070196194e-05, 'wimby': 9.859016070196194e-05, 'people': 9.859016070196194e-05, 'as': 9.859016070196194e-05, 'justinmgaston': 9.859016070196194e-05, 'plants': 9.859016070196194e-05, 'spoken': 9.859016070196194e-05, 'flugtag': 9.859016070196194e-05, 'marvelous': 9.859016070196194e-05, 'spreading': 9.859016070196194e-05, 'pm': 9.859016070196194e-05, 'nodding': 9.859016070196194e-05, 'schofe': 9.859016070196194e-05, 'crappy': 9.859016070196194e-05, 'congratz': 9.859016070196194e-05, 'hurdles': 9.859016070196194e-05, 'bikes': 9.859016070196194e-05, 'spare': 9.859016070196194e-05, 'along': 9.859016070196194e-05, 'piratesswoop': 9.859016070196194e-05, 'xxxx': 9.859016070196194e-05, 'india': 9.859016070196194e-05, 'qualified': 9.859016070196194e-05, 'wallfish': 9.859016070196194e-05, 'disturbed': 9.859016070196194e-05, 'paigearcher': 9.859016070196194e-05, 'leakytiki': 9.859016070196194e-05, 'teasing': 9.859016070196194e-05, 'nicks': 9.859016070196194e-05, 'hella': 9.859016070196194e-05, 'function': 9.859016070196194e-05, 'bus': 9.859016070196194e-05, 'tomorrow': 9.859016070196194e-05, 'latest': 9.859016070196194e-05, 'then': 9.859016070196194e-05, 'certainly': 9.859016070196194e-05, 'rm': 9.859016070196194e-05, 'coliseum': 9.859016070196194e-05, 'strange': 9.859016070196194e-05, 'mrstephens85': 9.859016070196194e-05, 'geek': 9.859016070196194e-05, 'avoid': 9.859016070196194e-05, 'shake': 9.859016070196194e-05, 'breathing': 9.859016070196194e-05, 'dublins98dave': 9.859016070196194e-05, 'starved': 9.859016070196194e-05, 'loonia': 9.859016070196194e-05, 'shiftywooten': 9.859016070196194e-05, 'jenbrockwell': 9.859016070196194e-05, 'cipriani15': 9.859016070196194e-05, 'torrent': 9.859016070196194e-05, 'perfectly': 9.859016070196194e-05, 'jethro': 9.859016070196194e-05, 'churches': 9.859016070196194e-05, 'madi': 9.859016070196194e-05, 'newly': 9.859016070196194e-05, 'indeed': 9.859016070196194e-05, '270': 9.859016070196194e-05, 'aja175': 9.859016070196194e-05, 'yaaa': 9.859016070196194e-05, 'marktill': 9.859016070196194e-05, 'pouting': 9.859016070196194e-05, 'atlas': 9.859016070196194e-05, 'oreos': 9.859016070196194e-05, 'fancy': 9.859016070196194e-05, 'nataliaaayo': 9.859016070196194e-05, 'bigbadbob75': 9.859016070196194e-05, 'cleanup': 9.859016070196194e-05, 'backs': 9.859016070196194e-05, 'doomslay': 9.859016070196194e-05, 'bruxedo': 9.859016070196194e-05, 'returns': 9.859016070196194e-05, 'ca': 9.859016070196194e-05, 'snaptu': 9.859016070196194e-05, 'blah': 9.859016070196194e-05, 'soulmate': 9.859016070196194e-05, 'nautious': 9.859016070196194e-05, 'greater': 9.859016070196194e-05, 'ijustmightendit': 9.859016070196194e-05, 'prinzita': 9.859016070196194e-05, 'justinofg4p': 9.859016070196194e-05, 'nominate': 9.859016070196194e-05, 'vegas': 9.859016070196194e-05, 'situation': 9.859016070196194e-05, 'suggestion': 9.859016070196194e-05, 'shortly': 9.859016070196194e-05, 'games': 9.859016070196194e-05, 'scrappers': 9.859016070196194e-05, 'board': 9.859016070196194e-05, 'sync': 9.859016070196194e-05, 'mike': 9.859016070196194e-05, 'rainbow': 9.859016070196194e-05, 'announcements': 9.859016070196194e-05, 'keithnolan': 9.859016070196194e-05, 'format': 9.859016070196194e-05, 'jimmyfallon': 9.859016070196194e-05, 'joe': 9.859016070196194e-05, 'ashleytisdale': 9.859016070196194e-05, 'sent': 9.859016070196194e-05, 'meetniroim': 9.859016070196194e-05, 'webinale': 9.859016070196194e-05, 'tho': 9.859016070196194e-05, 'blues': 9.859016070196194e-05, 'gave': 9.859016070196194e-05, 'minutess': 9.859016070196194e-05, 'ask': 9.859016070196194e-05, 'alive': 9.859016070196194e-05, 'superman': 9.859016070196194e-05, 'kasiafink': 9.859016070196194e-05, 'using': 9.859016070196194e-05, 'confidence': 9.859016070196194e-05, 'model': 9.859016070196194e-05, 'bbworld09': 9.859016070196194e-05, 'pantie': 9.859016070196194e-05, '27': 9.859016070196194e-05, 'fortunate': 9.859016070196194e-05, 'ummm': 9.859016070196194e-05, 'laters': 9.859016070196194e-05, 'bball': 9.859016070196194e-05, '25mins': 9.859016070196194e-05, 'varieties': 9.859016070196194e-05, 'members': 9.859016070196194e-05, 'emmysue20': 9.859016070196194e-05, 'sweetmexicangal': 9.859016070196194e-05, 'motivation': 9.859016070196194e-05, 'zacharyxbinks': 9.859016070196194e-05, 'soaked': 9.859016070196194e-05, 'keyboards': 9.859016070196194e-05, 'sit': 9.859016070196194e-05, 'moved': 9.859016070196194e-05, 'pennsylvania': 9.859016070196194e-05, 'traditional': 9.859016070196194e-05, 'road': 9.859016070196194e-05, 'want': 9.859016070196194e-05, 'thsteininger': 9.859016070196194e-05, 'abbey': 9.859016070196194e-05, 'interviews': 9.859016070196194e-05, 'jerzygrllys': 9.859016070196194e-05, 'optimus': 9.859016070196194e-05, 'peytonluvsjoe': 9.859016070196194e-05, 'showcase': 9.859016070196194e-05, 'gizelleramos': 9.859016070196194e-05, 'cudnt': 9.859016070196194e-05, 'new': 9.859016070196194e-05, 'dannygokey': 9.859016070196194e-05, 'weekends': 9.859016070196194e-05, 'canto': 9.859016070196194e-05, 'dodgers': 9.859016070196194e-05, 'gelato': 9.859016070196194e-05, '550': 9.859016070196194e-05, 'livejournal': 9.859016070196194e-05, 'dannymcevoy': 9.859016070196194e-05, 'exceeded': 9.859016070196194e-05, 'refreshing': 9.859016070196194e-05, '55': 9.859016070196194e-05, 'ì': 9.859016070196194e-05, 'wah': 9.859016070196194e-05, 'chasityromero': 9.859016070196194e-05, 'unlock': 9.859016070196194e-05, 'ottawa': 9.859016070196194e-05, 'earplugs': 9.859016070196194e-05, '24oz': 9.859016070196194e-05, 'laker': 9.859016070196194e-05, 'babygirlparis': 9.859016070196194e-05, 'w00t': 9.859016070196194e-05, 'teambudd1': 9.859016070196194e-05, 'dougggg': 9.859016070196194e-05, 'achieved': 9.859016070196194e-05, 'yeeah': 9.859016070196194e-05, 'awaaayyyyy': 9.859016070196194e-05, 'chat': 9.859016070196194e-05, 'diversity': 9.859016070196194e-05, 'hoaaaaaaaaaaaaa': 9.859016070196194e-05, 'mailhad': 9.859016070196194e-05, 'michellelynn69': 9.859016070196194e-05, 'surely': 9.859016070196194e-05, 'essential': 9.859016070196194e-05, 'alt': 9.859016070196194e-05, 'shapeshealth': 9.859016070196194e-05, 'werewolfseth': 9.859016070196194e-05, 'cooking': 9.859016070196194e-05, 'besos': 9.859016070196194e-05, 'hut': 9.859016070196194e-05, 'language': 9.859016070196194e-05, 'novels': 9.859016070196194e-05, 'blocking': 9.859016070196194e-05, 'haning': 9.859016070196194e-05, '1045chumfm': 9.859016070196194e-05, 'start': 9.859016070196194e-05, 'relief': 9.859016070196194e-05, 'rcaplice': 9.859016070196194e-05, 'greggrunberg': 9.859016070196194e-05, 'mimi': 9.859016070196194e-05, 'bagel': 9.859016070196194e-05, 'dats': 9.859016070196194e-05, 'respectable': 9.859016070196194e-05, 'rajacenna': 9.859016070196194e-05, 'mixed': 9.859016070196194e-05, 'inside': 9.859016070196194e-05, 'realianmorris': 9.859016070196194e-05, 'boarded': 9.859016070196194e-05, 'woo': 9.859016070196194e-05, 'swifts': 9.859016070196194e-05, 'refollowing': 9.859016070196194e-05, 'honky101': 9.859016070196194e-05, 'alot': 9.859016070196194e-05, 'struck': 9.859016070196194e-05, 'listening': 9.859016070196194e-05, 'puppy': 9.859016070196194e-05, 'er': 9.859016070196194e-05, 'eng': 9.859016070196194e-05, 'irc': 9.859016070196194e-05, 'toy': 9.859016070196194e-05, 'display': 9.859016070196194e-05, 'fall': 9.859016070196194e-05, 'jaymc123': 9.859016070196194e-05, '3147808704': 9.859016070196194e-05, 'besser': 9.859016070196194e-05, 'exclusive': 9.859016070196194e-05, 'tons': 9.859016070196194e-05, 'nature': 9.859016070196194e-05, 'literally': 9.859016070196194e-05, 'oldies': 9.859016070196194e-05, 'whilst': 9.859016070196194e-05, 'herreee': 9.859016070196194e-05, 'vile': 9.859016070196194e-05, 'hamster': 9.859016070196194e-05, 'ashee': 9.859016070196194e-05, 'deadlyseagal': 9.859016070196194e-05, 'counting': 9.859016070196194e-05, 'mattdw': 9.859016070196194e-05, 'sayin': 9.859016070196194e-05, 'rims': 9.859016070196194e-05, 'burgundy': 9.859016070196194e-05, 'younglife': 9.859016070196194e-05, 'erikaengle': 9.859016070196194e-05, 'sheen': 9.859016070196194e-05, 'yan': 9.859016070196194e-05, 'yoooouuuuu': 9.859016070196194e-05, 'inland': 9.859016070196194e-05, 'julibarcelona': 9.859016070196194e-05, 'dumplings': 9.859016070196194e-05, 'referral': 9.859016070196194e-05, 'sarahjclark': 9.859016070196194e-05, 'beats': 9.859016070196194e-05, 'wes': 9.859016070196194e-05, 'donating': 9.859016070196194e-05, 'thebrianposehn': 9.859016070196194e-05, 'cctjoh': 9.859016070196194e-05, 'livintherezlife': 9.859016070196194e-05, 'camel': 9.859016070196194e-05, 'goodnighttt': 9.859016070196194e-05, 'tgese': 9.859016070196194e-05, 'louis': 9.859016070196194e-05, 'showerr': 9.859016070196194e-05, 'teddy': 9.859016070196194e-05, 'omgggggg': 9.859016070196194e-05, 'classmates': 9.859016070196194e-05, 'll': 9.859016070196194e-05, 'nights': 9.859016070196194e-05, 'aggressive': 9.859016070196194e-05, 'woods': 9.859016070196194e-05, 'enrolment': 9.859016070196194e-05, 'looong': 9.859016070196194e-05, 'darthvader': 9.859016070196194e-05, 'pop': 9.859016070196194e-05, 'buried': 9.859016070196194e-05, 'georgetta': 9.859016070196194e-05, 'noite': 9.859016070196194e-05, 'permissions': 9.859016070196194e-05, 'driver': 9.859016070196194e-05, 'tonys': 9.859016070196194e-05, 'tweet': 9.859016070196194e-05, 'chriscornell': 9.859016070196194e-05, 'message': 9.859016070196194e-05, 'european': 9.859016070196194e-05, 'pitch': 9.859016070196194e-05, 'rattielovers': 9.859016070196194e-05, 'shamelessangel': 9.859016070196194e-05, 'pissed': 9.859016070196194e-05, 'hangover': 9.859016070196194e-05, 'give': 9.859016070196194e-05, 'remember': 9.859016070196194e-05, 'cares': 9.859016070196194e-05, 'magners': 9.859016070196194e-05, 'herbonestrcture': 9.859016070196194e-05, 'ooc': 9.859016070196194e-05, 'chicago': 9.859016070196194e-05, 'ooooh': 9.859016070196194e-05, '30am': 9.859016070196194e-05, 'germany': 9.859016070196194e-05, 'wanted': 9.859016070196194e-05, 'kinderjoy': 9.859016070196194e-05, 'neshasagenda': 9.859016070196194e-05, 'djvictorsalazar': 9.859016070196194e-05, 'ellljayy': 9.859016070196194e-05, 'zack': 9.859016070196194e-05, 'gym': 9.859016070196194e-05, 'kweenie': 9.859016070196194e-05, 'housewives': 9.859016070196194e-05, 'ale': 9.859016070196194e-05, 'question': 9.859016070196194e-05, 'p': 9.859016070196194e-05, 'millionth': 9.859016070196194e-05, 'box': 9.859016070196194e-05, 'hunggry': 9.859016070196194e-05, 'merchy': 9.859016070196194e-05, 'buggery': 9.859016070196194e-05, 'pow': 9.859016070196194e-05, 'playing': 9.859016070196194e-05, 'grudge': 9.859016070196194e-05, 'bmore': 9.859016070196194e-05, 'adityamishra': 9.859016070196194e-05, 'worldofwarcraft': 9.859016070196194e-05, 'loagon': 9.859016070196194e-05, 'reals': 9.859016070196194e-05, 'seriously': 9.859016070196194e-05, 'conwizzle': 9.859016070196194e-05, 'circumcised': 9.859016070196194e-05, 'ff': 9.859016070196194e-05, 'hooded': 9.859016070196194e-05, 'acts': 9.859016070196194e-05, 'pretzels': 9.859016070196194e-05, 'chuckatwork': 9.859016070196194e-05, 'idolscott': 9.859016070196194e-05, 'concious': 9.859016070196194e-05, 'cheeky': 9.859016070196194e-05, 'run': 9.859016070196194e-05, 'aspaphoto': 9.859016070196194e-05, '\\x89': 9.859016070196194e-05, 'stiiilllll': 9.859016070196194e-05, 'incest': 9.859016070196194e-05, 'shamefully': 9.859016070196194e-05, 'joke': 9.859016070196194e-05, '5hrs': 9.859016070196194e-05, 'heatworld': 9.859016070196194e-05, 'hoedown': 9.859016070196194e-05, 'olliez0r': 9.859016070196194e-05, 'excepting': 9.859016070196194e-05, 'trees': 9.859016070196194e-05, 'finance': 9.859016070196194e-05, 'expert': 9.859016070196194e-05, 'stepdad': 9.859016070196194e-05, 'celtic': 9.859016070196194e-05, 'phoooone': 9.859016070196194e-05, 'elliematthewson': 9.859016070196194e-05, 'swimmin': 9.859016070196194e-05, 'jacksonwages': 9.859016070196194e-05, 'rwiggumrules': 9.859016070196194e-05, 'damn': 9.859016070196194e-05, '©': 9.859016070196194e-05, 'multiply': 9.859016070196194e-05, 'selenagomez': 9.859016070196194e-05, 'fishing': 9.859016070196194e-05, 'itsgabbith': 9.859016070196194e-05, 'jennaleight': 9.859016070196194e-05, 'setttled': 9.859016070196194e-05, 'own': 9.859016070196194e-05, 'weekdays': 9.859016070196194e-05, 'ë': 9.859016070196194e-05, 'hilarious': 9.859016070196194e-05, 'airbed': 9.859016070196194e-05, 'backbut': 9.859016070196194e-05, 'its': 9.859016070196194e-05, 'brats': 9.859016070196194e-05, 'junior': 9.859016070196194e-05, 'cocacola': 9.859016070196194e-05, 'pass': 9.859016070196194e-05, 'cushion': 9.859016070196194e-05, 'hosamkamel': 9.859016070196194e-05, 'finger': 9.859016070196194e-05, 'humanity': 9.859016070196194e-05, '21': 9.859016070196194e-05, 'mosh': 9.859016070196194e-05, 'belly': 9.859016070196194e-05, 'grind': 9.859016070196194e-05, 'iphone': 9.859016070196194e-05, 'sumone': 9.859016070196194e-05, 'def': 9.859016070196194e-05, 'lots': 9.859016070196194e-05, 'consequences': 9.859016070196194e-05, 'brother': 9.859016070196194e-05, 'bf': 9.859016070196194e-05, 'chalet': 9.859016070196194e-05, 'smells': 9.859016070196194e-05, 'buru': 9.859016070196194e-05, 'hahahaaa': 9.859016070196194e-05, 'philgerb': 9.859016070196194e-05, 'herd': 9.859016070196194e-05, 'follow': 9.859016070196194e-05, 'flanagan': 9.859016070196194e-05, 'wooh': 9.859016070196194e-05, 'wake': 9.859016070196194e-05, 'hoe': 9.859016070196194e-05, 'despite': 9.859016070196194e-05, 'crust': 9.859016070196194e-05, 'disco': 9.859016070196194e-05, 'marcod1419': 9.859016070196194e-05, 'wasabi': 9.859016070196194e-05, 'candles': 9.859016070196194e-05, 'background': 9.859016070196194e-05, 'pal': 9.859016070196194e-05, 'doctors': 9.859016070196194e-05, 'stephpangjaya': 9.859016070196194e-05, 'phemom': 9.859016070196194e-05, 'ranggrol': 9.859016070196194e-05, 'request': 9.859016070196194e-05, 'sideways': 9.859016070196194e-05, 'hautepersian': 9.859016070196194e-05, 'xomcflyandjb': 9.859016070196194e-05, 'fail': 9.859016070196194e-05, 'haylz2329': 9.859016070196194e-05, 'tsarnick': 9.859016070196194e-05, 'fellowship': 9.859016070196194e-05, 'ryanakaimtf': 9.859016070196194e-05, 'hospital': 9.859016070196194e-05, 'jeeej': 9.859016070196194e-05, 'bertadp': 9.859016070196194e-05, 'oneseasonmlb': 9.859016070196194e-05, 'backdrop': 9.859016070196194e-05, 'smart': 9.859016070196194e-05, 'upgrade': 9.859016070196194e-05, 'shiz': 9.859016070196194e-05, 'underoathband': 9.859016070196194e-05, 'lucys': 9.859016070196194e-05, 'luxurious': 9.859016070196194e-05, 'k': 9.859016070196194e-05, 'shebag': 9.859016070196194e-05, 'otfl': 9.859016070196194e-05, 'kreme': 9.859016070196194e-05, 'wound': 9.859016070196194e-05, 'dew': 9.859016070196194e-05, 'ako': 9.859016070196194e-05, 'redic': 9.859016070196194e-05, 'cagoodbred': 9.859016070196194e-05, 'govt': 9.859016070196194e-05, 'fuckinng': 9.859016070196194e-05, 'robertmuchamore': 9.859016070196194e-05, 'jennhoffman': 9.859016070196194e-05, 'italian': 9.859016070196194e-05, 'qcityplayers': 9.859016070196194e-05, 'arm': 9.859016070196194e-05, 'such': 9.859016070196194e-05, 'caring': 9.859016070196194e-05, 'exhausting': 9.859016070196194e-05, 'slidon': 9.859016070196194e-05, 'queenquelly': 9.859016070196194e-05, 'kathyireland': 9.859016070196194e-05, '±': 9.859016070196194e-05, 'macbook': 9.859016070196194e-05, 'geekin': 9.859016070196194e-05, 'equality': 9.859016070196194e-05, 'calln': 9.859016070196194e-05, 'b': 9.859016070196194e-05, 'settling': 9.859016070196194e-05, 'moonfall': 9.859016070196194e-05, 'mariefayandre': 9.859016070196194e-05, 'metallica': 9.859016070196194e-05, 'meatbar': 9.859016070196194e-05, 'blueindauk': 9.859016070196194e-05, 'bingfutch': 9.859016070196194e-05, 'camilla': 9.859016070196194e-05, 'obviously': 9.859016070196194e-05, 'rafaqat': 9.859016070196194e-05, 'del': 9.859016070196194e-05, 'strawbs': 9.859016070196194e-05, 'mine': 9.859016070196194e-05, 'reliable': 9.859016070196194e-05, 'make': 9.859016070196194e-05, '8p': 9.859016070196194e-05, 'alexispratsides': 9.859016070196194e-05, 'antron': 9.859016070196194e-05, 'accident': 9.859016070196194e-05, 'lovelylondon': 9.859016070196194e-05, 'soldiers': 9.859016070196194e-05, 'joshuamarch': 9.859016070196194e-05, 'easyer': 9.859016070196194e-05, 'bclub': 9.859016070196194e-05, 'massage': 9.859016070196194e-05, 'stopped': 9.859016070196194e-05, '11th': 9.859016070196194e-05, 'thursday': 9.859016070196194e-05, 'asher': 9.859016070196194e-05, 'professional': 9.859016070196194e-05, 'kaminey': 9.859016070196194e-05, 'tell': 9.859016070196194e-05, 'wks': 9.859016070196194e-05, 'easing': 9.859016070196194e-05, 'anyways': 9.859016070196194e-05, 'broz': 9.859016070196194e-05, 'pinchmysalt': 9.859016070196194e-05, 'wkwas': 9.859016070196194e-05, 'straight': 9.859016070196194e-05, 'tedmurphy': 9.859016070196194e-05, 'squash': 9.859016070196194e-05, 'atl': 9.859016070196194e-05, 'commerce': 9.859016070196194e-05, 'salty': 9.859016070196194e-05, 'magnetic': 9.859016070196194e-05, 'testfest': 9.859016070196194e-05, 'mono': 9.859016070196194e-05, 'intern': 9.859016070196194e-05, 'regress': 9.859016070196194e-05, 'risk': 9.859016070196194e-05, 'heyyitskate': 9.859016070196194e-05, 'recommends': 9.859016070196194e-05, 'lightheadedddd': 9.859016070196194e-05, 'sounding': 9.859016070196194e-05, 'crows': 9.859016070196194e-05, 'sooty': 9.859016070196194e-05, 'stufff': 9.859016070196194e-05, 'ffvii': 9.859016070196194e-05, 'footage': 9.859016070196194e-05, 'sheenasnively': 9.859016070196194e-05, 'bigger': 9.859016070196194e-05, 'chloes': 9.859016070196194e-05, 'earthquakes': 9.859016070196194e-05, 'hollienicole': 9.859016070196194e-05, 'miiikeo': 9.859016070196194e-05, 'rings': 9.859016070196194e-05, '24477': 9.859016070196194e-05, 'ip': 9.859016070196194e-05, 'caden': 9.859016070196194e-05, 'awww': 9.859016070196194e-05, 'looked': 9.859016070196194e-05, 'bellybutton': 9.859016070196194e-05, '252': 9.859016070196194e-05, 'flu': 9.859016070196194e-05, 'closest': 9.859016070196194e-05, 'paige': 9.859016070196194e-05, 'santander': 9.859016070196194e-05, 'carryon': 9.859016070196194e-05, 'winkycutto': 9.859016070196194e-05, 'reinvent': 9.859016070196194e-05, 'yesterday': 9.859016070196194e-05, 'northwest': 9.859016070196194e-05, 'admitted': 9.859016070196194e-05, 'figuring': 9.859016070196194e-05, 'bebo': 9.859016070196194e-05, 'portuguese': 9.859016070196194e-05, 'viperscot': 9.859016070196194e-05, 'stock': 9.859016070196194e-05, 'right': 9.859016070196194e-05, '29th': 9.859016070196194e-05, 'whats': 9.859016070196194e-05, 'tinalaroo': 9.859016070196194e-05, 'failed': 9.859016070196194e-05, 'greatfitness': 9.859016070196194e-05, 'djing': 9.859016070196194e-05, 'signals': 9.859016070196194e-05, 'lostartofmurder': 9.859016070196194e-05, 'advertised': 9.859016070196194e-05, 'tyler': 9.859016070196194e-05, 'soyogi': 9.859016070196194e-05, '4hr': 9.859016070196194e-05, 'cool': 9.859016070196194e-05, 'profile': 9.859016070196194e-05, 'lies': 9.859016070196194e-05, 'lilcdawg': 9.859016070196194e-05, 'brownchocolate': 9.859016070196194e-05, 'effed': 9.859016070196194e-05, 'shane': 9.859016070196194e-05, 'revise': 9.859016070196194e-05, 'mekaren': 9.859016070196194e-05, 'ncsc': 9.859016070196194e-05, 'sebday': 9.859016070196194e-05, 'xx': 9.859016070196194e-05, '24': 9.859016070196194e-05, 'discharged': 9.859016070196194e-05, 'allabtanimation': 9.859016070196194e-05, 'macbeth': 9.859016070196194e-05, 'gawai': 9.859016070196194e-05, 'occasionally': 9.859016070196194e-05, 'lottery': 9.859016070196194e-05, 'patyonce': 9.859016070196194e-05, 'ran': 9.859016070196194e-05, 'nolanreiten': 9.859016070196194e-05, 'kristen': 9.859016070196194e-05, 'streaming': 9.859016070196194e-05, 'sour': 9.859016070196194e-05, 'frustrated': 9.859016070196194e-05, 'lonely': 9.859016070196194e-05, 'refresh': 9.859016070196194e-05, 'paparrazi': 9.859016070196194e-05, 'makiin': 9.859016070196194e-05, 'fights': 9.859016070196194e-05, 'market': 9.859016070196194e-05, 'mamas': 9.859016070196194e-05, 'dot': 9.859016070196194e-05, 'yours': 9.859016070196194e-05, 'hifi': 9.859016070196194e-05, 'thedaniater': 9.859016070196194e-05, 'photo': 9.859016070196194e-05, 'divatheriva': 9.859016070196194e-05, 'postgraduation': 9.859016070196194e-05, 'unfortunate': 9.859016070196194e-05, 'snowshoemtn': 9.859016070196194e-05, 'jah423': 9.859016070196194e-05, 'szombathely': 9.859016070196194e-05, 'hung': 9.859016070196194e-05, 'sugar': 9.859016070196194e-05, 'inperson': 9.859016070196194e-05, 'overwhelmed': 9.859016070196194e-05, 'pound': 9.859016070196194e-05, 'tract': 9.859016070196194e-05, 'nekã': 9.859016070196194e-05, 'quiz': 9.859016070196194e-05, 'fooood': 9.859016070196194e-05, 'peach': 9.859016070196194e-05, 'warehouse': 9.859016070196194e-05, 'honor': 9.859016070196194e-05, 'rod76': 9.859016070196194e-05, 'careful': 9.859016070196194e-05, 'design': 9.859016070196194e-05, 'os': 9.859016070196194e-05, 'tip': 9.859016070196194e-05, 'ammouni': 9.859016070196194e-05, 'toast': 9.859016070196194e-05, 'integrity': 9.859016070196194e-05, 'old': 9.859016070196194e-05, 'could': 9.859016070196194e-05, 'ruthramirez': 9.859016070196194e-05, 'hallcountyga': 9.859016070196194e-05, 'engine': 9.859016070196194e-05, 'amcom': 9.859016070196194e-05, 'howied': 9.859016070196194e-05, 'everrrr': 9.859016070196194e-05, 'contributors': 9.859016070196194e-05, 'kimkardashian': 9.859016070196194e-05, 'sashok': 9.859016070196194e-05, 'reruns': 9.859016070196194e-05, 'problem': 9.859016070196194e-05, 'basenotes': 9.859016070196194e-05, 'custom': 9.859016070196194e-05, 'although': 9.859016070196194e-05, 'christieressel': 9.859016070196194e-05, 'grenade': 9.859016070196194e-05, 'dnw': 9.859016070196194e-05, 'mccato': 9.859016070196194e-05, 'lala': 9.859016070196194e-05, 'meaning': 9.859016070196194e-05, 'bacieabbracci': 9.859016070196194e-05, 'hardcore': 9.859016070196194e-05, 'blockk': 9.859016070196194e-05, 'heeere': 9.859016070196194e-05, 'spotlight': 9.859016070196194e-05, 'casualintruder': 9.859016070196194e-05, 'opinion': 9.859016070196194e-05, 'illuzion11': 9.859016070196194e-05, 'yogut': 9.859016070196194e-05, '333': 9.859016070196194e-05, 'torn': 9.859016070196194e-05, 'dawniecahill': 9.859016070196194e-05, 'capers': 9.859016070196194e-05, 'tamil': 9.859016070196194e-05, 'mom07': 9.859016070196194e-05, 'rachael2389': 9.859016070196194e-05, 'deh': 9.859016070196194e-05, 'asiabrands': 9.859016070196194e-05, 'fried': 9.859016070196194e-05, 'easy': 9.859016070196194e-05, 'journos': 9.859016070196194e-05, 'bites': 9.859016070196194e-05, 'die': 9.859016070196194e-05, 'parade': 9.859016070196194e-05, 'gross': 9.859016070196194e-05, 'newcastle': 9.859016070196194e-05, 'gogcom': 9.859016070196194e-05, 'cheese': 9.859016070196194e-05, 'stick': 9.859016070196194e-05, 'daaaaay': 9.859016070196194e-05, 'men': 9.859016070196194e-05, 'coma': 9.859016070196194e-05, '98rocknitb': 9.859016070196194e-05, 'modem': 9.859016070196194e-05, 'mystery': 9.859016070196194e-05, 'caribouboy': 9.859016070196194e-05, 'aaaand': 9.859016070196194e-05, 'naptown': 9.859016070196194e-05, 'mikap': 9.859016070196194e-05, 'marley': 9.859016070196194e-05, 'americans': 9.859016070196194e-05, 'homestead': 9.859016070196194e-05, 'mskninah': 9.859016070196194e-05, 'booty': 9.859016070196194e-05, 'trap': 9.859016070196194e-05, 'ebay': 9.859016070196194e-05, 'cocabeenslinky': 9.859016070196194e-05, 'twittter': 9.859016070196194e-05, 'example': 9.859016070196194e-05, 'musicmatch': 9.859016070196194e-05, 'dolls': 9.859016070196194e-05, '13109611046': 9.859016070196194e-05, 'bifferlicious': 9.859016070196194e-05, 'gimme': 9.859016070196194e-05, 'stevebrunton': 9.859016070196194e-05, '29': 9.859016070196194e-05, 'sucked': 9.859016070196194e-05, 'w': 9.859016070196194e-05, 'nighters': 9.859016070196194e-05, 'jadeisla': 9.859016070196194e-05, 'mum': 9.859016070196194e-05, 'danniix3': 9.859016070196194e-05, 'putney': 9.859016070196194e-05, 'order': 9.859016070196194e-05, 'strong': 9.859016070196194e-05, 'perks': 9.859016070196194e-05, 'daamnn': 9.859016070196194e-05, 'computing': 9.859016070196194e-05, 'keurig': 9.859016070196194e-05, 'may': 9.859016070196194e-05, 'birmingham': 9.859016070196194e-05, 'im': 9.859016070196194e-05, 'theater': 9.859016070196194e-05, 'borders': 9.859016070196194e-05, 'towers': 9.859016070196194e-05, 'overweight': 9.859016070196194e-05, 'musclenerd': 9.859016070196194e-05, 'delete': 9.859016070196194e-05, 'bendywalker': 9.859016070196194e-05, 'undergrad': 9.859016070196194e-05, 'with': 9.859016070196194e-05, 'guessed': 9.859016070196194e-05, 'leave': 9.859016070196194e-05, 'yaaay': 9.859016070196194e-05, 'fairly': 9.859016070196194e-05, 'hulas': 9.859016070196194e-05, 'legacy62': 9.859016070196194e-05, 'alexmetric': 9.859016070196194e-05, 'pamderamus': 9.859016070196194e-05, 'mannn': 9.859016070196194e-05, 'sleepinq': 9.859016070196194e-05, 'feffing': 9.859016070196194e-05, 'quick': 9.859016070196194e-05, 'gold': 9.859016070196194e-05, 'boa': 9.859016070196194e-05, 'technical': 9.859016070196194e-05, 'awards': 9.859016070196194e-05, 'midterms': 9.859016070196194e-05, 'data': 9.859016070196194e-05, 'forester': 9.859016070196194e-05, 'by': 9.859016070196194e-05, 'thoughts': 9.859016070196194e-05, 'johnny': 9.859016070196194e-05, 'papparazzi': 9.859016070196194e-05, 'jumper': 9.859016070196194e-05, 'probably': 9.859016070196194e-05, 'cases': 9.859016070196194e-05, 'worm': 9.859016070196194e-05, 'goblin': 9.859016070196194e-05, 'panic': 9.859016070196194e-05, 'creating': 9.859016070196194e-05, 'laundry': 9.859016070196194e-05, 'jangelo': 9.859016070196194e-05, 'lobby': 9.859016070196194e-05, 'be': 9.859016070196194e-05, 'king': 9.859016070196194e-05, 'reneegannon': 9.859016070196194e-05, 'boleyn': 9.859016070196194e-05, 'tommcfly': 9.859016070196194e-05, 'national': 9.859016070196194e-05, 'chucksok': 9.859016070196194e-05, 'letting': 9.859016070196194e-05, 'normal': 9.859016070196194e-05, 'xdahlia': 9.859016070196194e-05, 'queen': 9.859016070196194e-05, 'matthewsheppard': 9.859016070196194e-05, 'rerkaizen': 9.859016070196194e-05, 'missinq': 9.859016070196194e-05, 'answered': 9.859016070196194e-05, 'boyle': 9.859016070196194e-05, 'communitycoffee': 9.859016070196194e-05, 'charitable': 9.859016070196194e-05, 'bluffin': 9.859016070196194e-05, 'groben': 9.859016070196194e-05, 'kudos': 9.859016070196194e-05, 'mrskutcher': 9.859016070196194e-05, 'bexttt': 9.859016070196194e-05, 'wolverine': 9.859016070196194e-05, 'found': 9.859016070196194e-05, 'x3': 9.859016070196194e-05, 'ery': 9.859016070196194e-05, 'mishok13': 9.859016070196194e-05, 'psittacine': 9.859016070196194e-05, 'aspects': 9.859016070196194e-05, 'kaoness': 9.859016070196194e-05, 'luv': 9.859016070196194e-05, 'incentive': 9.859016070196194e-05, 'trout': 9.859016070196194e-05, 'subjects': 9.859016070196194e-05, 'habit': 9.859016070196194e-05, 'single': 9.859016070196194e-05, 'danny': 9.859016070196194e-05, 'todaay': 9.859016070196194e-05, 'else': 9.859016070196194e-05, 'cafe': 9.859016070196194e-05, 'folo': 9.859016070196194e-05, 'delving': 9.859016070196194e-05, 'alyshachandra': 9.859016070196194e-05, 'prepare': 9.859016070196194e-05, 'grins': 9.859016070196194e-05, 'hollyoaks': 9.859016070196194e-05, 'prosperous': 9.859016070196194e-05, 'officially': 9.859016070196194e-05, 'lightning': 9.859016070196194e-05, 'seen': 9.859016070196194e-05, 'scottwesterfeld': 9.859016070196194e-05, 'semifinal': 9.859016070196194e-05, 'andrewfp': 9.859016070196194e-05, 'image': 9.859016070196194e-05, 'ankitagaba': 9.859016070196194e-05, 'over': 9.859016070196194e-05, 'eric': 9.859016070196194e-05, 'main': 9.859016070196194e-05, 'mybbworld': 9.859016070196194e-05, 'joehill': 9.859016070196194e-05, 'drinkin': 9.859016070196194e-05, 'bea': 9.859016070196194e-05, 'allison': 9.859016070196194e-05, 'juz': 9.859016070196194e-05, 'simpletownusacom': 9.859016070196194e-05, 'round': 9.859016070196194e-05, 'daycare': 9.859016070196194e-05, 'weightwatchers': 9.859016070196194e-05, 'hating': 9.859016070196194e-05, 'uni': 9.859016070196194e-05, 'casserole': 9.859016070196194e-05, 'pirrofina': 9.859016070196194e-05, 'effect': 9.859016070196194e-05, 'meryreino': 9.859016070196194e-05, 'key': 9.859016070196194e-05, 'getting': 9.859016070196194e-05, 'belong': 9.859016070196194e-05, 'realms': 9.859016070196194e-05, 'advertising': 9.859016070196194e-05, 'thekeenanator': 9.859016070196194e-05, 'disappear': 9.859016070196194e-05, 'pnay': 9.859016070196194e-05, 'dress': 9.859016070196194e-05, 'cable': 9.859016070196194e-05, 'david': 9.859016070196194e-05, 'quizzes': 9.859016070196194e-05, 'archies': 9.859016070196194e-05, 'janjohannesson': 9.859016070196194e-05, 'bullshitters': 9.859016070196194e-05, 'needs': 9.859016070196194e-05, 'put': 9.859016070196194e-05, 'yourmommasboy': 9.859016070196194e-05, 'lactose1984': 9.859016070196194e-05, 'craig': 9.859016070196194e-05, 'wednesday': 9.859016070196194e-05, 'kong': 9.859016070196194e-05, 'japanese': 9.859016070196194e-05, 'chrispallett': 9.859016070196194e-05, 'casting': 9.859016070196194e-05, 'callkidskrazy': 9.859016070196194e-05, 'she': 9.859016070196194e-05, 'cjlenoil': 9.859016070196194e-05, 'concerts09': 9.859016070196194e-05, 'demanding': 9.859016070196194e-05, 'beavers': 9.859016070196194e-05, 'super': 9.859016070196194e-05, 'alojane': 9.859016070196194e-05, 'emotionally': 9.859016070196194e-05, 'chealse': 9.859016070196194e-05, 'someone': 9.859016070196194e-05, 'vegetables': 9.859016070196194e-05, 'indo': 9.859016070196194e-05, 'orascom': 9.859016070196194e-05, 'someonechangedit': 9.859016070196194e-05, 'okay': 9.859016070196194e-05, 'sink': 9.859016070196194e-05, 'tashadhanraj': 9.859016070196194e-05, 'lord': 9.859016070196194e-05, 'wearetheredsox': 9.859016070196194e-05, 'suaveguy321': 9.859016070196194e-05, 'hell': 9.859016070196194e-05, 'choked': 9.859016070196194e-05, '22': 9.859016070196194e-05, 'will': 9.859016070196194e-05, 'noundiessunday': 9.859016070196194e-05, 'posted': 9.859016070196194e-05, 'constant': 9.859016070196194e-05, 'flight': 9.859016070196194e-05, 'thisislivestyle': 9.859016070196194e-05, 'tshirt': 9.859016070196194e-05, 'swollen': 9.859016070196194e-05, 'msundrstood': 9.859016070196194e-05, 'possible': 9.859016070196194e-05, 'burned': 9.859016070196194e-05, 'myinnersexygirl': 9.859016070196194e-05, 'inforced': 9.859016070196194e-05, 'kylebice': 9.859016070196194e-05, 'fulmer': 9.859016070196194e-05, 'sarahmaq': 9.859016070196194e-05, 'littlefishey': 9.859016070196194e-05, 'necessarily': 9.859016070196194e-05, 'played': 9.859016070196194e-05, 'francheska28': 9.859016070196194e-05, 'doug': 9.859016070196194e-05, 'canberra': 9.859016070196194e-05, 'cultureshockmag': 9.859016070196194e-05, 'tomorrows': 9.859016070196194e-05, 'overun': 9.859016070196194e-05, 'lush': 9.859016070196194e-05, 'circles': 9.859016070196194e-05, 'jeez': 9.859016070196194e-05, 'idea': 9.859016070196194e-05, 'melodic': 9.859016070196194e-05, 'mah': 9.859016070196194e-05, 'headache': 9.859016070196194e-05, 'selmgomez': 9.859016070196194e-05, 'hekissedmyhand': 9.859016070196194e-05, 'moving': 9.859016070196194e-05, 'nileyroxs567': 9.859016070196194e-05, 'sydbob': 9.859016070196194e-05, 'unhappy': 9.859016070196194e-05, 'soft': 9.859016070196194e-05, '0822': 9.859016070196194e-05, 'tree': 9.859016070196194e-05, 'nj': 9.859016070196194e-05, 'doctorpancreas': 9.859016070196194e-05, 'allllll': 9.859016070196194e-05, 'saigon': 9.859016070196194e-05, 'sight': 9.859016070196194e-05, 'relate': 9.859016070196194e-05, 'lucky': 9.859016070196194e-05, 'blue': 9.859016070196194e-05, 'ordeal': 9.859016070196194e-05, 'samchampion': 9.859016070196194e-05, 'pleaseeeeee': 9.859016070196194e-05, 'kiddshow': 9.859016070196194e-05, 'splinter': 9.859016070196194e-05, 'notied': 9.859016070196194e-05, 'review': 9.859016070196194e-05, 'troystith': 9.859016070196194e-05, 'are': 9.859016070196194e-05, 'julia062': 9.859016070196194e-05, 'leosgifted1': 9.859016070196194e-05, 'rawr': 9.859016070196194e-05, 'manchester': 9.859016070196194e-05, 'cnn': 9.859016070196194e-05, 'ybf': 9.859016070196194e-05, 'chuckiem': 9.859016070196194e-05, 'xirclebox': 9.859016070196194e-05, 'conventions': 9.859016070196194e-05, 'yeeeuuuuck': 9.859016070196194e-05, 'forms': 9.859016070196194e-05, 'millionare': 9.859016070196194e-05, '2moro': 9.859016070196194e-05, 'sokendrakouture': 9.859016070196194e-05, 'jabbawockeez': 9.859016070196194e-05, 'relieve': 9.859016070196194e-05, 'monopoly': 9.859016070196194e-05, 'yourproxycomm': 9.859016070196194e-05, 'courthouse': 9.859016070196194e-05, 'accurate': 9.859016070196194e-05, 'outdoors': 9.859016070196194e-05, 'stoked': 9.859016070196194e-05, 'robangus': 9.859016070196194e-05, 'groosss': 9.859016070196194e-05, 'attacking': 9.859016070196194e-05, 'leni': 9.859016070196194e-05, 'novella': 9.859016070196194e-05, 'item': 9.859016070196194e-05, 'bradie': 9.859016070196194e-05, 'offal': 9.859016070196194e-05, 'removed': 9.859016070196194e-05, 'wasnt': 9.859016070196194e-05, '20s': 9.859016070196194e-05, 'chettahman': 9.859016070196194e-05, 'first': 9.859016070196194e-05, 'yard': 9.859016070196194e-05, 'jenny': 9.859016070196194e-05, 'realy': 9.859016070196194e-05, 'webaddict': 9.859016070196194e-05, 'eight': 9.859016070196194e-05, '1': 9.859016070196194e-05, 'absolutely': 9.859016070196194e-05, 'ithellam': 9.859016070196194e-05, 'chicagolatina80': 9.859016070196194e-05, 'inspirational': 9.859016070196194e-05, 'critikthedj': 9.859016070196194e-05, 'l': 9.859016070196194e-05, 'precedings': 9.859016070196194e-05, 'wwe': 9.859016070196194e-05, 'instead': 9.859016070196194e-05, 'thatgirljenn': 9.859016070196194e-05, 'whackakass': 9.859016070196194e-05, 'cute': 9.859016070196194e-05, 'plzzz': 9.859016070196194e-05, 'belongs': 9.859016070196194e-05, 'tariza': 9.859016070196194e-05, 'malemute': 9.859016070196194e-05, 'languages': 9.859016070196194e-05, 'bother': 9.859016070196194e-05, 'futureproof': 9.859016070196194e-05, 'liverpooltx': 9.859016070196194e-05, 'refer': 9.859016070196194e-05, 'hokey': 9.859016070196194e-05, 'alton': 9.859016070196194e-05, 'baffling': 9.859016070196194e-05, 'dads': 9.859016070196194e-05, 'franserraga': 9.859016070196194e-05, 'tokio': 9.859016070196194e-05, 'buenas': 9.859016070196194e-05, 'aaahhhhhhh': 9.859016070196194e-05, 'november': 9.859016070196194e-05, 'lisamariemary': 9.859016070196194e-05, 'smash': 9.859016070196194e-05, 'wiigee': 9.859016070196194e-05, 'samich': 9.859016070196194e-05, 'olds': 9.859016070196194e-05, 'luton': 9.859016070196194e-05, 'chief': 9.859016070196194e-05, 'bk': 9.859016070196194e-05, 'hols': 9.859016070196194e-05, 'isnt': 9.859016070196194e-05, 'cuddled': 9.859016070196194e-05, 'e3': 9.859016070196194e-05, 'sketchca': 9.859016070196194e-05, 'curtcosmic': 9.859016070196194e-05, 'splatasloth': 9.859016070196194e-05, 'pertaining': 9.859016070196194e-05, 'spoon': 9.859016070196194e-05, 'rumors': 9.859016070196194e-05, 'hp': 9.859016070196194e-05, 'barry': 9.859016070196194e-05, 'rarely': 9.859016070196194e-05, 'godess': 9.859016070196194e-05, 're': 9.859016070196194e-05, 'dadonwoogz': 9.859016070196194e-05, 'tnite': 9.859016070196194e-05, 'bubu': 9.859016070196194e-05, 'postponed': 9.859016070196194e-05, 'too': 9.859016070196194e-05, 'plaintruthiness': 9.859016070196194e-05, 'beingnobody': 9.859016070196194e-05, 'caris': 9.859016070196194e-05, 'move': 9.859016070196194e-05, 'steep': 9.859016070196194e-05, 'pulled': 9.859016070196194e-05, 'swing': 9.859016070196194e-05, 'grahamwgreen': 9.859016070196194e-05, 'sexy': 9.859016070196194e-05, 'photoshop': 9.859016070196194e-05, 'playin': 9.859016070196194e-05, 'fly': 9.859016070196194e-05, 'into': 9.859016070196194e-05, 'sentences': 9.859016070196194e-05, 'shartlesville': 9.859016070196194e-05, 'salon': 9.859016070196194e-05, 'you': 9.859016070196194e-05, 'rememeber': 9.859016070196194e-05, 'suggested': 9.859016070196194e-05, 'mga': 9.859016070196194e-05, 'few': 9.859016070196194e-05, 'cared': 9.859016070196194e-05, 'kept': 9.859016070196194e-05, 'chilling': 9.859016070196194e-05, 'bods': 9.859016070196194e-05, 'grandmas': 9.859016070196194e-05, 'dion': 9.859016070196194e-05, 'freak': 9.859016070196194e-05, 'sweetteach81': 9.859016070196194e-05, 'verge': 9.859016070196194e-05, 'practicing': 9.859016070196194e-05, 'marywebbjones': 9.859016070196194e-05, 'rbs': 9.859016070196194e-05, 'parting': 9.859016070196194e-05, 'milkshake': 9.859016070196194e-05, 'instructors': 9.859016070196194e-05, 'j': 9.859016070196194e-05, '\\x8a': 9.859016070196194e-05, 'beyoncã': 9.859016070196194e-05, 'ugly': 9.859016070196194e-05, 'meds': 9.859016070196194e-05, 'wwwmusiqtonecom': 9.859016070196194e-05, 'choices': 9.859016070196194e-05, 'mmyy': 9.859016070196194e-05, 'nsw': 9.859016070196194e-05, 'matthewwest': 9.859016070196194e-05, 'shahidkapoor': 9.859016070196194e-05, 'thisreal4ever': 9.859016070196194e-05, 'bitchinmona': 9.859016070196194e-05, 'opps': 9.859016070196194e-05, 'punch': 9.859016070196194e-05, '1967': 9.859016070196194e-05, 'net': 9.859016070196194e-05, 'mrsjdubs': 9.859016070196194e-05, 'arah': 9.859016070196194e-05, 'potter': 9.859016070196194e-05, 'items': 9.859016070196194e-05, 'breakfast': 9.859016070196194e-05, 'sarahsaner': 9.859016070196194e-05, 'repo': 9.859016070196194e-05, 'shining': 9.859016070196194e-05, 'warning': 9.859016070196194e-05, 'tihnk': 9.859016070196194e-05, 'tiffany': 9.859016070196194e-05, 'gran': 9.859016070196194e-05, 'pokemon': 9.859016070196194e-05, 'decided': 9.859016070196194e-05, 'bullshit': 9.859016070196194e-05, 'littlelisa69': 9.859016070196194e-05, 'damp': 9.859016070196194e-05, 'amusing': 9.859016070196194e-05, 'following': 9.859016070196194e-05, 'lazerquest': 9.859016070196194e-05, 'granny': 9.859016070196194e-05, 'rampage': 9.859016070196194e-05, 'dindin': 9.859016070196194e-05, 'canaria': 9.859016070196194e-05, 'stluciangirly': 9.859016070196194e-05, 'sundown': 9.859016070196194e-05, '510': 9.859016070196194e-05, 'kschwalm': 9.859016070196194e-05, 'ats': 9.859016070196194e-05, 'comm': 9.859016070196194e-05, 'internet': 9.859016070196194e-05, 'thc1972': 9.859016070196194e-05, 'theatre': 9.859016070196194e-05, 'songwriters': 9.859016070196194e-05, 'same': 9.859016070196194e-05, '4': 9.859016070196194e-05, 'demod': 9.859016070196194e-05, 'sliding': 9.859016070196194e-05, 'hester1992': 9.859016070196194e-05, 'dunkndisorderly': 9.859016070196194e-05, 'users': 9.859016070196194e-05, 'shauns': 9.859016070196194e-05, 'metro': 9.859016070196194e-05, 'bowwow614': 9.859016070196194e-05, 'd23': 9.859016070196194e-05, 'obsessivly': 9.859016070196194e-05, 'half': 9.859016070196194e-05, '859407': 9.859016070196194e-05, 'xthehappyemox': 9.859016070196194e-05, 'wicket': 9.859016070196194e-05, 'binged': 9.859016070196194e-05, 'becs09': 9.859016070196194e-05, 'meg': 9.859016070196194e-05, 'editing': 9.859016070196194e-05, '2010': 9.859016070196194e-05, 'twashley': 9.859016070196194e-05, 'venetian': 9.859016070196194e-05, 'cindaily': 9.859016070196194e-05, 'power': 9.859016070196194e-05, 'caitlinharvie': 9.859016070196194e-05, 'daniweezy': 9.859016070196194e-05, 'send': 9.859016070196194e-05, 'ur': 9.859016070196194e-05, 'grid': 9.859016070196194e-05, 'ihops': 9.859016070196194e-05, 'robert': 9.859016070196194e-05, 'neverrrr': 9.859016070196194e-05, 'bomb': 9.859016070196194e-05, 'noh': 9.859016070196194e-05, 'untitled': 9.859016070196194e-05, 'drown': 9.859016070196194e-05, 'charlysangel': 9.859016070196194e-05, 'stealer': 9.859016070196194e-05, 'intestines': 9.859016070196194e-05, 'redeemed': 9.859016070196194e-05, 'eating': 9.859016070196194e-05, 'di': 9.859016070196194e-05, 'tessmorris': 9.859016070196194e-05, 'hugh': 9.859016070196194e-05, 'anonymoustom': 9.859016070196194e-05, 'babies': 9.859016070196194e-05, 'hoodies': 9.859016070196194e-05, 'cutting': 9.859016070196194e-05, 'amazin': 9.859016070196194e-05, 'treysongz': 9.859016070196194e-05, 'chicks': 9.859016070196194e-05, 'smosh': 9.859016070196194e-05, 'daw': 9.859016070196194e-05, 'phoned': 9.859016070196194e-05, 'uhhh': 9.859016070196194e-05, 'imagination': 9.859016070196194e-05, 'supporting': 9.859016070196194e-05, 'mm': 9.859016070196194e-05, 'malaysia': 9.859016070196194e-05, 'youth': 9.859016070196194e-05, 'generations': 9.859016070196194e-05, 'appreciate': 9.859016070196194e-05, 'clubbin': 9.859016070196194e-05, 'semesters': 9.859016070196194e-05, 'quant': 9.859016070196194e-05, '\\x9e': 9.859016070196194e-05, 'exhaustion': 9.859016070196194e-05, 'election': 9.859016070196194e-05, 'island': 9.859016070196194e-05, 'sciences': 9.859016070196194e-05, 'skorgees': 9.859016070196194e-05, 'segments': 9.859016070196194e-05, 'bloody': 9.859016070196194e-05, 'boriinngggg': 9.859016070196194e-05, 'rattpakkrush': 9.859016070196194e-05, 'screaming': 9.859016070196194e-05, 'babygirl': 9.859016070196194e-05, 'kadi707': 9.859016070196194e-05, 'jemcam': 9.859016070196194e-05, 'bendaubney': 9.859016070196194e-05, 'talking': 9.859016070196194e-05, 'understands': 9.859016070196194e-05, '1988': 9.859016070196194e-05, 'curl': 9.859016070196194e-05, 'suzemuse': 9.859016070196194e-05, 'katip': 9.859016070196194e-05, 'youll': 9.859016070196194e-05, 'limits': 9.859016070196194e-05, 'forest': 9.859016070196194e-05, 'gandaaa': 9.859016070196194e-05, 'mcrfash1': 9.859016070196194e-05, 'sox': 9.859016070196194e-05, 'proud': 9.859016070196194e-05, 'hana': 9.859016070196194e-05, 'hansonmusic': 9.859016070196194e-05, 'cousin': 9.859016070196194e-05, 'was': 9.859016070196194e-05, '09': 9.859016070196194e-05, 'gnite': 9.859016070196194e-05, 'jonbon88': 9.859016070196194e-05, 'pr': 9.859016070196194e-05, 'webdu': 9.859016070196194e-05, 'ranga91': 9.859016070196194e-05, 'infinity': 9.859016070196194e-05, 'visits': 9.859016070196194e-05, 'real': 9.859016070196194e-05, 'ninight': 9.859016070196194e-05, 'afairs': 9.859016070196194e-05, 'connect': 9.859016070196194e-05, 'hahah': 9.859016070196194e-05, 'hi': 9.859016070196194e-05, 'nite': 9.859016070196194e-05, 'clouds': 9.859016070196194e-05, 'unlike': 9.859016070196194e-05, 'peter': 9.859016070196194e-05, 'baha': 9.859016070196194e-05, 'towards': 9.859016070196194e-05, 'girlfriend': 9.859016070196194e-05, 'suge13': 9.859016070196194e-05, 'oregon': 9.859016070196194e-05, 'tilde': 9.859016070196194e-05, 'dare': 9.859016070196194e-05, 'won': 9.859016070196194e-05, 'lives': 9.859016070196194e-05, 'nw': 9.859016070196194e-05, '7ofnine': 9.859016070196194e-05, 'alexis': 9.859016070196194e-05, 'maintenance': 9.859016070196194e-05, 'groggy': 9.859016070196194e-05, 'menu': 9.859016070196194e-05, 'keli': 9.859016070196194e-05, 'stupid': 9.859016070196194e-05, 'pedometer': 9.859016070196194e-05, 'venue': 9.859016070196194e-05, 'rio': 9.859016070196194e-05, 'thatoneguy': 9.859016070196194e-05, 'futuredirected': 9.859016070196194e-05, 'appt': 9.859016070196194e-05, 'jodieharsh': 9.859016070196194e-05, 'agency': 9.859016070196194e-05, 'cottage': 9.859016070196194e-05, 'roddybottum': 9.859016070196194e-05, 'reading': 9.859016070196194e-05, 'retrorewind': 9.859016070196194e-05, 'iphoto': 9.859016070196194e-05, 'tear': 9.859016070196194e-05, 'mind': 9.859016070196194e-05, 'politician': 9.859016070196194e-05, 'nancecy': 9.859016070196194e-05, 'jump': 9.859016070196194e-05, 'speakers': 9.859016070196194e-05, 'knowing': 9.859016070196194e-05, 'dow': 9.859016070196194e-05, 'case': 9.859016070196194e-05, 'bowflex': 9.859016070196194e-05, 'lotta': 9.859016070196194e-05, 'dream': 9.859016070196194e-05, 'thanksss': 9.859016070196194e-05, 'sound': 9.859016070196194e-05, 'everyday': 9.859016070196194e-05, 'aaahhhh': 9.859016070196194e-05, 'khloekardashian': 9.859016070196194e-05, 'wht': 9.859016070196194e-05, 'mcflyinmanila': 9.859016070196194e-05, 'pledge': 9.859016070196194e-05, 'ucoh': 9.859016070196194e-05, 'sp': 9.859016070196194e-05, 'ass': 9.859016070196194e-05, 'officialas': 9.859016070196194e-05, 'gatorade': 9.859016070196194e-05, 'kush': 9.859016070196194e-05, 'clement': 9.859016070196194e-05, 'earlier': 9.859016070196194e-05, 'rozes9495': 9.859016070196194e-05, 'comic': 9.859016070196194e-05, 'cooler': 9.859016070196194e-05, 'within': 9.859016070196194e-05, 'seekingplumb': 9.859016070196194e-05, 'fix': 9.859016070196194e-05, 'freezing': 9.859016070196194e-05, 'poke': 9.859016070196194e-05, 'gosh': 9.859016070196194e-05, 'excuse': 9.859016070196194e-05, 'outta': 9.859016070196194e-05, 'visited': 9.859016070196194e-05, 'capacity': 9.859016070196194e-05, 'luigi': 9.859016070196194e-05, 'but': 9.859016070196194e-05, 'baybaybayvh1': 9.859016070196194e-05, 'haven': 9.859016070196194e-05, 'journals': 9.859016070196194e-05, 'nose': 9.859016070196194e-05, 'ascordellis': 9.859016070196194e-05, 'balanced': 9.859016070196194e-05, 'full': 9.859016070196194e-05, 'per': 9.859016070196194e-05, 'at': 9.859016070196194e-05, 'stink': 9.859016070196194e-05, 'rockstaaar': 9.859016070196194e-05, 'leesasaur': 9.859016070196194e-05, 'reread': 9.859016070196194e-05, 'homo': 9.859016070196194e-05, 'joined': 9.859016070196194e-05, 'ticket': 9.859016070196194e-05, 'bag': 9.859016070196194e-05, 'yep': 9.859016070196194e-05, 'zymill': 9.859016070196194e-05, 'ramrodnewell': 9.859016070196194e-05, 'loll': 9.859016070196194e-05, 'scb4vp': 9.859016070196194e-05, 'aaaaagh': 9.859016070196194e-05, 'colonia': 9.859016070196194e-05, 'nannys': 9.859016070196194e-05, 'xoxohelenhilton': 9.859016070196194e-05, 'khaliblache': 9.859016070196194e-05, 'mrpromee': 9.859016070196194e-05, 'sillett': 9.859016070196194e-05, 'sxsw': 9.859016070196194e-05, 'comment': 9.859016070196194e-05, 'idiot': 9.859016070196194e-05, 'mya': 9.859016070196194e-05, 'everythings': 9.859016070196194e-05, 'fatty': 9.859016070196194e-05, 'gv': 9.859016070196194e-05, 's': 9.859016070196194e-05, 'niece': 9.859016070196194e-05, 'pauljholden': 9.859016070196194e-05, 'kaaatieexlee': 9.859016070196194e-05, 'anyway': 9.859016070196194e-05, 'djwoolley719': 9.859016070196194e-05, 'keljem': 9.859016070196194e-05, 'chico': 9.859016070196194e-05, 'isp': 9.859016070196194e-05, 'unknown': 9.859016070196194e-05, 'crisps': 9.859016070196194e-05, 'broke': 9.859016070196194e-05, 'thwirl': 9.859016070196194e-05, 'las': 9.859016070196194e-05, 'kicobra': 9.859016070196194e-05, 'sng': 9.859016070196194e-05, 'willy': 9.859016070196194e-05, 'mouse': 9.859016070196194e-05, 'sailing': 9.859016070196194e-05, 'dude': 9.859016070196194e-05, 'benny': 9.859016070196194e-05, 'bull': 9.859016070196194e-05, 'mi': 9.859016070196194e-05, 'vets': 9.859016070196194e-05, 'worn': 9.859016070196194e-05, 'jennykim': 9.859016070196194e-05, 'hby': 9.859016070196194e-05, 'annaaralar': 9.859016070196194e-05, 'vranac': 9.859016070196194e-05, 'tasty': 9.859016070196194e-05, 'wishing': 9.859016070196194e-05, 'gametime': 9.859016070196194e-05, 'sisterhood': 9.859016070196194e-05, 'ericleeusher': 9.859016070196194e-05, 'migraines': 9.859016070196194e-05, 'danni': 9.859016070196194e-05, 'storm': 9.859016070196194e-05, 'soekarnohatta': 9.859016070196194e-05, 'vehicle': 9.859016070196194e-05, 'goodtimesaregon': 9.859016070196194e-05, 'lemon': 9.859016070196194e-05, 'xrays': 9.859016070196194e-05, 'focuses': 9.859016070196194e-05, 'gabe': 9.859016070196194e-05, 'rockeye': 9.859016070196194e-05, 'katiep2008': 9.859016070196194e-05, 'overwhelming': 9.859016070196194e-05, 'competing': 9.859016070196194e-05, 'unexpected': 9.859016070196194e-05, '330': 9.859016070196194e-05, 'flo494': 9.859016070196194e-05, 'tis': 9.859016070196194e-05, 'ahhhaaaa': 9.859016070196194e-05, 'cornhole': 9.859016070196194e-05, 'djspanky': 9.859016070196194e-05, 'wif': 9.859016070196194e-05, 'redid': 9.859016070196194e-05, 'stonewallers': 9.859016070196194e-05, 'bands': 9.859016070196194e-05, 'kfc': 9.859016070196194e-05, 'excellent': 9.859016070196194e-05, 'crumbling': 9.859016070196194e-05, 'ms': 9.859016070196194e-05, 'censored': 9.859016070196194e-05, 'busy': 9.859016070196194e-05, 'slanoue': 9.859016070196194e-05, 'tequa': 9.859016070196194e-05, 'mostly': 9.859016070196194e-05, 'idiots': 9.859016070196194e-05, 'knockoffs': 9.859016070196194e-05, 'individual': 9.859016070196194e-05, 'space': 9.859016070196194e-05, 'nonye': 9.859016070196194e-05, 'raha': 9.859016070196194e-05, 'postits': 9.859016070196194e-05, 'groups': 9.859016070196194e-05, 'sleeping': 9.859016070196194e-05, 'nada': 9.859016070196194e-05, 'wed': 9.859016070196194e-05, 'got': 9.859016070196194e-05, 'todays': 9.859016070196194e-05, 'pens': 9.859016070196194e-05, 'unu': 9.859016070196194e-05, 'romylovesmcfly': 9.859016070196194e-05, 'tiredddd': 9.859016070196194e-05, 'saveing': 9.859016070196194e-05, 'feelin': 9.859016070196194e-05, 'course': 9.859016070196194e-05, 'gabysslave': 9.859016070196194e-05, 'mice': 9.859016070196194e-05, 'supervann': 9.859016070196194e-05, 'weekend': 9.859016070196194e-05, 'po': 9.859016070196194e-05, 'weelissa': 9.859016070196194e-05, 'boyfriend': 9.859016070196194e-05, 'laurens': 9.859016070196194e-05, 'tinytwitter': 9.859016070196194e-05, 'klove032705': 9.859016070196194e-05, 'beccalovesbooks': 9.859016070196194e-05, 'lebron': 9.859016070196194e-05, 'aurea': 9.859016070196194e-05, 'gerdiend': 9.859016070196194e-05, 'grl': 9.859016070196194e-05, 'night': 9.859016070196194e-05, 'fry': 9.859016070196194e-05, 'seaby': 9.859016070196194e-05, 'clear': 9.859016070196194e-05, 'cerberus': 9.859016070196194e-05, 'africa': 9.859016070196194e-05, 'score': 9.859016070196194e-05, '15': 9.859016070196194e-05, 'agaaiin': 9.859016070196194e-05, 'welshdrew': 9.859016070196194e-05, 'fellow': 9.859016070196194e-05, 'smashmeeraseme': 9.859016070196194e-05, 'sooooooo': 9.859016070196194e-05, 'time': 9.859016070196194e-05, 'countdown': 9.859016070196194e-05, 'crush': 9.859016070196194e-05, 'ohsuperheroine': 9.859016070196194e-05, 'crunchpow': 9.859016070196194e-05, 'approved': 9.859016070196194e-05, 'birthday': 9.859016070196194e-05, 'annelizabeth84': 9.859016070196194e-05, 'gareth': 9.859016070196194e-05, 'technically': 9.859016070196194e-05, 'hardheaded': 9.859016070196194e-05, 'special': 9.859016070196194e-05, 'mlp': 9.859016070196194e-05, 'wished': 9.859016070196194e-05, 'campus': 9.859016070196194e-05, 'spk': 9.859016070196194e-05, 'lamarlee': 9.859016070196194e-05, 'fran': 9.859016070196194e-05, 'carson': 9.859016070196194e-05, 'fiberwig': 9.859016070196194e-05, 'brak': 9.859016070196194e-05, 'prom': 9.859016070196194e-05, 'missed': 9.859016070196194e-05, 'aubreeeey': 9.859016070196194e-05, 'libertygirl3': 9.859016070196194e-05, 'afraid': 9.859016070196194e-05, 'heeey': 9.859016070196194e-05, 'mmmmmmm': 9.859016070196194e-05, 'deal': 9.859016070196194e-05, 'tmaster': 9.859016070196194e-05, 'ended': 9.859016070196194e-05, 'than': 9.859016070196194e-05, 'sim': 9.859016070196194e-05, 'honeybunches': 9.859016070196194e-05, 'wearebirds': 9.859016070196194e-05, 'mission': 9.859016070196194e-05, 'mikecarden': 9.859016070196194e-05, 'ajroxmywhitesox': 9.859016070196194e-05, 'englisch': 9.859016070196194e-05, 'groove': 9.859016070196194e-05, 'talented': 9.859016070196194e-05, 'bills': 9.859016070196194e-05, 'kayley': 9.859016070196194e-05, 'zackaddy': 9.859016070196194e-05, 'broadcasting': 9.859016070196194e-05, 'directly': 9.859016070196194e-05, 'studios': 9.859016070196194e-05, '7366': 9.859016070196194e-05, 'christex': 9.859016070196194e-05, 'yey': 9.859016070196194e-05, 'prettysprinkles': 9.859016070196194e-05, 'ciarancuffe': 9.859016070196194e-05, 'chai': 9.859016070196194e-05, 'conchango': 9.859016070196194e-05, 'cupcake': 9.859016070196194e-05, 'trades': 9.859016070196194e-05, 'danieleazar': 9.859016070196194e-05, 'gum': 9.859016070196194e-05, 'kellystraycat': 9.859016070196194e-05, 'laying': 9.859016070196194e-05, 'yakisoba': 9.859016070196194e-05, 'become': 9.859016070196194e-05, 'hopper': 9.859016070196194e-05, 'geography': 9.859016070196194e-05, 'console': 9.859016070196194e-05, 'correction': 9.859016070196194e-05, 'clench': 9.859016070196194e-05, 'weakness': 9.859016070196194e-05, 'hose': 9.859016070196194e-05, 'flower': 9.859016070196194e-05, 'fo': 9.859016070196194e-05, 'jeorgina': 9.859016070196194e-05, 'kindly': 9.859016070196194e-05, 'boby': 9.859016070196194e-05, 'defend': 9.859016070196194e-05, 'treacherousd': 9.859016070196194e-05, 'wec': 9.859016070196194e-05, 'throw': 9.859016070196194e-05, 'blueprint': 9.859016070196194e-05, 'bren': 9.859016070196194e-05, 'pics': 9.859016070196194e-05, 'mistaking': 9.859016070196194e-05, '18': 9.859016070196194e-05, 'suspiciousminds': 9.859016070196194e-05, 'bossmobb': 9.859016070196194e-05, 'itunes': 9.859016070196194e-05, 'sooooooooooo': 9.859016070196194e-05, 'slipnslide': 9.859016070196194e-05, 'jasonjordan': 9.859016070196194e-05, 'grub': 9.859016070196194e-05, 'nubian': 9.859016070196194e-05, 'arrive': 9.859016070196194e-05, 'stickam': 9.859016070196194e-05, 'chocolaty': 9.859016070196194e-05, 'bangs': 9.859016070196194e-05, 'nareejo': 9.859016070196194e-05, 'puppets': 9.859016070196194e-05, 'hayfever': 9.859016070196194e-05, 'plugged': 9.859016070196194e-05, 'huhuhuhu': 9.859016070196194e-05, 'hiring': 9.859016070196194e-05, 'janeeeyy': 9.859016070196194e-05, 'nurse': 9.859016070196194e-05, 'aikiverse': 9.859016070196194e-05, 'plenty': 9.859016070196194e-05, 'nadal': 9.859016070196194e-05, 'westcoast': 9.859016070196194e-05, 'north': 9.859016070196194e-05, 'jtchan83': 9.859016070196194e-05, 'delilahmarie89': 9.859016070196194e-05, '¥': 9.859016070196194e-05, 'convince': 9.859016070196194e-05, '56': 9.859016070196194e-05, 'ilove': 9.859016070196194e-05, '32': 9.859016070196194e-05, 'brooklynblack': 9.859016070196194e-05, 'klstewart': 9.859016070196194e-05, 'taking': 9.859016070196194e-05, '8hrs': 9.859016070196194e-05, 'anybody': 9.859016070196194e-05, 'satisfying': 9.859016070196194e-05, 'markrosenbauer': 9.859016070196194e-05, 'rxdjs': 9.859016070196194e-05, 'autograph': 9.859016070196194e-05, 'stomped': 9.859016070196194e-05, 'terror': 9.859016070196194e-05, 'jeremydempster': 9.859016070196194e-05, 'beast': 9.859016070196194e-05, 'licence': 9.859016070196194e-05, 'trueblood': 9.859016070196194e-05, 'twigga': 9.859016070196194e-05, 'genteeeeeeeeeeeeeeeeeeeeeeeeeeeee': 9.859016070196194e-05, 'jorja': 9.859016070196194e-05, 'playlists': 9.859016070196194e-05, 'karahleigh': 9.859016070196194e-05, 'jazzyfizza': 9.859016070196194e-05, 'relationships': 9.859016070196194e-05, 'whitneyblair030': 9.859016070196194e-05, 'anaimrsarm': 9.859016070196194e-05, 'gallagher': 9.859016070196194e-05, 'shops': 9.859016070196194e-05, 'sophiakills': 9.859016070196194e-05, 'fan': 9.859016070196194e-05, 'shitty': 9.859016070196194e-05, 'updated': 9.859016070196194e-05, 'dragging': 9.859016070196194e-05, 'xlittlemisstuki': 9.859016070196194e-05, 'curly': 9.859016070196194e-05, 'mmitchelldaviss': 9.859016070196194e-05, '5000000': 9.859016070196194e-05, 'app': 9.859016070196194e-05, 'cause': 9.859016070196194e-05, 'taryn': 9.859016070196194e-05, 'milk': 9.859016070196194e-05, 'matchesmalone': 9.859016070196194e-05, 'teekdafreekcxc': 9.859016070196194e-05, 'several': 9.859016070196194e-05, 'benjamin': 9.859016070196194e-05, 'tweeter': 9.859016070196194e-05, 'matt': 9.859016070196194e-05, 'researching': 9.859016070196194e-05, 'differently': 9.859016070196194e-05, 'aloha': 9.859016070196194e-05, 'aunts': 9.859016070196194e-05, 'mardeck': 9.859016070196194e-05, 'rockahunny': 9.859016070196194e-05, 'heyyy': 9.859016070196194e-05, 'recognized': 9.859016070196194e-05, 'lay': 9.859016070196194e-05, 'roxxors': 9.859016070196194e-05, 'nuudz': 9.859016070196194e-05, 'reason': 9.859016070196194e-05, 'celebrating': 9.859016070196194e-05, 'feeel': 9.859016070196194e-05, 'wafflenya': 9.859016070196194e-05, 'ewww': 9.859016070196194e-05, 'lip': 9.859016070196194e-05, 'bought': 9.859016070196194e-05, 'parent': 9.859016070196194e-05, 'noooooooo': 9.859016070196194e-05, 'airwaves': 9.859016070196194e-05, 'jessiekitty': 9.859016070196194e-05, 'ready': 9.859016070196194e-05, 'musicbykg': 9.859016070196194e-05, 'gonna': 9.859016070196194e-05, 'peacep': 9.859016070196194e-05, 'rosberg': 9.859016070196194e-05, 'fashionsourcing': 9.859016070196194e-05, '300': 9.859016070196194e-05, 'f': 9.859016070196194e-05, 'shaunmichaelb': 9.859016070196194e-05, 'ginader': 9.859016070196194e-05, 'seems': 9.859016070196194e-05, 'packing': 9.859016070196194e-05, 'nnete': 9.859016070196194e-05, 'dressed': 9.859016070196194e-05, 'dutchrudder': 9.859016070196194e-05, 'now': 9.859016070196194e-05, 'diego': 9.859016070196194e-05, 'tommorow': 9.859016070196194e-05, 'passionate': 9.859016070196194e-05, 'ne': 9.859016070196194e-05, 'courtney319': 9.859016070196194e-05, 'aila': 9.859016070196194e-05, 'sawed': 9.859016070196194e-05, 'lol': 9.859016070196194e-05, 'softball': 9.859016070196194e-05, 'lirael': 9.859016070196194e-05, 'clapham': 9.859016070196194e-05, 'guerrillas': 9.859016070196194e-05, 'rollerblading': 9.859016070196194e-05, 'reminding': 9.859016070196194e-05, 'jackson': 9.859016070196194e-05, 'bout': 9.859016070196194e-05, 'quip': 9.859016070196194e-05, 'kccopydiva': 9.859016070196194e-05, 'characters': 9.859016070196194e-05, 'laid': 9.859016070196194e-05, 'lancesmithshow': 9.859016070196194e-05, 'before': 9.859016070196194e-05, 'flows': 9.859016070196194e-05, 'soulpoetrysite': 9.859016070196194e-05, 'spent': 9.859016070196194e-05, 'stone': 9.859016070196194e-05, 'treat': 9.859016070196194e-05, 'minding': 9.859016070196194e-05, 'ibiza': 9.859016070196194e-05, 'knoww': 9.859016070196194e-05, 'mms': 9.859016070196194e-05, 'marrone': 9.859016070196194e-05, 'drifting': 9.859016070196194e-05, 'nooneai': 9.859016070196194e-05, 'use': 9.859016070196194e-05, 'jams': 9.859016070196194e-05, 'wonka': 9.859016070196194e-05, 'slmoore': 9.859016070196194e-05, 'astynes': 9.859016070196194e-05, 'ugg': 9.859016070196194e-05, 'fast': 9.859016070196194e-05, 'drain': 9.859016070196194e-05, 'taylor': 9.859016070196194e-05, 'lights': 9.859016070196194e-05, 'promedia': 9.859016070196194e-05, 'apparently': 9.859016070196194e-05, 'ny': 9.859016070196194e-05, 'meh': 9.859016070196194e-05, 'colorado': 9.859016070196194e-05, 'billyraycyrus': 9.859016070196194e-05, 'yoghurt': 9.859016070196194e-05, 'smiling': 9.859016070196194e-05, 'mix': 9.859016070196194e-05, 'cord': 9.859016070196194e-05, 'previous': 9.859016070196194e-05, 'theyre': 9.859016070196194e-05, 'street': 9.859016070196194e-05, 'groans': 9.859016070196194e-05, 'hip': 9.859016070196194e-05, 'originalog': 9.859016070196194e-05, 'supose': 9.859016070196194e-05, 'artists': 9.859016070196194e-05, 'besides': 9.859016070196194e-05, 'sidelines': 9.859016070196194e-05, 'magnificent': 9.859016070196194e-05, 'fn': 9.859016070196194e-05, 'ipod': 9.859016070196194e-05, 'gershon': 9.859016070196194e-05, 'hamptons': 9.859016070196194e-05, 'parties': 9.859016070196194e-05, 'blackkat1979': 9.859016070196194e-05, 'utrecht': 9.859016070196194e-05, 'playschool': 9.859016070196194e-05, 'blogtv': 9.859016070196194e-05, 'mandytronic': 9.859016070196194e-05, 'grumpy': 9.859016070196194e-05, 'debbas': 9.859016070196194e-05, 'djalizay': 9.859016070196194e-05, 'defense': 9.859016070196194e-05, 'sampe': 9.859016070196194e-05, 'supportive': 9.859016070196194e-05, 'breaking': 9.859016070196194e-05, 'better': 9.859016070196194e-05, 'crucifybrett': 9.859016070196194e-05, 'levigato': 9.859016070196194e-05, 'guylikeu': 9.859016070196194e-05, 'migsmusiclover': 9.859016070196194e-05, 'exceptionally': 9.859016070196194e-05, 'dapacheco': 9.859016070196194e-05, 'hippie': 9.859016070196194e-05, 'mccormicks': 9.859016070196194e-05, 'soda': 9.859016070196194e-05, 'clue': 9.859016070196194e-05, 'amount': 9.859016070196194e-05, 'wasps': 9.859016070196194e-05, 'brownie': 9.859016070196194e-05, 'fones': 9.859016070196194e-05, 'very': 9.859016070196194e-05, 'chua': 9.859016070196194e-05, 'braintree': 9.859016070196194e-05, 'cody': 9.859016070196194e-05, 'material': 9.859016070196194e-05, 'sicckkkk': 9.859016070196194e-05, '345': 9.859016070196194e-05, 'shmuck': 9.859016070196194e-05, 'gonzo': 9.859016070196194e-05, 'rynoceros': 9.859016070196194e-05, 'karaoke': 9.859016070196194e-05, 'omj': 9.859016070196194e-05, 'woah': 9.859016070196194e-05, 'shots': 9.859016070196194e-05, 'raptastic': 9.859016070196194e-05, 'downer': 9.859016070196194e-05, 'festivallights': 9.859016070196194e-05, 'human': 9.859016070196194e-05, 'howw': 9.859016070196194e-05, 'paula': 9.859016070196194e-05, 'mumofsix': 9.859016070196194e-05, 'cozx': 9.859016070196194e-05, 'ed': 9.859016070196194e-05, 'yuck': 9.859016070196194e-05, 'misses': 9.859016070196194e-05, 'migrants': 9.859016070196194e-05, 'repriced': 9.859016070196194e-05, 'picked': 9.859016070196194e-05, 'encouragements': 9.859016070196194e-05, 'demoness2009': 9.859016070196194e-05, 'feel': 9.859016070196194e-05, 'nervous': 9.859016070196194e-05, 'hairdryer': 9.859016070196194e-05, 'keys': 9.859016070196194e-05, 'welcoming': 9.859016070196194e-05, 'summer': 9.859016070196194e-05, 'tribute': 9.859016070196194e-05, 'khimjejung': 9.859016070196194e-05, 'nataliemrls': 9.859016070196194e-05, 'ahmedworld': 9.859016070196194e-05, 'aunt': 9.859016070196194e-05, 'haz': 9.859016070196194e-05, 'getty': 9.859016070196194e-05, 'robwatts': 9.859016070196194e-05, 'farrah': 9.859016070196194e-05, 'clearly': 9.859016070196194e-05, 'stacey79': 9.859016070196194e-05, 'hv': 9.859016070196194e-05, 'baq': 9.859016070196194e-05, 'ughhh': 9.859016070196194e-05, 'category': 9.859016070196194e-05, 'hoppusday': 9.859016070196194e-05, 'ndmla': 9.859016070196194e-05, '4everbrandy': 9.859016070196194e-05, 'embarrassing': 9.859016070196194e-05, 'clothdiapers': 9.859016070196194e-05, 'cinema': 9.859016070196194e-05, 'ike': 9.859016070196194e-05, 'waaahhhhh': 9.859016070196194e-05, 'aside': 9.859016070196194e-05, 'sat': 9.859016070196194e-05, 'testimonials': 9.859016070196194e-05, 'rob': 9.859016070196194e-05, 'everything': 9.859016070196194e-05, 'college': 9.859016070196194e-05, 'written': 9.859016070196194e-05, 'has': 9.859016070196194e-05, 'methodology': 9.859016070196194e-05, 'beshie': 9.859016070196194e-05, 'coronas': 9.859016070196194e-05, 'thankyou': 9.859016070196194e-05, 'blazing': 9.859016070196194e-05, 'semi': 9.859016070196194e-05, 'les': 9.859016070196194e-05, 'color': 9.859016070196194e-05, 'boat': 9.859016070196194e-05, 'huhu': 9.859016070196194e-05, 'vettel': 9.859016070196194e-05, 'dance2jeffreee': 9.859016070196194e-05, 'teacher': 9.859016070196194e-05, 'coffeebreak': 9.859016070196194e-05, 'rts': 9.859016070196194e-05, 'lolol': 9.859016070196194e-05, 'nintendo': 9.859016070196194e-05, 'shmoopie': 9.859016070196194e-05, 'cream': 9.859016070196194e-05, 'stunned': 9.859016070196194e-05, 'rays': 9.859016070196194e-05, 'do': 9.859016070196194e-05, 'ps': 9.859016070196194e-05, 'kart': 9.859016070196194e-05, 'fed': 9.859016070196194e-05, 'stand': 9.859016070196194e-05, 'evidently': 9.859016070196194e-05, 'saddest': 9.859016070196194e-05, 'ds': 9.859016070196194e-05, 'stummy': 9.859016070196194e-05, 'tweeting': 9.859016070196194e-05, 'gidon': 9.859016070196194e-05, 'subeta': 9.859016070196194e-05, 'lengthy': 9.859016070196194e-05, 'hilldeshaun': 9.859016070196194e-05, 'jbraun430': 9.859016070196194e-05, 'dms': 9.859016070196194e-05, 'lankan': 9.859016070196194e-05, 'blahahahhhahha': 9.859016070196194e-05, 'commute': 9.859016070196194e-05, 'tycoon': 9.859016070196194e-05, 'cre8tivkj': 9.859016070196194e-05, '\\x88': 9.859016070196194e-05, 'yeh': 9.859016070196194e-05, 'silence': 9.859016070196194e-05, 'instant': 9.859016070196194e-05, 'antibiotics': 9.859016070196194e-05, 'mahogany85': 9.859016070196194e-05, 'harkaway': 9.859016070196194e-05, 'religious': 9.859016070196194e-05, '17': 9.859016070196194e-05, 'xmarksthestott2': 9.859016070196194e-05, 'monthold': 9.859016070196194e-05, 'laa': 9.859016070196194e-05, 'xxxxxx': 9.859016070196194e-05, 'patients': 9.859016070196194e-05, 'alwaysss': 9.859016070196194e-05, 'latelolbut': 9.859016070196194e-05, 'anymore': 9.859016070196194e-05, 'mchammer': 9.859016070196194e-05, 'mustard': 9.859016070196194e-05, 'zimo': 9.859016070196194e-05, 'tiring': 9.859016070196194e-05, 'drunken': 9.859016070196194e-05, 'tweeks': 9.859016070196194e-05, 'speak': 9.859016070196194e-05, 'choley': 9.859016070196194e-05, 'document': 9.859016070196194e-05, 'marcia': 9.859016070196194e-05, 'tristate': 9.859016070196194e-05, 'heaven': 9.859016070196194e-05, 'clarity': 9.859016070196194e-05, 'dclew2': 9.859016070196194e-05, 'wichita': 9.859016070196194e-05, 'gizmo': 9.859016070196194e-05, 'lmao': 9.859016070196194e-05, 'keeping': 9.859016070196194e-05, 'chelmarie1969': 9.859016070196194e-05, 'hahahaa': 9.859016070196194e-05, 'boarding': 9.859016070196194e-05, 'carry': 9.859016070196194e-05, 'dyed': 9.859016070196194e-05, 'kermitbox': 9.859016070196194e-05, 'bitch': 9.859016070196194e-05, 'rels': 9.859016070196194e-05, 'land': 9.859016070196194e-05, 'creap': 9.859016070196194e-05, 'fund': 9.859016070196194e-05, 'tweetys': 9.859016070196194e-05, 'wasted': 9.859016070196194e-05, 'toastcommunism': 9.859016070196194e-05, 'mayor': 9.859016070196194e-05, 'winks': 9.859016070196194e-05, 'miles': 9.859016070196194e-05, 'vsphere': 9.859016070196194e-05, 'bethlayne': 9.859016070196194e-05, 'ths': 9.859016070196194e-05, 'thoughany': 9.859016070196194e-05, 'england': 9.859016070196194e-05, 'cocopuffs': 9.859016070196194e-05, 'cell': 9.859016070196194e-05, 'ash': 9.859016070196194e-05, 'corvette': 9.859016070196194e-05, 'stuffy': 9.859016070196194e-05, 'jonbecker': 9.859016070196194e-05, 'reaaaallly': 9.859016070196194e-05, 'smithycurt': 9.859016070196194e-05, 'christmas': 9.859016070196194e-05, 'noisettes': 9.859016070196194e-05, 'accepting': 9.859016070196194e-05, 'ground': 9.859016070196194e-05, 'mangooo': 9.859016070196194e-05, 'twittermodule': 9.859016070196194e-05, 'breeze': 9.859016070196194e-05, 'underbelly': 9.859016070196194e-05, 'cheers': 9.859016070196194e-05, 'molly': 9.859016070196194e-05, 'oz': 9.859016070196194e-05, 'ideas': 9.859016070196194e-05, 'fats': 9.859016070196194e-05, 'oldie': 9.859016070196194e-05, 'doreenatdms': 9.859016070196194e-05, 'brandywine': 9.859016070196194e-05, 'plus': 9.859016070196194e-05, 'shira467': 9.859016070196194e-05, 'drenramone': 9.859016070196194e-05, 'chen': 9.859016070196194e-05, 'lisbon': 9.859016070196194e-05, 'zocore': 9.859016070196194e-05, 'guitardragon': 9.859016070196194e-05, 'vengence': 9.859016070196194e-05, 'annwhit': 9.859016070196194e-05, 'bosoxcutie19': 9.859016070196194e-05, 'boys': 9.859016070196194e-05, 'aliciawag': 9.859016070196194e-05, 'hun': 9.859016070196194e-05, 'blip': 9.859016070196194e-05, 'downey': 9.859016070196194e-05, 'gordon': 9.859016070196194e-05, 'australian': 9.859016070196194e-05, 'rolls': 9.859016070196194e-05, 'haa': 9.859016070196194e-05, 'wantn': 9.859016070196194e-05, 'bringing': 9.859016070196194e-05, 'g1': 9.859016070196194e-05, 'hmm': 9.859016070196194e-05, 'everytime': 9.859016070196194e-05, 'dianalogs': 9.859016070196194e-05, 'seth': 9.859016070196194e-05, 'earn': 9.859016070196194e-05, '¿': 9.859016070196194e-05, 'boice1061': 9.859016070196194e-05, 'kerryberry': 9.859016070196194e-05, 'georgefiddler': 9.859016070196194e-05, 'yasmimmm': 9.859016070196194e-05, 'nickgotskillz': 9.859016070196194e-05, 'gheelovesyou': 9.859016070196194e-05, 'throwdown': 9.859016070196194e-05, 'only': 9.859016070196194e-05, 'windynot': 9.859016070196194e-05, 'paigeclay': 9.859016070196194e-05, 'jumped': 9.859016070196194e-05, 'things': 9.859016070196194e-05, 'spectacular': 9.859016070196194e-05, 'darkhunter': 9.859016070196194e-05, 'my': 9.859016070196194e-05, 'task': 9.859016070196194e-05, 'camping': 9.859016070196194e-05, 'bit': 9.859016070196194e-05, 'kirstielu': 9.859016070196194e-05, 'phaha': 9.859016070196194e-05, 'encountering': 9.859016070196194e-05, 'lewisking': 9.859016070196194e-05, 'whole': 9.859016070196194e-05, 'relationship': 9.859016070196194e-05, '501': 9.859016070196194e-05, 'hehehe': 9.859016070196194e-05, 'mom': 9.859016070196194e-05, 'fame': 9.859016070196194e-05, 'fabulous': 9.859016070196194e-05, 'premiere': 9.859016070196194e-05, 'psp': 9.859016070196194e-05, 'reemerband': 9.859016070196194e-05, 'jamiemcflyx': 9.859016070196194e-05, 'parachute': 9.859016070196194e-05, 'ooooo': 9.859016070196194e-05, 'serve': 9.859016070196194e-05, 'prns': 9.859016070196194e-05, 'coats': 9.859016070196194e-05, 'corner': 9.859016070196194e-05, 'feeding': 9.859016070196194e-05, 'jonri05': 9.859016070196194e-05, 'zyrtec': 9.859016070196194e-05, 'failure': 9.859016070196194e-05, 'postcard': 9.859016070196194e-05, 'marisa32686': 9.859016070196194e-05, 'connection': 9.859016070196194e-05, 'portland': 9.859016070196194e-05, 'fridaynitemix': 9.859016070196194e-05, 'faulty': 9.859016070196194e-05, 'morning': 9.859016070196194e-05, 'm0t0rbreath': 9.859016070196194e-05, 'mjlindsay': 9.859016070196194e-05, 'guus': 9.859016070196194e-05, 'shakes1327': 9.859016070196194e-05, 'comptine': 9.859016070196194e-05, 'stir': 9.859016070196194e-05, 'rehabc': 9.859016070196194e-05, 'reception': 9.859016070196194e-05, 'twitsaver': 9.859016070196194e-05, 'va': 9.859016070196194e-05, '5pm': 9.859016070196194e-05, 'concentrate': 9.859016070196194e-05, 'bloating': 9.859016070196194e-05, 'longtime': 9.859016070196194e-05, 'snow': 9.859016070196194e-05, 'awareness': 9.859016070196194e-05, 'lastoadri': 9.859016070196194e-05, 'collect': 9.859016070196194e-05, 'eek': 9.859016070196194e-05, 'bnp': 9.859016070196194e-05, 'chair': 9.859016070196194e-05, 'met': 9.859016070196194e-05, 'simpsons': 9.859016070196194e-05, 'aristeia': 9.859016070196194e-05, 'beyond': 9.859016070196194e-05, 'beyondtv': 9.859016070196194e-05, 'pdxsays': 9.859016070196194e-05, 'exam': 9.859016070196194e-05, 'yayyy': 9.859016070196194e-05, 'lechon': 9.859016070196194e-05, 'louieevol': 9.859016070196194e-05, 'frm': 9.859016070196194e-05, 'pirated': 9.859016070196194e-05, 'increasing': 9.859016070196194e-05, 'catch': 9.859016070196194e-05, 'wat': 9.859016070196194e-05, 'sssssseeeeeeee': 9.859016070196194e-05, 'lexington': 9.859016070196194e-05, 'ladeh': 9.859016070196194e-05, 'ladies': 9.859016070196194e-05, 'swift': 9.859016070196194e-05, 'regularly': 9.859016070196194e-05, 'mistess': 9.859016070196194e-05, 'bjs': 9.859016070196194e-05, 'hombre': 9.859016070196194e-05, 'mouseisthewal': 9.859016070196194e-05, 'needz': 9.859016070196194e-05, 'jonasaustralia': 9.859016070196194e-05, 'broken': 9.859016070196194e-05, 'pls': 9.859016070196194e-05, 'tony': 9.859016070196194e-05, 'greeeeeeezy': 9.859016070196194e-05, 'corrections': 9.859016070196194e-05, 'hearing': 9.859016070196194e-05, 'spirit': 9.859016070196194e-05, 'sinufix': 9.859016070196194e-05, 'picks': 9.859016070196194e-05, 'wifi': 9.859016070196194e-05, 'gd': 9.859016070196194e-05, 'saraesse': 9.859016070196194e-05, 'sylviegreen69': 9.859016070196194e-05, 'octostone': 9.859016070196194e-05, 'idols': 9.859016070196194e-05, 'icon': 9.859016070196194e-05, 'remedy': 9.859016070196194e-05, 'adverts': 9.859016070196194e-05, 'sicklittlefox': 9.859016070196194e-05, 'everyone': 9.859016070196194e-05, 'mamasaywhat': 9.859016070196194e-05, 'jasminetame': 9.859016070196194e-05, 'cincinnati': 9.859016070196194e-05, 'toothsoup': 9.859016070196194e-05, 'tried': 9.859016070196194e-05, 'jennluvs2sing': 9.859016070196194e-05, 'content': 9.859016070196194e-05, 'croatia': 9.859016070196194e-05, 'dan': 9.859016070196194e-05, 'championship': 9.859016070196194e-05, 'angela': 9.859016070196194e-05, 'penises': 9.859016070196194e-05, 'gators': 9.859016070196194e-05, 'photog': 9.859016070196194e-05, 'snake': 9.859016070196194e-05, 'msn': 9.859016070196194e-05, 'layin': 9.859016070196194e-05, 'allisons': 9.859016070196194e-05, 'sulking': 9.859016070196194e-05, 'releasing': 9.859016070196194e-05, 'heavy': 9.859016070196194e-05, 'picadilly': 9.859016070196194e-05, 'tour': 9.859016070196194e-05, 'sch': 9.859016070196194e-05, 'ending': 9.859016070196194e-05, 'downtown': 9.859016070196194e-05, 'whooo': 9.859016070196194e-05, 'malice': 9.859016070196194e-05, 'changer': 9.859016070196194e-05, 'schooooool': 9.859016070196194e-05, '\\x9f': 9.859016070196194e-05, 'keithbooe': 9.859016070196194e-05, 'yes': 0.00019718032140392388, 'patience': 9.859016070196194e-05, 'gregjames': 9.859016070196194e-05, 'finde': 9.859016070196194e-05, 'migraine': 9.859016070196194e-05, '2getting': 9.859016070196194e-05, 'charles': 9.859016070196194e-05, 'throwin': 9.859016070196194e-05, 'myspacecom': 9.859016070196194e-05, 'mess': 9.859016070196194e-05, 'reminds': 9.859016070196194e-05, 'minutes': 9.859016070196194e-05, 'badtimes': 9.859016070196194e-05, 'bicentennial': 9.859016070196194e-05, 'girlss': 9.859016070196194e-05, 'programme': 9.859016070196194e-05, 'bestfriend': 9.859016070196194e-05, 'twits': 9.859016070196194e-05, 'jerrybattiste': 9.859016070196194e-05, 'closed': 9.859016070196194e-05, 'component': 9.859016070196194e-05, 'layouts': 9.859016070196194e-05, 'redchinese19': 9.859016070196194e-05, 'smartphone': 9.859016070196194e-05, 'bawling': 9.859016070196194e-05, 'decomposed': 9.859016070196194e-05, 'slot': 9.859016070196194e-05, 'fuckkkkkkk': 9.859016070196194e-05, 'jodreamznpurple': 9.859016070196194e-05, '2000': 9.859016070196194e-05, 'illl': 9.859016070196194e-05, 'ta': 9.859016070196194e-05, 'maryyyyyy': 9.859016070196194e-05, 'reply': 9.859016070196194e-05, 'chillin': 9.859016070196194e-05, 'school': 9.859016070196194e-05, 'karl': 9.859016070196194e-05, 'protected': 9.859016070196194e-05, 'hobbs': 9.859016070196194e-05, 'and': 9.859016070196194e-05, 'shattered': 9.859016070196194e-05, 'william': 9.859016070196194e-05, 'yell': 9.859016070196194e-05, 'mariya': 9.859016070196194e-05, 'reset': 9.859016070196194e-05, 'kreativeham': 9.859016070196194e-05, 'monfils': 9.859016070196194e-05, 'wisdom': 9.859016070196194e-05, 'trust': 9.859016070196194e-05, 'mimosas': 9.859016070196194e-05, 'anew': 9.859016070196194e-05, 'mfgreer': 9.859016070196194e-05, 'mandyremains': 9.859016070196194e-05, 'game': 9.859016070196194e-05, 'y0manchinggg': 9.859016070196194e-05, 'hot': 9.859016070196194e-05, 'singing': 9.859016070196194e-05, 'vã': 9.859016070196194e-05, 'discotexas': 9.859016070196194e-05, 'coke': 9.859016070196194e-05, 'inspiration': 9.859016070196194e-05, 'likeness': 9.859016070196194e-05, 'teach': 9.859016070196194e-05, 'bens': 9.859016070196194e-05, 'calistafoxbooks': 9.859016070196194e-05, 'bean': 9.859016070196194e-05, 'quite': 9.859016070196194e-05, 'theme': 9.859016070196194e-05, 'kreeshaturner': 9.859016070196194e-05, 'bencusick92': 9.859016070196194e-05, 'britains': 9.859016070196194e-05, 'ooh': 9.859016070196194e-05, 'sukebeuchujin': 9.859016070196194e-05, 'uploaded': 9.859016070196194e-05, 'festival': 9.859016070196194e-05, 'sorry': 9.859016070196194e-05, 'mio': 9.859016070196194e-05, 'walshyyy': 9.859016070196194e-05, 'aussome': 9.859016070196194e-05, 'bathrooms': 9.859016070196194e-05, 'nessie111': 9.859016070196194e-05, 'sadness': 9.859016070196194e-05, 'horribleim': 9.859016070196194e-05, 'ninja': 9.859016070196194e-05, 'livelavalive': 9.859016070196194e-05, 'experiencing': 9.859016070196194e-05, 'babes': 9.859016070196194e-05, 'xchadballx': 9.859016070196194e-05, 'sitters': 9.859016070196194e-05, 'push': 9.859016070196194e-05, 'microgeist': 9.859016070196194e-05, 'obotchi': 9.859016070196194e-05, 'steve': 9.859016070196194e-05, 'pandora': 9.859016070196194e-05, 'ljboldyrev': 9.859016070196194e-05, 'bhotaileprompt': 9.859016070196194e-05, 'reminder': 9.859016070196194e-05, 'lollipopvomit': 9.859016070196194e-05, 'dayss': 9.859016070196194e-05, 'ddlovato': 9.859016070196194e-05, 'bao': 9.859016070196194e-05, 'recorded': 9.859016070196194e-05, 'gives': 9.859016070196194e-05, 'month': 9.859016070196194e-05, 'nattyxxx': 9.859016070196194e-05, 'laughing': 9.859016070196194e-05, 'poppy': 9.859016070196194e-05, 'everybody': 9.859016070196194e-05, 'meetings': 9.859016070196194e-05, 'stephanspiegel': 9.859016070196194e-05, 'chargerjenn': 9.859016070196194e-05, 'bike': 9.859016070196194e-05, 'chelsy': 9.859016070196194e-05, 'nom': 9.859016070196194e-05, 'bobble': 9.859016070196194e-05, 'songs': 9.859016070196194e-05, 'thebends': 9.859016070196194e-05, 'queensapphyre': 9.859016070196194e-05, 'twishmay': 9.859016070196194e-05, 'theory': 9.859016070196194e-05, 'bailey': 9.859016070196194e-05, 'brotherinlaw': 9.859016070196194e-05, 'twitte': 9.859016070196194e-05, '610': 9.859016070196194e-05, 'theadamlambert': 9.859016070196194e-05, 'ii': 9.859016070196194e-05, 'fxxxmylife': 9.859016070196194e-05, 'goodness': 9.859016070196194e-05, 'cooped': 9.859016070196194e-05, 'assume': 9.859016070196194e-05, 'mack': 9.859016070196194e-05, 'lollipopins': 9.859016070196194e-05, 'pattyb': 9.859016070196194e-05, 'wales': 9.859016070196194e-05, 'coco': 9.859016070196194e-05, 'clairemsp': 9.859016070196194e-05, 'nutella': 9.859016070196194e-05, 'naked': 9.859016070196194e-05, 'faces': 9.859016070196194e-05, 'awwwwww': 9.859016070196194e-05, 'emotions': 9.859016070196194e-05, 'paranoia': 9.859016070196194e-05, 'once': 9.859016070196194e-05, 'obsessive': 9.859016070196194e-05, 'uricahh': 9.859016070196194e-05, 'jk': 9.859016070196194e-05, 'girlies': 9.859016070196194e-05, 'mistakes': 9.859016070196194e-05, 'nin': 9.859016070196194e-05, 'delbertshoopman': 9.859016070196194e-05, 'â': 9.859016070196194e-05, 'shore': 9.859016070196194e-05, 'fists': 9.859016070196194e-05, 'maxzillas': 9.859016070196194e-05, 'plate': 9.859016070196194e-05, 'tweeterwall': 9.859016070196194e-05, 'suffer': 9.859016070196194e-05, 'happened': 9.859016070196194e-05, 'savagestar': 9.859016070196194e-05, 'pose': 9.859016070196194e-05, 'nah': 9.859016070196194e-05, 'billyboy': 9.859016070196194e-05, 'snuggle': 9.859016070196194e-05, 'î': 9.859016070196194e-05, 'dufalbagent': 9.859016070196194e-05, 'kidghost': 9.859016070196194e-05, 'yummy': 9.859016070196194e-05, 'voos': 9.859016070196194e-05, 'heyheyybonaaann': 9.859016070196194e-05, 'sherrilynne': 9.859016070196194e-05, 'whoop': 9.859016070196194e-05, 'swear': 9.859016070196194e-05, 'vero': 9.859016070196194e-05, 'espana': 9.859016070196194e-05, 'closes': 9.859016070196194e-05, 'gentlemen': 9.859016070196194e-05, 'bbl': 9.859016070196194e-05, '\\xad': 9.859016070196194e-05, 'dunno': 9.859016070196194e-05, 'plunge': 9.859016070196194e-05, 'he': 9.859016070196194e-05, 'wwwiamsoannoyedcom': 9.859016070196194e-05, 'babysitting': 9.859016070196194e-05, 'assshooolllleee': 9.859016070196194e-05, 'pulls': 9.859016070196194e-05, 'guys': 9.859016070196194e-05, 'system': 9.859016070196194e-05, 'kgyall': 9.859016070196194e-05, 'dinner': 9.859016070196194e-05, 'twitpics': 9.859016070196194e-05, 'illusion': 9.859016070196194e-05, 'dec': 9.859016070196194e-05, 'sobbing': 9.859016070196194e-05, 'bobbyllew': 9.859016070196194e-05, 'isabokelly': 9.859016070196194e-05, 'celcius': 9.859016070196194e-05, 'petetion': 9.859016070196194e-05, 'vacations': 9.859016070196194e-05, 'fadyanwar': 9.859016070196194e-05, 'given': 9.859016070196194e-05, 'roomate': 9.859016070196194e-05, 'twiiter': 9.859016070196194e-05, 'dougiemcfly': 9.859016070196194e-05, 'homie': 9.859016070196194e-05, 'detectives': 9.859016070196194e-05, 'guh': 9.859016070196194e-05, 'iheartscuttle': 9.859016070196194e-05, 'minimal': 9.859016070196194e-05, 'fantasticly': 9.859016070196194e-05, 'jennybeeean': 9.859016070196194e-05, 'yadda': 9.859016070196194e-05, 'alarms': 9.859016070196194e-05, 'ryler': 9.859016070196194e-05, 'brazilian': 9.859016070196194e-05, 'jacksons': 9.859016070196194e-05, 'though': 9.859016070196194e-05, 'soil': 9.859016070196194e-05, 'oi': 9.859016070196194e-05, 'mooooooorning': 9.859016070196194e-05, 'visit': 9.859016070196194e-05, '360': 9.859016070196194e-05, 'hugs': 9.859016070196194e-05, 'schools': 9.859016070196194e-05, 'lap': 9.859016070196194e-05, 'pancakes': 9.859016070196194e-05, 'rin': 9.859016070196194e-05, 'jmcministries': 9.859016070196194e-05, 'siopao': 9.859016070196194e-05, 'mandyblake': 9.859016070196194e-05, 'plastic': 9.859016070196194e-05, 'fav': 9.859016070196194e-05, 'reallyy': 9.859016070196194e-05, 'to': 9.859016070196194e-05, 'made': 9.859016070196194e-05, 's5': 9.859016070196194e-05, 'ceiling': 9.859016070196194e-05, 'battle': 9.859016070196194e-05, 'kodi': 9.859016070196194e-05, 'jay': 9.859016070196194e-05, 'cassidy': 9.859016070196194e-05, 'justashley': 9.859016070196194e-05, 'hada': 9.859016070196194e-05, 'mondgutierrez': 9.859016070196194e-05, 'caffeine': 9.859016070196194e-05, 'mel': 9.859016070196194e-05, 'jasoncecrle': 9.859016070196194e-05, 'finals': 9.859016070196194e-05, 'prix': 9.859016070196194e-05, 'maybe': 9.859016070196194e-05, 'sissyto4': 9.859016070196194e-05, 'ireniefiasco': 9.859016070196194e-05, 'floppies': 9.859016070196194e-05, 'leaflet': 9.859016070196194e-05, 'thousands': 9.859016070196194e-05, 'medications': 9.859016070196194e-05, 'dannywood': 9.859016070196194e-05, 'agreed': 9.859016070196194e-05, 'springfield': 9.859016070196194e-05, 'thanx': 9.859016070196194e-05, 'anymoree': 9.859016070196194e-05, 'feed': 9.859016070196194e-05, 'vbs': 9.859016070196194e-05, 'lor': 9.859016070196194e-05, 'tin': 9.859016070196194e-05, 'bahahah': 9.859016070196194e-05, 'sweetdreams': 9.859016070196194e-05, 'atlantisjackson': 9.859016070196194e-05, '24th': 9.859016070196194e-05, 'check': 9.859016070196194e-05, 'absoloutly': 9.859016070196194e-05, 'castle': 9.859016070196194e-05, 'ft': 9.859016070196194e-05, 'rescue': 9.859016070196194e-05, 'beware': 9.859016070196194e-05, 'bucklol': 9.859016070196194e-05, 'tuesday726': 9.859016070196194e-05, 'maxwell': 9.859016070196194e-05, 'keithmelton99': 9.859016070196194e-05, 'th': 9.859016070196194e-05, 'startbucks': 9.859016070196194e-05, 'bloatware': 9.859016070196194e-05, 'himself': 9.859016070196194e-05, 'eyes': 9.859016070196194e-05, 'cikajang': 9.859016070196194e-05, 'amazon': 9.859016070196194e-05, 'saving': 9.859016070196194e-05, 'flyingbolt': 9.859016070196194e-05, 'due': 9.859016070196194e-05, 'blankys': 9.859016070196194e-05, 'nashville': 9.859016070196194e-05, 'brian': 9.859016070196194e-05, 'gg': 9.859016070196194e-05, 'joel': 9.859016070196194e-05, '8': 9.859016070196194e-05, 'flowers': 9.859016070196194e-05, 'acccent': 9.859016070196194e-05, 'fromser': 9.859016070196194e-05, '\\x8e': 9.859016070196194e-05, 'misternoodle': 9.859016070196194e-05, 'realllyy': 9.859016070196194e-05, 'fake': 9.859016070196194e-05, 'prettay': 9.859016070196194e-05, 'challenge': 9.859016070196194e-05, 'wonderland': 9.859016070196194e-05, 'lee': 9.859016070196194e-05, 'knock': 9.859016070196194e-05, 'mouth': 9.859016070196194e-05, 'golden': 9.859016070196194e-05, 'affiliated': 9.859016070196194e-05, 'heat': 9.859016070196194e-05, 'kissed': 9.859016070196194e-05, 'value': 9.859016070196194e-05, 'selected': 9.859016070196194e-05, '7hours': 9.859016070196194e-05, 'americaaa': 9.859016070196194e-05, 'actually': 9.859016070196194e-05, 'shortening': 9.859016070196194e-05, 'kikuuu': 9.859016070196194e-05, 'funky': 9.859016070196194e-05, 'pfspleen': 9.859016070196194e-05, 'rly': 9.859016070196194e-05, 'bbqz': 9.859016070196194e-05, 'allows': 9.859016070196194e-05, 'joscrawls': 9.859016070196194e-05, 'teetee71': 9.859016070196194e-05, 'dam': 9.859016070196194e-05, 'bahh': 9.859016070196194e-05, 'stil': 9.859016070196194e-05, 'mallorypike': 9.859016070196194e-05, 'safari': 9.859016070196194e-05, 'becnewman': 9.859016070196194e-05, 'shoudl': 9.859016070196194e-05, 'xxlenaxo': 9.859016070196194e-05, 'rocked': 9.859016070196194e-05, 'finding': 9.859016070196194e-05, 'partyin': 9.859016070196194e-05, 'vital': 9.859016070196194e-05, 'mne': 9.859016070196194e-05, 'chloe': 9.859016070196194e-05, 'doomed': 9.859016070196194e-05, 'invited': 9.859016070196194e-05, 'hammock': 9.859016070196194e-05, 'ch': 9.859016070196194e-05, 'avatar': 9.859016070196194e-05, 'ã': 9.859016070196194e-05, 'rum': 9.859016070196194e-05, 'tbs': 9.859016070196194e-05, 'consistent': 9.859016070196194e-05, 'themed': 9.859016070196194e-05, 'raptjis': 9.859016070196194e-05, 'tv': 9.859016070196194e-05, 'wretched': 9.859016070196194e-05, '3drik': 9.859016070196194e-05, 'missin': 9.859016070196194e-05, 'army': 9.859016070196194e-05, 'mas': 9.859016070196194e-05, 'killinggg': 9.859016070196194e-05, 'applying': 9.859016070196194e-05, 'aaaah': 9.859016070196194e-05, 'certain': 9.859016070196194e-05, 'jones': 9.859016070196194e-05, 'itchy': 9.859016070196194e-05, 'dwarf': 9.859016070196194e-05, 'popos': 9.859016070196194e-05, 'nakulshenoy': 9.859016070196194e-05, 'ill': 9.859016070196194e-05, 'laughscreamsing': 9.859016070196194e-05, 'spied': 9.859016070196194e-05, 'robbysteroes': 9.859016070196194e-05, 'lilyginny27': 9.859016070196194e-05, 'hide': 9.859016070196194e-05, 'office': 9.859016070196194e-05, 'varyable': 9.859016070196194e-05, 'crow': 9.859016070196194e-05, 'development': 9.859016070196194e-05, 'speaker': 9.859016070196194e-05, 'gloomy': 9.859016070196194e-05, 'itinerary': 9.859016070196194e-05, 'thawk': 9.859016070196194e-05, 'highway': 9.859016070196194e-05, 'toe': 9.859016070196194e-05, 'fight': 9.859016070196194e-05, 'seeds': 9.859016070196194e-05, 'functionality': 9.859016070196194e-05, 'media': 9.859016070196194e-05, 'drs': 9.859016070196194e-05, 'addi': 9.859016070196194e-05, 'jenwells': 9.859016070196194e-05, 'trick': 9.859016070196194e-05, 'singapore': 9.859016070196194e-05, 'yum': 9.859016070196194e-05, 'messed': 9.859016070196194e-05, 'myliverandlungs': 9.859016070196194e-05, 'papa': 9.859016070196194e-05, 'impress': 9.859016070196194e-05, 'haircut': 9.859016070196194e-05, 'term': 9.859016070196194e-05, 'orgasming': 9.859016070196194e-05, 'disc': 9.859016070196194e-05, 'iplayer': 9.859016070196194e-05, 'gear': 9.859016070196194e-05, 'legendaryswag': 9.859016070196194e-05, 'hold': 9.859016070196194e-05, 'cry': 9.859016070196194e-05, 'waist': 9.859016070196194e-05, 'kylieeann': 9.859016070196194e-05, 'beige': 9.859016070196194e-05, 'days': 9.859016070196194e-05, 'requiem': 9.859016070196194e-05, 'aplusk': 9.859016070196194e-05, 'sec': 9.859016070196194e-05, 'matters': 9.859016070196194e-05, 'recomendng': 9.859016070196194e-05, 'yawns': 9.859016070196194e-05, 'rinse': 9.859016070196194e-05, 'longstory': 9.859016070196194e-05, 'knowkeep': 9.859016070196194e-05, 'nancyleegrahn': 9.859016070196194e-05, 'addict': 9.859016070196194e-05, 'stewart': 9.859016070196194e-05, 'trah': 9.859016070196194e-05, 'dm': 9.859016070196194e-05, 'millies': 9.859016070196194e-05, 'brken': 9.859016070196194e-05, 'alexytlee': 9.859016070196194e-05, 'appealing': 9.859016070196194e-05, 'salisburydowns': 9.859016070196194e-05, 'sometime': 9.859016070196194e-05, 'msdivamom': 9.859016070196194e-05, 'highly': 9.859016070196194e-05, 'salehh': 9.859016070196194e-05, 'spoke': 9.859016070196194e-05, 'etiquette': 9.859016070196194e-05, 'saujana': 9.859016070196194e-05, 'talater': 9.859016070196194e-05, 'chicka': 9.859016070196194e-05, 'kills': 9.859016070196194e-05, 'brightgirl': 9.859016070196194e-05, 'keynes': 9.859016070196194e-05, 'uva': 9.859016070196194e-05, 'sharis': 9.859016070196194e-05, 'wahhh': 9.859016070196194e-05, 'complaints': 9.859016070196194e-05, 'shaya': 9.859016070196194e-05, 'iloseweight': 9.859016070196194e-05, 'kswick24': 9.859016070196194e-05, 'injury': 9.859016070196194e-05, 'katya': 9.859016070196194e-05, 'icednyior': 9.859016070196194e-05, 'chickens': 9.859016070196194e-05, '05': 9.859016070196194e-05, 'dans': 9.859016070196194e-05, 'metal': 9.859016070196194e-05, 'twithugs': 9.859016070196194e-05, 'plane': 9.859016070196194e-05, 'sos': 9.859016070196194e-05, 'cocolee117': 9.859016070196194e-05, 'reinacted': 9.859016070196194e-05, 'compre': 9.859016070196194e-05, 'pete': 9.859016070196194e-05, 'uu': 9.859016070196194e-05, 'end': 9.859016070196194e-05, 'between': 9.859016070196194e-05, 'hiddinks': 9.859016070196194e-05, 'patrickcourtney': 9.859016070196194e-05, 'roundgoldfish1': 9.859016070196194e-05, 'cigarette': 9.859016070196194e-05, 'napping': 9.859016070196194e-05, 'jodie': 9.859016070196194e-05, 'addicted': 9.859016070196194e-05, 'ive': 9.859016070196194e-05, 'grrr': 9.859016070196194e-05, 'applause': 9.859016070196194e-05, 'tragedy': 9.859016070196194e-05, 'pe': 9.859016070196194e-05, 'midi': 9.859016070196194e-05, '70s': 9.859016070196194e-05, 'boyfriends': 9.859016070196194e-05, 'alwys': 9.859016070196194e-05, 'toronto': 9.859016070196194e-05, 'blew': 9.859016070196194e-05, 'ratchet': 9.859016070196194e-05, 'ops': 9.859016070196194e-05, '\\x96': 9.859016070196194e-05, 'italia': 9.859016070196194e-05, 'airport': 9.859016070196194e-05, 'tweeps': 9.859016070196194e-05, 'travel': 9.859016070196194e-05, 'douche': 9.859016070196194e-05, 'realkidpoker': 9.859016070196194e-05, 'chrisworthy': 9.859016070196194e-05, 'vamp143': 9.859016070196194e-05, 'priceless': 9.859016070196194e-05, 'showing': 9.859016070196194e-05, 'jessela': 9.859016070196194e-05, 'sell': 9.859016070196194e-05, 'supports': 9.859016070196194e-05, 'oprah': 9.859016070196194e-05, 'ball': 9.859016070196194e-05, 'stard': 9.859016070196194e-05, 'bedfordshire': 9.859016070196194e-05, 'empathy': 9.859016070196194e-05, 'estatic': 9.859016070196194e-05, 'ceoltoir': 9.859016070196194e-05, 'jet': 9.859016070196194e-05, 'pho': 9.859016070196194e-05, 'three': 9.859016070196194e-05, 'screamoranger': 9.859016070196194e-05, 'forget': 9.859016070196194e-05, 'slowinagoodway': 9.859016070196194e-05, 'web': 9.859016070196194e-05, 'bradleyreid': 9.859016070196194e-05, 'joenid': 9.859016070196194e-05, 'god': 9.859016070196194e-05, 'hardly': 9.859016070196194e-05, 'pocket': 9.859016070196194e-05, 'freqnc': 9.859016070196194e-05, 'digital': 9.859016070196194e-05, 'bang': 9.859016070196194e-05, 'buck': 9.859016070196194e-05, 'sammieb23': 9.859016070196194e-05, 'about': 9.859016070196194e-05, 'shoulders': 9.859016070196194e-05, 'withdrawls': 9.859016070196194e-05, 'officeon': 9.859016070196194e-05, 'depressed': 9.859016070196194e-05, 'raccoon': 9.859016070196194e-05, 'aldorisolvo': 9.859016070196194e-05, 'moiswashere': 9.859016070196194e-05, 'ah': 9.859016070196194e-05, 'scanning': 9.859016070196194e-05, 'called': 9.859016070196194e-05, 'sry': 9.859016070196194e-05, 'discoballs': 9.859016070196194e-05, 'gtalk': 9.859016070196194e-05, 'translate': 9.859016070196194e-05, 'pinatubo': 9.859016070196194e-05, 'interest': 9.859016070196194e-05, 'dentist': 9.859016070196194e-05, 'jajjaja': 9.859016070196194e-05, 'telemundo': 9.859016070196194e-05, 'regent': 9.859016070196194e-05, 'pcl': 9.859016070196194e-05, 'last': 9.859016070196194e-05, 'woes': 9.859016070196194e-05, 'yorrrrk': 9.859016070196194e-05, 'laterz': 9.859016070196194e-05, 'petsmart': 9.859016070196194e-05, 'princesstabs': 9.859016070196194e-05, 'post': 9.859016070196194e-05, 'falloutkid07': 9.859016070196194e-05, 'que': 9.859016070196194e-05, 'felt': 9.859016070196194e-05, 'milestone': 9.859016070196194e-05, 'village': 9.859016070196194e-05, 'jmstewart0220': 9.859016070196194e-05, 'terrine': 9.859016070196194e-05, 'kerrylouisexxx': 9.859016070196194e-05, 'limb': 9.859016070196194e-05, 'partying': 9.859016070196194e-05, 'alivia': 9.859016070196194e-05, 'fl': 9.859016070196194e-05, 'beer': 9.859016070196194e-05, 'renatebeate': 9.859016070196194e-05, 'knicksmets': 9.859016070196194e-05, 'mrs': 9.859016070196194e-05, 'startrek': 9.859016070196194e-05, 'dwi': 9.859016070196194e-05, 'heypaisley': 9.859016070196194e-05, 'finally': 9.859016070196194e-05, 'aaaaaaaaahhhhhhhh': 9.859016070196194e-05, 'mag': 9.859016070196194e-05, 'monchai': 9.859016070196194e-05, 'crypticzinc': 9.859016070196194e-05, 'jammin': 9.859016070196194e-05, 'eman': 9.859016070196194e-05, 'danih': 9.859016070196194e-05, 'lizwoolly': 9.859016070196194e-05, 'gagas': 9.859016070196194e-05, 'primark': 9.859016070196194e-05, 'shushhh': 9.859016070196194e-05, 'enough': 9.859016070196194e-05, 'afternoooon': 9.859016070196194e-05, 'info': 9.859016070196194e-05, 'tb78': 9.859016070196194e-05, 'harolds': 9.859016070196194e-05, 'fuzzbutttowers': 9.859016070196194e-05, 'tighter': 9.859016070196194e-05, 'stanmorerob': 9.859016070196194e-05, 'crashypoo': 9.859016070196194e-05, 'artunexpected': 9.859016070196194e-05, 'willing': 9.859016070196194e-05, 'lox': 9.859016070196194e-05, 'melons': 9.859016070196194e-05, 'midsummers': 9.859016070196194e-05, 'karon': 9.859016070196194e-05, 'familys': 9.859016070196194e-05, 'warped': 9.859016070196194e-05, 'pull': 9.859016070196194e-05, 'sarahbelle93': 9.859016070196194e-05, 'icecream': 9.859016070196194e-05, 'hockey': 9.859016070196194e-05, 'server': 9.859016070196194e-05, 'opportunity': 9.859016070196194e-05, 'jonathanrknight': 9.859016070196194e-05, 'bin': 9.859016070196194e-05, 'salad': 9.859016070196194e-05, 'frame': 9.859016070196194e-05, 'html': 9.859016070196194e-05, 'upset': 9.859016070196194e-05, 'sandrarzo1': 9.859016070196194e-05, 'paularos': 9.859016070196194e-05, 'togetherrr': 9.859016070196194e-05, 'lool': 9.859016070196194e-05, 'scalping': 9.859016070196194e-05, 'greeneyedjessie': 9.859016070196194e-05, 'zito': 9.859016070196194e-05, 'ctrl': 9.859016070196194e-05, 'selling': 9.859016070196194e-05, 'losing': 9.859016070196194e-05, 'agian': 9.859016070196194e-05, 'backgroundwut': 9.859016070196194e-05, 'male': 9.859016070196194e-05, 'think': 9.859016070196194e-05, 'renukarajadurai': 9.859016070196194e-05, 'hop': 9.859016070196194e-05, 'california': 9.859016070196194e-05, 'shelves': 9.859016070196194e-05, 'refill': 9.859016070196194e-05, 'pdt': 9.859016070196194e-05, 'webcomic': 9.859016070196194e-05, 'antidote': 9.859016070196194e-05, 'eagles': 9.859016070196194e-05, 'spread': 9.859016070196194e-05, 'terminator': 9.859016070196194e-05, 'kockadoodledo': 9.859016070196194e-05, 'aug': 9.859016070196194e-05, 'mar': 9.859016070196194e-05, 'alarm': 9.859016070196194e-05, 'greenwood': 9.859016070196194e-05, 'swash': 9.859016070196194e-05, 'spotify': 9.859016070196194e-05, 'blown': 9.859016070196194e-05, 'love': 9.859016070196194e-05, 'se': 9.859016070196194e-05, 'kevridesthecab': 9.859016070196194e-05, 'boise': 9.859016070196194e-05, 'flailed': 9.859016070196194e-05, 'didnt': 9.859016070196194e-05, 'uuuhhhgg': 9.859016070196194e-05, 'sooo': 9.859016070196194e-05, 'like': 9.859016070196194e-05, 'shirt': 9.859016070196194e-05, 'jeans': 9.859016070196194e-05, 'tributes': 9.859016070196194e-05, 'witht': 9.859016070196194e-05, 'monster': 9.859016070196194e-05, 'itsnikki': 9.859016070196194e-05, 'shamileemac': 9.859016070196194e-05, 'accd': 9.859016070196194e-05, 'newspring': 9.859016070196194e-05, 'brazil': 9.859016070196194e-05, 'patrick': 9.859016070196194e-05, 'javamomma': 9.859016070196194e-05, 'virginia': 9.859016070196194e-05, 'ijanette': 9.859016070196194e-05, 'exhaustive': 9.859016070196194e-05, 'disapointed': 9.859016070196194e-05, 'daydreaming': 9.859016070196194e-05, 'cuddler': 9.859016070196194e-05, 'appartement': 9.859016070196194e-05, 'crackers': 9.859016070196194e-05, 'reign': 9.859016070196194e-05, 'monchainow': 9.859016070196194e-05, '50': 9.859016070196194e-05, 'everone': 9.859016070196194e-05, 'hadnt': 9.859016070196194e-05, 'pillow': 9.859016070196194e-05, 'channy': 9.859016070196194e-05, 'dedd': 9.859016070196194e-05, 'ticklemejoey': 9.859016070196194e-05, 'stalk': 9.859016070196194e-05, 'animals': 9.859016070196194e-05, 'marry': 9.859016070196194e-05, 'done': 9.859016070196194e-05, '1vs100': 9.859016070196194e-05, 'mocha': 9.859016070196194e-05, 'balance': 9.859016070196194e-05, 'soospecial': 9.859016070196194e-05, 'tension': 9.859016070196194e-05, 'finale': 9.859016070196194e-05, 'shift': 9.859016070196194e-05, 'aoc': 9.859016070196194e-05, 'advantages': 9.859016070196194e-05, 'teemwilliams': 9.859016070196194e-05, 'majority': 9.859016070196194e-05, 'asking': 9.859016070196194e-05, 'wellthat': 9.859016070196194e-05, 'marks': 9.859016070196194e-05, 'telling': 9.859016070196194e-05, 'carpet': 9.859016070196194e-05, 'afford': 9.859016070196194e-05, 'tamihackbarth': 9.859016070196194e-05, 'suppose': 9.859016070196194e-05, 'heartbreaking': 9.859016070196194e-05, 'bei': 9.859016070196194e-05, 'newps': 9.859016070196194e-05, 'u': 9.859016070196194e-05, 'schedule': 9.859016070196194e-05, 'specially': 9.859016070196194e-05, 'able': 9.859016070196194e-05, 'password': 9.859016070196194e-05, 'bookshelf': 9.859016070196194e-05, 'levelsmc': 9.859016070196194e-05, 'fwd': 9.859016070196194e-05, 'jillian': 9.859016070196194e-05, 'van': 9.859016070196194e-05, 'morrison': 9.859016070196194e-05, 'emmetjuh': 9.859016070196194e-05, 'fave': 9.859016070196194e-05, 'neighbour': 9.859016070196194e-05, 'soothe': 9.859016070196194e-05, '5ë': 9.859016070196194e-05, 'lisbethh': 9.859016070196194e-05, 'peices': 9.859016070196194e-05, 'bubba': 9.859016070196194e-05, 'boo': 9.859016070196194e-05, 'dylancoyle': 9.859016070196194e-05, 'jessilynn15': 9.859016070196194e-05, 'muthu': 9.859016070196194e-05, 'exotic': 9.859016070196194e-05, 'ramblings': 9.859016070196194e-05, '×': 9.859016070196194e-05, 'itsconsiderate': 9.859016070196194e-05, 'foget': 9.859016070196194e-05, '9am': 9.859016070196194e-05, 'bellab4510': 9.859016070196194e-05, 'mun': 9.859016070196194e-05, 'mommo9000': 9.859016070196194e-05, 'pleaseee': 9.859016070196194e-05, 'reddust': 9.859016070196194e-05, 'annabambina': 9.859016070196194e-05, 'unimaginative': 9.859016070196194e-05, 'mandelion2': 9.859016070196194e-05, 'somethin': 9.859016070196194e-05, 'russell': 9.859016070196194e-05, 'dump': 9.859016070196194e-05, '4dams': 9.859016070196194e-05, 'tht': 9.859016070196194e-05, 'badminton': 9.859016070196194e-05, 'gavre': 9.859016070196194e-05, 'clinical': 9.859016070196194e-05, 'iz': 9.859016070196194e-05, 'code': 9.859016070196194e-05, 'opened': 9.859016070196194e-05, 'trump': 9.859016070196194e-05, 'njrugger45': 9.859016070196194e-05, 'mediacat1978': 9.859016070196194e-05, 'gutter': 9.859016070196194e-05, 'butler': 9.859016070196194e-05, 'rockstar': 9.859016070196194e-05, 'drealoveslife': 9.859016070196194e-05, 'eggs': 9.859016070196194e-05, 'troubles': 9.859016070196194e-05, 'tape': 9.859016070196194e-05, 'money': 9.859016070196194e-05, 'loving': 9.859016070196194e-05, 'hope': 9.859016070196194e-05, 'boborama': 9.859016070196194e-05, 'havnt': 9.859016070196194e-05, 'sitcom': 9.859016070196194e-05, 'shelley': 9.859016070196194e-05, 'samurai': 9.859016070196194e-05, 'ancafoster': 9.859016070196194e-05, 'leap': 9.859016070196194e-05, 'nap': 9.859016070196194e-05, 'tune': 9.859016070196194e-05, 'jackiedalia': 9.859016070196194e-05, 'backwards': 9.859016070196194e-05, 'jak': 9.859016070196194e-05, 'accommodation': 9.859016070196194e-05, 'followed': 9.859016070196194e-05, 'gotcha': 9.859016070196194e-05, 'out': 9.859016070196194e-05, 'stories': 9.859016070196194e-05, 'o529o9': 9.859016070196194e-05, 'oak': 9.859016070196194e-05, 'port': 9.859016070196194e-05, 'mommas': 9.859016070196194e-05, 'guard': 9.859016070196194e-05, 'zombie': 9.859016070196194e-05, 'letdown': 9.859016070196194e-05, 'mondayyyyyyy': 9.859016070196194e-05, 'pleasure': 9.859016070196194e-05, 'bobbythomas1': 9.859016070196194e-05, 'stairs': 9.859016070196194e-05, 'amounts': 9.859016070196194e-05, 'dj': 9.859016070196194e-05, 'tangly': 9.859016070196194e-05, 'natural': 9.859016070196194e-05, 'clips': 9.859016070196194e-05, 'fel': 9.859016070196194e-05, 'support': 9.859016070196194e-05, 'celebrities': 9.859016070196194e-05, 'prestonlowe': 9.859016070196194e-05, 'screenwipe': 9.859016070196194e-05, 'piacere': 9.859016070196194e-05, 'lykke': 9.859016070196194e-05, 'modwife': 9.859016070196194e-05, 'button': 9.859016070196194e-05, 'secretvalley': 9.859016070196194e-05, 'wish': 9.859016070196194e-05, 'boy': 9.859016070196194e-05, 'countryside': 9.859016070196194e-05, 'account': 9.859016070196194e-05, 'thanks': 9.859016070196194e-05, 'thailand': 9.859016070196194e-05, 'zimnla': 9.859016070196194e-05, 'countless': 9.859016070196194e-05, 'least': 9.859016070196194e-05, 'boobs': 9.859016070196194e-05, 'greggs': 9.859016070196194e-05, 'rfargnoli': 9.859016070196194e-05, 'pauline': 9.859016070196194e-05, 'loss': 9.859016070196194e-05, 'class': 9.859016070196194e-05, 'surprises': 9.859016070196194e-05, 'listenin': 9.859016070196194e-05, 'minds': 9.859016070196194e-05, 'words': 9.859016070196194e-05, 'marz2112': 9.859016070196194e-05, 'spaceeeeee': 9.859016070196194e-05, 'tired': 9.859016070196194e-05, 'gemmak500': 9.859016070196194e-05, 'hmmm': 9.859016070196194e-05, 'etf': 9.859016070196194e-05, '°': 9.859016070196194e-05, 'rising': 9.859016070196194e-05, 'attending': 9.859016070196194e-05, 'hon': 9.859016070196194e-05, 'phillygoat': 9.859016070196194e-05, 'laboratory': 9.859016070196194e-05, 'traumatized': 9.859016070196194e-05, 'shannynb': 9.859016070196194e-05, 'sushi': 9.859016070196194e-05, 'grad': 9.859016070196194e-05, 'missxsonya': 9.859016070196194e-05, 'firmly': 9.859016070196194e-05, 'forgot': 9.859016070196194e-05, 'kelvineyers': 9.859016070196194e-05, 'emma': 9.859016070196194e-05, 'chrishasboobs': 9.859016070196194e-05, 'cleaning': 9.859016070196194e-05, 'runish': 9.859016070196194e-05, 'orchestra': 9.859016070196194e-05, 'advice': 9.859016070196194e-05, 'mention': 9.859016070196194e-05, 'convo': 9.859016070196194e-05, 'ðµð': 9.859016070196194e-05, 'lens': 9.859016070196194e-05, 'reeeally': 9.859016070196194e-05, 'developing': 9.859016070196194e-05, '¸': 9.859016070196194e-05, 'indiana': 9.859016070196194e-05, 'rachelengland': 9.859016070196194e-05, 'lazy': 9.859016070196194e-05, 'soo': 9.859016070196194e-05, '1989': 9.859016070196194e-05, 'abating': 9.859016070196194e-05, 'tastic': 9.859016070196194e-05, 'rock': 9.859016070196194e-05, 'bumblebeebree': 9.859016070196194e-05, 'rog': 9.859016070196194e-05, 'coliwilso': 9.859016070196194e-05, 'this': 9.859016070196194e-05, 'enlightening': 9.859016070196194e-05, 'irritating': 9.859016070196194e-05, 'community': 9.859016070196194e-05, 'txbrowneyes20': 9.859016070196194e-05, 'fell': 9.859016070196194e-05, 'h': 9.859016070196194e-05, 'jrfan8': 9.859016070196194e-05, 'lmfao': 9.859016070196194e-05, 'bckwild': 9.859016070196194e-05, 'receiving': 9.859016070196194e-05, 'mucho': 9.859016070196194e-05, 'scarey': 9.859016070196194e-05, 'ceo': 9.859016070196194e-05, 'mrbenrubery': 9.859016070196194e-05, 'foriegn': 9.859016070196194e-05, 'dailypinch': 9.859016070196194e-05, 'cavs': 9.859016070196194e-05, 'uuuggghhh': 9.859016070196194e-05, 'feet': 9.859016070196194e-05, 'wrk': 9.859016070196194e-05, 'brunch': 9.859016070196194e-05, 'rogueleader': 9.859016070196194e-05, 'area': 9.859016070196194e-05, 'nothing': 9.859016070196194e-05, 'caroline': 9.859016070196194e-05, 'darling': 9.859016070196194e-05, 'backk': 9.859016070196194e-05, 'rubbish': 9.859016070196194e-05, 'pressy': 9.859016070196194e-05, 'client': 9.859016070196194e-05, 'twiquarius': 9.859016070196194e-05, 'disposalwah': 9.859016070196194e-05, 'therealpickler': 9.859016070196194e-05, 'stops': 9.859016070196194e-05, 'jimmy': 9.859016070196194e-05, 'zefamedia': 9.859016070196194e-05, 'retreat': 9.859016070196194e-05, 'unblocked': 9.859016070196194e-05, 'anniv': 9.859016070196194e-05, 'makeupbag': 9.859016070196194e-05, 'jadey': 9.859016070196194e-05, 'taken': 9.859016070196194e-05, 'perfecto': 9.859016070196194e-05, 'say': 9.859016070196194e-05, 'wandering': 9.859016070196194e-05, 'por': 9.859016070196194e-05, 'goin': 9.859016070196194e-05, 'continue': 9.859016070196194e-05, 'wo': 9.859016070196194e-05, 'programmer': 9.859016070196194e-05, 'note': 9.859016070196194e-05, 'hyperlinks': 9.859016070196194e-05, 'kevin': 9.859016070196194e-05, 'alexsheppard': 9.859016070196194e-05, 'thunder': 9.859016070196194e-05, 'bonne': 9.859016070196194e-05, 'homemade': 9.859016070196194e-05, 'nlupus': 9.859016070196194e-05, '91': 9.859016070196194e-05, 'angieelenis': 9.859016070196194e-05, 'philrossi': 9.859016070196194e-05, 'an': 9.859016070196194e-05, 'bliss': 9.859016070196194e-05, 'rdg': 9.859016070196194e-05, 'yoohooo': 9.859016070196194e-05, 'held': 9.859016070196194e-05, 'oh': 9.859016070196194e-05, 'mrmarty': 9.859016070196194e-05, 'bavarian': 9.859016070196194e-05, 'towel': 9.859016070196194e-05, 'ofaydevil': 9.859016070196194e-05, 'doc': 9.859016070196194e-05, 'muntah': 9.859016070196194e-05, 'lovin': 9.859016070196194e-05, 'williammm': 9.859016070196194e-05, 'lilpeadot': 9.859016070196194e-05, 'kidnap': 9.859016070196194e-05, 'audioboo': 9.859016070196194e-05, 'grown': 9.859016070196194e-05, 'lotsa': 9.859016070196194e-05, 'anger': 9.859016070196194e-05, '61': 9.859016070196194e-05, 'phew': 9.859016070196194e-05, 'together': 9.859016070196194e-05, 'ankle': 9.859016070196194e-05, 'outlook': 9.859016070196194e-05, 'mandatory': 9.859016070196194e-05, 'wokeupinrayn': 9.859016070196194e-05, 'ooooooo': 9.859016070196194e-05, '´': 9.859016070196194e-05, 'voting': 9.859016070196194e-05, 'insidebooks': 9.859016070196194e-05, 'gone': 9.859016070196194e-05, 'burnham': 9.859016070196194e-05, 'haters': 9.859016070196194e-05, 'iloveyouuu': 9.859016070196194e-05, 'i': 9.859016070196194e-05, 'thesourceress': 9.859016070196194e-05, 'shelleystudios': 9.859016070196194e-05, 'drama': 9.859016070196194e-05, 'chiinarr': 9.859016070196194e-05, 'ringtone': 9.859016070196194e-05, 'lov': 9.859016070196194e-05, 'banpei': 9.859016070196194e-05, 'maid': 9.859016070196194e-05, 'multiple': 9.859016070196194e-05, 'hbo': 9.859016070196194e-05, 'mornin': 9.859016070196194e-05, 'wide': 9.859016070196194e-05, 'shortage': 9.859016070196194e-05, 'rt': 9.859016070196194e-05, 'kidding': 9.859016070196194e-05, 'asshole': 9.859016070196194e-05, 'usually': 9.859016070196194e-05, 'esaevian': 9.859016070196194e-05, 'find': 9.859016070196194e-05, 'peaceful': 9.859016070196194e-05, 'bffs': 9.859016070196194e-05, 'rebuilding': 9.859016070196194e-05, 'gin': 9.859016070196194e-05, 'midnight': 9.859016070196194e-05, 'fi': 9.859016070196194e-05, 'actionjay': 9.859016070196194e-05, 'watchin': 9.859016070196194e-05, 'vac': 9.859016070196194e-05, 'ayeeeee': 9.859016070196194e-05, 'pic': 9.859016070196194e-05, 'elijah': 9.859016070196194e-05, 'kenichi': 9.859016070196194e-05, 't0othache': 9.859016070196194e-05, 'hailey': 9.859016070196194e-05, 'jam': 9.859016070196194e-05, 'cancel': 9.859016070196194e-05, 'tweets': 9.859016070196194e-05, 'must': 9.859016070196194e-05, 'brightens': 9.859016070196194e-05, 'elazar': 9.859016070196194e-05, 'mrsa': 9.859016070196194e-05, 'ibuprofen': 9.859016070196194e-05, 'lincoln': 9.859016070196194e-05, 'mcrmuffin': 9.859016070196194e-05, 'sheffield': 9.859016070196194e-05, 'darlin': 9.859016070196194e-05, 'seas': 9.859016070196194e-05, '0130': 9.859016070196194e-05, 'ecoblips': 9.859016070196194e-05, 'resorting': 9.859016070196194e-05, 'ai': 9.859016070196194e-05, 'keep': 9.859016070196194e-05, 'davidarchie': 9.859016070196194e-05, 'circus': 9.859016070196194e-05, 'simone93': 9.859016070196194e-05, 'adam': 9.859016070196194e-05, 'pediu': 9.859016070196194e-05, 'exists': 9.859016070196194e-05, 'origin': 9.859016070196194e-05, 'pick': 9.859016070196194e-05, 'lakers': 9.859016070196194e-05, 'thatâ': 9.859016070196194e-05, 'filled': 9.859016070196194e-05, 'treypeezy': 9.859016070196194e-05, 'bathing': 9.859016070196194e-05, 'math': 9.859016070196194e-05, 'taylorswift13': 9.859016070196194e-05, '60': 9.859016070196194e-05, 'mickie1': 9.859016070196194e-05, '0': 9.859016070196194e-05, 'omz': 9.859016070196194e-05, 'nospam': 9.859016070196194e-05, 'miriamstaley': 9.859016070196194e-05, 'great': 9.859016070196194e-05, 'wwwaaaaaaaa': 9.859016070196194e-05, 'sinning': 9.859016070196194e-05, 'grandmasheila': 9.859016070196194e-05, 'keepithandy': 9.859016070196194e-05, 'calebgardner': 9.859016070196194e-05, 'takin': 9.859016070196194e-05, '«': 9.859016070196194e-05, 'tight': 9.859016070196194e-05, 'adelaides': 9.859016070196194e-05, 'heartless': 9.859016070196194e-05, 'hahaha': 9.859016070196194e-05, 'input': 9.859016070196194e-05, 'gooood': 9.859016070196194e-05, 'mad': 9.859016070196194e-05, 'lecture': 9.859016070196194e-05, 'fantasmic': 9.859016070196194e-05, 'absolute': 9.859016070196194e-05, 'deffinetly': 9.859016070196194e-05, 'jack': 9.859016070196194e-05, 'senior': 9.859016070196194e-05, 'zucky': 9.859016070196194e-05, 'bowling': 9.859016070196194e-05, 'bleehh': 9.859016070196194e-05, '\\x91': 9.859016070196194e-05, 'marshalus': 9.859016070196194e-05, 'sweetney': 9.859016070196194e-05, 'minimize': 9.859016070196194e-05, 'industrious': 9.859016070196194e-05, 'strength': 9.859016070196194e-05, 'eaten': 9.859016070196194e-05, 'occuring': 9.859016070196194e-05, 'biiig': 9.859016070196194e-05, 'boblivious': 9.859016070196194e-05, 'lobster': 9.859016070196194e-05, 'jaydenicole': 9.859016070196194e-05, 'week': 9.859016070196194e-05, 'paddypower': 9.859016070196194e-05, 'rockhard': 9.859016070196194e-05, 'donuts': 9.859016070196194e-05, 'ep': 9.859016070196194e-05, 'donut': 9.859016070196194e-05, 'esteem': 9.859016070196194e-05, 'saddddd': 9.859016070196194e-05, 'calire': 9.859016070196194e-05, 'dannidanishyo': 9.859016070196194e-05, 'downloading': 9.859016070196194e-05, '500th': 9.859016070196194e-05, 'tummy': 9.859016070196194e-05, 'original': 9.859016070196194e-05, 'passion': 9.859016070196194e-05, 'adorable': 9.859016070196194e-05, 'gemini': 9.859016070196194e-05, 'injured': 9.859016070196194e-05, 'networks': 9.859016070196194e-05, 'stayed': 9.859016070196194e-05, 'natalie': 9.859016070196194e-05, 'xbby01': 9.859016070196194e-05, 'sudduths': 9.859016070196194e-05, 'meeps625': 9.859016070196194e-05, 'boggles': 9.859016070196194e-05, 'nuggets': 9.859016070196194e-05, 'pelo': 9.859016070196194e-05, 'definetly': 9.859016070196194e-05, 'divorce': 9.859016070196194e-05, 'late': 9.859016070196194e-05, 'kimkardsashian': 9.859016070196194e-05, 'haiz': 9.859016070196194e-05, 'savorysweetlife': 9.859016070196194e-05, 'simonech': 9.859016070196194e-05, 'spirits': 9.859016070196194e-05, 'angels': 9.859016070196194e-05, 'taylormosher': 9.859016070196194e-05, 'toilets': 9.859016070196194e-05, 'swamped': 9.859016070196194e-05, 'guna': 9.859016070196194e-05, 'lucyjoy': 9.859016070196194e-05, 'nevermind': 9.859016070196194e-05, 'windy': 9.859016070196194e-05, 'indulge': 9.859016070196194e-05, 'figure': 9.859016070196194e-05, 'err': 9.859016070196194e-05, 'pastor': 9.859016070196194e-05, 'ahhhhhhhhhh': 9.859016070196194e-05, 'subscribe': 9.859016070196194e-05, 'bbqs': 9.859016070196194e-05, 'charlenekelley': 9.859016070196194e-05, 'pauliecooks': 9.859016070196194e-05, 'flies': 9.859016070196194e-05, 'blame': 9.859016070196194e-05, 'yaaaaay': 9.859016070196194e-05, 'oppressed': 9.859016070196194e-05, 'utter': 9.859016070196194e-05, 'bff': 9.859016070196194e-05, 'pak': 9.859016070196194e-05, 'bichonpoodle': 9.859016070196194e-05, 'shimmylicious': 9.859016070196194e-05, 'topshop': 9.859016070196194e-05, 'jinnyboy': 9.859016070196194e-05, 'xbianca': 9.859016070196194e-05, 'puffs': 9.859016070196194e-05, 'grades': 9.859016070196194e-05, 'scarf': 9.859016070196194e-05, 'phn': 9.859016070196194e-05, 'switch': 9.859016070196194e-05, 'w8': 9.859016070196194e-05, 'totall': 9.859016070196194e-05, 'middle': 9.859016070196194e-05, 'alchemist': 9.859016070196194e-05, 'slacker': 9.859016070196194e-05, 'callimuffin': 9.859016070196194e-05, 'hairbrained': 9.859016070196194e-05, 'gettin': 9.859016070196194e-05, 'svn': 9.859016070196194e-05, 'hawii': 9.859016070196194e-05, 'huwstephens': 9.859016070196194e-05, 'text': 9.859016070196194e-05, 'quantum': 9.859016070196194e-05, 'kuai': 9.859016070196194e-05, 'fiancee': 9.859016070196194e-05, 'oboe': 9.859016070196194e-05, 'oside': 9.859016070196194e-05, 'maddancer': 9.859016070196194e-05, 'distracted': 9.859016070196194e-05, 'ihop': 9.859016070196194e-05, 'draft': 9.859016070196194e-05, 'fort': 9.859016070196194e-05, 'buy': 9.859016070196194e-05, 'turns': 9.859016070196194e-05, 'younkers': 9.859016070196194e-05, 'expense': 9.859016070196194e-05, 'foods': 9.859016070196194e-05, '4228': 9.859016070196194e-05, 'fifth': 9.859016070196194e-05, 'giving': 9.859016070196194e-05, 'euros': 9.859016070196194e-05, 'virginiam': 9.859016070196194e-05, 'cruel': 9.859016070196194e-05, 'reaction': 9.859016070196194e-05, 'myself': 9.859016070196194e-05, 'den': 9.859016070196194e-05, 'diner': 9.859016070196194e-05, 'rosebud': 9.859016070196194e-05, 'ocd': 9.859016070196194e-05, 'women': 9.859016070196194e-05, 'tiphereth': 9.859016070196194e-05, 'inlaws': 9.859016070196194e-05, 'finaly': 9.859016070196194e-05, '2': 9.859016070196194e-05, 'smoke': 9.859016070196194e-05, 'happens': 9.859016070196194e-05, 'yumm': 9.859016070196194e-05, 'until': 9.859016070196194e-05, 'coughed': 9.859016070196194e-05, 'stonehenge': 9.859016070196194e-05, 'alpha': 9.859016070196194e-05, 'valerierenee': 9.859016070196194e-05, 'beg': 9.859016070196194e-05, 'rubber': 9.859016070196194e-05, 'ebonyintuition': 9.859016070196194e-05, 'curves': 9.859016070196194e-05, 'vixens': 9.859016070196194e-05, 'mates': 9.859016070196194e-05, 'jo': 9.859016070196194e-05, 'fridays': 9.859016070196194e-05, 'scare': 9.859016070196194e-05, 'holds': 9.859016070196194e-05, 'article': 9.859016070196194e-05, 'saw': 9.859016070196194e-05, 'brettkloesel': 9.859016070196194e-05, 'neither': 9.859016070196194e-05, 'passes': 9.859016070196194e-05, 'rxp': 9.859016070196194e-05, 'annoy': 9.859016070196194e-05, 'honestbabe': 9.859016070196194e-05, 'park': 9.859016070196194e-05, 'om': 9.859016070196194e-05, '8sh': 9.859016070196194e-05, 'shop': 9.859016070196194e-05, 'luvyaa': 9.859016070196194e-05, 'arts': 9.859016070196194e-05, 'becouse': 9.859016070196194e-05, 'lemme': 9.859016070196194e-05, 'rotten': 9.859016070196194e-05, 'milton': 9.859016070196194e-05, 'please': 9.859016070196194e-05, 'flights': 9.859016070196194e-05, 'shakes': 9.859016070196194e-05, 'bring': 9.859016070196194e-05, 'education': 9.859016070196194e-05, 'articles': 9.859016070196194e-05, 'applications': 9.859016070196194e-05, 'sami': 9.859016070196194e-05, 'nearly': 9.859016070196194e-05, 'minttycygwin': 9.859016070196194e-05, 'name': 9.859016070196194e-05, 'draw': 9.859016070196194e-05, 'perving': 9.859016070196194e-05, 'dca': 9.859016070196194e-05, 'ahead': 9.859016070196194e-05, 'colors': 9.859016070196194e-05, 'rpattz': 9.859016070196194e-05, 'wegs': 9.859016070196194e-05, 'dvr': 9.859016070196194e-05, 'wud': 9.859016070196194e-05, 'sickor': 9.859016070196194e-05, 'appendages': 9.859016070196194e-05, 'missjeffreestar': 9.859016070196194e-05, 'places': 9.859016070196194e-05, 'wear': 9.859016070196194e-05, 'dayyy': 9.859016070196194e-05, 'la': 9.859016070196194e-05, 'declare': 9.859016070196194e-05, 'result': 9.859016070196194e-05, 'addiction': 9.859016070196194e-05, 'browsin': 9.859016070196194e-05, 'woodward': 9.859016070196194e-05, 'joels': 9.859016070196194e-05, 'fivejs': 9.859016070196194e-05, 'kimscriven': 9.859016070196194e-05, 'humans': 9.859016070196194e-05, 'fabrics': 9.859016070196194e-05, 'refund': 9.859016070196194e-05, 'earth': 9.859016070196194e-05, 'aj': 9.859016070196194e-05, 'shittiest': 9.859016070196194e-05, 'wonder': 9.859016070196194e-05, 'wknd': 9.859016070196194e-05, 'programming': 9.859016070196194e-05, 'dragonflylsu': 9.859016070196194e-05, 'cheekithasinger': 9.859016070196194e-05, 'infect': 9.859016070196194e-05, 'twats': 9.859016070196194e-05, '600': 9.859016070196194e-05, 'jaredm': 9.859016070196194e-05, 'welcome': 9.859016070196194e-05, '45sinyoureyes': 9.859016070196194e-05, 'battlefield': 9.859016070196194e-05, 'mornings': 9.859016070196194e-05, 'awsome': 9.859016070196194e-05, 'joys': 9.859016070196194e-05, 'happen': 9.859016070196194e-05, 'nhltweetup': 9.859016070196194e-05, 'mydarlingemma': 9.859016070196194e-05, 'arbys': 9.859016070196194e-05, 'rotflmao': 9.859016070196194e-05, 'toma': 9.859016070196194e-05, 'dkt': 9.859016070196194e-05, 'mtv': 9.859016070196194e-05, 'grace': 9.859016070196194e-05, 'promess': 9.859016070196194e-05, 'thegov': 9.859016070196194e-05, 'marisolmercedes': 9.859016070196194e-05, 'musewire': 9.859016070196194e-05, 'blergh': 9.859016070196194e-05, 'baby': 9.859016070196194e-05, 'pile': 9.859016070196194e-05, 'smooth': 9.859016070196194e-05, 'arc': 9.859016070196194e-05, 'likely': 9.859016070196194e-05, 'considering': 9.859016070196194e-05, 'paperwork': 9.859016070196194e-05, 'kimi': 9.859016070196194e-05, 'minecart': 9.859016070196194e-05, 'burnt': 9.859016070196194e-05, 'hour': 9.859016070196194e-05, 'nicolerichie': 9.859016070196194e-05, 'wwwtweeteraddercom': 9.859016070196194e-05, 'jenisecook': 9.859016070196194e-05, 'skweeds': 9.859016070196194e-05, 'essebee1': 9.859016070196194e-05, 'element': 9.859016070196194e-05, 'drugs': 9.859016070196194e-05, 'yiu': 9.859016070196194e-05, 'eve': 9.859016070196194e-05, 'fic': 9.859016070196194e-05, 'quicker': 9.859016070196194e-05, 'nonconformist': 9.859016070196194e-05, 'kelliv86': 9.859016070196194e-05, 'product': 9.859016070196194e-05, 'beach': 9.859016070196194e-05, '1010': 9.859016070196194e-05, 'precise': 9.859016070196194e-05, 'jr': 9.859016070196194e-05, 'lovinjj': 9.859016070196194e-05, 'twitterettes': 9.859016070196194e-05, 'boston': 9.859016070196194e-05, 'spoiled': 9.859016070196194e-05, 'helped': 9.859016070196194e-05, 'skating': 9.859016070196194e-05, 'townn': 9.859016070196194e-05, 'simming': 9.859016070196194e-05, 'chill': 9.859016070196194e-05, 'childish': 9.859016070196194e-05, 'andysowards': 9.859016070196194e-05, 'mines': 9.859016070196194e-05, 'creative': 9.859016070196194e-05, 'stormy': 9.859016070196194e-05, '5th': 9.859016070196194e-05, 'pointed': 9.859016070196194e-05, 'balloon': 9.859016070196194e-05, 'lisa': 9.859016070196194e-05, 'leeds': 9.859016070196194e-05, 'jackalltimelow': 9.859016070196194e-05, 'freshypanda': 9.859016070196194e-05, 'boobikitti': 9.859016070196194e-05, 'blogger': 9.859016070196194e-05, 'ndubz': 9.859016070196194e-05, 'extension': 9.859016070196194e-05, 'poop': 9.859016070196194e-05, 'go': 9.859016070196194e-05, 'norwegian': 9.859016070196194e-05, 'world': 9.859016070196194e-05, 'lounge': 9.859016070196194e-05, 'steroid': 9.859016070196194e-05, 'kid': 9.859016070196194e-05, 'yeah': 9.859016070196194e-05, 'geba': 9.859016070196194e-05, 'balmer': 9.859016070196194e-05, 'rawon': 9.859016070196194e-05, 'leeshmnc': 9.859016070196194e-05, 'stingy': 9.859016070196194e-05, 'marshmollow': 9.859016070196194e-05, 'lego': 9.859016070196194e-05, 'comming': 9.859016070196194e-05, 'meantime': 9.859016070196194e-05, 'blamedrewscancer': 9.859016070196194e-05, 'gemmaz': 9.859016070196194e-05, 'lot': 9.859016070196194e-05, 'revision': 9.859016070196194e-05, 'alfalfa': 9.859016070196194e-05, 'b4': 9.859016070196194e-05, 'piano': 9.859016070196194e-05, '854': 9.859016070196194e-05, 'county': 9.859016070196194e-05, 'n0odles': 9.859016070196194e-05, 'niver': 9.859016070196194e-05, 'hug': 9.859016070196194e-05, 'communist': 9.859016070196194e-05, 'station': 9.859016070196194e-05, 'continues': 9.859016070196194e-05, 'country': 9.859016070196194e-05, 'hides': 9.859016070196194e-05, 'piadysangco': 9.859016070196194e-05, 'uninstalling': 9.859016070196194e-05, 'ohiowa': 9.859016070196194e-05, 'quack': 9.859016070196194e-05, 'btcare': 9.859016070196194e-05, 'youu': 9.859016070196194e-05, 'fh': 9.859016070196194e-05, 'chelro': 9.859016070196194e-05, 'study': 9.859016070196194e-05, 'brandonn': 9.859016070196194e-05, 'pots': 9.859016070196194e-05, 'softandpoofyone': 9.859016070196194e-05, 'bestieee': 9.859016070196194e-05, 'heh': 9.859016070196194e-05, 'bay': 9.859016070196194e-05, 'kpmarie': 9.859016070196194e-05, 'dropped': 9.859016070196194e-05, 'buffawhat': 9.859016070196194e-05, 'fireworks': 9.859016070196194e-05, 'overshadowing': 9.859016070196194e-05, 'atleast': 9.859016070196194e-05, 'pineapple': 9.859016070196194e-05, 'sal': 9.859016070196194e-05, 'bars': 9.859016070196194e-05, 'iranelection': 9.859016070196194e-05, 'jazzpiano': 9.859016070196194e-05, 'pi': 9.859016070196194e-05, 'brownies': 9.859016070196194e-05, 'sianamia': 9.859016070196194e-05, 'shambles': 9.859016070196194e-05, 'oooh': 9.859016070196194e-05, 'superuber7': 9.859016070196194e-05, 'helenrampling': 9.859016070196194e-05, 'pleasantly': 9.859016070196194e-05, 'toooo': 9.859016070196194e-05, 'functions': 9.859016070196194e-05, 'companies': 9.859016070196194e-05, 'sees': 9.859016070196194e-05, 'princessarchie': 9.859016070196194e-05, 'themselves': 9.859016070196194e-05, 'dave': 9.859016070196194e-05, 'waledc': 9.859016070196194e-05, 'moniquemay': 9.859016070196194e-05, 'cyrus': 9.859016070196194e-05, 'juiceeeee': 9.859016070196194e-05, 'rent': 9.859016070196194e-05, 'spiderman': 9.859016070196194e-05, 'twilightchill': 9.859016070196194e-05, 'columbus': 9.859016070196194e-05, 'row': 9.859016070196194e-05, 'enhancements': 9.859016070196194e-05, 'choosing': 9.859016070196194e-05, 'exhausted': 9.859016070196194e-05, 'food': 9.859016070196194e-05, 'already': 9.859016070196194e-05, 'texted': 9.859016070196194e-05, 'subclubloyal': 9.859016070196194e-05, 'childhood': 9.859016070196194e-05, 'rhyme': 9.859016070196194e-05, 'ashbashoneonly': 9.859016070196194e-05, 'icky': 9.859016070196194e-05, 'apt': 9.859016070196194e-05, 'describe': 9.859016070196194e-05, 'untill': 9.859016070196194e-05, 'seemed': 9.859016070196194e-05, 'lucyfurleaps': 9.859016070196194e-05, 'mcflurry': 9.859016070196194e-05, 'fureousangel': 9.859016070196194e-05, 'step': 9.859016070196194e-05, 'true': 9.859016070196194e-05, 'laughs': 9.859016070196194e-05, 'eventually': 9.859016070196194e-05, 'ad': 9.859016070196194e-05, 'pittsburgh': 9.859016070196194e-05, 'springs': 9.859016070196194e-05, '23rd': 9.859016070196194e-05, 's60v3': 9.859016070196194e-05, 'figurd': 9.859016070196194e-05, 'pubishers': 9.859016070196194e-05, 'dejavu': 9.859016070196194e-05, '3g': 9.859016070196194e-05, 'udah': 9.859016070196194e-05, 'students': 9.859016070196194e-05, 'receive': 9.859016070196194e-05, 'funny': 9.859016070196194e-05, 'gh': 9.859016070196194e-05, 'maximum': 9.859016070196194e-05, 'armcandy': 9.859016070196194e-05, 'promote': 9.859016070196194e-05, 'êµ': 9.859016070196194e-05, 'everton': 9.859016070196194e-05, 'becabear': 9.859016070196194e-05, 'fevers': 9.859016070196194e-05, 'jovileiann': 9.859016070196194e-05, 'son': 9.859016070196194e-05, 'stmss': 9.859016070196194e-05, 'plugin': 9.859016070196194e-05, 'flavorice': 9.859016070196194e-05, 'moooorning': 9.859016070196194e-05, 'colour': 9.859016070196194e-05, 'angles': 9.859016070196194e-05, 'sense': 9.859016070196194e-05, 'transplant': 9.859016070196194e-05, 'wholly': 9.859016070196194e-05, 'ends': 9.859016070196194e-05, 'burgers': 9.859016070196194e-05, 'splode': 9.859016070196194e-05, 'baileycardno': 9.859016070196194e-05, 'kick': 9.859016070196194e-05, 'luckyrivera': 9.859016070196194e-05, 'stranger': 9.859016070196194e-05, 'somehow': 9.859016070196194e-05, 'grow': 9.859016070196194e-05, 'bt': 9.859016070196194e-05, 'insanity': 9.859016070196194e-05, 'arunce': 9.859016070196194e-05, 'springleaf': 9.859016070196194e-05, 'aussiematelc': 9.859016070196194e-05, 'skies': 9.859016070196194e-05, 'glennabean': 9.859016070196194e-05, 'shaundrie': 9.859016070196194e-05, 'pond': 9.859016070196194e-05, 'swiming': 9.859016070196194e-05, 'brook': 9.859016070196194e-05, 'responding': 9.859016070196194e-05, 'gods': 9.859016070196194e-05, 'ladykillers': 9.859016070196194e-05, 'mate': 9.859016070196194e-05, 'hood': 9.859016070196194e-05, 'hounsou': 9.859016070196194e-05, 'reporting': 9.859016070196194e-05, 'soompicom': 9.859016070196194e-05, 'chrissyyyyyyy': 9.859016070196194e-05, 'drinks': 9.859016070196194e-05, 'blocked': 9.859016070196194e-05, 'uahauha': 9.859016070196194e-05, 'mcflyharry': 9.859016070196194e-05, 'sly': 9.859016070196194e-05, 'tech': 9.859016070196194e-05, '2009': 9.859016070196194e-05, 'starts': 9.859016070196194e-05, 'race': 9.859016070196194e-05, 'timing': 9.859016070196194e-05, 'internship': 9.859016070196194e-05, 'therealceaza7': 9.859016070196194e-05, 'hiks': 9.859016070196194e-05, 'poster': 9.859016070196194e-05, 'silverlines': 9.859016070196194e-05, 'waltward3': 9.859016070196194e-05, 'itouch': 9.859016070196194e-05, 'twisted': 9.859016070196194e-05, 'awake': 9.859016070196194e-05, 'triplepatte': 9.859016070196194e-05, 'nausea': 9.859016070196194e-05, 'takes': 9.859016070196194e-05, 'yucky': 9.859016070196194e-05, 'prefer': 9.859016070196194e-05, 'brighten': 9.859016070196194e-05, 'thunderstorms': 9.859016070196194e-05, 'teamhate': 9.859016070196194e-05, 'hiteshmehta': 9.859016070196194e-05, 'umbelievably': 9.859016070196194e-05, 'sucking': 9.859016070196194e-05, 'lacey': 9.859016070196194e-05, 'knitting': 9.859016070196194e-05, 'djsportschick': 9.859016070196194e-05, 'imagining': 9.859016070196194e-05, 'sons': 9.859016070196194e-05, 'allenbenjamin': 9.859016070196194e-05, 'dimes': 9.859016070196194e-05, 'liked': 9.859016070196194e-05, 'checked': 9.859016070196194e-05, 'littlebites': 9.859016070196194e-05, 'tgif': 9.859016070196194e-05, 'cpc': 9.859016070196194e-05, 'drop': 9.859016070196194e-05, 'caffeinebomb': 9.859016070196194e-05, 'meganmcdonald': 9.859016070196194e-05, 'mother': 9.859016070196194e-05, 'min': 9.859016070196194e-05, 'sack': 9.859016070196194e-05, 'civilization': 9.859016070196194e-05, 'weee': 9.859016070196194e-05, 'illiterate': 9.859016070196194e-05, 'deep': 9.859016070196194e-05, 'saki': 9.859016070196194e-05, 'sytycd': 9.859016070196194e-05, 'fearnecotton': 9.859016070196194e-05, 'iasair': 9.859016070196194e-05, 'klass': 9.859016070196194e-05, 'factory': 9.859016070196194e-05, 'monikinhams': 9.859016070196194e-05, 'tomato': 9.859016070196194e-05, 'halo': 9.859016070196194e-05, 'heels': 9.859016070196194e-05, 'season': 9.859016070196194e-05, 'untamed': 9.859016070196194e-05, 'comparison': 9.859016070196194e-05, 'wall': 9.859016070196194e-05, 'canada': 9.859016070196194e-05, 'whitelaws': 9.859016070196194e-05, 'dear': 9.859016070196194e-05, 'nu': 9.859016070196194e-05, 'mark': 9.859016070196194e-05, 'nazi': 9.859016070196194e-05, '2more': 9.859016070196194e-05, '85': 9.859016070196194e-05, 'flof': 9.859016070196194e-05, 'sims': 9.859016070196194e-05, 'philippines': 9.859016070196194e-05, 'causing': 9.859016070196194e-05, 'lunch': 9.859016070196194e-05, 'invented': 9.859016070196194e-05, 'flatts': 9.859016070196194e-05, 'shoulder': 9.859016070196194e-05, 'bouchonfor2': 9.859016070196194e-05, 'littlefletcher': 9.859016070196194e-05, 'z': 9.859016070196194e-05, 'recipe': 9.859016070196194e-05, 'mmm': 9.859016070196194e-05, 'pouring': 9.859016070196194e-05, 'many': 9.859016070196194e-05, 'john': 9.859016070196194e-05, 'cooties': 9.859016070196194e-05, 'slight': 9.859016070196194e-05, 'meal': 9.859016070196194e-05, 'mishacollins': 9.859016070196194e-05, 'sneezing': 9.859016070196194e-05, 'lolll': 9.859016070196194e-05, 'davidgallant': 9.859016070196194e-05, 'fuppin': 9.859016070196194e-05, 'stating': 9.859016070196194e-05, 'packin': 9.859016070196194e-05, 'traceyfalk': 9.859016070196194e-05, 'keeptheheat': 9.859016070196194e-05, 'jubr': 9.859016070196194e-05, 'hoyle1337': 9.859016070196194e-05, 'strings': 9.859016070196194e-05, 'davidlimonline': 9.859016070196194e-05, 'willfrancis': 9.859016070196194e-05, 'savoca': 9.859016070196194e-05, 'stew': 9.859016070196194e-05, 'djphoenix': 9.859016070196194e-05, 'rucha334': 9.859016070196194e-05, 'chores': 9.859016070196194e-05, 'sisters': 9.859016070196194e-05, 'eva': 9.859016070196194e-05, 'force': 9.859016070196194e-05, 'clothingstore': 9.859016070196194e-05, 'predschickidee': 9.859016070196194e-05, 'lookout': 9.859016070196194e-05, 'lucy': 9.859016070196194e-05, 'ammmazing': 9.859016070196194e-05, 'memoriesbymicha': 9.859016070196194e-05, 'thelarssan': 9.859016070196194e-05, 'h8': 9.859016070196194e-05, 'presse': 9.859016070196194e-05, 'tub': 9.859016070196194e-05, 'sting': 9.859016070196194e-05, 'upside': 9.859016070196194e-05, 'baned': 9.859016070196194e-05, 'carnavilistic': 9.859016070196194e-05, 'arthur': 9.859016070196194e-05, 'casb': 9.859016070196194e-05, 'bittenbybooks': 9.859016070196194e-05, 'janet': 9.859016070196194e-05, 'awesomeness': 9.859016070196194e-05, 'ballroom': 9.859016070196194e-05, 'ajanay7': 9.859016070196194e-05, 'fourth': 9.859016070196194e-05, 'johnhood': 9.859016070196194e-05, 'whisenhunt': 9.859016070196194e-05, 'car': 9.859016070196194e-05, 'shoot': 9.859016070196194e-05, 'biweekly': 9.859016070196194e-05, 'motivated': 9.859016070196194e-05, 'betheaeroplane': 9.859016070196194e-05, 'erika': 9.859016070196194e-05, 'hardware': 9.859016070196194e-05, 'shooting': 9.859016070196194e-05, 'bicycle': 9.859016070196194e-05, 'womp': 9.859016070196194e-05, 'imeem': 9.859016070196194e-05, 'boored': 9.859016070196194e-05, 'kinderlola': 9.859016070196194e-05, 'vacation': 9.859016070196194e-05, 'chums': 9.859016070196194e-05, 'lappie': 9.859016070196194e-05, 'lamp': 9.859016070196194e-05, '\\x99': 9.859016070196194e-05, 'skips': 9.859016070196194e-05, 'legal': 9.859016070196194e-05, 'misssimone32': 9.859016070196194e-05, 'angelaisawesome': 9.859016070196194e-05, 'um': 9.859016070196194e-05, 'theodorainish': 9.859016070196194e-05, 'bye': 9.859016070196194e-05, 'fanboy': 9.859016070196194e-05, 'georgia': 9.859016070196194e-05, 'vivalaaden': 9.859016070196194e-05, 'dye': 9.859016070196194e-05, 'vienna': 9.859016070196194e-05, 'plan': 9.859016070196194e-05, 'bldg': 9.859016070196194e-05, 'nelldamylf': 9.859016070196194e-05, 'potential': 9.859016070196194e-05, 'shallow': 9.859016070196194e-05, 'direct': 9.859016070196194e-05, 'ish': 9.859016070196194e-05, 'kcups': 9.859016070196194e-05, 'bugs': 9.859016070196194e-05, '030': 9.859016070196194e-05, 'yoginifoodie': 9.859016070196194e-05, 'remote': 9.859016070196194e-05, 'pilot': 9.859016070196194e-05, 'crazy': 9.859016070196194e-05, 'sunshineliron': 9.859016070196194e-05, 'demerol': 9.859016070196194e-05, 'walk': 9.859016070196194e-05, 'wk': 9.859016070196194e-05, 'alkingyouworms': 9.859016070196194e-05, 'recoverhealth': 9.859016070196194e-05, 'eeee': 9.859016070196194e-05, 'chopsuey2e': 9.859016070196194e-05, 'danielle': 9.859016070196194e-05, 'celine': 9.859016070196194e-05, 'casualty': 9.859016070196194e-05, 'kicks': 9.859016070196194e-05, 'tooo': 9.859016070196194e-05, 'micheleeeex': 9.859016070196194e-05, 'xmen': 9.859016070196194e-05, 'aerosmith': 9.859016070196194e-05, 'swellll': 9.859016070196194e-05, 'knittingknots': 9.859016070196194e-05, 'regular': 9.859016070196194e-05, 'happiness': 9.859016070196194e-05, 'tonight': 9.859016070196194e-05, 'almcheese': 9.859016070196194e-05, 'celebrity': 9.859016070196194e-05, 'sea': 9.859016070196194e-05, 'footy': 9.859016070196194e-05, 'ashjolliffe': 9.859016070196194e-05, 'laurenq': 9.859016070196194e-05, 'eee': 9.859016070196194e-05, 'issues': 9.859016070196194e-05, 'emerarudo': 9.859016070196194e-05, 'provokecreative': 9.859016070196194e-05, 'walked': 9.859016070196194e-05, 'rasp': 9.859016070196194e-05, 'dental': 9.859016070196194e-05, 'high': 9.859016070196194e-05, 'priscilla': 9.859016070196194e-05, 'dgn': 9.859016070196194e-05, 'luishandshake': 9.859016070196194e-05, 'fritz': 9.859016070196194e-05, 'trswift': 9.859016070196194e-05, 'pictures': 9.859016070196194e-05, 'dinasour': 9.859016070196194e-05, 'hubby': 9.859016070196194e-05, 'lama': 9.859016070196194e-05, 'fresh': 9.859016070196194e-05, 'mac': 9.859016070196194e-05, 'positive': 9.859016070196194e-05, 'wiener': 9.859016070196194e-05, 'rendezvous': 9.859016070196194e-05, 'happier': 9.859016070196194e-05, 'sarahanngreen': 9.859016070196194e-05, 'mt': 9.859016070196194e-05, 'shot': 9.859016070196194e-05, 'noah': 9.859016070196194e-05, 'deleted': 9.859016070196194e-05, 'gullable': 9.859016070196194e-05, 'hardbean': 9.859016070196194e-05, 'jungle': 9.859016070196194e-05, 'mobbster3000': 9.859016070196194e-05, 'arnold': 9.859016070196194e-05, 'chats': 9.859016070196194e-05, 'bummed': 9.859016070196194e-05, 'dizzee': 9.859016070196194e-05, 'wikipedia': 9.859016070196194e-05, 'allergist': 9.859016070196194e-05, 'ftw': 9.859016070196194e-05, 'timaldiss': 9.859016070196194e-05, 'rowlofo': 9.859016070196194e-05, 'daysdifference': 9.859016070196194e-05, 'charity': 9.859016070196194e-05, 'mitch': 9.859016070196194e-05, 'phase': 9.859016070196194e-05, 'aprealbrooke': 9.859016070196194e-05, 'keychain': 9.859016070196194e-05, 'relese': 9.859016070196194e-05, 'heehee': 9.859016070196194e-05, 'bem': 9.859016070196194e-05, 'settled': 9.859016070196194e-05, 'microsoft': 9.859016070196194e-05, 'wizards': 9.859016070196194e-05, 'seein': 9.859016070196194e-05, 'wouldnt': 9.859016070196194e-05, 'zhang': 9.859016070196194e-05, 'wii': 9.859016070196194e-05, 'compare': 9.859016070196194e-05, 'patty': 9.859016070196194e-05, 'zarrabis': 9.859016070196194e-05, 'lovekikiii': 9.859016070196194e-05, 'bird': 9.859016070196194e-05, 'episode': 9.859016070196194e-05, 'yaneri': 9.859016070196194e-05, 'remains': 9.859016070196194e-05, 'tearlesspoet': 9.859016070196194e-05, 'beth': 9.859016070196194e-05, 'puppies': 9.859016070196194e-05, 'sinus': 9.859016070196194e-05, 'kayaked': 9.859016070196194e-05, 'rebeccao372': 9.859016070196194e-05, 'secretaura': 9.859016070196194e-05, 'told': 9.859016070196194e-05, 'li': 9.859016070196194e-05, 'vancouver': 9.859016070196194e-05, 'dsushee': 9.859016070196194e-05, 'hurting': 9.859016070196194e-05, 'forward': 9.859016070196194e-05, 'fantastic': 9.859016070196194e-05, 'streetcar': 9.859016070196194e-05, 'nokia': 9.859016070196194e-05, 'stars': 9.859016070196194e-05, 'blastingadookie': 9.859016070196194e-05, 'facebook': 9.859016070196194e-05, 'student': 9.859016070196194e-05, 'circutcity': 9.859016070196194e-05, 'frappuccino': 9.859016070196194e-05, 'claims': 9.859016070196194e-05, 'rough': 9.859016070196194e-05, 'frack': 9.859016070196194e-05, 'services': 9.859016070196194e-05, 'foor': 9.859016070196194e-05, 'couch': 9.859016070196194e-05, 'ñ': 9.859016070196194e-05, 'dividends': 9.859016070196194e-05, 'oops': 9.859016070196194e-05, 'esmecullen23': 9.859016070196194e-05, 'mojitos': 9.859016070196194e-05, 'applebees': 9.859016070196194e-05, 'tfm': 9.859016070196194e-05, 'build': 9.859016070196194e-05, 'sunbath': 9.859016070196194e-05, 'german': 9.859016070196194e-05, 'ahhh': 9.859016070196194e-05, 'flately': 9.859016070196194e-05, 'backyardigans': 9.859016070196194e-05, 'kats': 9.859016070196194e-05, 'returned': 9.859016070196194e-05, 'kay': 9.859016070196194e-05, '53': 9.859016070196194e-05, 'rebl': 9.859016070196194e-05, 'pascal': 9.859016070196194e-05, 'da': 9.859016070196194e-05, 'hurt': 9.859016070196194e-05, 'jesus': 9.859016070196194e-05, 'paulmwatson': 9.859016070196194e-05, 'knows': 9.859016070196194e-05, 'sequester': 9.859016070196194e-05, 'ni': 9.859016070196194e-05, 'dawnrigby': 9.859016070196194e-05, '23': 9.859016070196194e-05, 'julion': 9.859016070196194e-05, 'journo': 9.859016070196194e-05, 'suits': 9.859016070196194e-05, 'dif': 9.859016070196194e-05, 'x': 9.859016070196194e-05, 'former': 9.859016070196194e-05, 'mumbai': 9.859016070196194e-05, 'jordanknight': 9.859016070196194e-05, 'bradiewebbstack': 9.859016070196194e-05, 'podcasts': 9.859016070196194e-05, 'telly': 9.859016070196194e-05, 'chicken': 9.859016070196194e-05, 'brittany': 9.859016070196194e-05, 'ljubljana': 9.859016070196194e-05, 'ladyfivestar': 9.859016070196194e-05, 'atltantic': 9.859016070196194e-05, 'window': 9.859016070196194e-05, 'chasingphoto': 9.859016070196194e-05, 'masseuse': 9.859016070196194e-05, 'cammit': 9.859016070196194e-05, 'mmmbennodacock': 9.859016070196194e-05, 'bad': 9.859016070196194e-05, 'heck': 9.859016070196194e-05, '1k': 9.859016070196194e-05, 'thas': 9.859016070196194e-05, 'newlyweds': 9.859016070196194e-05, 'awillow': 9.859016070196194e-05, 'host': 9.859016070196194e-05, 'cynnergies': 9.859016070196194e-05, 'sleepy': 9.859016070196194e-05, 'carradine': 9.859016070196194e-05, 'slovenian': 9.859016070196194e-05, 'tallwasp': 9.859016070196194e-05, 'contest': 9.859016070196194e-05, 'set': 9.859016070196194e-05, 'hangin': 9.859016070196194e-05, 'directing': 9.859016070196194e-05, 'submit': 9.859016070196194e-05, 'betty': 9.859016070196194e-05, 'noise': 9.859016070196194e-05, 'clicked': 9.859016070196194e-05, 'square': 9.859016070196194e-05, 'twistmag': 9.859016070196194e-05, 'mel0d': 9.859016070196194e-05, 'jonesbeach1988': 9.859016070196194e-05, 'loogies': 9.859016070196194e-05, 'french': 9.859016070196194e-05, 'hahaaa': 9.859016070196194e-05, 'learning': 9.859016070196194e-05, 'guilty': 9.859016070196194e-05, 'freakgoddess': 9.859016070196194e-05, 'cooleycakeface': 9.859016070196194e-05, 'messy': 9.859016070196194e-05, 'unfortunately': 9.859016070196194e-05, 'beef': 9.859016070196194e-05, 'mmk': 9.859016070196194e-05, 'chick': 9.859016070196194e-05, 'music': 9.859016070196194e-05, 'shadez': 9.859016070196194e-05, 'designed': 9.859016070196194e-05, 'marylandrum': 9.859016070196194e-05, 'irritated': 9.859016070196194e-05, 'cancelled': 9.859016070196194e-05, 'figured': 9.859016070196194e-05, 'meganbarry': 9.859016070196194e-05, 'hiddenbrooke': 9.859016070196194e-05, 'bartlett': 9.859016070196194e-05, 'elation': 9.859016070196194e-05, 'twitterworld': 9.859016070196194e-05, 'minx100': 9.859016070196194e-05, 'smelt': 9.859016070196194e-05, 'balcony': 9.859016070196194e-05, 'string': 9.859016070196194e-05, 'melvin': 9.859016070196194e-05, 'bom': 9.859016070196194e-05, 'havin': 9.859016070196194e-05, 'mtb': 9.859016070196194e-05, 'ces': 9.859016070196194e-05, 'harveymilk': 9.859016070196194e-05, 'event': 9.859016070196194e-05, 'showin': 9.859016070196194e-05, 'pratt': 9.859016070196194e-05, 'drives': 9.859016070196194e-05, 'aetna': 9.859016070196194e-05, 'classmate': 9.859016070196194e-05, 'stalks': 9.859016070196194e-05, 'tamagotchi': 9.859016070196194e-05, 'tubilino': 9.859016070196194e-05, 'need': 9.859016070196194e-05, 'fam': 9.859016070196194e-05, 'can': 9.859016070196194e-05, 'page': 9.859016070196194e-05, 'tea': 9.859016070196194e-05, '6a': 9.859016070196194e-05, 'secretlifefan22': 9.859016070196194e-05, 'report': 9.859016070196194e-05, 'inspires': 9.859016070196194e-05, 'philip': 9.859016070196194e-05, 'bum': 9.859016070196194e-05, 'johnpapa': 9.859016070196194e-05, 'artist': 9.859016070196194e-05, 'mcdonalds': 9.859016070196194e-05, 'reg': 9.859016070196194e-05, 'biting': 9.859016070196194e-05, 'mrsradioviolet': 9.859016070196194e-05, 'gary': 9.859016070196194e-05, '2x': 9.859016070196194e-05, 'paint': 9.859016070196194e-05, 'miracle': 9.859016070196194e-05, 'bduckles': 9.859016070196194e-05, 'lincolnbuff2': 9.859016070196194e-05, 'gcses': 9.859016070196194e-05, 'yessss': 9.859016070196194e-05, 'koth': 9.859016070196194e-05, 'lbj': 9.859016070196194e-05, 'ang': 9.859016070196194e-05, 'trivia': 9.859016070196194e-05, 'tshirts': 9.859016070196194e-05, 'dancing': 9.859016070196194e-05, 'exactly': 9.859016070196194e-05, 'rushed': 9.859016070196194e-05, 'hm': 9.859016070196194e-05, 'worry': 9.859016070196194e-05, 'ugottaloveindi': 9.859016070196194e-05, 'loaner': 9.859016070196194e-05, 'adobe': 9.859016070196194e-05, 'nitin': 9.859016070196194e-05, 'cereal': 9.859016070196194e-05, 'scifichannel': 9.859016070196194e-05, 'faith': 9.859016070196194e-05, 'writeplayrepeat': 9.859016070196194e-05, 'ts': 9.859016070196194e-05, 'threatened': 9.859016070196194e-05, 'sofa': 9.859016070196194e-05, 'ultimatefoodie': 9.859016070196194e-05, 'twitter': 9.859016070196194e-05, 'fiesty32': 9.859016070196194e-05, 'hours': 9.859016070196194e-05, 'twiril': 9.859016070196194e-05, 'living': 9.859016070196194e-05, 'alrighty': 9.859016070196194e-05, 'everybodys': 9.859016070196194e-05, 'shanebryan': 9.859016070196194e-05, 'greatness': 9.859016070196194e-05, 'prayers': 9.859016070196194e-05, 'profiles': 9.859016070196194e-05, 'thatll': 9.859016070196194e-05, 'flat': 9.859016070196194e-05, 'calvinharris': 9.859016070196194e-05, 'reinstall': 9.859016070196194e-05, 'tucked': 9.859016070196194e-05, 'all': 9.859016070196194e-05, 'saab': 9.859016070196194e-05, 'mobile': 9.859016070196194e-05, 'ryan': 9.859016070196194e-05, 'anke': 9.859016070196194e-05, 'fucking': 9.859016070196194e-05, 'littlehallie': 9.859016070196194e-05, 'whiplash': 9.859016070196194e-05, 'bs': 9.859016070196194e-05, 'awwwwwwwwwwwwwwwwhhhhhhhhh': 9.859016070196194e-05, 'gracing': 9.859016070196194e-05, 'seem': 9.859016070196194e-05, 'imaginative': 9.859016070196194e-05, 'eb': 9.859016070196194e-05, 'jt': 9.859016070196194e-05, 'vacum': 9.859016070196194e-05, 'sioux': 9.859016070196194e-05, 'jazzyyyyyy': 9.859016070196194e-05, 'pickassoreborn': 9.859016070196194e-05, 'dia': 9.859016070196194e-05, 'finna': 9.859016070196194e-05, 'saddddddd': 9.859016070196194e-05, 'emjaystar': 9.859016070196194e-05, 'general': 9.859016070196194e-05, 'spencermckinney': 9.859016070196194e-05, 'swap': 9.859016070196194e-05, 'prompt': 9.859016070196194e-05, 'bytera': 9.859016070196194e-05, 'r': 9.859016070196194e-05, 'burritos': 9.859016070196194e-05, 'devastating': 9.859016070196194e-05, 'lemonade': 9.859016070196194e-05, 'mrsmcfox': 9.859016070196194e-05, 'muse': 9.859016070196194e-05, 'volunteer': 9.859016070196194e-05, 'revenge': 9.859016070196194e-05, 'gorgeous': 9.859016070196194e-05, 'ramons': 9.859016070196194e-05, 'kristenstewart9': 9.859016070196194e-05, 'joburg': 9.859016070196194e-05, 'nnardelli': 9.859016070196194e-05, 'glad': 9.859016070196194e-05, 'brevity': 9.859016070196194e-05, 'timee': 9.859016070196194e-05, '10am': 9.859016070196194e-05, 'difficult': 9.859016070196194e-05, 'asleep': 9.859016070196194e-05, 'kicking': 9.859016070196194e-05, 'mcdowell': 9.859016070196194e-05, 'stepheezy': 9.859016070196194e-05, 'seven': 9.859016070196194e-05, 'ariaajaeger': 9.859016070196194e-05, 'fixing': 9.859016070196194e-05, 'fools': 9.859016070196194e-05, 'grieved': 9.859016070196194e-05, 'microwave': 9.859016070196194e-05, 'parachuting': 9.859016070196194e-05, 'angl66': 9.859016070196194e-05, 'schmuck': 9.859016070196194e-05, 'poetry': 9.859016070196194e-05, 'ðºð': 9.859016070196194e-05, 'bachelor': 9.859016070196194e-05, 'spaghetti': 9.859016070196194e-05, 'swmchic': 9.859016070196194e-05, 'kimboyee': 9.859016070196194e-05, 'dotsauce': 9.859016070196194e-05, 'updates': 9.859016070196194e-05, 'tadi': 9.859016070196194e-05, 'ga': 9.859016070196194e-05, 'photos': 9.859016070196194e-05, 'sets': 9.859016070196194e-05, '2009ñ': 9.859016070196194e-05, 'cemetary': 9.859016070196194e-05, 'dang': 9.859016070196194e-05, 'sleeptighttiger': 9.859016070196194e-05, 'hazin': 9.859016070196194e-05, 'soccer': 9.859016070196194e-05, 'conference': 9.859016070196194e-05, 'complicated': 9.859016070196194e-05, 'awdio': 9.859016070196194e-05, 'pamdemonium': 9.859016070196194e-05, 'diaper': 9.859016070196194e-05, 'theawfultruth': 9.859016070196194e-05, 'moochow': 9.859016070196194e-05, 'partner': 9.859016070196194e-05, 'pcd': 9.859016070196194e-05, 'sandysweetness': 9.859016070196194e-05, 'comformfortable': 9.859016070196194e-05, 'perhaps': 9.859016070196194e-05, 'rate': 9.859016070196194e-05, 'srvp': 9.859016070196194e-05, 'bamthedj': 9.859016070196194e-05, 'cig': 9.859016070196194e-05, 'mobidextrous': 9.859016070196194e-05, 'basic': 9.859016070196194e-05, 'tuxotaku': 9.859016070196194e-05, 'usual': 9.859016070196194e-05, 'sh8dytel': 9.859016070196194e-05, 'leader': 9.859016070196194e-05, 'swam': 9.859016070196194e-05, 'complete': 9.859016070196194e-05, 'monday': 9.859016070196194e-05, 'door': 9.859016070196194e-05, 'pity': 9.859016070196194e-05, 'lightfoot': 9.859016070196194e-05, 'michaels': 9.859016070196194e-05, 'bubblegate': 9.859016070196194e-05, 'heads': 9.859016070196194e-05, '5d': 9.859016070196194e-05, 'ria': 9.859016070196194e-05, 'agent': 9.859016070196194e-05, 'joshgroban': 9.859016070196194e-05, 'roxiih': 9.859016070196194e-05, 'official': 9.859016070196194e-05, 'refuses': 9.859016070196194e-05, 'apprentice': 9.859016070196194e-05, 'tweetersss': 9.859016070196194e-05, 'heroine': 9.859016070196194e-05, 'ups': 9.859016070196194e-05, 'spelling': 9.859016070196194e-05, 'msrnbjazz': 9.859016070196194e-05, 'sf': 9.859016070196194e-05, 'involved': 9.859016070196194e-05, '23205': 9.859016070196194e-05, 'weasley': 9.859016070196194e-05, 'awesomeee': 9.859016070196194e-05, 'steps': 9.859016070196194e-05, 'urghhhhh': 9.859016070196194e-05, 'pandasized': 9.859016070196194e-05, 'final': 9.859016070196194e-05, 'lava': 9.859016070196194e-05, 'checking': 9.859016070196194e-05, 'moanyboot': 9.859016070196194e-05, 'diary': 9.859016070196194e-05, 'nerd': 9.859016070196194e-05, 'stroll': 9.859016070196194e-05, 'shuroo': 9.859016070196194e-05, 'mis': 9.859016070196194e-05, 'sumpin': 9.859016070196194e-05, 'george': 9.859016070196194e-05, 'works': 9.859016070196194e-05, 'legend': 9.859016070196194e-05, 'wtf': 9.859016070196194e-05, 'squirrels': 9.859016070196194e-05, 'chapters': 9.859016070196194e-05, 'neda': 9.859016070196194e-05, 'delightful': 9.859016070196194e-05, 'pitchforkred': 9.859016070196194e-05, 'flavors': 9.859016070196194e-05, 'voted': 9.859016070196194e-05, 'gnarly': 9.859016070196194e-05, 'vote': 9.859016070196194e-05, 'parliament': 9.859016070196194e-05, 'julianne79': 9.859016070196194e-05, 'twitterville': 9.859016070196194e-05, 'template': 9.859016070196194e-05, 'swine': 9.859016070196194e-05, 'nobby': 9.859016070196194e-05, 'twitterland': 9.859016070196194e-05, 'meaningless': 9.859016070196194e-05, 'clean': 9.859016070196194e-05, 'sunbathin': 9.859016070196194e-05, 'kieronjames': 9.859016070196194e-05, 'wussup': 9.859016070196194e-05, 'creedon': 9.859016070196194e-05, 'free': 9.859016070196194e-05, 'jaleesaja': 9.859016070196194e-05, 'pet': 9.859016070196194e-05, 'cheeling': 9.859016070196194e-05, 'district': 9.859016070196194e-05, 'mgs': 9.859016070196194e-05, 'bearded': 9.859016070196194e-05, 'csusb': 9.859016070196194e-05, 'danced': 9.859016070196194e-05, 'next': 9.859016070196194e-05, 'shrank': 9.859016070196194e-05, 'huh': 9.859016070196194e-05, 'haha': 9.859016070196194e-05, 'frommystudio': 9.859016070196194e-05, 'wellington': 9.859016070196194e-05, 'constipation': 9.859016070196194e-05, 'starbucks': 9.859016070196194e-05, 'fabric': 9.859016070196194e-05, 'plump': 9.859016070196194e-05, 'pathetic': 9.859016070196194e-05, 'congrats': 9.859016070196194e-05, 'washin': 9.859016070196194e-05, 'maaaan': 9.859016070196194e-05, 'kidders': 9.859016070196194e-05, 'tians': 9.859016070196194e-05, 'glares': 9.859016070196194e-05, 'ow': 9.859016070196194e-05, 'kates': 9.859016070196194e-05, 'cues': 9.859016070196194e-05, 'hey': 9.859016070196194e-05, 'encouraged': 9.859016070196194e-05, 'max': 9.859016070196194e-05, 'popped': 9.859016070196194e-05, 'masterchef': 9.859016070196194e-05, 'bookmark': 9.859016070196194e-05, 'desilynnsmom': 9.859016070196194e-05, 'laterr': 9.859016070196194e-05, 'useful': 9.859016070196194e-05, 'gt': 9.859016070196194e-05, 'rogers': 9.859016070196194e-05, 'susieqtpie': 9.859016070196194e-05, 'wakes': 9.859016070196194e-05, 'tellllll': 9.859016070196194e-05, 'mcfly': 9.859016070196194e-05, 'wonderfull': 9.859016070196194e-05, 'miserable': 9.859016070196194e-05, 'extra': 9.859016070196194e-05, 'loseing': 9.859016070196194e-05, 'tgifridays': 9.859016070196194e-05, 'kuwxlady125': 9.859016070196194e-05, 'short': 9.859016070196194e-05, 'akankshagoel': 9.859016070196194e-05, 'sindy56': 9.859016070196194e-05, 'cruz': 9.859016070196194e-05, 'iilovejbxox': 9.859016070196194e-05, 'edc': 9.859016070196194e-05, 'chong': 9.859016070196194e-05, 'ahhhhhh': 9.859016070196194e-05, 'obrigado': 9.859016070196194e-05, 'staten': 9.859016070196194e-05, 'mabeo': 9.859016070196194e-05, 'anyone': 9.859016070196194e-05, 'circumference': 9.859016070196194e-05, 'latin': 9.859016070196194e-05, 'dying': 9.859016070196194e-05, 'youngq': 9.859016070196194e-05, 'low': 9.859016070196194e-05, 'letmypridebe': 9.859016070196194e-05, 'gift': 9.859016070196194e-05, 'carolina': 9.859016070196194e-05, 'alexs': 9.859016070196194e-05, 'pinkkpaiige12': 9.859016070196194e-05, 'frankly': 9.859016070196194e-05, 'twittyamanda': 9.859016070196194e-05, 'paddy': 9.859016070196194e-05, 'hin': 9.859016070196194e-05, 'kygor': 9.859016070196194e-05, 'cut': 9.859016070196194e-05, 'tonycarrera': 9.859016070196194e-05, 'peolple': 9.859016070196194e-05, 'arie': 9.859016070196194e-05, 'wwwm2easia': 9.859016070196194e-05, 'catchy': 9.859016070196194e-05, 'woohooo': 9.859016070196194e-05, 'anarbormike': 9.859016070196194e-05, 'rayban': 9.859016070196194e-05, 'speaking': 9.859016070196194e-05, 'lovely': 9.859016070196194e-05, 'freelancerant': 9.859016070196194e-05, 'visitor': 9.859016070196194e-05, 'giuseppe': 9.859016070196194e-05, 'players': 9.859016070196194e-05, 'advances': 9.859016070196194e-05, '124': 9.859016070196194e-05, 'api': 9.859016070196194e-05, 'moment': 9.859016070196194e-05, 'sj32': 9.859016070196194e-05, 'dom': 9.859016070196194e-05, 'effort': 9.859016070196194e-05, 'hitting': 9.859016070196194e-05, 'gravity': 9.859016070196194e-05, 'circa': 9.859016070196194e-05, 'essays': 9.859016070196194e-05, 'frustrations': 9.859016070196194e-05, 'ss': 9.859016070196194e-05, 'soas': 9.859016070196194e-05, 'strapped': 9.859016070196194e-05, 'xstaticstacey': 9.859016070196194e-05, 'built': 9.859016070196194e-05, 'charro23': 9.859016070196194e-05, 'suckahpunch': 9.859016070196194e-05, 'mxbx': 9.859016070196194e-05, 'pearlywrites': 9.859016070196194e-05, 'marykunzgoldman': 9.859016070196194e-05, 'sidekick': 9.859016070196194e-05, 'colds': 9.859016070196194e-05, 'trips': 9.859016070196194e-05, 'self': 9.859016070196194e-05, 'helpful': 9.859016070196194e-05, 'favor': 9.859016070196194e-05, 'unboxing': 9.859016070196194e-05, 'a': 9.859016070196194e-05, 'damage': 9.859016070196194e-05, 'naomil413': 9.859016070196194e-05, 'recovering': 9.859016070196194e-05, '2nite': 9.859016070196194e-05, 'tamapalace': 9.859016070196194e-05, 'pres': 9.859016070196194e-05, 'shaaqt': 9.859016070196194e-05, 'darkufo': 9.859016070196194e-05, 'krist0ph3r': 9.859016070196194e-05, 'department': 9.859016070196194e-05, 'gusto': 9.859016070196194e-05, '¦': 9.859016070196194e-05, 'hel': 9.859016070196194e-05, 'moonsoar': 9.859016070196194e-05, 'chelsea': 9.859016070196194e-05, 'pairing': 9.859016070196194e-05, 'joanpatrick': 9.859016070196194e-05, 'melissa': 9.859016070196194e-05, 'arent': 9.859016070196194e-05, 'light': 9.859016070196194e-05, 'tweeted': 9.859016070196194e-05, 'fm': 9.859016070196194e-05, 'couldnt': 9.859016070196194e-05, 'matthewc': 9.859016070196194e-05, 'tlked': 9.859016070196194e-05, 'harryhayphl': 9.859016070196194e-05, 'noong': 9.859016070196194e-05, 'catania': 9.859016070196194e-05, 'donald': 9.859016070196194e-05, 'sun': 9.859016070196194e-05, 'extreme': 9.859016070196194e-05, 'flag': 9.859016070196194e-05, 'rotfl': 9.859016070196194e-05, 'barbecue': 9.859016070196194e-05, 'awwwww': 9.859016070196194e-05, 'stable': 9.859016070196194e-05, 'silver': 9.859016070196194e-05, 'odd': 9.859016070196194e-05, 'planned': 9.859016070196194e-05, 'kent': 9.859016070196194e-05, 'gulpanag': 9.859016070196194e-05, 'reserve': 9.859016070196194e-05, 'harpers': 9.859016070196194e-05, 'cuddlebum': 9.859016070196194e-05, 'fits': 9.859016070196194e-05, 'one': 9.859016070196194e-05, 'calling': 9.859016070196194e-05, '20mins': 9.859016070196194e-05, 'rhettroberts': 9.859016070196194e-05, 'yah': 9.859016070196194e-05, 'comedy': 9.859016070196194e-05, 'masheu09': 9.859016070196194e-05, 'heavesighs': 9.859016070196194e-05, 'virtueme': 9.859016070196194e-05, 'precisely': 9.859016070196194e-05, 'slow': 9.859016070196194e-05, 'magnet': 9.859016070196194e-05, 'attachment': 9.859016070196194e-05, 'retweets': 9.859016070196194e-05, '¾': 9.859016070196194e-05, 'resale': 9.859016070196194e-05, 'reality': 9.859016070196194e-05, 'interview': 9.859016070196194e-05, 'monitor': 9.859016070196194e-05, 'hve': 9.859016070196194e-05, 'neighborhood': 9.859016070196194e-05, 'fejennings': 9.859016070196194e-05, 'weekly': 9.859016070196194e-05, 'histoy': 9.859016070196194e-05, 'mickey': 9.859016070196194e-05, 'trampoline': 9.859016070196194e-05, 'hotswappable': 9.859016070196194e-05, 'tiara': 9.859016070196194e-05, 'pinksandi': 9.859016070196194e-05, 'justtam21': 9.859016070196194e-05, 'ignore': 9.859016070196194e-05, 'babys': 9.859016070196194e-05, 'cutee': 9.859016070196194e-05, 'topman': 9.859016070196194e-05, 'cg': 9.859016070196194e-05, 'tah': 9.859016070196194e-05, 'definite': 9.859016070196194e-05, 'minus': 9.859016070196194e-05, 'christianpf': 9.859016070196194e-05, '1938media': 9.859016070196194e-05, 'rikkilazao': 9.859016070196194e-05, 'marinadepp': 9.859016070196194e-05, 'shii': 9.859016070196194e-05, 'hahahahah': 9.859016070196194e-05, 'worth': 9.859016070196194e-05, 'ubuntu': 9.859016070196194e-05, 'spend': 9.859016070196194e-05, 'way': 9.859016070196194e-05, 'chiodos': 9.859016070196194e-05, 'greenwichlad': 9.859016070196194e-05, 'daytrip': 9.859016070196194e-05, 'british': 9.859016070196194e-05, 'rcn': 9.859016070196194e-05, 'indrairwan': 9.859016070196194e-05, 'outfit': 9.859016070196194e-05, 'ha': 9.859016070196194e-05, 'tnorth': 9.859016070196194e-05, 'hestheitboy': 9.859016070196194e-05, 'lost': 9.859016070196194e-05, 'demivenom': 9.859016070196194e-05, 'jacks': 9.859016070196194e-05, 'tehkimber': 9.859016070196194e-05, 'kath1213': 9.859016070196194e-05, 'revoked': 9.859016070196194e-05, 'which': 9.859016070196194e-05, 'detective': 9.859016070196194e-05, 'stream': 9.859016070196194e-05, 'september': 9.859016070196194e-05, 'jessimikaaaa': 9.859016070196194e-05, 'root': 9.859016070196194e-05, 't4': 9.859016070196194e-05, 'feels': 9.859016070196194e-05, 'britlove': 9.859016070196194e-05, 'cubbies': 9.859016070196194e-05, 'holidays': 9.859016070196194e-05, 'deathly': 9.859016070196194e-05, 'extracted': 9.859016070196194e-05, 'ahaha': 9.859016070196194e-05, 'change': 9.859016070196194e-05, 'shoulda': 9.859016070196194e-05, 'fez': 9.859016070196194e-05, 'helllll': 9.859016070196194e-05, 'if': 9.859016070196194e-05, 'physics': 9.859016070196194e-05, 'sowwiiiee': 9.859016070196194e-05, 'process': 9.859016070196194e-05, 'clears': 9.859016070196194e-05, 'welcometogower': 9.859016070196194e-05, 'bnice910': 9.859016070196194e-05, 'default': 9.859016070196194e-05, 'twice': 9.859016070196194e-05, 'gta': 9.859016070196194e-05, 'bgt': 9.859016070196194e-05, 'epilogue': 9.859016070196194e-05, 'feature': 9.859016070196194e-05, 'nicole': 9.859016070196194e-05, 'guitars': 9.859016070196194e-05, 'yalls': 9.859016070196194e-05, 'repaint': 9.859016070196194e-05, 'bradies': 9.859016070196194e-05, 'christine': 9.859016070196194e-05, 'radisson': 9.859016070196194e-05, 'follown': 9.859016070196194e-05, 'tan': 9.859016070196194e-05, 'hired': 9.859016070196194e-05, 'anniversary': 9.859016070196194e-05, 'quit': 9.859016070196194e-05, 'kesley': 9.859016070196194e-05, 'ughh': 9.859016070196194e-05, 'bfast': 9.859016070196194e-05, 'wellllll': 9.859016070196194e-05, 'rocks': 9.859016070196194e-05, 'balls': 9.859016070196194e-05, 'hoovering': 9.859016070196194e-05, 'nasty': 9.859016070196194e-05, 'hells': 9.859016070196194e-05, 'mrsrrc': 9.859016070196194e-05, 'gavin8': 9.859016070196194e-05, 'joining': 9.859016070196194e-05, 'juku': 9.859016070196194e-05, 'fuckah': 9.859016070196194e-05, 'nickname': 9.859016070196194e-05, 'ramsay': 9.859016070196194e-05, 'hotel': 9.859016070196194e-05, 'maddlepaddle': 9.859016070196194e-05, 'demons': 9.859016070196194e-05, 'thin': 9.859016070196194e-05, 'melted': 9.859016070196194e-05, 'meeee': 9.859016070196194e-05, 'terrifying': 9.859016070196194e-05, 'wire': 9.859016070196194e-05, 'ohhhhhh': 9.859016070196194e-05, 'cathylando': 9.859016070196194e-05, 'tomorow': 9.859016070196194e-05, 'falling': 9.859016070196194e-05, 'uk': 9.859016070196194e-05, 'alavert': 9.859016070196194e-05, 'peeps': 9.859016070196194e-05, 'seee': 9.859016070196194e-05, 'itsian': 9.859016070196194e-05, 'doctor': 9.859016070196194e-05, 'trek': 9.859016070196194e-05, 'learned': 9.859016070196194e-05, 'awwww': 9.859016070196194e-05, 'blind': 9.859016070196194e-05, 'indonesians': 9.859016070196194e-05, 'sneak': 9.859016070196194e-05, 'protester': 9.859016070196194e-05, 'kopo': 9.859016070196194e-05, 'iran': 9.859016070196194e-05, 'mcflyers': 9.859016070196194e-05, 'fear': 9.859016070196194e-05, 'skates': 9.859016070196194e-05, 'verry': 9.859016070196194e-05, 'weight': 9.859016070196194e-05, 'london': 9.859016070196194e-05, 'busydiscoball': 9.859016070196194e-05, 'nail': 9.859016070196194e-05, 'classic': 9.859016070196194e-05, 'blog': 9.859016070196194e-05, 'uh': 9.859016070196194e-05, 'fremont': 9.859016070196194e-05, 'rather': 9.859016070196194e-05, 'seanjohncom': 9.859016070196194e-05, 'lang': 9.859016070196194e-05, 'scottfaithfull': 9.859016070196194e-05, 'dekkerd509': 9.859016070196194e-05, 'including': 9.859016070196194e-05, 'cd': 9.859016070196194e-05, 'especially': 9.859016070196194e-05, 'mercy': 9.859016070196194e-05, 'relatively': 9.859016070196194e-05, 'stations': 9.859016070196194e-05, 'phonee': 9.859016070196194e-05, 'yoimajunkie': 9.859016070196194e-05, 'daylight': 9.859016070196194e-05, 'donniewahlberg': 9.859016070196194e-05, 'wash': 9.859016070196194e-05, 'monopolä': 9.859016070196194e-05, 'wheres': 9.859016070196194e-05, 'brothers': 9.859016070196194e-05, 'crack': 9.859016070196194e-05, 'junk': 9.859016070196194e-05, 'rockonrebelchld': 9.859016070196194e-05, '02': 9.859016070196194e-05, 'worldcat': 9.859016070196194e-05, 'ecstatic': 9.859016070196194e-05, 'tooth': 9.859016070196194e-05, 'namenick': 9.859016070196194e-05, 'recommendation': 9.859016070196194e-05, 'hires': 9.859016070196194e-05, 'nathanfillion': 9.859016070196194e-05, 'tuesday': 9.859016070196194e-05, 'ê': 9.859016070196194e-05, 'paranoid': 9.859016070196194e-05, 'veinsworld': 9.859016070196194e-05, 'dreads': 9.859016070196194e-05, 'itsmyeyes': 9.859016070196194e-05, 'azra': 9.859016070196194e-05, 'shutting': 9.859016070196194e-05, 'mysticalmaz': 9.859016070196194e-05, 'released': 9.859016070196194e-05, 'jonas': 9.859016070196194e-05, 'email': 9.859016070196194e-05, 'holy': 9.859016070196194e-05, 'heyy': 9.859016070196194e-05, 'rise': 9.859016070196194e-05, 'mmmm': 9.859016070196194e-05, 'planning': 9.859016070196194e-05, 'gas': 9.859016070196194e-05, 'davrs': 9.859016070196194e-05, 'singles': 9.859016070196194e-05, 'loser': 9.859016070196194e-05, 'allergytastic': 9.859016070196194e-05, 'sleepin': 9.859016070196194e-05, 'video': 9.859016070196194e-05, 'tofu': 9.859016070196194e-05, 'vay': 9.859016070196194e-05, 'motogp': 9.859016070196194e-05, 'lied': 9.859016070196194e-05, 'mane': 9.859016070196194e-05, 'europe': 9.859016070196194e-05, 'snd': 9.859016070196194e-05, 'bobshrunkle': 9.859016070196194e-05, 'combination': 9.859016070196194e-05, 'ronsalcedo': 9.859016070196194e-05, 'ilp': 9.859016070196194e-05, 'continuity': 9.859016070196194e-05, '2mozxxmuch': 9.859016070196194e-05, 'victims': 9.859016070196194e-05, 'fun': 9.859016070196194e-05, 'shellrawlins': 9.859016070196194e-05, 'bck': 9.859016070196194e-05, 'majornelson': 9.859016070196194e-05, 'nickcarter': 9.859016070196194e-05, 'getmevideo': 9.859016070196194e-05, 'pagee': 9.859016070196194e-05, 'wars': 9.859016070196194e-05, 'berat': 9.859016070196194e-05, '0930': 9.859016070196194e-05, 'ui': 9.859016070196194e-05, 'forced': 9.859016070196194e-05, 'v3': 9.859016070196194e-05, 'drink': 9.859016070196194e-05, 'overseas': 9.859016070196194e-05, 'forecast': 9.859016070196194e-05, 'sum': 9.859016070196194e-05, 'bwister': 9.859016070196194e-05, 'lauralkgw': 9.859016070196194e-05, 'tmr': 9.859016070196194e-05, 'maczombierawr': 9.859016070196194e-05, 'acted': 9.859016070196194e-05, 'connected': 9.859016070196194e-05, '1900': 9.859016070196194e-05, 'muffin': 9.859016070196194e-05, 'mb': 9.859016070196194e-05, 'brianmcnugget': 9.859016070196194e-05, 'jenn': 9.859016070196194e-05, 'wee': 9.859016070196194e-05, 'ndtv': 9.859016070196194e-05, 'skip': 9.859016070196194e-05, 'serving': 9.859016070196194e-05, 'katie': 9.859016070196194e-05, 'creaming': 9.859016070196194e-05, 'allisonpalmer': 9.859016070196194e-05, 'thus': 9.859016070196194e-05, 'tops': 9.859016070196194e-05, 'missmass': 9.859016070196194e-05, 'weiner': 9.859016070196194e-05, 'shockhorrorx': 9.859016070196194e-05, 'hannah': 9.859016070196194e-05, 'greggarbo': 9.859016070196194e-05, 'vodka': 9.859016070196194e-05, 'cries': 9.859016070196194e-05, 'strongly': 9.859016070196194e-05, 'skyblues4eva': 9.859016070196194e-05, 'ziggie1321': 9.859016070196194e-05, 'sutured': 9.859016070196194e-05, 'wolf': 9.859016070196194e-05, 'anotherespecially': 9.859016070196194e-05, 'degree': 9.859016070196194e-05, 'yihee': 9.859016070196194e-05, 'dezzmcr': 9.859016070196194e-05, 'twinkie': 9.859016070196194e-05, 'popularity': 9.859016070196194e-05, '14': 9.859016070196194e-05, 'heaps': 9.859016070196194e-05, 'hmxcasey': 9.859016070196194e-05, 'beautiful': 9.859016070196194e-05, 'leeadi': 9.859016070196194e-05, 'nice': 9.859016070196194e-05, 'purring': 9.859016070196194e-05, 'shrew': 9.859016070196194e-05, 'bass': 9.859016070196194e-05, 'al': 9.859016070196194e-05, 'evil': 9.859016070196194e-05, 'michelle': 9.859016070196194e-05, 'wwwdisneycollegeprogramcom': 9.859016070196194e-05, 'in': 9.859016070196194e-05, 'ich': 9.859016070196194e-05, '2day': 9.859016070196194e-05, 'stung': 9.859016070196194e-05, 'gooooooddddd': 9.859016070196194e-05, 'feta': 9.859016070196194e-05, 'disheartening': 9.859016070196194e-05, 'dirge': 9.859016070196194e-05, 'poorly': 9.859016070196194e-05, 'ddublover': 9.859016070196194e-05, 'scraped': 9.859016070196194e-05, 'leg': 9.859016070196194e-05, 'dirty': 9.859016070196194e-05, 'federal': 9.859016070196194e-05, 'cbc': 9.859016070196194e-05, 'behind': 9.859016070196194e-05, 'title': 9.859016070196194e-05, 'section': 9.859016070196194e-05, 'thenamesblunt': 9.859016070196194e-05, 'baked': 9.859016070196194e-05, 'tactics': 9.859016070196194e-05, 'assistance': 9.859016070196194e-05, 'boght': 9.859016070196194e-05, 'peek': 9.859016070196194e-05, 'joe4pixelworks': 9.859016070196194e-05, 'petewentz': 9.859016070196194e-05, 'waves': 9.859016070196194e-05, 'melissainphx': 9.859016070196194e-05, 'workin': 9.859016070196194e-05, 'checkup': 9.859016070196194e-05, 'jerks': 9.859016070196194e-05, 'aristotlemusic': 9.859016070196194e-05, 'awhile': 9.859016070196194e-05, 'smitch2008': 9.859016070196194e-05, 'sipping': 9.859016070196194e-05, 'vgl': 9.859016070196194e-05, 'trapped': 9.859016070196194e-05, 'lilicosic': 9.859016070196194e-05, 'juice': 9.859016070196194e-05, 'vadimphoto': 9.859016070196194e-05, 'software': 9.859016070196194e-05, 'scam': 9.859016070196194e-05, 'ðµ': 9.859016070196194e-05, 'registry': 9.859016070196194e-05, 'eqfacebookgrp': 9.859016070196194e-05, 'lifting': 9.859016070196194e-05, 'ten': 9.859016070196194e-05, 'omdyukkjtfxj': 9.859016070196194e-05, 'stumbleupon': 9.859016070196194e-05, 'switzerland': 9.859016070196194e-05, 'day': 9.859016070196194e-05, 'brotherhood': 9.859016070196194e-05, 'hair': 9.859016070196194e-05, 'michael': 9.859016070196194e-05, 'expensive': 9.859016070196194e-05, 'univ': 9.859016070196194e-05, 'bucks': 9.859016070196194e-05, 'shoutout': 9.859016070196194e-05, 'dallas': 9.859016070196194e-05, 'tweeters': 9.859016070196194e-05, 'nr': 9.859016070196194e-05, 'waiting': 9.859016070196194e-05, 'woof': 9.859016070196194e-05, 'coat': 9.859016070196194e-05, 'gilmore': 9.859016070196194e-05, 'taliyalltimelow': 9.859016070196194e-05, 'church': 9.859016070196194e-05, 'guac': 9.859016070196194e-05, 'brain': 9.859016070196194e-05, 'candyfloss': 9.859016070196194e-05, 'babe': 9.859016070196194e-05, 'hat': 9.859016070196194e-05, 'via': 9.859016070196194e-05, 'itxiitx': 9.859016070196194e-05, 'images': 9.859016070196194e-05, 'racin': 9.859016070196194e-05, 'sniff': 9.859016070196194e-05, 'overheating': 9.859016070196194e-05, 'cs': 9.859016070196194e-05, 'rained': 9.859016070196194e-05, 'sctunstall': 9.859016070196194e-05, 'williams': 9.859016070196194e-05, 'horoscope': 9.859016070196194e-05, 'girly': 9.859016070196194e-05, 'apollonia316': 9.859016070196194e-05, 'tasted': 9.859016070196194e-05, 'montana': 9.859016070196194e-05, 'man': 9.859016070196194e-05, 'third': 9.859016070196194e-05, 'betting': 9.859016070196194e-05, 'evenings': 9.859016070196194e-05, 'papers': 9.859016070196194e-05, 'quote': 9.859016070196194e-05, 'krystheilen': 9.859016070196194e-05, 'dish': 9.859016070196194e-05, 'hol234': 9.859016070196194e-05, 'nighty': 9.859016070196194e-05, 'well': 9.859016070196194e-05, 'opener': 9.859016070196194e-05, 'gracious': 9.859016070196194e-05, 'withh': 9.859016070196194e-05, 'egoodlett': 9.859016070196194e-05, 'fulton': 9.859016070196194e-05, '¶': 9.859016070196194e-05, 'sjusovaren': 9.859016070196194e-05, 'muesum': 9.859016070196194e-05, 'deploy': 9.859016070196194e-05, 'hamilton': 9.859016070196194e-05, '6': 9.859016070196194e-05, 'threats': 9.859016070196194e-05, 'pronounce': 9.859016070196194e-05, 'japan': 9.859016070196194e-05, 'cowbell': 9.859016070196194e-05, 'jiric': 9.859016070196194e-05, 'maple': 9.859016070196194e-05, 'convinced': 9.859016070196194e-05, 'close': 9.859016070196194e-05, 'nicely': 9.859016070196194e-05, 'count': 9.859016070196194e-05, 'horseradish': 9.859016070196194e-05, 'mondays': 9.859016070196194e-05, 'sel113': 9.859016070196194e-05, 'goood': 9.859016070196194e-05, 'forming': 9.859016070196194e-05, 'wyeh32': 9.859016070196194e-05, '²': 9.859016070196194e-05, 'luvchelseafc': 9.859016070196194e-05, 'mygameloft': 9.859016070196194e-05, 'mixtape': 9.859016070196194e-05, 'cicis': 9.859016070196194e-05, 'sheets': 9.859016070196194e-05, 'unpacking': 9.859016070196194e-05, 'fnishing': 9.859016070196194e-05, 'daisymoonstars': 9.859016070196194e-05, 'method': 9.859016070196194e-05, 'jimmycostello': 9.859016070196194e-05, 'spa': 9.859016070196194e-05, 'two': 9.859016070196194e-05, 'price': 9.859016070196194e-05, 'mic': 9.859016070196194e-05, 'acting': 9.859016070196194e-05, 'frezzing': 9.859016070196194e-05, 'bawrie': 9.859016070196194e-05, 'aprioribeauty': 9.859016070196194e-05, 'semarreta': 9.859016070196194e-05, 'pinkrebunny': 9.859016070196194e-05, 'cta': 9.859016070196194e-05, 'ladytwitster': 9.859016070196194e-05, 'wheel': 9.859016070196194e-05, 'throws': 9.859016070196194e-05, 'took': 9.859016070196194e-05, 'prego': 9.859016070196194e-05, 'cube': 9.859016070196194e-05, 'yrs': 9.859016070196194e-05, 'mcr': 9.859016070196194e-05, 'toured': 9.859016070196194e-05, 'nonstop': 9.859016070196194e-05, 'maxout': 9.859016070196194e-05, 'trendscaping': 9.859016070196194e-05, 'feline': 9.859016070196194e-05, 'closer': 9.859016070196194e-05, 'haga': 9.859016070196194e-05, 'adamrawsonbrown': 9.859016070196194e-05, 'topped': 9.859016070196194e-05, 'american': 9.859016070196194e-05, 'reccurence': 9.859016070196194e-05, 'meeting': 9.859016070196194e-05, 'knackered': 9.859016070196194e-05, 'abbie12': 9.859016070196194e-05, 'snobbishness': 9.859016070196194e-05, 'kinder': 9.859016070196194e-05, 'us': 9.859016070196194e-05, 'whitpetey': 9.859016070196194e-05, '9': 9.859016070196194e-05, 'laurenbotzspons': 9.859016070196194e-05, '11992': 9.859016070196194e-05, 'wife': 9.859016070196194e-05, 'adore': 9.859016070196194e-05, 'explained': 9.859016070196194e-05, 'further': 9.859016070196194e-05, 'hiya': 9.859016070196194e-05, 'tucker': 9.859016070196194e-05, 'chrismccallum': 9.859016070196194e-05, 'newspapers': 9.859016070196194e-05, 'hassle': 9.859016070196194e-05, 'shouting': 9.859016070196194e-05, 'nevershoutaziah': 9.859016070196194e-05, 'buzzing': 9.859016070196194e-05, 'azkaban': 9.859016070196194e-05, 'other': 9.859016070196194e-05, 'butterfly': 9.859016070196194e-05, 'nycgrl88': 9.859016070196194e-05, 'bio': 9.859016070196194e-05, 'bereft': 9.859016070196194e-05, 'private': 9.859016070196194e-05, 'replies': 9.859016070196194e-05, 'r2e2': 9.859016070196194e-05, 'parts': 9.859016070196194e-05, 'bananabby': 9.859016070196194e-05, '2morow': 9.859016070196194e-05, 'offiicially': 9.859016070196194e-05, 'idisk': 9.859016070196194e-05, 'twas': 9.859016070196194e-05, 'veges': 9.859016070196194e-05, 'spalongal': 9.859016070196194e-05, 'thanksdont': 9.859016070196194e-05, 'djmileslive105': 9.859016070196194e-05, 'wont': 9.859016070196194e-05, 'shamara99': 9.859016070196194e-05, '1p': 9.859016070196194e-05, 'chinatown': 9.859016070196194e-05, 'hanging': 9.859016070196194e-05, 'falls': 9.859016070196194e-05, 'ctual': 9.859016070196194e-05, '5am': 9.859016070196194e-05, 'surgery': 9.859016070196194e-05, 'tower': 9.859016070196194e-05, 'blisters': 9.859016070196194e-05, 'downstairs': 9.859016070196194e-05, 'onthe': 9.859016070196194e-05, 'gazzj27': 9.859016070196194e-05, '\\x9c': 9.859016070196194e-05, 'goodnight': 9.859016070196194e-05, 'death': 9.859016070196194e-05, 'terrific': 9.859016070196194e-05, 'barely': 9.859016070196194e-05, 'analytics': 9.859016070196194e-05, 'mickie': 9.859016070196194e-05, 'yourself': 9.859016070196194e-05, 'podcast': 9.859016070196194e-05, 'omerrr': 9.859016070196194e-05, 'xhellocallie': 9.859016070196194e-05, 'eastenders': 9.859016070196194e-05, 'ballads': 9.859016070196194e-05, 'disneyland': 9.859016070196194e-05, 'incredible': 9.859016070196194e-05, 'crocker': 9.859016070196194e-05, 'zac': 9.859016070196194e-05, 'small': 9.859016070196194e-05, 'transport': 9.859016070196194e-05, 'joannesmedley': 9.859016070196194e-05, 'ngl': 9.859016070196194e-05, 'luck': 9.859016070196194e-05, 'cuddle': 9.859016070196194e-05, 'ails': 9.859016070196194e-05, 'bc': 9.859016070196194e-05, 'umn': 9.859016070196194e-05, 'tomorraa': 9.859016070196194e-05, 'fat': 9.859016070196194e-05, 'noblesville': 9.859016070196194e-05, 'scream': 9.859016070196194e-05, 'toms': 9.859016070196194e-05, 'calculator': 9.859016070196194e-05, 'lived': 9.859016070196194e-05, 'awaiting': 9.859016070196194e-05, 'noidehea': 9.859016070196194e-05, 'wohoh': 9.859016070196194e-05, 'bunch': 9.859016070196194e-05, 'diversitybgt': 9.859016070196194e-05, 'whooot': 9.859016070196194e-05, 'humidity': 9.859016070196194e-05, 'sayyyyyyyy': 9.859016070196194e-05, 'accept': 9.859016070196194e-05, 'hav': 9.859016070196194e-05, 'wisecracks': 9.859016070196194e-05, 'goooodnight': 9.859016070196194e-05, 'pita': 9.859016070196194e-05, 'shits': 9.859016070196194e-05, 'jodymal': 9.859016070196194e-05, 'universal': 9.859016070196194e-05, 'identica': 9.859016070196194e-05, 'beautiful909': 9.859016070196194e-05, 'lookin': 9.859016070196194e-05, '3turnoffwords': 9.859016070196194e-05, 'believes': 9.859016070196194e-05, 'shilo': 9.859016070196194e-05, 'nooow': 9.859016070196194e-05, 'cakes': 9.859016070196194e-05, 'workign': 9.859016070196194e-05, 'moo': 9.859016070196194e-05, 'ges': 9.859016070196194e-05, 'hah': 9.859016070196194e-05, 'duff': 9.859016070196194e-05, 'uboats': 9.859016070196194e-05, 'heajerakajouu': 9.859016070196194e-05, 'realising': 9.859016070196194e-05, 'umahameed': 9.859016070196194e-05, 'emotional': 9.859016070196194e-05, 'press': 9.859016070196194e-05, 'trading': 9.859016070196194e-05, 'floody': 9.859016070196194e-05, 'shoppin': 9.859016070196194e-05, 'bet': 9.859016070196194e-05, 'kms': 9.859016070196194e-05, 'pointing': 9.859016070196194e-05, '42': 9.859016070196194e-05, 'bannanas': 9.859016070196194e-05, 'pea': 9.859016070196194e-05, 'precooked': 9.859016070196194e-05, 'catfuel': 9.859016070196194e-05, 'energy': 9.859016070196194e-05, 'fraid': 9.859016070196194e-05, 'carmabella': 9.859016070196194e-05, 'received': 9.859016070196194e-05, 'contact': 9.859016070196194e-05, 'imo': 9.859016070196194e-05, 'vids': 9.859016070196194e-05, 'patrickaxe': 9.859016070196194e-05, 'redbull': 9.859016070196194e-05, 'txted': 9.859016070196194e-05, 'begged': 9.859016070196194e-05, 'giggling': 9.859016070196194e-05, 'funnnn': 9.859016070196194e-05, 'bravo': 9.859016070196194e-05, 'letos': 9.859016070196194e-05, 'april': 9.859016070196194e-05, 'basundra': 9.859016070196194e-05, 'boots': 9.859016070196194e-05, 'misterro': 9.859016070196194e-05, 'em26miles': 9.859016070196194e-05, 'sometimes': 9.859016070196194e-05, 'jewelry': 9.859016070196194e-05, 'tuning': 9.859016070196194e-05, 'jessiwithoutyou': 9.859016070196194e-05, 'malll': 9.859016070196194e-05, 'network': 9.859016070196194e-05, 'purebred': 9.859016070196194e-05, 'bake': 9.859016070196194e-05, 'cookout': 9.859016070196194e-05, 'thatdudedeon': 9.859016070196194e-05, '\\x95': 9.859016070196194e-05, 'grrrr': 9.859016070196194e-05, 'stephenperry': 9.859016070196194e-05, 'vibrate': 9.859016070196194e-05, 'thechaser': 9.859016070196194e-05, 'gb': 9.859016070196194e-05, 'joking': 9.859016070196194e-05, 'how': 9.859016070196194e-05, 'systray': 9.859016070196194e-05, 'bedoggtde': 9.859016070196194e-05, '2mo': 9.859016070196194e-05, 'happening': 9.859016070196194e-05, 'somemaysay': 9.859016070196194e-05, 'phatfffat': 9.859016070196194e-05, 'sapphirecity': 9.859016070196194e-05, 'xoo': 9.859016070196194e-05, 'danipoynterjudd': 9.859016070196194e-05, 'diamondblvd': 9.859016070196194e-05, 'covered': 9.859016070196194e-05, 'xml': 9.859016070196194e-05, 'honorable': 9.859016070196194e-05, 'luau': 9.859016070196194e-05, 'loves': 9.859016070196194e-05, 'heroes': 9.859016070196194e-05, 'ashleyshakesit': 9.859016070196194e-05, 'ting': 9.859016070196194e-05, 'redneck': 9.859016070196194e-05, 'janell': 9.859016070196194e-05, 'deck': 9.859016070196194e-05, 'thebraysmommy': 9.859016070196194e-05, 'them': 9.859016070196194e-05, 'diz': 9.859016070196194e-05, 'joes': 9.859016070196194e-05, 'immediately': 9.859016070196194e-05, 'lisastorm': 9.859016070196194e-05, 'workhouse': 9.859016070196194e-05, 'kreesha': 9.859016070196194e-05, 'dormir': 9.859016070196194e-05, 'sounds': 9.859016070196194e-05, 'tonsils': 9.859016070196194e-05, 'roofing': 9.859016070196194e-05, 'buffet': 9.859016070196194e-05, 'painted': 9.859016070196194e-05, 'fairy': 9.859016070196194e-05, 'knw': 9.859016070196194e-05, 'take': 9.859016070196194e-05, 'goodbye': 9.859016070196194e-05, 'emai': 9.859016070196194e-05, 'phx': 9.859016070196194e-05, 'sausage': 9.859016070196194e-05, 'texts': 9.859016070196194e-05, 'creamer': 9.859016070196194e-05, 'byron': 9.859016070196194e-05, 'relized': 9.859016070196194e-05, 'vuzzello': 9.859016070196194e-05, 'usa': 9.859016070196194e-05, 'kim': 9.859016070196194e-05, 'dexterouslady': 9.859016070196194e-05, 'ladytron': 9.859016070196194e-05, 'hiros': 9.859016070196194e-05, 'actual': 9.859016070196194e-05, 'vat': 9.859016070196194e-05, '2b': 9.859016070196194e-05, 'prettyprats': 9.859016070196194e-05, 'emilystweet': 9.859016070196194e-05, 'helmet': 9.859016070196194e-05, 'aches': 9.859016070196194e-05, 'google': 9.859016070196194e-05, 'iff': 9.859016070196194e-05, 'hehehehe': 9.859016070196194e-05, 'apauley88': 9.859016070196194e-05, 'cough': 9.859016070196194e-05, 'casa': 9.859016070196194e-05, 'thai': 9.859016070196194e-05, 'adriennebailon': 9.859016070196194e-05, 'xbox': 9.859016070196194e-05, 'thunderstorm': 9.859016070196194e-05, 'horizon': 9.859016070196194e-05, 'jpstg': 9.859016070196194e-05, 'perilous': 9.859016070196194e-05, 'h20': 9.859016070196194e-05, 'beloved': 9.859016070196194e-05, 'realised': 9.859016070196194e-05, 'basketball': 9.859016070196194e-05, 'pounds': 9.859016070196194e-05, 'should': 9.859016070196194e-05, 'lose': 9.859016070196194e-05, 'inaperfectworld': 9.859016070196194e-05, 'manxstef': 9.859016070196194e-05, 'drained': 9.859016070196194e-05, 'eye': 9.859016070196194e-05, 'dai': 9.859016070196194e-05, 'shut': 9.859016070196194e-05, 'rhetthislop': 9.859016070196194e-05, 'subo': 9.859016070196194e-05, 'digging': 9.859016070196194e-05, 'tstorm': 9.859016070196194e-05, 'whatcha': 9.859016070196194e-05, 'rub': 9.859016070196194e-05, 'curry': 9.859016070196194e-05, 'relatives': 9.859016070196194e-05, 'terah': 9.859016070196194e-05, 'agree': 9.859016070196194e-05, 'release': 9.859016070196194e-05, 'digitallearnin': 9.859016070196194e-05, 'jailbroken': 9.859016070196194e-05, 'workout': 9.859016070196194e-05, 'waking': 9.859016070196194e-05, 'lib': 9.859016070196194e-05, 'amylovegrove': 9.859016070196194e-05, 'vietnam': 9.859016070196194e-05, 'peppers': 9.859016070196194e-05, 'chocolate': 9.859016070196194e-05, 'petition': 9.859016070196194e-05, 'present': 9.859016070196194e-05, 'boring': 9.859016070196194e-05, 'fml': 9.859016070196194e-05, 'brb': 9.859016070196194e-05, 'tote': 9.859016070196194e-05, 'dougiwmcfly': 9.859016070196194e-05, 'accidently': 9.859016070196194e-05, '1550': 9.859016070196194e-05, 'digiscrap09': 9.859016070196194e-05, 'convos': 9.859016070196194e-05, 'seeing': 9.859016070196194e-05, 'cards': 9.859016070196194e-05, 'setup': 9.859016070196194e-05, 'alixsays': 9.859016070196194e-05, 'mvc': 9.859016070196194e-05, 'sprinkles': 9.859016070196194e-05, 'hottest': 9.859016070196194e-05, 'warming': 9.859016070196194e-05, 'brandy': 9.859016070196194e-05, 'dance': 9.859016070196194e-05, 'aahahahah': 9.859016070196194e-05, 'coriemichele': 9.859016070196194e-05, 'lyrics': 9.859016070196194e-05, 'sa': 9.859016070196194e-05, 'surprise': 9.859016070196194e-05, 'newt0': 9.859016070196194e-05, 'semuuaa': 9.859016070196194e-05, 'gibbs': 9.859016070196194e-05, '354': 9.859016070196194e-05, 'commercial': 9.859016070196194e-05, 'traitor': 9.859016070196194e-05, 'description': 9.859016070196194e-05, 'keynote': 9.859016070196194e-05, 'genius': 9.859016070196194e-05, 'flickr': 9.859016070196194e-05, 'rebeccaberg': 9.859016070196194e-05, 'flint': 9.859016070196194e-05, 'rip': 9.859016070196194e-05, 'sallythatgirl': 9.859016070196194e-05, 'cafã': 9.859016070196194e-05, 'spoons': 9.859016070196194e-05, 'dyin': 9.859016070196194e-05, 'bathroom': 9.859016070196194e-05, 'frequently': 9.859016070196194e-05, 'ali': 9.859016070196194e-05, 'lok': 9.859016070196194e-05, 'backwrds': 9.859016070196194e-05, 'toys': 9.859016070196194e-05, 'iamsneezy': 9.859016070196194e-05, 'outbid': 9.859016070196194e-05, 'gavroache': 9.859016070196194e-05, 'floor': 9.859016070196194e-05, 'argentina': 9.859016070196194e-05, 'wirelessg': 9.859016070196194e-05, 'blackberries': 9.859016070196194e-05, 'semester': 9.859016070196194e-05, 'trachtenberg': 9.859016070196194e-05, 'keg': 9.859016070196194e-05, 'ihsanamin': 9.859016070196194e-05, 'crossing': 9.859016070196194e-05, 'keyboard': 9.859016070196194e-05, 'sweetness': 9.859016070196194e-05, 'association': 9.859016070196194e-05, 'insured': 9.859016070196194e-05, 'presented': 9.859016070196194e-05, 'anywhere': 9.859016070196194e-05, 'kiss': 9.859016070196194e-05, 'configuring': 9.859016070196194e-05, 'bouts': 9.859016070196194e-05, 'joints': 9.859016070196194e-05, 'sort': 9.859016070196194e-05, 'highers': 9.859016070196194e-05, 'filter': 9.859016070196194e-05, 'petergra': 9.859016070196194e-05, 'prayer': 9.859016070196194e-05, 'turned': 9.859016070196194e-05, 'is': 9.859016070196194e-05, 'tahoe': 9.859016070196194e-05, 'everywhere': 9.859016070196194e-05, 'been': 9.859016070196194e-05, 'nathalichristy': 9.859016070196194e-05, 'pookthy': 9.859016070196194e-05, 'type': 9.859016070196194e-05, 'hyperopia': 9.859016070196194e-05, 'ciao': 9.859016070196194e-05, 'emailed': 9.859016070196194e-05, 'bottle': 9.859016070196194e-05, 'fb': 9.859016070196194e-05, 'landed': 9.859016070196194e-05, 'sippin': 9.859016070196194e-05, 'gig': 9.859016070196194e-05, 'front': 9.859016070196194e-05, 'paying': 9.859016070196194e-05, 'mwahahaha': 9.859016070196194e-05, 'ocean': 9.859016070196194e-05, 'loooove': 9.859016070196194e-05, 'sporking': 9.859016070196194e-05, 'nachojohnny': 9.859016070196194e-05, 'erinhere': 9.859016070196194e-05, 'ate': 9.859016070196194e-05, 'awesome': 9.859016070196194e-05, 'membership': 9.859016070196194e-05, 'tash': 9.859016070196194e-05, 'hiding': 9.859016070196194e-05, 'hate': 9.859016070196194e-05, 'squeek': 9.859016070196194e-05, 'traffic': 9.859016070196194e-05, 'friend': 9.859016070196194e-05, 'drum': 9.859016070196194e-05, 'anxiously': 9.859016070196194e-05, 'letters': 9.859016070196194e-05, 'herr': 9.859016070196194e-05, 'v': 9.859016070196194e-05, 'm42': 9.859016070196194e-05, 'peed': 9.859016070196194e-05, 'hands': 9.859016070196194e-05, 'ugh': 9.859016070196194e-05, 'plot': 9.859016070196194e-05, 'shayyyg': 9.859016070196194e-05, 'much': 9.859016070196194e-05, 'wensday': 9.859016070196194e-05, '12': 9.859016070196194e-05, 'bruno': 9.859016070196194e-05, 'effing': 9.859016070196194e-05, 'voices': 9.859016070196194e-05, 'hott': 9.859016070196194e-05, 'nickswisher': 9.859016070196194e-05, 'nike': 9.859016070196194e-05, 'irishprincess41': 9.859016070196194e-05, 'basshunter': 9.859016070196194e-05, 'party': 9.859016070196194e-05, 'wp': 9.859016070196194e-05, 'repeat': 9.859016070196194e-05, 'semprafi': 9.859016070196194e-05, 'tone': 9.859016070196194e-05, 'opend': 9.859016070196194e-05, 'eat': 9.859016070196194e-05, 'spring': 9.859016070196194e-05, 'lilyjang': 9.859016070196194e-05, 'occupied': 9.859016070196194e-05, 'whoops': 9.859016070196194e-05, 'knees': 9.859016070196194e-05, 'arhhh': 9.859016070196194e-05, 'magazines': 9.859016070196194e-05, 'youy': 9.859016070196194e-05, 'gotten': 9.859016070196194e-05, 'eeeeeek': 9.859016070196194e-05, 'tennisetviola': 9.859016070196194e-05, 'adventure': 9.859016070196194e-05, 'inspire': 9.859016070196194e-05, '930': 9.859016070196194e-05, 'lands': 9.859016070196194e-05, 'others': 9.859016070196194e-05, 'totally': 9.859016070196194e-05, 'am': 9.859016070196194e-05, 'fully': 9.859016070196194e-05, 'advocate': 9.859016070196194e-05, 'mistymontano': 9.859016070196194e-05, 'jessi': 9.859016070196194e-05, 'university': 9.859016070196194e-05, 'sderot': 9.859016070196194e-05, 'badly': 9.859016070196194e-05, 'lying': 9.859016070196194e-05, 'owned': 9.859016070196194e-05, 'abou': 9.859016070196194e-05, 'thewynk': 9.859016070196194e-05, 'twilightfan023': 9.859016070196194e-05, 'security': 9.859016070196194e-05, 'improved': 9.859016070196194e-05, 'chocimos': 9.859016070196194e-05, 'goodlier': 9.859016070196194e-05, 'finalyyy': 9.859016070196194e-05, 'hugging': 9.859016070196194e-05, 'twins': 9.859016070196194e-05, 'viewfrommyseats': 9.859016070196194e-05, 'dzys': 9.859016070196194e-05, 'm': 9.859016070196194e-05, 'fc': 9.859016070196194e-05, 'princesammie': 9.859016070196194e-05, 'shedabeda': 9.859016070196194e-05, 'zeni': 9.859016070196194e-05, 'monsoonsmangoes': 9.859016070196194e-05, 'supercharged': 9.859016070196194e-05, 'sauce': 9.859016070196194e-05, 'sky': 9.859016070196194e-05, 'serbia': 9.859016070196194e-05, 'skool': 9.859016070196194e-05, 'kristi': 9.859016070196194e-05, 'damnit': 9.859016070196194e-05, 'cleaninggirl': 9.859016070196194e-05, 'hunks': 9.859016070196194e-05, 'constantly': 9.859016070196194e-05, '200': 9.859016070196194e-05, 'imgonna': 9.859016070196194e-05, 'jumbled': 9.859016070196194e-05, 'jschools': 9.859016070196194e-05, 'hooray': 9.859016070196194e-05, 'tha': 9.859016070196194e-05, 'mojito': 9.859016070196194e-05, 'rotating': 9.859016070196194e-05, 'csquare6': 9.859016070196194e-05, 'attracts': 9.859016070196194e-05, 'began': 9.859016070196194e-05, 'wwwmyspacecommdadinosaur': 9.859016070196194e-05, 'uberproject': 9.859016070196194e-05, 'cook': 9.859016070196194e-05, 'unless': 9.859016070196194e-05, 'through': 9.859016070196194e-05, 'almost': 9.859016070196194e-05, 'entertained': 9.859016070196194e-05, 'blessing': 9.859016070196194e-05, 'queston': 9.859016070196194e-05, 'il': 9.859016070196194e-05, 'tings': 9.859016070196194e-05, 'mmaking': 9.859016070196194e-05, 'practice': 9.859016070196194e-05, 'usd': 9.859016070196194e-05, 'pisces': 9.859016070196194e-05, 'v2': 9.859016070196194e-05, 'sarum': 9.859016070196194e-05, 'sickies': 9.859016070196194e-05, 'beans': 9.859016070196194e-05, 'cousins': 9.859016070196194e-05, 'ego': 9.859016070196194e-05, 'friends': 9.859016070196194e-05, 'mikebutcher': 9.859016070196194e-05, 'workshop': 9.859016070196194e-05, 'designing': 9.859016070196194e-05, 'bjgotnext': 9.859016070196194e-05, 'instinct': 9.859016070196194e-05, 'patriot': 9.859016070196194e-05, 'tagging': 9.859016070196194e-05, 'looks': 9.859016070196194e-05, 'waverly': 9.859016070196194e-05, 'easily': 9.859016070196194e-05, 'beckyp234': 9.859016070196194e-05, 'awayy': 9.859016070196194e-05, 'hbp': 9.859016070196194e-05, 'attitude': 9.859016070196194e-05, 'levnumesmerized': 9.859016070196194e-05, 'wondered': 9.859016070196194e-05, 'id': 9.859016070196194e-05, 'marketing': 9.859016070196194e-05, 'bones': 9.859016070196194e-05, 'courtneysit': 9.859016070196194e-05, 'conditions': 9.859016070196194e-05, 'jonathan': 9.859016070196194e-05, 'softmachine': 9.859016070196194e-05, 'bottoms': 9.859016070196194e-05, 'poo': 9.859016070196194e-05, 'anticlimax': 9.859016070196194e-05, 'appalled': 9.859016070196194e-05, 'parking': 9.859016070196194e-05, 'handle': 9.859016070196194e-05, 'scarred': 9.859016070196194e-05, 'routine': 9.859016070196194e-05, 'stepmom': 9.859016070196194e-05, 'wives': 9.859016070196194e-05, 'putting': 9.859016070196194e-05, 'chuck': 9.859016070196194e-05, 'jamieworley': 9.859016070196194e-05, 'list': 9.859016070196194e-05, 'presence': 9.859016070196194e-05, 'akila': 9.859016070196194e-05, '2am': 9.859016070196194e-05, 'wel': 9.859016070196194e-05, 'latitude': 9.859016070196194e-05, 'knocked': 9.859016070196194e-05, 'gets': 9.859016070196194e-05, 'realdeal32': 9.859016070196194e-05, 'your': 9.859016070196194e-05, 'disappointed': 9.859016070196194e-05, 'scary': 9.859016070196194e-05, 'cutest': 9.859016070196194e-05, 'jacket': 9.859016070196194e-05, 'yarra': 9.859016070196194e-05, 'misjudge': 9.859016070196194e-05, 'asks': 9.859016070196194e-05, 'campening': 9.859016070196194e-05, 'disney': 9.859016070196194e-05, 'aim': 9.859016070196194e-05, 'hym': 9.859016070196194e-05, '25': 9.859016070196194e-05, 'firebuilt': 9.859016070196194e-05, 'beginning': 9.859016070196194e-05, 'zaga': 9.859016070196194e-05, 'ole': 9.859016070196194e-05, 'eyeballs': 9.859016070196194e-05, 'hamburg': 9.859016070196194e-05, 'bobdo': 9.859016070196194e-05, 'biking': 9.859016070196194e-05, 'unedited': 9.859016070196194e-05, 'chatting': 9.859016070196194e-05, 'kitkatz91': 9.859016070196194e-05, 'jessica': 9.859016070196194e-05, 'needed': 9.859016070196194e-05, 'caught': 9.859016070196194e-05, 'fold': 9.859016070196194e-05, 'murph': 9.859016070196194e-05, 'apartment': 9.859016070196194e-05, 'pooping': 9.859016070196194e-05, 'boooo': 9.859016070196194e-05, 'cross': 9.859016070196194e-05, 'alike': 9.859016070196194e-05, 'johngreenaway': 9.859016070196194e-05, 'stopping': 9.859016070196194e-05, 'natal': 9.859016070196194e-05, 'were': 9.859016070196194e-05, 'davidoreilly': 9.859016070196194e-05, 'tomtravel2': 9.859016070196194e-05, 'carded': 9.859016070196194e-05, 'dissapointed': 9.859016070196194e-05, 'dreading': 9.859016070196194e-05, 'goo': 9.859016070196194e-05, 'cooooossstttaaa': 9.859016070196194e-05, 'slept': 9.859016070196194e-05, 'iceprincess12': 9.859016070196194e-05, 'clever': 9.859016070196194e-05, 'yvettesyversen': 9.859016070196194e-05, 'psittacosis': 9.859016070196194e-05, 'millecent': 9.859016070196194e-05, 'odeeee': 9.859016070196194e-05, 'kane': 9.859016070196194e-05, 'major': 9.859016070196194e-05, '\\x9b': 9.859016070196194e-05, 'since': 9.859016070196194e-05, 'payday': 9.859016070196194e-05, 'dark': 9.859016070196194e-05, 'davids': 9.859016070196194e-05, 'definately': 9.859016070196194e-05, 'discussion': 9.859016070196194e-05, 'thinkn': 9.859016070196194e-05, 'happalongcom': 9.859016070196194e-05, 'pix': 9.859016070196194e-05, 'vinsharma': 9.859016070196194e-05, 'off': 9.859016070196194e-05, 'albums': 9.859016070196194e-05, 'champagne': 9.859016070196194e-05, 'sprouts': 9.859016070196194e-05, '38': 9.859016070196194e-05, 'gr8': 9.859016070196194e-05, 'bellys': 9.859016070196194e-05, 'rrriiicccaaa': 9.859016070196194e-05, 'factor': 9.859016070196194e-05, 'moz': 9.859016070196194e-05, 'phantomsarelame': 9.859016070196194e-05, 'betta': 9.859016070196194e-05, 'biggest': 9.859016070196194e-05, 'fui': 9.859016070196194e-05, 'seventeen': 9.859016070196194e-05, 'troymcdonald': 9.859016070196194e-05, 'skirt': 9.859016070196194e-05, 'talked': 9.859016070196194e-05, 'date': 9.859016070196194e-05, 'compt': 9.859016070196194e-05, 'mv': 9.859016070196194e-05, 'bristol': 9.859016070196194e-05, 'chittastic': 9.859016070196194e-05, 'makin': 9.859016070196194e-05, 'investment': 9.859016070196194e-05, 'dockers': 9.859016070196194e-05, 'der': 9.859016070196194e-05, '41': 9.859016070196194e-05, 'slowed': 9.859016070196194e-05, 'mama': 9.859016070196194e-05, 'ellie': 9.859016070196194e-05, 'wore': 9.859016070196194e-05, 'mit': 9.859016070196194e-05, 'passing': 9.859016070196194e-05, 'machine': 9.859016070196194e-05, 'jenajean': 9.859016070196194e-05, 'bobsadiebobsadieellie': 9.859016070196194e-05, 'sandwiches': 9.859016070196194e-05, 'mpt': 9.859016070196194e-05, 'baking': 9.859016070196194e-05, 'pavlova': 9.859016070196194e-05, '11yo': 9.859016070196194e-05, 'novaleedmb': 9.859016070196194e-05, 'compulsory': 9.859016070196194e-05, 'shrunk': 9.859016070196194e-05, 'limping': 9.859016070196194e-05, 'jdraper': 9.859016070196194e-05, 'ahh': 9.859016070196194e-05, 'uugggh': 9.859016070196194e-05, 'endlessmurmur': 9.859016070196194e-05, 'catharsiss': 9.859016070196194e-05, 'jphatala': 9.859016070196194e-05, 'x3michelle': 9.859016070196194e-05, 'mosquitoes': 9.859016070196194e-05, 'jersey': 9.859016070196194e-05, 'acid': 9.859016070196194e-05, 'whereas': 9.859016070196194e-05, 'andrea': 9.859016070196194e-05, 'tarswebb': 9.859016070196194e-05, 'threaded': 9.859016070196194e-05, 'eleclit': 9.859016070196194e-05, 'thud': 9.859016070196194e-05, 'explorations': 9.859016070196194e-05, 'magaï': 9.859016070196194e-05, 'practise': 9.859016070196194e-05, 'mcrchat': 9.859016070196194e-05, 'reasonit': 9.859016070196194e-05, 'mmerii': 9.859016070196194e-05, 'timelordsimone': 9.859016070196194e-05, 'teachers': 9.859016070196194e-05, 'whiterabbit00': 9.859016070196194e-05, '9yrs': 9.859016070196194e-05, 'melting': 9.859016070196194e-05, 'collinwolfboy': 9.859016070196194e-05, 'river': 9.859016070196194e-05, 'simoncurtis': 9.859016070196194e-05, 'play': 9.859016070196194e-05, 'carpal': 9.859016070196194e-05, 'taxi': 9.859016070196194e-05, 'tweeperzz': 9.859016070196194e-05, 'hes': 9.859016070196194e-05, 'zacseif': 9.859016070196194e-05, 'tests': 9.859016070196194e-05, 'manager': 9.859016070196194e-05, 'definitely': 9.859016070196194e-05, 'timinator': 9.859016070196194e-05, 'settle': 9.859016070196194e-05, 'simplyshannon': 9.859016070196194e-05, 'mqd': 9.859016070196194e-05, 'maryelleuh': 9.859016070196194e-05, 'mynameisforge': 9.859016070196194e-05, 'lisaotto': 9.859016070196194e-05, 'anniemacdj': 9.859016070196194e-05, 'above': 9.859016070196194e-05, 'hee': 9.859016070196194e-05, 'hoping': 9.859016070196194e-05, 'legit': 9.859016070196194e-05, '97': 9.859016070196194e-05, 'did': 9.859016070196194e-05, 'valentine': 9.859016070196194e-05, 'pee': 9.859016070196194e-05, 'hk': 9.859016070196194e-05, 'micheleknight': 9.859016070196194e-05, 'without': 9.859016070196194e-05, '1015': 9.859016070196194e-05, 'flute': 9.859016070196194e-05, 'dates': 9.859016070196194e-05, 'said': 9.859016070196194e-05, 'coworkers': 9.859016070196194e-05, 'uncovered': 9.859016070196194e-05, 'autibody': 9.859016070196194e-05, 'so': 9.859016070196194e-05, 'sleep': 9.859016070196194e-05, 'ya': 9.859016070196194e-05, 'dairy': 9.859016070196194e-05, 'extremely': 9.859016070196194e-05, 'tested': 9.859016070196194e-05, 'che': 9.859016070196194e-05, 'maclovesmusic': 9.859016070196194e-05, 'designs': 9.859016070196194e-05, 'sunday': 9.859016070196194e-05, 'healing': 9.859016070196194e-05, 'pa': 9.859016070196194e-05, 'leciester': 9.859016070196194e-05, 'help': 9.859016070196194e-05, 'obsessing': 9.859016070196194e-05, 'verena': 9.859016070196194e-05, 'mbrs': 9.859016070196194e-05, 'dtox': 9.859016070196194e-05, 'nozuka': 9.859016070196194e-05, 'broadband': 9.859016070196194e-05, 'srs': 9.859016070196194e-05, 'yasexy': 9.859016070196194e-05, 'gewg': 9.859016070196194e-05, 'those': 9.859016070196194e-05, 'pumpkin': 9.859016070196194e-05, 'kawadi': 9.859016070196194e-05, 'streets': 9.859016070196194e-05, 'fyi': 9.859016070196194e-05, 'year': 9.859016070196194e-05, 'funerals': 9.859016070196194e-05, 'wavy': 9.859016070196194e-05, 'themovies': 9.859016070196194e-05, 'where': 9.859016070196194e-05, 'audio': 9.859016070196194e-05, 'bah': 9.859016070196194e-05, 'keepy': 9.859016070196194e-05, 'mahika': 9.859016070196194e-05, 'primeroguero': 9.859016070196194e-05, 'chillout': 9.859016070196194e-05, 'quarters': 9.859016070196194e-05, 'lss': 9.859016070196194e-05, 'fifleaona': 9.859016070196194e-05, 'stop': 9.859016070196194e-05, 'drinker': 9.859016070196194e-05, 'plague': 9.859016070196194e-05, 'amateur': 9.859016070196194e-05, 'danyelldamaged': 9.859016070196194e-05, 'mr': 9.859016070196194e-05, 'laps': 9.859016070196194e-05, 'east': 9.859016070196194e-05, 'deadlyhouses': 9.859016070196194e-05, 'really': 9.859016070196194e-05, 'neen': 9.859016070196194e-05, 'technicalfault': 9.859016070196194e-05, 'city': 9.859016070196194e-05, 'howre': 9.859016070196194e-05, 'brush': 9.859016070196194e-05, 'sedonadreammakr': 9.859016070196194e-05, 'cassiidy': 9.859016070196194e-05, 'nba': 9.859016070196194e-05, 'kurn': 9.859016070196194e-05, 'kc': 9.859016070196194e-05, 'abi': 9.859016070196194e-05, 'less': 9.859016070196194e-05, '19th': 9.859016070196194e-05, 'thank': 9.859016070196194e-05, 'genderq': 9.859016070196194e-05, 'ja': 9.859016070196194e-05, 'bun': 9.859016070196194e-05, 'zetas': 9.859016070196194e-05, 'worried': 9.859016070196194e-05, 'infront': 9.859016070196194e-05, 'shopping': 9.859016070196194e-05, '7000': 9.859016070196194e-05, 'paradise': 9.859016070196194e-05, 'wonderful': 9.859016070196194e-05, 'littlelumen': 9.859016070196194e-05, 'motha': 9.859016070196194e-05, 'cave': 9.859016070196194e-05, 'ohyou': 9.859016070196194e-05, 'misss': 9.859016070196194e-05, 'trekkie23': 9.859016070196194e-05, 'smlimon': 9.859016070196194e-05, 'theolsens': 9.859016070196194e-05, 'banana': 9.859016070196194e-05, 'bread': 9.859016070196194e-05, 'smurfs': 9.859016070196194e-05, 'kentucky': 9.859016070196194e-05, 'franks': 9.859016070196194e-05, 'tank': 9.859016070196194e-05, 'shecklar': 9.859016070196194e-05, 'blood': 9.859016070196194e-05, 'conquerofawesom': 9.859016070196194e-05, 'soâ': 9.859016070196194e-05, 'rev': 9.859016070196194e-05, 'g0': 9.859016070196194e-05, 'washed': 9.859016070196194e-05, 'lighting': 9.859016070196194e-05, 'ice': 9.859016070196194e-05, 'also': 9.859016070196194e-05, 'allhabs': 9.859016070196194e-05, 'soba': 9.859016070196194e-05, 'figurine': 9.859016070196194e-05, 'soldierknowbest': 9.859016070196194e-05, 'alcohol': 9.859016070196194e-05, 'mourning': 9.859016070196194e-05, 'missjoladie': 9.859016070196194e-05, '99': 9.859016070196194e-05, 'carmaki': 9.859016070196194e-05, 'hookups': 9.859016070196194e-05, 'wossy': 9.859016070196194e-05, 'coraline': 9.859016070196194e-05, 'bronques': 9.859016070196194e-05, 'senayan': 9.859016070196194e-05, 'beverleycuddy': 9.859016070196194e-05, 'mizrik': 9.859016070196194e-05, 'emmalina': 9.859016070196194e-05, 'points': 9.859016070196194e-05, 'mickcornett': 9.859016070196194e-05, 'conga': 9.859016070196194e-05, 'dot12b': 9.859016070196194e-05, 'oughta': 9.859016070196194e-05, 'suck': 9.859016070196194e-05, 'animal': 9.859016070196194e-05, 'echajavajazz': 9.859016070196194e-05, 'flaking': 9.859016070196194e-05, 'represents': 9.859016070196194e-05, 'yummm': 9.859016070196194e-05, 'mood': 9.859016070196194e-05, 'canâ': 9.859016070196194e-05, 'stemming': 9.859016070196194e-05, 'emptied': 9.859016070196194e-05, 'family': 9.859016070196194e-05, 'cici': 9.859016070196194e-05, 'showering': 9.859016070196194e-05, 'crunching': 9.859016070196194e-05, 'scrape6o8': 9.859016070196194e-05, 'radmama': 9.859016070196194e-05, 'sarahs': 9.859016070196194e-05, 'monsoon': 9.859016070196194e-05, 'simple': 9.859016070196194e-05, 'tweetie': 9.859016070196194e-05, 'karamarzilli': 9.859016070196194e-05, 'handy': 9.859016070196194e-05, 'eatinqq': 9.859016070196194e-05, 'bachground': 9.859016070196194e-05, 'gamehounds': 9.859016070196194e-05, 'clay': 9.859016070196194e-05, 'replying': 9.859016070196194e-05, 'millionaire': 9.859016070196194e-05, 'tourny': 9.859016070196194e-05, 'vines': 9.859016070196194e-05, 'supposed': 9.859016070196194e-05, 'educational': 9.859016070196194e-05, 'reference': 9.859016070196194e-05, 'complainnnnn': 9.859016070196194e-05, 'apple': 9.859016070196194e-05, 'angry': 9.859016070196194e-05, 'talkaboutluck': 9.859016070196194e-05, 'omnia': 9.859016070196194e-05, 'snapfish': 9.859016070196194e-05, 'natmcb78': 9.859016070196194e-05, 'raaaaaaek': 9.859016070196194e-05, 'surge': 9.859016070196194e-05, 'ng': 9.859016070196194e-05, 'stephen': 9.859016070196194e-05, 'minlaw': 9.859016070196194e-05, 'behemothjc': 9.859016070196194e-05, 'ashleymoran': 9.859016070196194e-05, 'during': 9.859016070196194e-05, 'pazzafied': 9.859016070196194e-05, 'here': 9.859016070196194e-05, 'dr': 9.859016070196194e-05, 'debut': 9.859016070196194e-05, 'pjs': 9.859016070196194e-05, 'clock': 9.859016070196194e-05, 'just': 9.859016070196194e-05, 'yagirldwoods': 9.859016070196194e-05, 'kitta': 9.859016070196194e-05, '100': 9.859016070196194e-05, 'honest': 9.859016070196194e-05, '619writerscript': 9.859016070196194e-05, 'drizzly': 9.859016070196194e-05, 'wayy': 9.859016070196194e-05, 'learn': 9.859016070196194e-05, 'today': 9.859016070196194e-05, 's60v5': 9.859016070196194e-05, 'physical': 9.859016070196194e-05, 'ridiculous': 9.859016070196194e-05, 'retweeting': 9.859016070196194e-05, 'mastr0': 9.859016070196194e-05, 'laughingyogini': 9.859016070196194e-05, 'url': 9.859016070196194e-05, 'martial17artist': 9.859016070196194e-05, 'shud': 9.859016070196194e-05, 'mykiaisosm': 9.859016070196194e-05, 'stolen': 9.859016070196194e-05, 'diggcom': 9.859016070196194e-05, 'lesson': 9.859016070196194e-05, 'farms': 9.859016070196194e-05, 'shortwave': 9.859016070196194e-05, 'blogging': 9.859016070196194e-05, 'shewillcutudry': 9.859016070196194e-05, 'lately': 9.859016070196194e-05, 'ol': 9.859016070196194e-05, 'wwwparamorenetshows': 9.859016070196194e-05, 'cherrios': 9.859016070196194e-05, 'longer': 9.859016070196194e-05, 'band': 9.859016070196194e-05, 'electric': 9.859016070196194e-05, 'pauly': 9.859016070196194e-05, 'blevisthename': 9.859016070196194e-05, 'onefullyear': 9.859016070196194e-05, 'hymn': 9.859016070196194e-05, 'fon': 9.859016070196194e-05, 'rasperry': 9.859016070196194e-05, 'vic': 9.859016070196194e-05, 'nessiejake': 9.859016070196194e-05, 'scratcher': 9.859016070196194e-05, 'polyester': 9.859016070196194e-05, 'dmb': 9.859016070196194e-05, 'mcpattz': 9.859016070196194e-05, 'vi': 9.859016070196194e-05, 'shoes': 9.859016070196194e-05, '2night': 9.859016070196194e-05, 'norton': 9.859016070196194e-05, 'grew': 9.859016070196194e-05, 'size': 9.859016070196194e-05, 'grass': 9.859016070196194e-05, 'leaning': 9.859016070196194e-05, 'algernon': 9.859016070196194e-05, 'em': 9.859016070196194e-05, 'í': 9.859016070196194e-05, 'rich': 9.859016070196194e-05, 'partymartytime': 9.859016070196194e-05, 'marginatasnaily': 9.859016070196194e-05, 'scrabble': 9.859016070196194e-05, 'supervisor': 9.859016070196194e-05, 'twitting': 9.859016070196194e-05, 'canadas': 9.859016070196194e-05, 'shadcharleston': 9.859016070196194e-05, 'egg': 9.859016070196194e-05, 'feeling': 9.859016070196194e-05, 'classes': 9.859016070196194e-05, 'wearing': 9.859016070196194e-05, 'sparkling': 9.859016070196194e-05, 'sports': 9.859016070196194e-05, 'fetched': 9.859016070196194e-05, 'hollywood': 9.859016070196194e-05, 'geekman': 9.859016070196194e-05, 'libbywalsh': 9.859016070196194e-05, 'supasash11': 9.859016070196194e-05, 'lisaherrity': 9.859016070196194e-05, 'awfully': 9.859016070196194e-05, 'meow': 9.859016070196194e-05, 'oweew': 9.859016070196194e-05, 'boom': 9.859016070196194e-05, 'cameronreilly': 9.859016070196194e-05, 'pace': 9.859016070196194e-05, 'pit': 9.859016070196194e-05, 'wagon': 9.859016070196194e-05, 'everrr': 9.859016070196194e-05, 'rissa545': 9.859016070196194e-05, 'ppc': 9.859016070196194e-05, 'voice': 9.859016070196194e-05, 'nub': 9.859016070196194e-05, 'sweetcharlotte': 9.859016070196194e-05, 'attention': 9.859016070196194e-05, 'while': 9.859016070196194e-05, 'promise': 9.859016070196194e-05, 'chaz': 9.859016070196194e-05, 'ditched': 9.859016070196194e-05, 'clockwork': 9.859016070196194e-05, 'grey': 9.859016070196194e-05, 'disneyforchange': 9.859016070196194e-05, 'locsme': 9.859016070196194e-05, 'faze': 9.859016070196194e-05, 'interesting': 9.859016070196194e-05, 'heppells': 9.859016070196194e-05, 'talks': 9.859016070196194e-05, 'taxes': 9.859016070196194e-05, 'pops': 9.859016070196194e-05, 'starting': 9.859016070196194e-05, 'center': 9.859016070196194e-05, 'poetrysue': 9.859016070196194e-05, 'nope': 9.859016070196194e-05, 'yet': 9.859016070196194e-05, 'lorrainapaz': 9.859016070196194e-05, 'emo': 9.859016070196194e-05, 'xxitsdaniellexx': 9.859016070196194e-05, 'files': 9.859016070196194e-05, 'til': 9.859016070196194e-05, 'kinds': 9.859016070196194e-05, 'wwwstringbeancoffeeshopcom': 9.859016070196194e-05, 'nkotb': 9.859016070196194e-05, '2morrow': 9.859016070196194e-05, 'betaread': 9.859016070196194e-05, 'side': 9.859016070196194e-05, 'enhancement': 9.859016070196194e-05, 'pot': 9.859016070196194e-05, 'matthardybrand': 9.859016070196194e-05, 'ban': 9.859016070196194e-05, 'stefanieex0': 9.859016070196194e-05, 'feisty': 9.859016070196194e-05, 'lannydoodle': 9.859016070196194e-05, 'katherinelunt': 9.859016070196194e-05, 'trusted': 9.859016070196194e-05, 'ruined': 9.859016070196194e-05, 'auburnjones': 9.859016070196194e-05, 'bueno': 9.859016070196194e-05, 'aliceadict': 9.859016070196194e-05, 'greece': 9.859016070196194e-05, 'jennette': 9.859016070196194e-05, 'discount': 9.859016070196194e-05, 'elections': 9.859016070196194e-05, 'talkin': 9.859016070196194e-05, 'masond7': 9.859016070196194e-05, 'jeremy': 9.859016070196194e-05, 'thinking': 9.859016070196194e-05, 'yagsfan': 9.859016070196194e-05, 'workload': 9.859016070196194e-05, 'csenge': 9.859016070196194e-05, 'poophead': 9.859016070196194e-05, 'britesprite': 9.859016070196194e-05, 'choice': 9.859016070196194e-05, 'win': 9.859016070196194e-05, '0736': 9.859016070196194e-05, 'redo': 9.859016070196194e-05, 'argylesocks': 9.859016070196194e-05, 'calendar': 9.859016070196194e-05, 'wuff': 9.859016070196194e-05, 'past': 9.859016070196194e-05, 'magicians': 9.859016070196194e-05, 'overhyped': 9.859016070196194e-05, 'lambs': 9.859016070196194e-05, 'democracy': 9.859016070196194e-05, 'edmonton': 9.859016070196194e-05, 'vkgoeswild': 9.859016070196194e-05, 'head': 9.859016070196194e-05, 'feo': 9.859016070196194e-05, '\\x98': 9.859016070196194e-05, 'lovedwoman': 9.859016070196194e-05, 'fallen': 9.859016070196194e-05, 'sounded': 9.859016070196194e-05, 'jlsegarra': 9.859016070196194e-05, 'wpis': 9.859016070196194e-05, 'picnic': 9.859016070196194e-05, 'caitlin': 9.859016070196194e-05, 'nc': 9.859016070196194e-05, 'ruebelliard': 9.859016070196194e-05, 'someones': 9.859016070196194e-05, 'anytime': 9.859016070196194e-05, 'drove': 9.859016070196194e-05, 'mikecane': 9.859016070196194e-05, 'makes': 9.859016070196194e-05, 'updating': 9.859016070196194e-05, 'saying': 9.859016070196194e-05, 'geekwearsprada': 9.859016070196194e-05, 'nightt': 9.859016070196194e-05, 'paul': 9.859016070196194e-05, 'mayahzonfiya': 9.859016070196194e-05, 'zara4eva': 9.859016070196194e-05, 'officer': 9.859016070196194e-05, 'who': 9.859016070196194e-05, 'mw2': 9.859016070196194e-05, 'delicious': 9.859016070196194e-05, 'purple': 9.859016070196194e-05, 'christ': 9.859016070196194e-05, 'trvsdjam': 9.859016070196194e-05, 'epiphanygirl': 9.859016070196194e-05, 'gunna': 9.859016070196194e-05, 'hd': 9.859016070196194e-05, 'liveinlove10': 9.859016070196194e-05, 'worrying': 9.859016070196194e-05, 'p87': 9.859016070196194e-05, 'isacullen': 9.859016070196194e-05, 'davidhenrie': 9.859016070196194e-05, 'farewell': 9.859016070196194e-05, 'contribute': 9.859016070196194e-05, 'cookie': 9.859016070196194e-05, '2clear': 9.859016070196194e-05, 'peace': 9.859016070196194e-05, 'hmk': 9.859016070196194e-05, 'foot': 9.859016070196194e-05, 'haunting': 9.859016070196194e-05, 'tweetdeck': 9.859016070196194e-05, 'sex': 9.859016070196194e-05, 'catrocketship': 9.859016070196194e-05, 'sweet': 9.859016070196194e-05, 'jenifel': 9.859016070196194e-05, 'coda': 9.859016070196194e-05, 'peterfacinelli': 9.859016070196194e-05, 'chemical': 9.859016070196194e-05, 'thelindalam': 9.859016070196194e-05, 'darn': 9.859016070196194e-05, 'royale': 9.859016070196194e-05, 'cryin': 9.859016070196194e-05, 'jas': 9.859016070196194e-05, 'chip': 9.859016070196194e-05, 'sunglasses': 9.859016070196194e-05, 'craigsutton': 9.859016070196194e-05, '2fly2bking': 9.859016070196194e-05, 'jeremys': 9.859016070196194e-05, 'include': 9.859016070196194e-05, 'kel7alpha': 9.859016070196194e-05, 'except': 9.859016070196194e-05, 'vis': 9.859016070196194e-05, 'yeahh': 9.859016070196194e-05, 'boost': 9.859016070196194e-05, 'overbaked': 9.859016070196194e-05, 'aweee': 9.859016070196194e-05, 'mistake': 9.859016070196194e-05, 'johns': 9.859016070196194e-05, 'father': 9.859016070196194e-05, 'suzeormanshow': 9.859016070196194e-05, 'frankmillar': 9.859016070196194e-05, 'throat': 9.859016070196194e-05, 'tpr2': 9.859016070196194e-05, 'woot': 9.859016070196194e-05, 'seagull': 9.859016070196194e-05, 'hehe': 9.859016070196194e-05, 'doing': 9.859016070196194e-05, 'dazzle': 9.859016070196194e-05, 'allergies': 9.859016070196194e-05, 'purse': 9.859016070196194e-05, 'afta': 9.859016070196194e-05, 'grp': 9.859016070196194e-05, 'chapter': 9.859016070196194e-05, 'little': 9.859016070196194e-05, 'costa': 9.859016070196194e-05, 'restaurants': 9.859016070196194e-05, 'refurbs': 9.859016070196194e-05, '4christinarenee': 9.859016070196194e-05, 'statusnotifier': 9.859016070196194e-05, 'atebits': 9.859016070196194e-05, 'southbound': 9.859016070196194e-05, 'maynardcomau': 9.859016070196194e-05, 'puppysitting': 9.859016070196194e-05, 'aha': 9.859016070196194e-05, 'songzyuuup': 9.859016070196194e-05, 'painful': 9.859016070196194e-05, 'why': 9.859016070196194e-05, 'tifftiff621': 9.859016070196194e-05, '4x': 9.859016070196194e-05, 'tmobile': 9.859016070196194e-05, 'infiniteemily': 9.859016070196194e-05, 'yoga': 9.859016070196194e-05, 'annoyed': 9.859016070196194e-05, 'entershikari': 9.859016070196194e-05, 'laddyy': 9.859016070196194e-05, 'sir': 9.859016070196194e-05, 'nowhere': 9.859016070196194e-05, 'suspects': 9.859016070196194e-05, 'paganmama': 9.859016070196194e-05, 'goose': 9.859016070196194e-05, 'daein': 9.859016070196194e-05, 'goes': 9.859016070196194e-05, 'juicy': 9.859016070196194e-05, 'tuned': 9.859016070196194e-05, 'males': 9.859016070196194e-05, 'zoey': 9.859016070196194e-05, 'annzoo': 9.859016070196194e-05, 'josi': 9.859016070196194e-05, 'roxibear': 9.859016070196194e-05, 'program': 9.859016070196194e-05, '»': 9.859016070196194e-05, 'michebel': 9.859016070196194e-05, 'googlejuice': 9.859016070196194e-05, 'entire': 9.859016070196194e-05, 'thrilled': 9.859016070196194e-05, 'links': 9.859016070196194e-05, 'quickly': 9.859016070196194e-05, 'andyclemmensen': 9.859016070196194e-05, 'sumo': 9.859016070196194e-05, 'truth': 9.859016070196194e-05, 'solo': 9.859016070196194e-05, 'rolando': 9.859016070196194e-05, 'littleradge': 9.859016070196194e-05, 'cuppa': 9.859016070196194e-05, 'tacia': 9.859016070196194e-05, 'finishes': 9.859016070196194e-05, 'angel': 9.859016070196194e-05, 'marygoongirl': 9.859016070196194e-05, 'sisons': 9.859016070196194e-05, 'mizushima': 9.859016070196194e-05, 'ergh': 9.859016070196194e-05, 'bikini': 9.859016070196194e-05, 'sarcasticluther': 9.859016070196194e-05, 'says': 9.859016070196194e-05, 'xoxosa': 9.859016070196194e-05, 'smh': 9.859016070196194e-05, 'robdyrdek': 9.859016070196194e-05, 'megapixel': 9.859016070196194e-05, 'souls': 9.859016070196194e-05, 'grilled': 9.859016070196194e-05, 'joeymcintyre': 9.859016070196194e-05, 'paid': 9.859016070196194e-05, 'stuf': 9.859016070196194e-05, 'tequilanef': 9.859016070196194e-05, 'pie': 9.859016070196194e-05, 'hypedagreat': 9.859016070196194e-05, 'chain': 9.859016070196194e-05, 'lili': 9.859016070196194e-05, 'ashley': 9.859016070196194e-05, 'wossythat': 9.859016070196194e-05, 'asamahmad': 9.859016070196194e-05, 'tatts': 9.859016070196194e-05, 'quiet': 9.859016070196194e-05, '45': 9.859016070196194e-05, 'confused': 9.859016070196194e-05, 'wrote': 9.859016070196194e-05, 'xoxo': 9.859016070196194e-05, 'hallway': 9.859016070196194e-05, 'cost': 9.859016070196194e-05, 'wwwindplaycom': 9.859016070196194e-05, 'xox': 9.859016070196194e-05, 'iamthecommodore': 9.859016070196194e-05, 'wrongsleepposition': 9.859016070196194e-05, 'likes': 9.859016070196194e-05, 'chkn': 9.859016070196194e-05, 'adjust': 9.859016070196194e-05, 'whittier': 9.859016070196194e-05, 'dogs': 9.859016070196194e-05, 'package': 9.859016070196194e-05, 'pray': 9.859016070196194e-05, 'yearly': 9.859016070196194e-05, 'rohit': 9.859016070196194e-05, 'fact': 9.859016070196194e-05, 'fine': 9.859016070196194e-05, 'spencerpratt': 9.859016070196194e-05, 'apologize': 9.859016070196194e-05, 'cant': 9.859016070196194e-05, 'actuly': 9.859016070196194e-05, 'yamamoto': 9.859016070196194e-05, 'loudly': 9.859016070196194e-05, 'neighbors': 9.859016070196194e-05, 'vices': 9.859016070196194e-05, 'sh': 9.859016070196194e-05, 'charge': 9.859016070196194e-05, 'xm': 9.859016070196194e-05, 'coilhouse': 9.859016070196194e-05, 'thousand': 9.859016070196194e-05, 'itï': 9.859016070196194e-05, 'smoshian': 9.859016070196194e-05, 'wookiees': 9.859016070196194e-05, 'norman': 9.859016070196194e-05, 'smileytee': 9.859016070196194e-05, 'omfg': 9.859016070196194e-05, 'tudo': 9.859016070196194e-05, 'brooks': 9.859016070196194e-05, 'confuse': 9.859016070196194e-05, 'md': 9.859016070196194e-05, 'blizzardskies': 9.859016070196194e-05, 'larson': 9.859016070196194e-05, 'whatevs': 9.859016070196194e-05, 'thatï': 9.859016070196194e-05, 'ramadimas': 9.859016070196194e-05, 'myspace': 9.859016070196194e-05, 'zuleiis': 9.859016070196194e-05, 'skype': 9.859016070196194e-05, 'sure': 9.859016070196194e-05, 'saves': 9.859016070196194e-05, 'weirdness': 9.859016070196194e-05, 'mogwai': 9.859016070196194e-05, 'lisamurray': 9.859016070196194e-05, 'secondary': 9.859016070196194e-05, 'smil3zgq': 9.859016070196194e-05, 'thought': 9.859016070196194e-05, 'tnx': 9.859016070196194e-05, 'every': 9.859016070196194e-05, 'months': 9.859016070196194e-05, 'foxybimbo': 9.859016070196194e-05, 'both': 9.859016070196194e-05, 'reporterren': 9.859016070196194e-05, 'jordandaly': 9.859016070196194e-05, 'noni': 9.859016070196194e-05, 'sleeves': 9.859016070196194e-05, 'debbiefletcher': 9.859016070196194e-05, 'joey': 9.859016070196194e-05, 'lautner': 9.859016070196194e-05, 'khaldounj': 9.859016070196194e-05, 'gud': 9.859016070196194e-05, 'looooove': 9.859016070196194e-05, 'samsi': 9.859016070196194e-05, 'relax': 9.859016070196194e-05, 'annoying': 9.859016070196194e-05, 'try': 9.859016070196194e-05, 'collaborate': 9.859016070196194e-05, 'allowed': 9.859016070196194e-05, 'simply': 9.859016070196194e-05, 'tooooo': 9.859016070196194e-05, 'hillarious': 9.859016070196194e-05, 'serkes': 9.859016070196194e-05, 'cheesecake': 9.859016070196194e-05, 'pdaonline': 9.859016070196194e-05, 'across': 9.859016070196194e-05, 'richards': 9.859016070196194e-05, 'nk': 9.859016070196194e-05, 'yup': 9.859016070196194e-05, 'angelo': 9.859016070196194e-05, 'guitar': 9.859016070196194e-05, '230': 9.859016070196194e-05, 'ashdonaldson': 9.859016070196194e-05, 'lappy': 9.859016070196194e-05, 'added': 9.859016070196194e-05, 'plaza': 9.859016070196194e-05, 'ment': 9.859016070196194e-05, 'offended': 9.859016070196194e-05, 'amandalee55': 9.859016070196194e-05, 'nguling': 9.859016070196194e-05, '03': 9.859016070196194e-05, 'another': 9.859016070196194e-05, 'vid': 9.859016070196194e-05, 'aimeenbarnes': 9.859016070196194e-05, 'slightly': 9.859016070196194e-05, 'dirkjohnson': 9.859016070196194e-05, 'scares': 9.859016070196194e-05, 'doon': 9.859016070196194e-05, 'babble': 9.859016070196194e-05, 'shirts': 9.859016070196194e-05, 'rottf': 9.859016070196194e-05, 'kingfoe': 9.859016070196194e-05, 'kitchen': 9.859016070196194e-05, 'vibratey': 9.859016070196194e-05, 'roll': 9.859016070196194e-05, 'me': 9.859016070196194e-05, 'uk2': 9.859016070196194e-05, 'alarmvsme': 9.859016070196194e-05, '2mrw': 9.859016070196194e-05, 'melissa15678': 9.859016070196194e-05, 'break': 9.859016070196194e-05, 'bobedwards': 9.859016070196194e-05, 'camp': 9.859016070196194e-05, 'base': 9.859016070196194e-05, 'dvds': 9.859016070196194e-05, 'comfortable': 9.859016070196194e-05, 'palm': 9.859016070196194e-05, 'boredd': 9.859016070196194e-05, '2nd': 9.859016070196194e-05, 'drag': 9.859016070196194e-05, 'website': 9.859016070196194e-05, 'cutie': 9.859016070196194e-05, 'nt': 9.859016070196194e-05, 'headed': 9.859016070196194e-05, 'sucks': 9.859016070196194e-05, 'yearning': 9.859016070196194e-05, 'suai': 9.859016070196194e-05, 'raise': 9.859016070196194e-05, 'buggering': 9.859016070196194e-05, '88': 9.859016070196194e-05, 'asked': 9.859016070196194e-05, 'mobiles': 9.859016070196194e-05, 'types': 9.859016070196194e-05, 'gf': 9.859016070196194e-05, 'mustangs': 9.859016070196194e-05, 'life': 9.859016070196194e-05, 'protectipon': 9.859016070196194e-05, 'xgracestackx': 9.859016070196194e-05, 'artistaday': 9.859016070196194e-05, 'deposit': 9.859016070196194e-05, 'south': 9.859016070196194e-05, 'political': 9.859016070196194e-05, 'sheissohood': 9.859016070196194e-05, 'brydie': 9.859016070196194e-05, 'khail': 9.859016070196194e-05, 'butter': 9.859016070196194e-05, 'pleasant': 9.859016070196194e-05, 'publicly': 9.859016070196194e-05, 'omgsh': 9.859016070196194e-05, 'slowly': 9.859016070196194e-05, 'nicbrewer': 9.859016070196194e-05, 'fathers': 9.859016070196194e-05, 'future': 9.859016070196194e-05, 'salt': 9.859016070196194e-05, 'york': 9.859016070196194e-05, 'vernongarrett': 9.859016070196194e-05, 'impossible': 9.859016070196194e-05, 'waynerobinson': 9.859016070196194e-05, 'judith': 9.859016070196194e-05, 'documentary': 9.859016070196194e-05, 'idlesi': 9.859016070196194e-05, 'respond': 9.859016070196194e-05, 'cheating': 9.859016070196194e-05, 'chielless': 9.859016070196194e-05, 'zonoma': 9.859016070196194e-05, 'ko': 9.859016070196194e-05, 'dv': 9.859016070196194e-05, '11': 9.859016070196194e-05, 'awreya2': 9.859016070196194e-05, 'honorsociety': 9.859016070196194e-05, 'fringe': 9.859016070196194e-05, 'assignment': 9.859016070196194e-05, 'skate': 9.859016070196194e-05, 'theres': 9.859016070196194e-05, 'caitlinlynn': 9.859016070196194e-05, 'np': 9.859016070196194e-05, 'unpack': 9.859016070196194e-05, 'kansas': 9.859016070196194e-05, 'raping': 9.859016070196194e-05, 'pusher': 9.859016070196194e-05, 'map': 9.859016070196194e-05, 'grounded': 9.859016070196194e-05, 'polish': 9.859016070196194e-05, 'giblahoj': 9.859016070196194e-05, 'fagunbhavsar': 9.859016070196194e-05, 'horny': 9.859016070196194e-05, 'stalinism': 9.859016070196194e-05, 'art': 9.859016070196194e-05, 'sorrys': 9.859016070196194e-05, 'clicking': 9.859016070196194e-05, 'important': 9.859016070196194e-05, 'mexico': 9.859016070196194e-05, 'lydiastack': 9.859016070196194e-05, 'bailing': 9.859016070196194e-05, 'shoe': 9.859016070196194e-05, 'cardboard': 9.859016070196194e-05, 'lisaclfc': 9.859016070196194e-05, 'bleh': 9.859016070196194e-05, 'good': 9.859016070196194e-05, 'topless': 9.859016070196194e-05, 'dt': 9.859016070196194e-05, 'paterzattack': 9.859016070196194e-05, 'march': 9.859016070196194e-05, 'jason': 9.859016070196194e-05, 'ear': 9.859016070196194e-05, 'fuck': 9.859016070196194e-05, 'coffee': 9.859016070196194e-05, 'pre': 9.859016070196194e-05, 'rascal': 9.859016070196194e-05, 'thnk': 9.859016070196194e-05, 'drandolph': 9.859016070196194e-05, 'poopy': 9.859016070196194e-05, 'bitten': 9.859016070196194e-05, 'dry': 9.859016070196194e-05, 'tepper': 9.859016070196194e-05, 'bled': 9.859016070196194e-05, 'digs': 9.859016070196194e-05, 'brilliant': 9.859016070196194e-05, '66keelan61': 9.859016070196194e-05, 'asia': 9.859016070196194e-05, 'ende': 9.859016070196194e-05, 'peterm11': 9.859016070196194e-05, 'yh': 9.859016070196194e-05, 'similiar': 9.859016070196194e-05, 'jms': 9.859016070196194e-05, 'mathematics': 9.859016070196194e-05, '¡': 9.859016070196194e-05, 'room': 9.859016070196194e-05, 'becomingrachel': 9.859016070196194e-05, 'bgstrowger': 9.859016070196194e-05, 'reek': 9.859016070196194e-05, 'ingadurgin': 9.859016070196194e-05, 'heys': 9.859016070196194e-05, 'shelters': 9.859016070196194e-05, 'dmclain55': 9.859016070196194e-05, 'mastercook': 9.859016070196194e-05, 'lyric': 9.859016070196194e-05, 'xcspeed': 9.859016070196194e-05, 'jan': 9.859016070196194e-05, 'neopets': 9.859016070196194e-05, 'selfintro': 9.859016070196194e-05, 'muffinloser': 9.859016070196194e-05, 'maddie': 9.859016070196194e-05, 'ps3': 9.859016070196194e-05, '¨': 9.859016070196194e-05, 'marlee': 9.859016070196194e-05, 'boats': 9.859016070196194e-05, 'headfones': 9.859016070196194e-05, 'bilis': 9.859016070196194e-05, '16': 9.859016070196194e-05, 'ashes': 9.859016070196194e-05, 'glitter': 9.859016070196194e-05, 'tnaaddicted': 9.859016070196194e-05, 'bust': 9.859016070196194e-05, 'cartoons': 9.859016070196194e-05, 'havent': 9.859016070196194e-05, 'hand': 9.859016070196194e-05, 'feelings': 9.859016070196194e-05, 'comin': 9.859016070196194e-05, 'tmrw': 9.859016070196194e-05, 'grr': 9.859016070196194e-05, 'homepage': 9.859016070196194e-05, 'liam': 9.859016070196194e-05, 'chad': 9.859016070196194e-05, 'taste': 9.859016070196194e-05, 'woow': 9.859016070196194e-05, 'planet': 9.859016070196194e-05, '\\x93': 9.859016070196194e-05, 'tweak': 9.859016070196194e-05, 'ubertwitter': 9.859016070196194e-05, 'mandy': 9.859016070196194e-05, 'b09': 9.859016070196194e-05, 'sonislapshoes': 9.859016070196194e-05, 'rubiks': 9.859016070196194e-05, 'lanes': 9.859016070196194e-05, 'yourselfwe': 9.859016070196194e-05, '35': 9.859016070196194e-05, 'spwc': 9.859016070196194e-05, 'dragon': 9.859016070196194e-05, 'wwdc': 9.859016070196194e-05, 'me2': 9.859016070196194e-05, 'aloneeeeeeeeeeeee': 9.859016070196194e-05, 'governor': 9.859016070196194e-05, 'decent': 9.859016070196194e-05, 'smallish': 9.859016070196194e-05, 'aka': 9.859016070196194e-05, 'tanning': 9.859016070196194e-05, 'decisions': 9.859016070196194e-05, 'kks': 9.859016070196194e-05, 'variants': 9.859016070196194e-05, 'after': 9.859016070196194e-05, 'crazyfirebolt': 9.859016070196194e-05, 'jacdo': 9.859016070196194e-05, 'depression': 9.859016070196194e-05, 'kiddlive': 9.859016070196194e-05, 'maps': 9.859016070196194e-05, 'happy': 9.859016070196194e-05, 'allen': 9.859016070196194e-05, 'norcalwine': 9.859016070196194e-05, 'rainbowsleeve': 9.859016070196194e-05, 'chanel': 9.859016070196194e-05, 'concerts': 9.859016070196194e-05, 'mygoldenchild17': 9.859016070196194e-05, 'water': 9.859016070196194e-05, 'khole': 9.859016070196194e-05, 'accounts': 9.859016070196194e-05, 'online': 9.859016070196194e-05, 'some': 9.859016070196194e-05, 'gofoborsvpcodes': 9.859016070196194e-05, 'franki': 9.859016070196194e-05, 'nasa': 9.859016070196194e-05, 'linproducts': 9.859016070196194e-05, '¬': 9.859016070196194e-05, 'copy': 9.859016070196194e-05, 'anothersaturday': 9.859016070196194e-05, 'cooked': 9.859016070196194e-05, 'breast': 9.859016070196194e-05, 'logic': 9.859016070196194e-05, '30': 9.859016070196194e-05, 'cyclingamericas': 9.859016070196194e-05, 'amendment': 9.859016070196194e-05, 'emmett': 9.859016070196194e-05, 'focus': 9.859016070196194e-05, 'down': 9.859016070196194e-05, 'clumsy': 9.859016070196194e-05, 'wawtch': 9.859016070196194e-05, 'airlines': 9.859016070196194e-05, 'five': 9.859016070196194e-05, 'paloooos': 9.859016070196194e-05, 'these': 9.859016070196194e-05, 'mlg': 9.859016070196194e-05, 'followfriday': 9.859016070196194e-05, 'fuzzball': 9.859016070196194e-05, 'johnnytrouble': 9.859016070196194e-05, 'trending': 9.859016070196194e-05, 'drinking': 9.859016070196194e-05, '\\x83': 9.859016070196194e-05, 'stress': 9.859016070196194e-05, 'spinning': 9.859016070196194e-05, 'vrea': 9.859016070196194e-05, 'poons': 9.859016070196194e-05, 'daft': 9.859016070196194e-05, '247': 9.859016070196194e-05, 'twtrcon': 9.859016070196194e-05, 'guillot': 9.859016070196194e-05, 'pasta': 9.859016070196194e-05, 'reached': 9.859016070196194e-05, 'frichii': 9.859016070196194e-05, 'mo2men': 9.859016070196194e-05, 'susan': 9.859016070196194e-05, 'helpin': 9.859016070196194e-05, 'lead': 9.859016070196194e-05, 'emotion': 9.859016070196194e-05, 'wid': 9.859016070196194e-05, 'library': 9.859016070196194e-05, '13th': 9.859016070196194e-05, 'liturgy': 9.859016070196194e-05, 'radio': 9.859016070196194e-05, 'antibf': 9.859016070196194e-05, 'blow': 9.859016070196194e-05, 'adamsinger': 9.859016070196194e-05, 'bath': 9.859016070196194e-05, 'nooo': 9.859016070196194e-05, 'thinkin': 9.859016070196194e-05, 'ashwash': 9.859016070196194e-05, 'malia': 9.859016070196194e-05, 'jerry': 9.859016070196194e-05, 'promenade': 9.859016070196194e-05, 'recodnition': 9.859016070196194e-05, 'victorious': 9.859016070196194e-05, 'jovi': 9.859016070196194e-05, 'surfing': 9.859016070196194e-05, 'jaffacakes': 9.859016070196194e-05, 'isplayer': 9.859016070196194e-05, 'shows': 9.859016070196194e-05, 'rashes': 9.859016070196194e-05, 'throbbing': 9.859016070196194e-05, 'master': 9.859016070196194e-05, 'wnt': 9.859016070196194e-05, 'sofie': 9.859016070196194e-05, 'edit': 9.859016070196194e-05, 'squarespace': 9.859016070196194e-05, 'paris': 9.859016070196194e-05, 'executive': 9.859016070196194e-05, 'amazing': 9.859016070196194e-05, 'maryjors': 9.859016070196194e-05, 'transfered': 9.859016070196194e-05, 'sunshine': 9.859016070196194e-05, 'acct': 9.859016070196194e-05, 'mile': 9.859016070196194e-05, 'th3maw': 9.859016070196194e-05, 'jamesmachan': 9.859016070196194e-05, 'viral': 9.859016070196194e-05, 'techconclave': 9.859016070196194e-05, 'ladyminista': 9.859016070196194e-05, 'kaizersose86': 9.859016070196194e-05, 'sister': 9.859016070196194e-05, 'wanting': 9.859016070196194e-05, 'phone': 9.859016070196194e-05, 'healthier': 9.859016070196194e-05, 'bed': 9.859016070196194e-05, 'manage': 9.859016070196194e-05, 'filmed': 9.859016070196194e-05, 'babbano': 9.859016070196194e-05, 'actionlamb': 9.859016070196194e-05, 'bersuccesful': 9.859016070196194e-05, 'sorrow': 9.859016070196194e-05, 'kindle': 9.859016070196194e-05, 'jhillstephens': 9.859016070196194e-05, 'stardust': 9.859016070196194e-05, 'momma': 9.859016070196194e-05, 'macguffen': 9.859016070196194e-05, 'bffl': 9.859016070196194e-05, 'iamrockpit': 9.859016070196194e-05, '226': 9.859016070196194e-05, 'subzero': 9.859016070196194e-05, 'law': 9.859016070196194e-05, 'dvd': 9.859016070196194e-05, 'deeper': 9.859016070196194e-05, 'swl': 9.859016070196194e-05, 'teams': 9.859016070196194e-05, 'counted': 9.859016070196194e-05, 'warned': 9.859016070196194e-05, 'jasminepie': 9.859016070196194e-05, 'xray': 9.859016070196194e-05, 'rugrats': 9.859016070196194e-05, 'colinmunroe': 9.859016070196194e-05, 'boygenius': 9.859016070196194e-05, 'twares': 9.859016070196194e-05, 'toodles': 9.859016070196194e-05, 'tesplicare': 9.859016070196194e-05, 'dowload': 9.859016070196194e-05, 'gotta': 9.859016070196194e-05, 'wallet': 9.859016070196194e-05, 'wwwmyspacecomtynishakeli': 9.859016070196194e-05, 'roxy': 9.859016070196194e-05, 'virtual': 9.859016070196194e-05, 'from': 9.859016070196194e-05, 'nicest': 9.859016070196194e-05, 'kias': 9.859016070196194e-05, 'tunnel': 9.859016070196194e-05, 'worship': 9.859016070196194e-05, '20': 9.859016070196194e-05, 'hops': 9.859016070196194e-05, 'rsvp': 9.859016070196194e-05, 'therr': 9.859016070196194e-05, 'we': 9.859016070196194e-05, '4219044969': 9.859016070196194e-05, 'succumbing': 9.859016070196194e-05, 'zoziekins': 9.859016070196194e-05, 'thebiglib': 9.859016070196194e-05, 'twist': 9.859016070196194e-05, 'loud': 9.859016070196194e-05, 'pup': 9.859016070196194e-05, 'greatt': 9.859016070196194e-05, 'btv': 9.859016070196194e-05, 'tom': 9.859016070196194e-05, 'calgary': 9.859016070196194e-05, 'leticiaah': 9.859016070196194e-05, 'nobbbbbyyy': 9.859016070196194e-05, 'common': 9.859016070196194e-05, 'paw': 9.859016070196194e-05, 'deadline': 9.859016070196194e-05, 'juliatheginger4': 9.859016070196194e-05, 'switchin': 9.859016070196194e-05, 'lanka': 9.859016070196194e-05, 'iroooooning': 9.859016070196194e-05, 'productive': 9.859016070196194e-05, 'alice': 9.859016070196194e-05, 'sitting': 9.859016070196194e-05, 'cover': 9.859016070196194e-05, 'sherinegamal': 9.859016070196194e-05, 'stay': 9.859016070196194e-05, 'entertainment': 9.859016070196194e-05, 'capcomunity': 9.859016070196194e-05, 'sword': 9.859016070196194e-05, 'posts': 9.859016070196194e-05, 'xhtml': 9.859016070196194e-05, 'eddidit': 9.859016070196194e-05, 'babysit': 9.859016070196194e-05, 'hong': 9.859016070196194e-05, 'robhoffman': 9.859016070196194e-05, 'plzzzz': 9.859016070196194e-05, 'crash': 9.859016070196194e-05, 'ooooooooooo': 9.859016070196194e-05, 'bytterflykissx2': 9.859016070196194e-05, 'phil': 9.859016070196194e-05, 'croissant': 9.859016070196194e-05, 'body': 9.859016070196194e-05, 'gay': 9.859016070196194e-05, 'knappkd': 9.859016070196194e-05, '106': 9.859016070196194e-05, 'aceblack': 9.859016070196194e-05, 'gallery': 9.859016070196194e-05, 'always': 9.859016070196194e-05, 'cuz': 9.859016070196194e-05, 'brand': 9.859016070196194e-05, 'eastcoastgamblr': 9.859016070196194e-05, 'sarahdessen': 9.859016070196194e-05, 'her': 9.859016070196194e-05, 'hanshillen': 9.859016070196194e-05, 'eleven': 9.859016070196194e-05, 'quality': 9.859016070196194e-05, 'eurovision': 9.859016070196194e-05, 'sundays': 9.859016070196194e-05, '10mins': 9.859016070196194e-05, 'click': 9.859016070196194e-05, 'working': 9.859016070196194e-05, 'survive': 9.859016070196194e-05, 'furrytom': 9.859016070196194e-05, 'woowoo': 9.859016070196194e-05, 'eh': 9.859016070196194e-05, 'daniel': 9.859016070196194e-05, 'winner': 9.859016070196194e-05, 'trusty': 9.859016070196194e-05, 'rachel2206': 9.859016070196194e-05, 'graduating': 9.859016070196194e-05, 'exciting': 9.859016070196194e-05, 'waaah': 9.859016070196194e-05, 'gizmoz': 9.859016070196194e-05, 'listened': 9.859016070196194e-05, 'poland': 9.859016070196194e-05, 'rees397': 9.859016070196194e-05, 'confusing': 9.859016070196194e-05, 'advertized': 9.859016070196194e-05, 'spot': 9.859016070196194e-05, 'planets': 9.859016070196194e-05, 'dynamic': 9.859016070196194e-05, '9000': 9.859016070196194e-05, 'december': 9.859016070196194e-05, 'rukshanw': 9.859016070196194e-05, 'escapes': 9.859016070196194e-05, 'theothermousie': 9.859016070196194e-05, 'playstation': 9.859016070196194e-05, 'link': 9.859016070196194e-05, 'jonin60seconds': 9.859016070196194e-05, 'veggie': 9.859016070196194e-05, 'walking': 9.859016070196194e-05, 'symbian': 9.859016070196194e-05, 'laugh': 9.859016070196194e-05, 'plz': 9.859016070196194e-05, 'wonders': 9.859016070196194e-05, 'getoutgetoutgetougetooooouuuuuuuuuuuuutttttttt': 9.859016070196194e-05, 'checkertails': 9.859016070196194e-05, 'brandnew': 9.859016070196194e-05, 'wot': 9.859016070196194e-05, '1classediva': 9.859016070196194e-05, 'realise': 9.859016070196194e-05, '90': 9.859016070196194e-05, 'ëª': 9.859016070196194e-05, 'swim': 9.859016070196194e-05, 'tough': 9.859016070196194e-05, 'mmmmmmmmmmmmmmmm': 9.859016070196194e-05, '340': 9.859016070196194e-05, 'dynastyla24': 9.859016070196194e-05, 'studin': 9.859016070196194e-05, 'cars': 9.859016070196194e-05, 'wanna': 9.859016070196194e-05, 'buddy': 9.859016070196194e-05, 'stacked': 9.859016070196194e-05, 'suddenly': 9.859016070196194e-05, 'chem': 9.859016070196194e-05, 'wb': 9.859016070196194e-05, '2wks': 9.859016070196194e-05, 'killing': 9.859016070196194e-05, 'kelownagurl': 9.859016070196194e-05, 'nathanryder': 9.859016070196194e-05, '225': 9.859016070196194e-05, 'mmmmm': 9.859016070196194e-05, 'zayman3': 9.859016070196194e-05, 'call': 9.859016070196194e-05, 'throughout': 9.859016070196194e-05, 'appeared': 9.859016070196194e-05, 'exocetau': 9.859016070196194e-05, 'coldish': 9.859016070196194e-05, 'minute': 9.859016070196194e-05, 'coz': 9.859016070196194e-05, 'ml': 9.859016070196194e-05, 'nxt': 9.859016070196194e-05, 'denfree268': 9.859016070196194e-05, 'graveyard': 9.859016070196194e-05, 'drank': 9.859016070196194e-05, 'spending': 9.859016070196194e-05, 'collecting': 9.859016070196194e-05, 'kekura': 9.859016070196194e-05, 'ist': 9.859016070196194e-05, 'dkris': 9.859016070196194e-05, 'young': 9.859016070196194e-05, 'moreover': 9.859016070196194e-05, 'nothin': 9.859016070196194e-05, 'picture': 9.859016070196194e-05, 'woman': 9.859016070196194e-05, 'maddow': 9.859016070196194e-05, 'calls': 9.859016070196194e-05, 'djimon': 9.859016070196194e-05, 'aack': 9.859016070196194e-05, 'declined': 9.859016070196194e-05, 'canal': 9.859016070196194e-05, 'card': 9.859016070196194e-05, 'helena210': 9.859016070196194e-05, 'sue': 9.859016070196194e-05, 'corset': 9.859016070196194e-05, 'basically': 9.859016070196194e-05, 'had': 9.859016070196194e-05, 'rucksack': 9.859016070196194e-05, 'shonaq': 9.859016070196194e-05, 'history': 9.859016070196194e-05, '3rd': 9.859016070196194e-05, 'sreenet': 9.859016070196194e-05, 'foam': 9.859016070196194e-05, 'breathe': 9.859016070196194e-05, 'molliebatmit': 9.859016070196194e-05, 'attack': 9.859016070196194e-05, 'needles': 9.859016070196194e-05, 'mizzvegas': 9.859016070196194e-05, '1013': 9.859016070196194e-05, 'jp': 9.859016070196194e-05, 'random': 9.859016070196194e-05, 'asuka': 9.859016070196194e-05, 'jolicloud': 9.859016070196194e-05, 'somewhere': 9.859016070196194e-05, 'usable': 9.859016070196194e-05, 'mixing': 9.859016070196194e-05, 'finishing': 9.859016070196194e-05, 'summary': 9.859016070196194e-05, 'ring': 9.859016070196194e-05, 'bbarnett': 9.859016070196194e-05, 'rates': 9.859016070196194e-05, 'beofre': 9.859016070196194e-05, 'exit': 9.859016070196194e-05, '20th': 9.859016070196194e-05, 'sprinkers': 9.859016070196194e-05, 'breaks': 9.859016070196194e-05, 'scan': 9.859016070196194e-05, 'ima': 9.859016070196194e-05, 'artwork': 9.859016070196194e-05, 'plans': 9.859016070196194e-05, 'rachmichelle': 9.859016070196194e-05, 'blanket': 9.859016070196194e-05, 'enjoy': 9.859016070196194e-05, 'kardia': 9.859016070196194e-05, 'appreciated': 9.859016070196194e-05, 'results': 9.859016070196194e-05, 'wiv': 9.859016070196194e-05, 'jazz': 9.859016070196194e-05, 'prince': 9.859016070196194e-05, 'truly': 9.859016070196194e-05, 'fluid': 9.859016070196194e-05, 'pibby': 9.859016070196194e-05, '6am': 9.859016070196194e-05, 'open': 9.859016070196194e-05, 'address': 9.859016070196194e-05, 'couple': 9.859016070196194e-05, 'buying': 9.859016070196194e-05, 'thatiusstatic': 9.859016070196194e-05, 'names': 9.859016070196194e-05, 'sarah': 9.859016070196194e-05, 'onto': 9.859016070196194e-05, 'feast': 9.859016070196194e-05, 'photography': 9.859016070196194e-05, 'lair': 9.859016070196194e-05, 'gprs': 9.859016070196194e-05, 'dose': 9.859016070196194e-05, 'daveexplosm': 9.859016070196194e-05, 'onicajay': 9.859016070196194e-05, 'ther': 9.859016070196194e-05, 'ct': 9.859016070196194e-05, 'courtneycamilla': 9.859016070196194e-05, 'mikael11': 9.859016070196194e-05, 'assignments': 9.859016070196194e-05, 'known': 9.859016070196194e-05, 'tie': 9.859016070196194e-05, 'doain': 9.859016070196194e-05, '415': 9.859016070196194e-05, 'conan': 9.859016070196194e-05, 'truck': 9.859016070196194e-05, 'withstanding': 9.859016070196194e-05, 'expected': 9.859016070196194e-05, 'wishwishwish': 9.859016070196194e-05, 'liverpoolfc': 9.859016070196194e-05, 'deserve': 9.859016070196194e-05, 'texas': 9.859016070196194e-05, 'razzle': 9.859016070196194e-05, 'articulatebrian': 9.859016070196194e-05, 'daddy': 9.859016070196194e-05, 'paulene': 9.859016070196194e-05, 'role': 9.859016070196194e-05, 'garden': 9.859016070196194e-05, 'ghostrider': 9.859016070196194e-05, 'karleigh': 9.859016070196194e-05, 'rozhan': 9.859016070196194e-05, 'easier': 9.859016070196194e-05, 'yesterdayouch': 9.859016070196194e-05, 'mf': 9.859016070196194e-05, 'jareds': 9.859016070196194e-05, 'shower': 9.859016070196194e-05, 'mentioning': 9.859016070196194e-05, 'ignored': 9.859016070196194e-05, 'sryyy': 9.859016070196194e-05, 'freaked': 9.859016070196194e-05, 'universe': 9.859016070196194e-05, 'livie': 9.859016070196194e-05, 'vitamix': 9.859016070196194e-05, 'ouch': 9.859016070196194e-05, 'mid': 9.859016070196194e-05, 'oxfordfilmfreak': 9.859016070196194e-05, 'inc': 9.859016070196194e-05, 'leno': 9.859016070196194e-05, 'or': 9.859016070196194e-05, 'linuxnut': 9.859016070196194e-05, 'onihdiwb': 9.859016070196194e-05, 'carrie': 9.859016070196194e-05, 'explodedsoda': 9.859016070196194e-05, 'ceremony': 9.859016070196194e-05, 'caffee': 9.859016070196194e-05, 'rejoicing': 9.859016070196194e-05, 'mississippi': 9.859016070196194e-05, 'nickeeeh': 9.859016070196194e-05, 'suckswouldnt': 9.859016070196194e-05, 'shewasyar': 9.859016070196194e-05, 'apparent': 9.859016070196194e-05, 'ramielemalubay': 9.859016070196194e-05, 'growing': 9.859016070196194e-05, 'drowned': 9.859016070196194e-05, 'ivy': 9.859016070196194e-05, 'finalizing': 9.859016070196194e-05, 'nuggs': 9.859016070196194e-05, 'olive': 9.859016070196194e-05, 'fireflies': 9.859016070196194e-05, 'sluis': 9.859016070196194e-05, 'limit': 9.859016070196194e-05, 'drowsy': 9.859016070196194e-05, 'accordingtothem': 9.859016070196194e-05, 'godlessgirl': 9.859016070196194e-05, 'came': 9.859016070196194e-05, 'kill': 9.859016070196194e-05, 'peer': 9.859016070196194e-05, 'modern': 9.859016070196194e-05, 'glory': 9.859016070196194e-05, 'shuttle': 9.859016070196194e-05, 'cleftmommy0217': 9.859016070196194e-05, 'dooobai': 9.859016070196194e-05, 'gun': 9.859016070196194e-05, 'shocking': 9.859016070196194e-05, 'avalon': 9.859016070196194e-05, 'double': 9.859016070196194e-05, 'cash': 9.859016070196194e-05, 'aku': 9.859016070196194e-05, 'novel': 9.859016070196194e-05, 'devonmarie78': 9.859016070196194e-05, 'bummer': 9.859016070196194e-05, 'mdear': 9.859016070196194e-05, 'vinifico': 9.859016070196194e-05, 'crossed': 9.859016070196194e-05, 'cinerary': 9.859016070196194e-05, 'kingdom': 9.859016070196194e-05, 'soup': 9.859016070196194e-05, 'limes': 9.859016070196194e-05, 'afrodisiac': 9.859016070196194e-05, 'franklin': 9.859016070196194e-05, 'punk': 9.859016070196194e-05, 'lx': 9.859016070196194e-05, 'somefink': 9.859016070196194e-05, 'michellecorona': 9.859016070196194e-05, 'grocery': 9.859016070196194e-05, 'treadonmydreams': 9.859016070196194e-05, 'spit': 9.859016070196194e-05, 'marktheescape': 9.859016070196194e-05, 'ruin': 9.859016070196194e-05, 'proconcert': 9.859016070196194e-05, 'cr8tivecandy': 9.859016070196194e-05, 'hear': 9.859016070196194e-05, 'fone': 9.859016070196194e-05, 'went': 9.859016070196194e-05, 'delayed': 9.859016070196194e-05, 'richter': 9.859016070196194e-05, 'beers': 9.859016070196194e-05, 'carries': 9.859016070196194e-05, 'eminem': 9.859016070196194e-05, 'seperated': 9.859016070196194e-05, 'okinawan': 9.859016070196194e-05, 'evie': 9.859016070196194e-05, 'dichenlachman': 9.859016070196194e-05, 'horses': 9.859016070196194e-05, 'gojo': 9.859016070196194e-05, 'mujhay': 9.859016070196194e-05, 'spain': 9.859016070196194e-05, 'tolerance': 9.859016070196194e-05, 'logo': 9.859016070196194e-05, 'sooooooooo': 9.859016070196194e-05, 'aftershower': 9.859016070196194e-05, 'still': 9.859016070196194e-05, 'nikki': 9.859016070196194e-05, 'answering': 9.859016070196194e-05, '4pm': 9.859016070196194e-05, 'bakeries': 9.859016070196194e-05, 'sleeps': 9.859016070196194e-05, 'slacking': 9.859016070196194e-05, 'bar': 9.859016070196194e-05, 'cracks': 9.859016070196194e-05, 'coldplay': 9.859016070196194e-05, 'ani': 9.859016070196194e-05, 'virtualstudios': 9.859016070196194e-05, 'lloyd': 9.859016070196194e-05, 'cofffeeeeeee': 9.859016070196194e-05, 'ittybitty': 9.859016070196194e-05, 'disappeared': 9.859016070196194e-05, 'uses': 9.859016070196194e-05, 'jensen': 9.859016070196194e-05, 'leah': 9.859016070196194e-05, 'graduates': 9.859016070196194e-05, 'kirstiealley': 9.859016070196194e-05, 'fnm': 9.859016070196194e-05, 'bonedaddyking': 9.859016070196194e-05, 'blessings': 9.859016070196194e-05, 'insane': 9.859016070196194e-05, 'typos': 9.859016070196194e-05, 'lil': 9.859016070196194e-05, 'vet': 9.859016070196194e-05, 'ahhhhhhh': 9.859016070196194e-05, 'policy': 9.859016070196194e-05, 'ï': 9.859016070196194e-05, 'neekel': 9.859016070196194e-05, 'created': 9.859016070196194e-05, 'foiledcupcakes': 9.859016070196194e-05, 'xoxoroxyxoxo': 9.859016070196194e-05, 'session': 9.859016070196194e-05, 'automatically': 9.859016070196194e-05, 'carpool': 9.859016070196194e-05, 'shall': 9.859016070196194e-05, 'mugglemama': 9.859016070196194e-05, 'favorite': 9.859016070196194e-05, '3gs': 9.859016070196194e-05, 'cheering': 9.859016070196194e-05, 'sophisticated': 9.859016070196194e-05, 'lizp02x': 9.859016070196194e-05, 'marpart67': 9.859016070196194e-05, 'ballet': 9.859016070196194e-05, 'jacob': 9.859016070196194e-05, 'hacked': 9.859016070196194e-05, 'grave': 9.859016070196194e-05, 'sponsored': 9.859016070196194e-05, 'tonikaras': 9.859016070196194e-05, 'twidroid': 9.859016070196194e-05, 'ranti': 9.859016070196194e-05, 'garage': 9.859016070196194e-05, 'lovatodd': 9.859016070196194e-05, 'tweetpeete': 9.859016070196194e-05, 'loveees': 9.859016070196194e-05, 'dfizzy': 9.859016070196194e-05, 'guru': 9.859016070196194e-05, 'messing': 9.859016070196194e-05, 'qs': 9.859016070196194e-05, 'nb109': 9.859016070196194e-05, 'word': 9.859016070196194e-05, 'auth': 9.859016070196194e-05, 'service': 9.859016070196194e-05, 'sicc': 9.859016070196194e-05, 'uhhhhh': 9.859016070196194e-05, 'track': 9.859016070196194e-05, 'delay': 9.859016070196194e-05, 'sunny': 9.859016070196194e-05, 'stack': 9.859016070196194e-05, 'mooning': 9.859016070196194e-05, 'downhouse': 9.859016070196194e-05, 'costly': 9.859016070196194e-05, 'advertise': 9.859016070196194e-05, 'reckon': 9.859016070196194e-05, 'require': 9.859016070196194e-05, 'finished': 9.859016070196194e-05, 'explode': 9.859016070196194e-05, 'clothes': 9.859016070196194e-05, 'missy': 9.859016070196194e-05, 'bleeding': 9.859016070196194e-05, 'zane': 9.859016070196194e-05, 'annyo84': 9.859016070196194e-05, 'stage': 9.859016070196194e-05, 'affan': 9.859016070196194e-05, 'drops': 9.859016070196194e-05, 'odarygh': 9.859016070196194e-05, '¼': 9.859016070196194e-05, 'nothings': 9.859016070196194e-05, 'diyanah': 9.859016070196194e-05, 'assos': 9.859016070196194e-05, 'view': 9.859016070196194e-05, 'dc': 9.859016070196194e-05, 'vh1hoopz': 9.859016070196194e-05, 'anxious': 9.859016070196194e-05, 'gack': 9.859016070196194e-05, 'join': 9.859016070196194e-05, 'pfff': 9.859016070196194e-05, 'rainy': 9.859016070196194e-05, 'insider': 9.859016070196194e-05, 'native': 9.859016070196194e-05, 'woke': 9.859016070196194e-05, 'theã': 9.859016070196194e-05, 'aloe': 9.859016070196194e-05, 'swag': 9.859016070196194e-05, '5888': 9.859016070196194e-05, 'ba': 9.859016070196194e-05, 'jamba': 9.859016070196194e-05, 'beckie0': 9.859016070196194e-05, 'nutin': 9.859016070196194e-05, 'wine': 9.859016070196194e-05, 'prisoner': 9.859016070196194e-05, 'expecting': 9.859016070196194e-05, 'mcflymusic': 9.859016070196194e-05, 'nobody': 9.859016070196194e-05, 'sunburn': 9.859016070196194e-05, 'webcam': 9.859016070196194e-05, 'git': 9.859016070196194e-05, 'steam': 9.859016070196194e-05, 'liiiiife': 9.859016070196194e-05, 'bret': 9.859016070196194e-05, 'alma': 9.859016070196194e-05, 'hills': 9.859016070196194e-05, 'for': 9.859016070196194e-05, 'jadore': 9.859016070196194e-05, 'daays': 9.859016070196194e-05, 'circumstances': 9.859016070196194e-05, 'hello': 9.859016070196194e-05, 'recycled': 9.859016070196194e-05, 'everyones': 9.859016070196194e-05, 'mikemoseng': 9.859016070196194e-05, 'holiday': 9.859016070196194e-05, 'cgft': 9.859016070196194e-05, 'cocoward': 9.859016070196194e-05, 'lisaworld': 9.859016070196194e-05, '34': 9.859016070196194e-05, 'see': 9.859016070196194e-05, 'studying': 9.859016070196194e-05, 'kantashi': 9.859016070196194e-05, 'citygirl912': 9.859016070196194e-05, 'hoopinispassion': 9.859016070196194e-05, 'album': 9.859016070196194e-05, 'there': 9.859016070196194e-05, 'q': 9.859016070196194e-05, 'annamariapdt': 9.859016070196194e-05, 'matter': 9.859016070196194e-05, 'singsongy': 9.859016070196194e-05, 'maryland': 9.859016070196194e-05, 'goodninght': 9.859016070196194e-05, 'route': 9.859016070196194e-05, 'dns': 9.859016070196194e-05, 'dnt': 9.859016070196194e-05, 'cocoa': 9.859016070196194e-05, 'relaxed': 9.859016070196194e-05, 'kazzba': 9.859016070196194e-05, 'store': 9.859016070196194e-05, 'accent': 9.859016070196194e-05, 'jackawful': 9.859016070196194e-05, 'choose': 9.859016070196194e-05, 'comal': 9.859016070196194e-05, 'alchey': 9.859016070196194e-05, 'cherry': 9.859016070196194e-05, 'mp3': 9.859016070196194e-05, 'trouble': 9.859016070196194e-05, 'playradioplay': 9.859016070196194e-05, 'nuts': 9.859016070196194e-05, 'simultaniously': 9.859016070196194e-05, 'ellen': 9.859016070196194e-05, 'october': 9.859016070196194e-05, 'sneaking': 9.859016070196194e-05, 'mccann': 9.859016070196194e-05, 'cumberland': 9.859016070196194e-05, 'face': 9.859016070196194e-05, 'subscription': 9.859016070196194e-05, 'cds': 9.859016070196194e-05, 'roger': 9.859016070196194e-05, 'pinkberry': 9.859016070196194e-05, 'debbie': 9.859016070196194e-05, 'omgosh': 9.859016070196194e-05, 'preparing': 9.859016070196194e-05, 'tax': 9.859016070196194e-05, 'theneener': 9.859016070196194e-05, 'pottery': 9.859016070196194e-05, 'moisture': 9.859016070196194e-05, 'properly': 9.859016070196194e-05, 'poet': 9.859016070196194e-05, 'openbook': 9.859016070196194e-05, 'rice': 9.859016070196194e-05, 'slumdog': 9.859016070196194e-05, 'average': 9.859016070196194e-05, 'girl': 9.859016070196194e-05, 'plant': 9.859016070196194e-05, 'his': 9.859016070196194e-05, '\\x82': 9.859016070196194e-05, 'macabroso': 9.859016070196194e-05, 'jasmika': 9.859016070196194e-05, 'appointment': 9.859016070196194e-05, 'training': 9.859016070196194e-05, 'ashleymarieduh': 9.859016070196194e-05, 'yeeee': 9.859016070196194e-05, 'gabe138': 9.859016070196194e-05, 'waving': 9.859016070196194e-05, 'howliet': 9.859016070196194e-05, 'sacked': 9.859016070196194e-05, 'cobracam': 9.859016070196194e-05, 'pizza': 9.859016070196194e-05, 'chi': 9.859016070196194e-05, 'davina': 9.859016070196194e-05, 'hurricanes': 9.859016070196194e-05, 'denver': 9.859016070196194e-05, 'hardest': 9.859016070196194e-05, 'might': 9.859016070196194e-05, 'uzvara': 9.859016070196194e-05, '3': 9.859016070196194e-05, 'mcp': 9.859016070196194e-05, 'ladyshamble': 9.859016070196194e-05, 'upstairs': 9.859016070196194e-05, 'waytoearlyoclock': 9.859016070196194e-05, 'musicmondays': 9.859016070196194e-05, 'kati': 9.859016070196194e-05, 'turkish': 9.859016070196194e-05, 'related': 9.859016070196194e-05, 'smokedsalmon': 9.859016070196194e-05, 'electrical': 9.859016070196194e-05, 'lays': 9.859016070196194e-05, 'respectful': 9.859016070196194e-05, 'suspect': 9.859016070196194e-05, 'jess': 9.859016070196194e-05, 'gamesurge': 9.859016070196194e-05, 'rescued': 9.859016070196194e-05, 'parish': 9.859016070196194e-05, 'irish': 9.859016070196194e-05, 'enemies': 9.859016070196194e-05, 'vampqueen': 9.859016070196194e-05, 'maiden': 9.859016070196194e-05, 'whens': 9.859016070196194e-05, '2pm': 9.859016070196194e-05, 'grandma': 9.859016070196194e-05, 'snooze': 9.859016070196194e-05, 'plain': 9.859016070196194e-05, 'skins': 9.859016070196194e-05, 'interested': 9.859016070196194e-05, 'abt': 9.859016070196194e-05, 'irgxana': 9.859016070196194e-05, 'heywidya': 9.859016070196194e-05, 'kwamedidit': 9.859016070196194e-05, 'pigeon': 9.859016070196194e-05, 'teen': 9.859016070196194e-05, 'fob': 9.859016070196194e-05, 'natalieexo': 9.859016070196194e-05, 'kno': 9.859016070196194e-05, 'anna': 9.859016070196194e-05, 'splendid': 9.859016070196194e-05, 'worst': 9.859016070196194e-05, 'fajitas': 9.859016070196194e-05, 'luckily': 9.859016070196194e-05, 'dealer': 9.859016070196194e-05, 'brow': 9.859016070196194e-05, 'would': 9.859016070196194e-05, 'domestic': 9.859016070196194e-05, 'running': 9.859016070196194e-05, '630': 9.859016070196194e-05, 'affect': 9.859016070196194e-05, 'establish': 9.859016070196194e-05, 'userpic': 9.859016070196194e-05, 'aand': 9.859016070196194e-05, 'candacecbure': 9.859016070196194e-05, 'tomatoes': 9.859016070196194e-05, 'cheapcheapcheap': 9.859016070196194e-05, 'emilyy': 9.859016070196194e-05, 'wham': 9.859016070196194e-05, 'malem': 9.859016070196194e-05, 'malenga': 9.859016070196194e-05, 'packed': 9.859016070196194e-05, 'sharen': 9.859016070196194e-05, 'spygun': 9.859016070196194e-05, 'drjaxxthe': 9.859016070196194e-05, 'lounging': 9.859016070196194e-05, 'against': 9.859016070196194e-05, 'uyennguyen': 9.859016070196194e-05, 'hvin': 9.859016070196194e-05, 'sussex': 9.859016070196194e-05, 'rockon24': 9.859016070196194e-05, 'youtube': 9.859016070196194e-05, 'kk': 9.859016070196194e-05, 'fundraiser': 9.859016070196194e-05, 'weï': 9.859016070196194e-05, 'speed': 9.859016070196194e-05, 'rotty': 9.859016070196194e-05, 'passed': 9.859016070196194e-05, 'pool': 9.859016070196194e-05, 'headin': 9.859016070196194e-05, 'gland': 9.859016070196194e-05, 'mossyrants': 9.859016070196194e-05, 'driveway': 9.859016070196194e-05, 'harmonisation': 9.859016070196194e-05, 'chesterfield': 9.859016070196194e-05, 'newerdeal': 9.859016070196194e-05, 'guyssince': 9.859016070196194e-05, 'bo': 9.859016070196194e-05, 'financial': 9.859016070196194e-05, 'na': 9.859016070196194e-05, 'moleskine': 9.859016070196194e-05, 'nuea': 9.859016070196194e-05, 'fuckwads': 9.859016070196194e-05, 'update': 9.859016070196194e-05, 'smashing': 9.859016070196194e-05, 'when': 9.859016070196194e-05, 'dat': 9.859016070196194e-05, 'beside': 9.859016070196194e-05, 'loev': 9.859016070196194e-05, 'accomplished': 9.859016070196194e-05, 'level': 9.859016070196194e-05, 'tatis': 9.859016070196194e-05, 'restaurant': 9.859016070196194e-05, 'danmattia': 9.859016070196194e-05, 'mental': 9.859016070196194e-05, 'stripe': 9.859016070196194e-05, 'hangerå': 9.859016070196194e-05, 'train': 9.859016070196194e-05, 'relaxing': 9.859016070196194e-05, 'promo': 9.859016070196194e-05, 'clanin': 9.859016070196194e-05, 'difference': 9.859016070196194e-05, 'panicking': 9.859016070196194e-05, 'parastoo': 9.859016070196194e-05, 'stanky': 9.859016070196194e-05, 'sadly': 9.859016070196194e-05, 'jon': 9.859016070196194e-05, 'maccas': 9.859016070196194e-05, 'ytinkerramone': 9.859016070196194e-05, 'wise': 9.859016070196194e-05, 'marathon': 9.859016070196194e-05, 'doesnt': 9.859016070196194e-05, 'ruffle': 9.859016070196194e-05, 'kemp': 9.859016070196194e-05, 'gregs': 9.859016070196194e-05, 'hene57': 9.859016070196194e-05, 'hedgehogs': 9.859016070196194e-05, 'sandysaikman': 9.859016070196194e-05, 'sign': 9.859016070196194e-05, 'motherstobe': 9.859016070196194e-05, 'rumour': 9.859016070196194e-05, 'horrible': 9.859016070196194e-05, 'chopped': 9.859016070196194e-05, 'smoking': 9.859016070196194e-05, 'cats': 9.859016070196194e-05, 'gutted': 9.859016070196194e-05, 'coughing': 9.859016070196194e-05, 'momentarily': 9.859016070196194e-05, 'graphix': 9.859016070196194e-05, 'noodles': 9.859016070196194e-05, 'slr': 9.859016070196194e-05, 'drunk': 9.859016070196194e-05, 'near': 9.859016070196194e-05, 'kisses': 9.859016070196194e-05, 'stunning': 9.859016070196194e-05, 'brick': 9.859016070196194e-05, 'bmaynorx3': 9.859016070196194e-05, 'summersteam': 9.859016070196194e-05, 'denisehammock': 9.859016070196194e-05, 'rafatux': 9.859016070196194e-05, 'ssshh': 9.859016070196194e-05, '¢': 9.859016070196194e-05, 'miso': 9.859016070196194e-05, 'breagrant': 9.859016070196194e-05, 'prison': 9.859016070196194e-05, 'surprised': 9.859016070196194e-05, 'painters': 9.859016070196194e-05, 'vibes': 9.859016070196194e-05, 'overrun': 9.859016070196194e-05, 'celebrations': 9.859016070196194e-05, 'jeremih': 9.859016070196194e-05, 'spooky': 9.859016070196194e-05, 'acadia': 9.859016070196194e-05, 'dayyyyy': 9.859016070196194e-05, 'sobs': 9.859016070196194e-05, 'inez13': 9.859016070196194e-05, 'ohio': 9.859016070196194e-05, 'yeeeah': 9.859016070196194e-05, 'live': 9.859016070196194e-05, 'till': 9.859016070196194e-05, 'tay': 9.859016070196194e-05, 'cio': 9.859016070196194e-05, 'swgapolitics': 9.859016070196194e-05, 'records': 9.859016070196194e-05, 'keen': 9.859016070196194e-05, 'netball': 9.859016070196194e-05, 'briaaaa': 9.859016070196194e-05, 'top': 9.859016070196194e-05, 'lizlove': 9.859016070196194e-05, 'carb': 9.859016070196194e-05, 'moon': 9.859016070196194e-05, 'reffing': 9.859016070196194e-05, 'darrinstaloch': 9.859016070196194e-05, 'healthy': 9.859016070196194e-05, 'alberta': 9.859016070196194e-05, 'sogar': 9.859016070196194e-05, 'keza34': 9.859016070196194e-05, 'pphew': 9.859016070196194e-05, 'waited': 9.859016070196194e-05, 'alexparr': 9.859016070196194e-05, 'bigbearrg': 9.859016070196194e-05, 'lmaoo': 9.859016070196194e-05, 'djdeks': 9.859016070196194e-05, 'stavros': 9.859016070196194e-05, 'yday': 9.859016070196194e-05, 'status': 9.859016070196194e-05, 'story': 9.859016070196194e-05, 'weather': 9.859016070196194e-05, 'coy0te': 9.859016070196194e-05, 'salute': 9.859016070196194e-05, 'knooow': 9.859016070196194e-05, 'brussels': 9.859016070196194e-05, 'clutch': 9.859016070196194e-05, 'hollowed': 9.859016070196194e-05, 'earache': 9.859016070196194e-05, 'cartoonandrew': 9.859016070196194e-05, 'jibjib': 9.859016070196194e-05, 'hilprado': 9.859016070196194e-05, 'kathy': 9.859016070196194e-05, 'smith': 9.859016070196194e-05, 'lads': 9.859016070196194e-05, 'dooougiecplease': 9.859016070196194e-05, 'pbarber00': 9.859016070196194e-05, 'gailporter': 9.859016070196194e-05, 'fit': 9.859016070196194e-05, 'ahhhh': 9.859016070196194e-05, 'scene': 9.859016070196194e-05, 'episodes': 9.859016070196194e-05, 'ilysoulm': 9.859016070196194e-05, 'wana': 9.859016070196194e-05, 'mommab63': 9.859016070196194e-05, 'neelyyyy': 9.859016070196194e-05, 'peschkaj': 9.859016070196194e-05, 'comics': 9.859016070196194e-05, 'rebonded': 9.859016070196194e-05, 'joy': 9.859016070196194e-05, 'refused': 9.859016070196194e-05, 'keystroke': 9.859016070196194e-05, 'crazytwism': 9.859016070196194e-05, 'turkey': 9.859016070196194e-05, 'diverted': 9.859016070196194e-05, 'useless': 9.859016070196194e-05, 'sharenwatson': 9.859016070196194e-05, 'fremantle': 9.859016070196194e-05, 'dgtr': 9.859016070196194e-05, 'mo': 9.859016070196194e-05, 'carolermp': 9.859016070196194e-05, 'worries': 9.859016070196194e-05, 'china': 9.859016070196194e-05, 'grahams': 9.859016070196194e-05, 'h0wreya': 9.859016070196194e-05, 'bored': 9.859016070196194e-05, 'killin': 9.859016070196194e-05, 'sashas': 9.859016070196194e-05, 'rest': 9.859016070196194e-05, 'knee': 9.859016070196194e-05, 'heartbeat': 9.859016070196194e-05, 'homework': 9.859016070196194e-05, 'redownloaded': 9.859016070196194e-05, 'bedtime': 9.859016070196194e-05, 'themandymoore': 9.859016070196194e-05, 'changed': 9.859016070196194e-05, 'districts': 9.859016070196194e-05, 'o2': 9.859016070196194e-05, 'wieners': 9.859016070196194e-05, 'yearlys': 9.859016070196194e-05, 'premire': 9.859016070196194e-05, 'intel': 9.859016070196194e-05, 'budget': 9.859016070196194e-05, 'rafting': 9.859016070196194e-05, 'cocking': 9.859016070196194e-05, 'fixreplies': 9.859016070196194e-05, 'idk': 9.859016070196194e-05, 'yesterdays': 9.859016070196194e-05, 'pollock': 9.859016070196194e-05, 'lectures': 9.859016070196194e-05, 'chriscavs': 9.859016070196194e-05, 'deflation': 9.859016070196194e-05, 'exams': 9.859016070196194e-05, 'goals': 9.859016070196194e-05, 'freedom': 9.859016070196194e-05, 'spyring': 9.859016070196194e-05, 'run4kelly': 9.859016070196194e-05, 'printer': 9.859016070196194e-05, 'serious': 9.859016070196194e-05, 'perfume': 9.859016070196194e-05, 'sketchbook': 9.859016070196194e-05, 'jammedhands': 9.859016070196194e-05, 'trey': 9.859016070196194e-05, 'sbeak': 9.859016070196194e-05, 'state': 9.859016070196194e-05, 'shansgrl': 9.859016070196194e-05, 'nightmare': 9.859016070196194e-05, 'fridge': 9.859016070196194e-05, 'incase': 9.859016070196194e-05, 'vinci': 9.859016070196194e-05, 'inebriated': 9.859016070196194e-05, 'telln': 9.859016070196194e-05, 'watch': 9.859016070196194e-05, 'le': 9.859016070196194e-05, 'finalists': 9.859016070196194e-05, 'ttimechitchat': 9.859016070196194e-05, 'upp': 9.859016070196194e-05, 'jimmycarr': 9.859016070196194e-05, 'asian': 9.859016070196194e-05, 'nerves': 9.859016070196194e-05, 'campaign': 9.859016070196194e-05, 'killed': 9.859016070196194e-05, 'donezo': 9.859016070196194e-05, 'twinklex': 9.859016070196194e-05, 'jet117': 9.859016070196194e-05, 'theellenshow': 9.859016070196194e-05, 'iremember': 9.859016070196194e-05, 'acad': 9.859016070196194e-05, 'bitches': 9.859016070196194e-05, 'silly': 9.859016070196194e-05, '\\x80': 9.859016070196194e-05, 'hurrrrry': 9.859016070196194e-05, 'octane': 9.859016070196194e-05, 'activating': 9.859016070196194e-05, 'corona': 9.859016070196194e-05, 'a200': 9.859016070196194e-05, 'itself': 9.859016070196194e-05, 'erin': 9.859016070196194e-05, 'pleease': 9.859016070196194e-05, 'zarkinfrood': 9.859016070196194e-05, 'djtracyyoung': 9.859016070196194e-05, 'assessment': 9.859016070196194e-05, 'camera': 9.859016070196194e-05, 'veronnica': 9.859016070196194e-05, 'lolwe': 9.859016070196194e-05, 'twittered': 9.859016070196194e-05, 'tabat': 9.859016070196194e-05, 'breath': 9.859016070196194e-05, 'shell': 9.859016070196194e-05, 'channels': 9.859016070196194e-05, 'leaving': 9.859016070196194e-05, 'decatur': 9.859016070196194e-05, 'guests': 9.859016070196194e-05, 'member': 9.859016070196194e-05, 'log': 9.859016070196194e-05, 'astronick': 9.859016070196194e-05, 'damnnnlol': 9.859016070196194e-05, 'lad': 9.859016070196194e-05, 'enthusiastic': 9.859016070196194e-05, 'rachel': 9.859016070196194e-05, 'ooooooooo': 9.859016070196194e-05, 'tks': 9.859016070196194e-05, 'slipped': 9.859016070196194e-05, 'yfrog': 9.859016070196194e-05, 'cokiethecat': 9.859016070196194e-05, 'screams': 9.859016070196194e-05, 'surf': 9.859016070196194e-05, 'book': 9.859016070196194e-05, 'florida': 9.859016070196194e-05, 'tween': 9.859016070196194e-05, 'jackiee': 9.859016070196194e-05, 'txp': 9.859016070196194e-05, 'virus': 9.859016070196194e-05, 'razzamatazz87': 9.859016070196194e-05, 'hisfitness': 9.859016070196194e-05, 'homies': 9.859016070196194e-05, 'match': 9.859016070196194e-05, 'staff': 9.859016070196194e-05, 'dannsimmons': 9.859016070196194e-05, 'kenya': 9.859016070196194e-05, 'position': 9.859016070196194e-05, 'akwatkins': 9.859016070196194e-05, 'edlee': 9.859016070196194e-05, 'ppls': 9.859016070196194e-05, 'macarena': 9.859016070196194e-05, 'greatly': 9.859016070196194e-05, 'aw': 9.859016070196194e-05, 'bare': 9.859016070196194e-05, 'diesel': 9.859016070196194e-05, 'shame': 9.859016070196194e-05, 'possibility': 9.859016070196194e-05, 'promotion': 9.859016070196194e-05, 'delighted': 9.859016070196194e-05, 'sunburnt': 9.859016070196194e-05, 'estie': 9.859016070196194e-05, 'procrastinate': 9.859016070196194e-05, 'boot': 9.859016070196194e-05, 'gigs': 9.859016070196194e-05, 'roommate': 9.859016070196194e-05, 'twit': 9.859016070196194e-05, 'nuns': 9.859016070196194e-05, 'screening': 9.859016070196194e-05, 'disconnected': 9.859016070196194e-05, 'paper': 9.859016070196194e-05, 'sudden': 9.859016070196194e-05, 'aghhhhhhagahghahghaghag': 9.859016070196194e-05, 'el': 9.859016070196194e-05, 'principally': 9.859016070196194e-05, 'backlog': 9.859016070196194e-05, 'problems': 9.859016070196194e-05, 'rcpmelissa': 9.859016070196194e-05, 'smokers': 9.859016070196194e-05, 'canno': 9.859016070196194e-05, 'attempting': 9.859016070196194e-05, 'numb': 9.859016070196194e-05, 'nickyjames': 9.859016070196194e-05, 'six': 9.859016070196194e-05, 'bill': 9.859016070196194e-05, 'prmari': 9.859016070196194e-05, 'heart': 9.859016070196194e-05, 'smile': 9.859016070196194e-05, 'clip': 9.859016070196194e-05, 'again': 9.859016070196194e-05, 'ktnya': 9.859016070196194e-05, 'smoked': 9.859016070196194e-05, 'bbq': 9.859016070196194e-05, 'mrtweet': 9.859016070196194e-05, 'hack': 9.859016070196194e-05, 'ijessicasimpson': 9.859016070196194e-05, 'missannelie': 9.859016070196194e-05, 'meggiemouse': 9.859016070196194e-05, '700th': 9.859016070196194e-05, 'dive': 9.859016070196194e-05, 'porn': 9.859016070196194e-05, 'molten': 9.859016070196194e-05, 'iamdiddy': 9.859016070196194e-05, 'offi': 9.859016070196194e-05, 'gayletrent': 9.859016070196194e-05, 'webinar': 9.859016070196194e-05, 'diarrhea': 9.859016070196194e-05, 'dawnarmfield': 9.859016070196194e-05, 'roelani': 9.859016070196194e-05, 'offline': 9.859016070196194e-05, 'dax': 9.859016070196194e-05, 'tiiiink': 9.859016070196194e-05, 'rave': 9.859016070196194e-05, 'sheer': 9.859016070196194e-05, 'laze': 9.859016070196194e-05, 'singer': 9.859016070196194e-05, 'published': 9.859016070196194e-05, 'liking': 9.859016070196194e-05, 'folks': 9.859016070196194e-05, 'lhotp': 9.859016070196194e-05, 'plabyorteaux': 9.859016070196194e-05, 'script': 9.859016070196194e-05, 'stirfry': 9.859016070196194e-05, 'yamaguchis': 9.859016070196194e-05, 'place': 9.859016070196194e-05, 'option': 9.859016070196194e-05, 'hipster': 9.859016070196194e-05, 'pretty': 9.859016070196194e-05, 'praying': 9.859016070196194e-05, 'kittys': 9.859016070196194e-05, 'tupperware': 9.859016070196194e-05, 'kpamintuan': 9.859016070196194e-05, 'pro': 9.859016070196194e-05, 'toes': 9.859016070196194e-05, 'guy': 9.859016070196194e-05, 'tinytim2701': 9.859016070196194e-05, 'burn': 9.859016070196194e-05, 'crawl': 9.859016070196194e-05, 'cadet': 9.859016070196194e-05, 'hay': 9.859016070196194e-05, 'hoo': 9.859016070196194e-05, 'benji': 9.859016070196194e-05, 'cwtch': 9.859016070196194e-05, 'purty': 9.859016070196194e-05, 'catharines': 9.859016070196194e-05, 'si': 9.859016070196194e-05, 'hardy': 9.859016070196194e-05, 'jeddimkins': 9.859016070196194e-05, 'pong': 9.859016070196194e-05, 'arabidopsis': 9.859016070196194e-05, 'freshman': 9.859016070196194e-05, 'hard': 9.859016070196194e-05, 'holding': 9.859016070196194e-05, 'second': 9.859016070196194e-05, 'news': 9.859016070196194e-05, 'judges': 9.859016070196194e-05, 'wack': 9.859016070196194e-05, 'looev': 9.859016070196194e-05, 'anissapramudita': 9.859016070196194e-05, 'dansiego': 9.859016070196194e-05, 'nikimontazaran': 9.859016070196194e-05, 'acetona': 9.859016070196194e-05, 'jithinkr': 9.859016070196194e-05, 'stole': 9.859016070196194e-05, 'jesse': 9.859016070196194e-05, 'networking': 9.859016070196194e-05, 'buen': 9.859016070196194e-05, 'dumb': 9.859016070196194e-05, 'wing': 9.859016070196194e-05, 'windy6': 9.859016070196194e-05, 'newsletter': 9.859016070196194e-05, 'quieter': 9.859016070196194e-05, 'ap': 9.859016070196194e-05, 'watering': 9.859016070196194e-05, 'travis': 9.859016070196194e-05, 'ahmed': 9.859016070196194e-05, 'matching': 9.859016070196194e-05, 'geetars': 9.859016070196194e-05, 'cinnamon': 9.859016070196194e-05, 'any': 9.859016070196194e-05, 'ohh': 9.859016070196194e-05, 'daily': 9.859016070196194e-05, 'laganas': 9.859016070196194e-05, 'thejetontnt': 9.859016070196194e-05, 'scrambling': 9.859016070196194e-05, 'tigermarketing': 9.859016070196194e-05, 'forever': 9.859016070196194e-05, 'cleaned': 9.859016070196194e-05, 'texting': 9.859016070196194e-05, 'sonic': 9.859016070196194e-05, 'beds': 9.859016070196194e-05, '19': 9.859016070196194e-05, 'harder': 9.859016070196194e-05, 'degrees': 9.859016070196194e-05, 'neilmed': 9.859016070196194e-05, 'barn': 9.859016070196194e-05, 'drunkengeebee': 9.859016070196194e-05, 'parsley': 9.859016070196194e-05, 'brucewez': 9.859016070196194e-05, 'shifts': 9.859016070196194e-05, 'lucaslubin': 9.859016070196194e-05, 'back': 9.859016070196194e-05, 'shitt': 9.859016070196194e-05, 'disfigured': 9.859016070196194e-05, 'often': 9.859016070196194e-05, 'bella': 9.859016070196194e-05, 'donâ': 9.859016070196194e-05, 'etc': 9.859016070196194e-05, 'fridayim': 9.859016070196194e-05, 'backed': 9.859016070196194e-05, 'xp': 9.859016070196194e-05, 'kenziegrl3': 9.859016070196194e-05, 'turning': 9.859016070196194e-05, 'celebration': 9.859016070196194e-05, 'hill': 9.859016070196194e-05, 'hershey': 9.859016070196194e-05, 'itsnickjonas': 9.859016070196194e-05, 'tastes': 9.859016070196194e-05, 'coming': 9.859016070196194e-05, 'staaceeyy': 9.859016070196194e-05, 'fighting': 9.859016070196194e-05, 'recommend': 9.859016070196194e-05, 'auto': 9.859016070196194e-05, 'studio': 9.859016070196194e-05, 'hungover': 9.859016070196194e-05, 'rosaliiinda': 9.859016070196194e-05, 'tanisharenee08': 9.859016070196194e-05, 'houston': 9.859016070196194e-05, 'perfekt': 9.859016070196194e-05, 'bedroom': 9.859016070196194e-05, 'hows': 9.859016070196194e-05, 'yulianasari': 9.859016070196194e-05, 'achievements': 9.859016070196194e-05, 'personally': 9.859016070196194e-05, 'studyin': 9.859016070196194e-05, 'underwood': 9.859016070196194e-05, 'animalhouse4384': 9.859016070196194e-05, 'strawberries': 9.859016070196194e-05, 'romaineami': 9.859016070196194e-05, 'thumbs': 9.859016070196194e-05, 'creamcheese': 9.859016070196194e-05, 'farm': 9.859016070196194e-05, 'warm': 9.859016070196194e-05, 'used': 9.859016070196194e-05, '1capplegate': 9.859016070196194e-05, 'machines': 9.859016070196194e-05, 'response': 9.859016070196194e-05, 'odds': 9.859016070196194e-05, 'basement': 9.859016070196194e-05, 'enuf': 9.859016070196194e-05, 'thinks': 9.859016070196194e-05, 'cokeu': 9.859016070196194e-05, 'wow': 9.859016070196194e-05, 'whoever': 9.859016070196194e-05, 'interwebs': 9.859016070196194e-05, 'jofstar': 9.859016070196194e-05, 'marcus': 9.859016070196194e-05, 'rica': 9.859016070196194e-05, 'daughter': 9.859016070196194e-05, 'joeymartelli': 9.859016070196194e-05, 'visiting': 9.859016070196194e-05, 'washing': 9.859016070196194e-05, 'soooooo': 9.859016070196194e-05, 'scales': 9.859016070196194e-05, 'waht': 9.859016070196194e-05, 'shaunhailes': 9.859016070196194e-05, 'stoner': 9.859016070196194e-05, 'posting': 9.859016070196194e-05, 'seconds': 9.859016070196194e-05, 'uppies': 9.859016070196194e-05, 'romeothecat': 9.859016070196194e-05, '1245': 9.859016070196194e-05, 'suchhh': 9.859016070196194e-05, 'noch': 9.859016070196194e-05, 'poison': 9.859016070196194e-05, 'ä': 9.859016070196194e-05, 'youuuuuu': 9.859016070196194e-05, 'yayyyy': 9.859016070196194e-05, 'chiefs': 9.859016070196194e-05, 'pary': 9.859016070196194e-05, '7am': 9.859016070196194e-05, 'recommendations': 9.859016070196194e-05, 'hurts': 9.859016070196194e-05, 'bakit': 9.859016070196194e-05, 'storms': 9.859016070196194e-05, 'doingwork': 9.859016070196194e-05, 'burning': 9.859016070196194e-05, 'waynedastar': 9.859016070196194e-05, 'flowersbyfarha': 9.859016070196194e-05, 'entries': 9.859016070196194e-05, 'rooting': 9.859016070196194e-05, 'let': 9.859016070196194e-05, 'chilled': 9.859016070196194e-05, 'flippy': 9.859016070196194e-05, 'padacklesjjam': 9.859016070196194e-05, 'kenny': 9.859016070196194e-05, 'anansha': 9.859016070196194e-05, 'bubble': 9.859016070196194e-05, 'omg': 9.859016070196194e-05, 'it': 9.859016070196194e-05, 'marksheldon': 9.859016070196194e-05, 'topics': 9.859016070196194e-05, 'signingmom': 9.859016070196194e-05, 'adults': 9.859016070196194e-05, 'ichsi': 9.859016070196194e-05, 'nvr': 9.859016070196194e-05, 'tornados': 9.859016070196194e-05, 'roxerally': 9.859016070196194e-05, 'rove': 9.859016070196194e-05, 'opera': 9.859016070196194e-05, 'dramatic': 9.859016070196194e-05, 'impressive': 9.859016070196194e-05, 'fricken': 9.859016070196194e-05, 'spindaisy': 9.859016070196194e-05, 'saturday': 9.859016070196194e-05, 'town': 9.859016070196194e-05, 'galleries': 9.859016070196194e-05, 'forbeatlesfans': 9.859016070196194e-05, 'books': 9.859016070196194e-05, 'goooooooooooooood': 9.859016070196194e-05, 'epicfail': 9.859016070196194e-05, 'tokiho': 9.859016070196194e-05, 'thursdays': 9.859016070196194e-05, 'ted9k': 9.859016070196194e-05, 'ryt': 9.859016070196194e-05, '25th': 9.859016070196194e-05, 'britaiin': 9.859016070196194e-05, 'jumping': 9.859016070196194e-05, 'notoriousflirt': 9.859016070196194e-05, 'berthofstede': 9.859016070196194e-05, 'econ': 9.859016070196194e-05, 'ahahahhahaahhahh': 9.859016070196194e-05, 'emilyybrowningg': 9.859016070196194e-05, 'apply': 9.859016070196194e-05, 'stoke': 9.859016070196194e-05, 'boohoo': 9.859016070196194e-05, 'sissydawnie': 9.859016070196194e-05, 'kol': 9.859016070196194e-05, 'company': 9.859016070196194e-05, 'ripple': 9.859016070196194e-05, 'agentm': 9.859016070196194e-05, 'believe': 9.859016070196194e-05, 'tinaodarby': 9.859016070196194e-05, 'soggy': 9.859016070196194e-05, 'rain': 9.859016070196194e-05, 'divinae': 9.859016070196194e-05, 'chihuahua': 9.859016070196194e-05, 'grand': 9.859016070196194e-05, 'effects': 9.859016070196194e-05, 'reallllllllly': 9.859016070196194e-05, 'invite': 9.859016070196194e-05, 'sri': 9.859016070196194e-05, 'matti': 9.859016070196194e-05, 'beaver': 9.859016070196194e-05, '00mony00': 9.859016070196194e-05, 'soooo': 9.859016070196194e-05, 'sad': 9.859016070196194e-05, 'wwwtweeterfollowcom': 9.859016070196194e-05, 'loathe': 9.859016070196194e-05, 'hole': 9.859016070196194e-05, 'sam': 9.859016070196194e-05, 'kitty': 9.859016070196194e-05, 'xclusivebby': 9.859016070196194e-05, 'friending': 9.859016070196194e-05, 'abc': 9.859016070196194e-05, 'gil': 9.859016070196194e-05, 'fair': 9.859016070196194e-05, 'shipping': 9.859016070196194e-05, 'whoot': 9.859016070196194e-05, 'buttttttt': 9.859016070196194e-05, 'daviddjfrancis': 9.859016070196194e-05, 'litos': 9.859016070196194e-05, 'loads': 9.859016070196194e-05, 'sold': 9.859016070196194e-05, 'f1': 9.859016070196194e-05, 'heidelberg': 9.859016070196194e-05, 'shofee': 9.859016070196194e-05, 'd': 9.859016070196194e-05, 'thedavidblaise': 9.859016070196194e-05, 'memory': 9.859016070196194e-05, 'whts': 9.859016070196194e-05, 'duster': 9.859016070196194e-05, 'corsica': 9.859016070196194e-05, 'tmtohd': 9.859016070196194e-05, 'ness': 9.859016070196194e-05, 'wit': 9.859016070196194e-05, 'yung': 9.859016070196194e-05, 'katemeadows': 9.859016070196194e-05, 'emily': 9.859016070196194e-05, 'yizeah': 9.859016070196194e-05, 'windies': 9.859016070196194e-05, 'testing': 9.859016070196194e-05, 'apc': 9.859016070196194e-05, 'intolerable': 9.859016070196194e-05, 'squarespacestfu': 9.859016070196194e-05, 'dad': 9.859016070196194e-05, 'polarna10': 9.859016070196194e-05, 'ewwwwy': 9.859016070196194e-05, 'davy': 9.859016070196194e-05, 'ensign': 9.859016070196194e-05, 'foreverivy': 9.859016070196194e-05, 'aafreen': 9.859016070196194e-05, 'solorunner': 9.859016070196194e-05, 'part': 9.859016070196194e-05, 'dun': 9.859016070196194e-05, 'libary': 9.859016070196194e-05, 'enjoyed': 9.859016070196194e-05, 'krispy': 9.859016070196194e-05, 'webb': 9.859016070196194e-05, 'besties': 9.859016070196194e-05, 'thing': 9.859016070196194e-05, 'mcmahon': 9.859016070196194e-05, 'recs': 9.859016070196194e-05, 'tehy': 9.859016070196194e-05, 'florence': 9.859016070196194e-05, 'ze': 9.859016070196194e-05, 'spell': 9.859016070196194e-05, 'dead': 9.859016070196194e-05, 'belcourt': 9.859016070196194e-05, 'kellie': 9.859016070196194e-05, 'semis': 9.859016070196194e-05, 'jared': 9.859016070196194e-05, 'typo': 9.859016070196194e-05, 'nhoustonreed': 9.859016070196194e-05, 'upto': 9.859016070196194e-05, 'escape': 9.859016070196194e-05, 'milky': 9.859016070196194e-05, 'mariahcarey': 9.859016070196194e-05, 'irishdeafkids': 9.859016070196194e-05, 'com': 9.859016070196194e-05, 'survived': 9.859016070196194e-05, 'dummy': 9.859016070196194e-05, 'seperate': 9.859016070196194e-05, 'lv': 9.859016070196194e-05, 'loveeee': 9.859016070196194e-05, 'kicked': 9.859016070196194e-05, 'ib3': 9.859016070196194e-05, 'westerkerk': 9.859016070196194e-05, 'decision': 9.859016070196194e-05, 'naks': 9.859016070196194e-05, 'politicool': 9.859016070196194e-05, 'morningnight': 9.859016070196194e-05, 'yest': 9.859016070196194e-05, 'mischief': 9.859016070196194e-05, 'later': 9.859016070196194e-05, 'developer': 9.859016070196194e-05, 'mclamb4life2': 9.859016070196194e-05, 'kind': 9.859016070196194e-05, 'seemouserun': 9.859016070196194e-05, 'bandmate': 9.859016070196194e-05, 'flavored': 9.859016070196194e-05, 'mahaaaa': 9.859016070196194e-05, 'justin': 9.859016070196194e-05, 'agkicks': 9.859016070196194e-05, 'ðµñ': 9.859016070196194e-05, 'umasswmr': 9.859016070196194e-05, 'cccassin': 9.859016070196194e-05, 'talent': 9.859016070196194e-05, 'requires': 9.859016070196194e-05, 'weird': 9.859016070196194e-05, 'lonosg': 9.859016070196194e-05, 'thebestofhands': 9.859016070196194e-05, 'weds': 9.859016070196194e-05, 'reminded': 9.859016070196194e-05, 'hopes': 9.859016070196194e-05, 'deadpool': 9.859016070196194e-05, 'mariot': 9.859016070196194e-05, 'ma': 9.859016070196194e-05, 'baseball': 9.859016070196194e-05, 'ladykillerr': 9.859016070196194e-05, '545': 9.859016070196194e-05, 'goat': 9.859016070196194e-05, 'unpairing': 9.859016070196194e-05, 'husband': 9.859016070196194e-05, 'browsing': 9.859016070196194e-05, 'ninoushka': 9.859016070196194e-05, 'details': 9.859016070196194e-05, 'heeeyshelby': 9.859016070196194e-05, 'pretii': 9.859016070196194e-05, 'more': 9.859016070196194e-05, 'pain': 9.859016070196194e-05, 'drewie123': 9.859016070196194e-05, 'amanhã': 9.859016070196194e-05, 'lvatt': 9.859016070196194e-05, 'gamestop': 9.859016070196194e-05, 'chemistry': 9.859016070196194e-05, '28': 9.859016070196194e-05, 'rustyrockets': 9.859016070196194e-05, 'disrupted': 9.859016070196194e-05, 'kimora': 9.859016070196194e-05, 'lalalala': 9.859016070196194e-05, 'alexorman1': 9.859016070196194e-05, 'tix': 9.859016070196194e-05, 'household': 9.859016070196194e-05, 'chris': 9.859016070196194e-05, 'tennis': 9.859016070196194e-05, 'jessebarrera': 9.859016070196194e-05, '913': 9.859016070196194e-05, 'skeggylady': 9.859016070196194e-05, 'chinese': 9.859016070196194e-05, 'maclaren': 9.859016070196194e-05, 'imagine': 9.859016070196194e-05, 'steveray': 9.859016070196194e-05, 'tire': 9.859016070196194e-05, 'existence': 9.859016070196194e-05, '³': 9.859016070196194e-05, 'cirrusly': 9.859016070196194e-05, 'ick': 9.859016070196194e-05, 'ubershmoo': 9.859016070196194e-05, 'film': 9.859016070196194e-05, 'around': 9.859016070196194e-05, 'peggy': 9.859016070196194e-05, '2luk': 9.859016070196194e-05, 'glossary': 9.859016070196194e-05, 'moves': 9.859016070196194e-05, 'flying': 9.859016070196194e-05, 'sexykellyc': 9.859016070196194e-05, 'kali': 9.859016070196194e-05, 'courtney182': 9.859016070196194e-05, 'atm': 9.859016070196194e-05, 'suuuuch': 9.859016070196194e-05, 'allid': 9.859016070196194e-05, 'home': 9.859016070196194e-05, 'mitchelmusso': 9.859016070196194e-05, 'bangin': 9.859016070196194e-05, '·': 9.859016070196194e-05, 'bwsteam': 9.859016070196194e-05, 'martinamcbride': 9.859016070196194e-05, 'mail': 9.859016070196194e-05, 'blatant': 9.859016070196194e-05, '80': 9.859016070196194e-05, 'hasnt': 9.859016070196194e-05, 'dog': 9.859016070196194e-05, 'srch': 9.859016070196194e-05, 'argh': 9.859016070196194e-05, 'jennaraelove': 9.859016070196194e-05, 'bakery': 9.859016070196194e-05, 'cyclists': 9.859016070196194e-05, 'chipper': 9.859016070196194e-05, 'pretend': 9.859016070196194e-05, 'cramps': 9.859016070196194e-05, 'thurs': 9.859016070196194e-05, 'soy': 9.859016070196194e-05, 'subway': 9.859016070196194e-05, 'biz': 9.859016070196194e-05, 'depends': 9.859016070196194e-05, 'liitle': 9.859016070196194e-05, '10th': 9.859016070196194e-05, 'annual': 9.859016070196194e-05, 'slide': 9.859016070196194e-05, 'fabuleuxdestin': 9.859016070196194e-05, 'buyin': 9.859016070196194e-05, 'toddbrink': 9.859016070196194e-05, 'misspentlife': 9.859016070196194e-05, 'twitterers': 9.859016070196194e-05, 'djokovic': 9.859016070196194e-05, 'jamieoliver': 9.859016070196194e-05, 'boogaloo1': 9.859016070196194e-05, 'funk': 9.859016070196194e-05, 'cupcakes': 9.859016070196194e-05, 'n': 9.859016070196194e-05, 'spilled': 9.859016070196194e-05, '1day': 9.859016070196194e-05, 'awaisnaseer': 9.859016070196194e-05, 'sladey': 9.859016070196194e-05, 'anything': 9.859016070196194e-05, 'makikigirl': 9.859016070196194e-05, 'samsung': 9.859016070196194e-05, 'nevada': 9.859016070196194e-05, 'jaw': 9.859016070196194e-05, 'priorities': 9.859016070196194e-05, 'astablished': 9.859016070196194e-05, 'browser': 9.859016070196194e-05, 'jasonholder': 9.859016070196194e-05, 'pounding': 9.859016070196194e-05, 'bahhumbug': 9.859016070196194e-05, 'magic': 9.859016070196194e-05, 'gray': 9.859016070196194e-05, 'fault': 9.859016070196194e-05, 'closet': 9.859016070196194e-05, 'hawaii': 9.859016070196194e-05, 'kiara': 9.859016070196194e-05, 'wembley': 9.859016070196194e-05, 'adriatic': 9.859016070196194e-05, 'hartley': 9.859016070196194e-05, 'mawbooks': 9.859016070196194e-05, 'apology': 9.859016070196194e-05, 'local': 9.859016070196194e-05, 'invoice': 9.859016070196194e-05, 'whom': 9.859016070196194e-05, 'superstar': 9.859016070196194e-05, 'jeffmello': 9.859016070196194e-05, 'wants': 9.859016070196194e-05, 'arana': 9.859016070196194e-05, 'chillen': 9.859016070196194e-05, 'robber': 9.859016070196194e-05, 'saschaillyvich': 9.859016070196194e-05, 'strangely': 9.859016070196194e-05, 'howarewe': 9.859016070196194e-05, 'blows': 9.859016070196194e-05, 'pcs': 9.859016070196194e-05, '3ë': 9.859016070196194e-05, 'munchkin': 9.859016070196194e-05, 'linger': 9.859016070196194e-05, 'dammit': 9.859016070196194e-05, 'shaundiviney': 9.859016070196194e-05, 'ribs': 9.859016070196194e-05, 'followers': 9.859016070196194e-05, 'bowl': 9.859016070196194e-05, '1week': 9.859016070196194e-05, 'cheeseburger': 9.859016070196194e-05, 'lemonpi': 9.859016070196194e-05, 'twinn': 9.859016070196194e-05, 'pakcricket': 9.859016070196194e-05, 'maine': 9.859016070196194e-05, 'snails': 9.859016070196194e-05, 'maduck': 9.859016070196194e-05, 'manila': 9.859016070196194e-05, 'glorious': 9.859016070196194e-05, 'garbage': 9.859016070196194e-05, 'ajmennuti': 9.859016070196194e-05, 'cunning': 9.859016070196194e-05, 'accoding': 9.859016070196194e-05, 'blackberry': 9.859016070196194e-05, 'fire': 9.859016070196194e-05, 'unpleasant': 9.859016070196194e-05, 'faire': 9.859016070196194e-05, '911': 9.859016070196194e-05, 'robinleaf': 9.859016070196194e-05, 'ppl': 9.859016070196194e-05, 'musiclover37209': 9.859016070196194e-05, 'access': 9.859016070196194e-05, 'monarchy': 9.859016070196194e-05, 'deryl': 9.859016070196194e-05, 'qshock': 9.859016070196194e-05, 'sebastian': 9.859016070196194e-05, 'best': 9.859016070196194e-05, 'asics': 9.859016070196194e-05, 'glinner': 9.859016070196194e-05, 'snuck': 9.859016070196194e-05, 'blonde': 9.859016070196194e-05, 'permission': 9.859016070196194e-05, 'jealous': 9.859016070196194e-05, 'copying': 9.859016070196194e-05, '31': 9.859016070196194e-05, 'pressing': 9.859016070196194e-05, 'davidweaver': 9.859016070196194e-05, 'beaten': 9.859016070196194e-05, 'sugarassaultme': 9.859016070196194e-05, 'qandq': 9.859016070196194e-05, 'guns': 9.859016070196194e-05, 'arrived': 9.859016070196194e-05, 'badsuperhero': 9.859016070196194e-05, 'monkees': 9.859016070196194e-05, 'mens': 9.859016070196194e-05, 'slippin': 9.859016070196194e-05, 'pussycat': 9.859016070196194e-05, 'whatever': 9.859016070196194e-05, 'profits': 9.859016070196194e-05, 'doin': 9.859016070196194e-05, 'nettz': 9.859016070196194e-05, 'scgeek': 9.859016070196194e-05, 'coin': 9.859016070196194e-05, 'ðºñ': 9.859016070196194e-05, 'suit': 9.859016070196194e-05, 'enjoying': 9.859016070196194e-05, 'hits': 9.859016070196194e-05, 'tat': 9.859016070196194e-05, 'temporary': 9.859016070196194e-05, 'sympathize': 9.859016070196194e-05, 'fill': 9.859016070196194e-05, 'g': 9.859016070196194e-05, 'listen': 9.859016070196194e-05, 'dishes': 9.859016070196194e-05, 'cried': 9.859016070196194e-05, 'tg': 9.859016070196194e-05, 'prove': 9.859016070196194e-05, 'doubleickey': 9.859016070196194e-05, 'diet': 9.859016070196194e-05, 'available': 9.859016070196194e-05, 'mcflyboards': 9.859016070196194e-05, 'wondering': 9.859016070196194e-05, 'earlyyy': 9.859016070196194e-05, 'databases': 9.859016070196194e-05, 'muhaha': 9.859016070196194e-05, 'chance': 9.859016070196194e-05, 'voodoo': 9.859016070196194e-05, '36': 9.859016070196194e-05, 'samanthablews': 9.859016070196194e-05, 'him': 9.859016070196194e-05, '7yo': 9.859016070196194e-05, 'lets': 9.859016070196194e-05, 'large': 9.859016070196194e-05, 'farewells': 9.859016070196194e-05, 'blessed': 9.859016070196194e-05, 'chanels': 9.859016070196194e-05, 'zro': 9.859016070196194e-05, 'roadtripping': 9.859016070196194e-05, 'wethetravis': 9.859016070196194e-05, 'dork': 9.859016070196194e-05, 'duke': 9.859016070196194e-05, 'device': 9.859016070196194e-05, 'regrets': 9.859016070196194e-05, 'certificate': 9.859016070196194e-05, 'infected': 9.859016070196194e-05, 'supuesto': 9.859016070196194e-05, 'plonk': 9.859016070196194e-05, 'milo': 9.859016070196194e-05, 'thief': 9.859016070196194e-05, 'mmsa': 9.859016070196194e-05, 'abandon': 9.859016070196194e-05, 'fixed': 9.859016070196194e-05, 'eldest': 9.859016070196194e-05, 'court': 9.859016070196194e-05, 'hznkzm': 9.859016070196194e-05, 'nancetron': 9.859016070196194e-05, 'vain': 9.859016070196194e-05, 'banner': 9.859016070196194e-05, 'performances': 9.859016070196194e-05, 'suggest': 9.859016070196194e-05, 'maths': 9.859016070196194e-05, 'iknowrite': 9.859016070196194e-05, 'thru': 9.859016070196194e-05, 'et': 9.859016070196194e-05, 'jordanrocksawks': 9.859016070196194e-05, 'aannd': 9.859016070196194e-05, 'coren': 9.859016070196194e-05, 'booth': 9.859016070196194e-05, 'cripchick700': 9.859016070196194e-05, 'leigh': 9.859016070196194e-05, 'bonus': 9.859016070196194e-05, 'shack': 9.859016070196194e-05, 'jake': 9.859016070196194e-05, 'nd': 9.859016070196194e-05, 'congratulations': 9.859016070196194e-05, 'ks': 9.859016070196194e-05, 'stephenpope': 9.859016070196194e-05, 'stride': 9.859016070196194e-05, 'heheh': 9.859016070196194e-05, 'lisaconnell': 9.859016070196194e-05, 'listed': 9.859016070196194e-05, 'waste': 9.859016070196194e-05, 'hashobama': 9.859016070196194e-05, 'alex': 9.859016070196194e-05, 'soon': 9.859016070196194e-05, 'tissue': 9.859016070196194e-05, 'donalvar': 9.859016070196194e-05, 'soulsupreme': 9.859016070196194e-05, 'sufferers': 9.859016070196194e-05, 'staceybug': 9.859016070196194e-05, 'jodiluvsjordank': 9.859016070196194e-05, 'wooo': 9.859016070196194e-05, 'listenig': 9.859016070196194e-05, 'postop': 9.859016070196194e-05, 'none': 9.859016070196194e-05, 'terrencej106': 9.859016070196194e-05, '1530': 9.859016070196194e-05, 'rbu': 9.859016070196194e-05, 'damnnnnn': 9.859016070196194e-05, 'neighbours': 9.859016070196194e-05, 'emperor': 9.859016070196194e-05, 'whai': 9.859016070196194e-05, 'timheidecker': 9.859016070196194e-05, 'skin': 9.859016070196194e-05, 'personality': 9.859016070196194e-05, 'they': 9.859016070196194e-05, 'sexyjoy386': 9.859016070196194e-05, 'barney': 9.859016070196194e-05, 'mothers': 9.859016070196194e-05, 'bmth': 9.859016070196194e-05, 'designated': 9.859016070196194e-05, 'markhundley': 9.859016070196194e-05, 'elementary': 9.859016070196194e-05, 'rafa': 9.859016070196194e-05, 'kamscottxxx': 9.859016070196194e-05, '645': 9.859016070196194e-05, 's0nglyrics': 9.859016070196194e-05, 'magee': 9.859016070196194e-05, 'write': 9.859016070196194e-05, 'samee': 9.859016070196194e-05, 'add': 9.859016070196194e-05, 'presents': 9.859016070196194e-05, 'morons': 9.859016070196194e-05, 'humor': 9.859016070196194e-05, 'badbadgirlx': 9.859016070196194e-05, 'divorced': 9.859016070196194e-05, 'pair': 9.859016070196194e-05, 'cheryl': 9.859016070196194e-05, 'orginated': 9.859016070196194e-05, 'djadam12': 9.859016070196194e-05, 'gorgeoussssss': 9.859016070196194e-05, 'jennlaskey': 9.859016070196194e-05, 'rp': 9.859016070196194e-05, 'straightener': 9.859016070196194e-05, 'pay': 9.859016070196194e-05, 'mitm4e': 9.859016070196194e-05, 'memories': 9.859016070196194e-05, 'cartoon': 9.859016070196194e-05, 'fish': 9.859016070196194e-05, 'akin': 9.859016070196194e-05, 'gaga': 9.859016070196194e-05, 'brakes': 9.859016070196194e-05, 'brings': 9.859016070196194e-05, 'bloated': 9.859016070196194e-05, 'retweeted': 9.859016070196194e-05, 'stuartwhitman': 9.859016070196194e-05, 'gah': 9.859016070196194e-05, 'whew': 9.859016070196194e-05, 'claimed': 9.859016070196194e-05, 'block': 9.859016070196194e-05, 'demi': 9.859016070196194e-05, 'chefrosebud': 9.859016070196194e-05, 'cluster': 9.859016070196194e-05, 'stuff': 9.859016070196194e-05, 'insight': 9.859016070196194e-05, 'includes': 9.859016070196194e-05, 'frickin': 9.859016070196194e-05, 'signed': 9.859016070196194e-05, 'misspatooty': 9.859016070196194e-05, 'bobgrrl': 9.859016070196194e-05, 'katecollinsnyc': 9.859016070196194e-05, 'slapped': 9.859016070196194e-05, 'soooooooo': 9.859016070196194e-05, 'turds': 9.859016070196194e-05, 'sooooo': 9.859016070196194e-05, 'feddle': 9.859016070196194e-05, 'forgotten': 9.859016070196194e-05, 'touch': 9.859016070196194e-05, 'swimming': 9.859016070196194e-05, 'ikuta': 9.859016070196194e-05, 'themacgirl': 9.859016070196194e-05, 'hr': 9.859016070196194e-05, 'indonesia': 9.859016070196194e-05, 'have': 9.859016070196194e-05, 'obsessed': 9.859016070196194e-05, 'roast': 9.859016070196194e-05, 'phones': 9.859016070196194e-05, 'narky': 9.859016070196194e-05, 'inseparable': 9.859016070196194e-05, 'painting': 9.859016070196194e-05, 'restless': 9.859016070196194e-05, 'burst': 9.859016070196194e-05, 'tanyajolene': 9.859016070196194e-05, 'inn': 9.859016070196194e-05, 'mothlights': 9.859016070196194e-05, 'going': 9.859016070196194e-05, 'poker': 9.859016070196194e-05, 'terrible': 9.859016070196194e-05, 'wishes': 9.859016070196194e-05, 'kiddo': 9.859016070196194e-05, 'chrisvanpatten': 9.859016070196194e-05, 'counter': 9.859016070196194e-05, 'pepsi': 9.859016070196194e-05, 'engli': 9.859016070196194e-05, 'marleematlin': 9.859016070196194e-05, 'tent': 9.859016070196194e-05, 'itz': 9.859016070196194e-05, 'mcal27': 9.859016070196194e-05, 'responded': 9.859016070196194e-05, 'ride': 9.859016070196194e-05, 'therounddiet': 9.859016070196194e-05, 'upcoming': 9.859016070196194e-05, 'early': 9.859016070196194e-05, 'holly': 9.859016070196194e-05, 'bigblackdogs': 9.859016070196194e-05, 'angiekayz': 9.859016070196194e-05, 'af447': 9.859016070196194e-05, 'horse': 9.859016070196194e-05, 'mainly': 9.859016070196194e-05, 'oneself': 9.859016070196194e-05, 'livelaugh': 9.859016070196194e-05, '10pm': 9.859016070196194e-05, 'y': 9.859016070196194e-05, 'mallrats': 9.859016070196194e-05, 'approaching': 9.859016070196194e-05, 'unfolder': 9.859016070196194e-05, 'naman': 9.859016070196194e-05, 'gossip': 9.859016070196194e-05, 'wtk': 9.859016070196194e-05, 'hehehehehe': 9.859016070196194e-05, 'talk': 9.859016070196194e-05, 'immediatley': 9.859016070196194e-05, 'retriever': 9.859016070196194e-05, 'markvanbaale': 9.859016070196194e-05, 'file': 9.859016070196194e-05, 'lizamtl': 9.859016070196194e-05, 'surferbabe': 9.859016070196194e-05, 'prototype': 9.859016070196194e-05, 'pregnant': 9.859016070196194e-05, 'u4': 9.859016070196194e-05, 'sickest': 9.859016070196194e-05, 'phlog': 9.859016070196194e-05, 'potluck': 9.859016070196194e-05, 'petrol': 9.859016070196194e-05, 'mileycyrus': 9.859016070196194e-05, 'cbtl': 9.859016070196194e-05, 'favourite': 9.859016070196194e-05, 'dday': 9.859016070196194e-05, 'continuedb': 9.859016070196194e-05, 'imeducatednsexi': 9.859016070196194e-05, 'bless': 9.859016070196194e-05, 'pwn': 9.859016070196194e-05, 'bawww': 9.859016070196194e-05, 'quester': 9.859016070196194e-05, 'mcraddictal': 9.859016070196194e-05, 'lolz': 9.859016070196194e-05, 'sparrow': 9.859016070196194e-05, 'watched': 9.859016070196194e-05, 'gifts': 9.859016070196194e-05, 'catalog': 9.859016070196194e-05, 'hitrecord': 9.859016070196194e-05, 'pennyash': 9.859016070196194e-05, 'christian': 9.859016070196194e-05, 'mummmyyysss': 9.859016070196194e-05, 'onlyonefantasy': 9.859016070196194e-05, 'mwuahmwuah': 9.859016070196194e-05, 'twitpic': 9.859016070196194e-05, 'theglitchmaster': 9.859016070196194e-05, 'business': 9.859016070196194e-05, 'children': 9.859016070196194e-05, 'hamdiggs': 9.859016070196194e-05, '2cali': 9.859016070196194e-05, 'en': 9.859016070196194e-05, 'journey': 9.859016070196194e-05, '2ì': 9.859016070196194e-05, 'melamachinko': 9.859016070196194e-05, 'trip': 9.859016070196194e-05, 'e': 9.859016070196194e-05, 'print': 9.859016070196194e-05, 'joanna': 9.859016070196194e-05, 'therealjordin': 9.859016070196194e-05, 'ham': 9.859016070196194e-05, '211me': 9.859016070196194e-05, 'religion': 9.859016070196194e-05, 'frank': 9.859016070196194e-05, 'johncmayer': 9.859016070196194e-05, 'blastin': 9.859016070196194e-05, 'feat': 9.859016070196194e-05, 'katelyn': 9.859016070196194e-05, 'amazingphil': 9.859016070196194e-05, 'originalgata': 9.859016070196194e-05, 'ruby': 9.859016070196194e-05, 'joseph0604': 9.859016070196194e-05, 'honey': 9.859016070196194e-05, 'renewed': 9.859016070196194e-05, 'corked': 9.859016070196194e-05, 'australia': 9.859016070196194e-05, 'bombcom': 9.859016070196194e-05, 'cityzen28': 9.859016070196194e-05, 'masiosare': 9.859016070196194e-05, 'username': 9.859016070196194e-05, 'liburan': 9.859016070196194e-05, 'concert': 9.859016070196194e-05, 'c': 9.859016070196194e-05, 'yourmamaknows': 9.859016070196194e-05, '\\x8b': 9.859016070196194e-05, 'herself': 9.859016070196194e-05, 'waaaah': 9.859016070196194e-05, '£': 9.859016070196194e-05, 'mommaof4wife2r': 9.859016070196194e-05, 'remove': 9.859016070196194e-05, 'playoffbeard': 9.859016070196194e-05, 'ongoing': 9.859016070196194e-05, 'know': 9.859016070196194e-05, 'janw75': 9.859016070196194e-05, 'rediscovered': 9.859016070196194e-05, 'anorthernsoul': 9.859016070196194e-05, 'susans': 9.859016070196194e-05, 'swineshead': 9.859016070196194e-05, 'thirsty': 9.859016070196194e-05, 'trophy': 9.859016070196194e-05, 'cordelia': 9.859016070196194e-05, 'hai': 9.859016070196194e-05, 'maturity': 9.859016070196194e-05, 'jimmys': 9.859016070196194e-05, 'jknowtruth': 9.859016070196194e-05, 'demã': 9.859016070196194e-05, 'alzaidy': 9.859016070196194e-05, 'making': 9.859016070196194e-05, 'installing': 9.859016070196194e-05, 'auditions': 9.859016070196194e-05, 'reiko': 9.859016070196194e-05, 'bridge': 9.859016070196194e-05, 'france': 9.859016070196194e-05, 'clowns': 9.859016070196194e-05, 'linux': 9.859016070196194e-05, 'flesh': 9.859016070196194e-05, 'hmmmm': 9.859016070196194e-05, 'glasses': 9.859016070196194e-05, 'teeth': 9.859016070196194e-05, 'recruiting': 9.859016070196194e-05, 'lines': 9.859016070196194e-05, 'commit': 9.859016070196194e-05, '13': 9.859016070196194e-05, 'liris': 9.859016070196194e-05, 'pack': 9.859016070196194e-05, 'perezhilton': 9.859016070196194e-05, 'espn': 9.859016070196194e-05, 'calm': 9.859016070196194e-05, 'anberlin': 9.859016070196194e-05, 'brave': 9.859016070196194e-05, 'conversation': 9.859016070196194e-05, 'counterpain': 9.859016070196194e-05, 'cupcake2643': 9.859016070196194e-05, 'ginapina14': 9.859016070196194e-05, '430': 9.859016070196194e-05, 'trï': 9.859016070196194e-05, 'stats': 9.859016070196194e-05, 'specialist': 9.859016070196194e-05, 'questions': 9.859016070196194e-05, 'peterdemarco': 9.859016070196194e-05, 'meet': 9.859016070196194e-05, 'lword': 9.859016070196194e-05, 'blogs': 9.859016070196194e-05, 'tryna': 9.859016070196194e-05, 'show': 9.859016070196194e-05, 'rlly': 9.859016070196194e-05, 'paled': 9.859016070196194e-05, 'luvmyfeline': 9.859016070196194e-05, 'improve': 9.859016070196194e-05, 'clairecordon': 9.859016070196194e-05, 'distract': 9.859016070196194e-05, 'accoustic': 9.859016070196194e-05, 'alllll': 9.859016070196194e-05, 'chuckmemondays': 9.859016070196194e-05, 'xams': 9.859016070196194e-05, 'wins': 9.859016070196194e-05, 'bonnaroo': 9.859016070196194e-05, 'mslaurenlondon': 9.859016070196194e-05, 'juno': 9.859016070196194e-05, 'blizzard': 9.859016070196194e-05, 'mimis': 9.859016070196194e-05, 'complain': 9.859016070196194e-05, 'thealaskanking': 9.859016070196194e-05, 'shout': 9.859016070196194e-05, 'stressed': 9.859016070196194e-05, '40': 9.859016070196194e-05, 'green': 9.859016070196194e-05, 'hit': 9.859016070196194e-05, 'goodluck': 9.859016070196194e-05, 'team': 9.859016070196194e-05, 'strobelight': 9.859016070196194e-05, 'ripcity52': 9.859016070196194e-05, 'mesmerising': 9.859016070196194e-05, 'raining': 9.859016070196194e-05, 'gnotty': 9.859016070196194e-05, 'cups': 9.859016070196194e-05, 'lesleypomeroy': 9.859016070196194e-05, 'cpearson1990': 9.859016070196194e-05, 'sweetie': 9.859016070196194e-05, 'babeeshark': 9.859016070196194e-05, 'msmandz': 9.859016070196194e-05, 'ew': 9.859016070196194e-05, 'meheyla': 9.859016070196194e-05, 'progresses': 9.859016070196194e-05, 'fakes': 9.859016070196194e-05, 'site': 9.859016070196194e-05, 'worked': 9.859016070196194e-05, 'alltime': 9.859016070196194e-05, 'lauriebailey': 9.859016070196194e-05, 'fleetwood': 9.859016070196194e-05, 'bludget': 9.859016070196194e-05, 'perfect': 9.859016070196194e-05, 'shia': 9.859016070196194e-05, 'zate': 9.859016070196194e-05, 'nico': 9.859016070196194e-05, 'medicine': 9.859016070196194e-05, 'jz': 9.859016070196194e-05, 'divine': 9.859016070196194e-05, 'inconvenience': 9.859016070196194e-05, 'nani': 9.859016070196194e-05, 'tomsmithmcse': 9.859016070196194e-05, 'afterfxworkshop': 9.859016070196194e-05, 'randomly': 9.859016070196194e-05, 'uhm': 9.859016070196194e-05, '\\x8c': 9.859016070196194e-05, 'tchapman85': 9.859016070196194e-05, 'cya': 9.859016070196194e-05, 'grill': 9.859016070196194e-05, 'afterwards': 9.859016070196194e-05, 'bon': 9.859016070196194e-05, 'gsm': 9.859016070196194e-05, 'thats': 9.859016070196194e-05, 'dissertation': 9.859016070196194e-05, 'wowww': 9.859016070196194e-05, 'floating': 9.859016070196194e-05, 'willflowers': 9.859016070196194e-05, 'katherinemorris': 9.859016070196194e-05, 'ihauntwizards': 9.859016070196194e-05, 'jetzins': 9.859016070196194e-05, 'speaks': 9.859016070196194e-05, '8am': 9.859016070196194e-05, 'josheddy': 9.859016070196194e-05, 'pslovenpink': 9.859016070196194e-05, 'music4ever323': 9.859016070196194e-05, 'fishfinger': 9.859016070196194e-05, 'buckhollywood': 9.859016070196194e-05, 'peoples': 9.859016070196194e-05, 'saint': 9.859016070196194e-05, 'animorphs': 9.859016070196194e-05, 'betch': 9.859016070196194e-05, 'million': 9.859016070196194e-05, 'missing': 9.859016070196194e-05, 'missus': 9.859016070196194e-05, 'confessing7girl': 9.859016070196194e-05, 'raido': 9.859016070196194e-05, 'uploading': 9.859016070196194e-05, 'revising': 9.859016070196194e-05, 't': 9.859016070196194e-05, 'thts': 9.859016070196194e-05, 'redundant': 9.859016070196194e-05, 'stripped': 9.859016070196194e-05, 'lemlina': 9.859016070196194e-05, 'tripped': 9.859016070196194e-05, 'cmaecy': 9.859016070196194e-05, 'keeps': 9.859016070196194e-05, 'what': 9.859016070196194e-05, 'funn': 9.859016070196194e-05, 'ngowers': 9.859016070196194e-05, 'mopped': 9.859016070196194e-05, 'driving': 9.859016070196194e-05, 'furminator': 9.859016070196194e-05, 'realdavidcook': 9.859016070196194e-05, 'because': 9.859016070196194e-05, 'twittering': 9.859016070196194e-05, 'zo': 9.859016070196194e-05, 'muggt': 9.859016070196194e-05, 'issue': 9.859016070196194e-05, 'gap': 9.859016070196194e-05, 'ones': 9.859016070196194e-05, 'ridiculously': 9.859016070196194e-05, 'frantically': 9.859016070196194e-05, 'excitement': 9.859016070196194e-05, 'meggles89': 9.859016070196194e-05, 'shocked': 9.859016070196194e-05, 'yvette': 9.859016070196194e-05, 'geesh': 9.859016070196194e-05, 'sshap': 9.859016070196194e-05, 'character': 9.859016070196194e-05, 'sandwich': 9.859016070196194e-05, 'shook': 9.859016070196194e-05, 'alsoknownaskels': 9.859016070196194e-05, 'bochum': 9.859016070196194e-05, 'appallingly': 9.859016070196194e-05, 'paige1media': 9.859016070196194e-05, 'eqip': 9.859016070196194e-05, 'paramore': 9.859016070196194e-05, 'oberhauser': 9.859016070196194e-05, 'battles': 9.859016070196194e-05, 'hgtv': 9.859016070196194e-05, 'jerrys': 9.859016070196194e-05, 'lovejobros': 9.859016070196194e-05, 'wrong': 9.859016070196194e-05, 'theyvestarted': 9.859016070196194e-05, 'alan': 9.859016070196194e-05, 'english': 9.859016070196194e-05, 'vprincess': 9.859016070196194e-05, 'bytor2112': 9.859016070196194e-05, 'arrival': 9.859016070196194e-05, 'sore': 9.859016070196194e-05, 'trailor': 9.859016070196194e-05, 'henry': 9.859016070196194e-05, 'lmfaooo': 9.859016070196194e-05, 'grief': 9.859016070196194e-05, 'elude': 9.859016070196194e-05, 'yay': 9.859016070196194e-05, 'robinson': 9.859016070196194e-05, 'retarded': 9.859016070196194e-05, 'sol': 9.859016070196194e-05, 'fuckin': 9.859016070196194e-05, 'elainerogers': 9.859016070196194e-05, 'awkwardness': 9.859016070196194e-05, 'idol': 9.859016070196194e-05, 'mallorygallery': 9.859016070196194e-05, 'hccmorrisville': 9.859016070196194e-05, 'assante': 9.859016070196194e-05, 'dumped': 9.859016070196194e-05, 'twitterfon': 9.859016070196194e-05, 'renu19': 9.859016070196194e-05, 'cowboy': 9.859016070196194e-05, 'awful': 9.859016070196194e-05, 'waitin': 9.859016070196194e-05, 'beat': 9.859016070196194e-05, 'punks': 9.859016070196194e-05, 'on': 9.859016070196194e-05, 'hahhaha': 9.859016070196194e-05, 'yayy': 9.859016070196194e-05, 'wwwflickrcomemonky': 9.859016070196194e-05, 'does': 9.859016070196194e-05, 'trends': 9.859016070196194e-05, 'leaf': 9.859016070196194e-05, 'technique': 9.859016070196194e-05, 'sparkle1980': 9.859016070196194e-05, 'strawberry': 9.859016070196194e-05, 'assets': 9.859016070196194e-05, 'furniture': 9.859016070196194e-05, 'chica': 9.859016070196194e-05, 'helluva': 9.859016070196194e-05, 'dealing': 9.859016070196194e-05, 'come': 9.859016070196194e-05, 'goodmorning': 9.859016070196194e-05, 'secret': 9.859016070196194e-05, 'stalker': 9.859016070196194e-05, 'dryer': 9.859016070196194e-05, '\\x87': 9.859016070196194e-05, 'nigga': 9.859016070196194e-05, 'knight': 9.859016070196194e-05, 'amypricex': 9.859016070196194e-05, 'sweeter': 9.859016070196194e-05, 'rounders': 9.859016070196194e-05, 'big': 9.859016070196194e-05, 'cracked': 9.859016070196194e-05, 'finest': 9.859016070196194e-05, 'song': 9.859016070196194e-05, 'thebook411': 9.859016070196194e-05, 'brooklyn': 9.859016070196194e-05, 'bride': 9.859016070196194e-05, 'blipping': 9.859016070196194e-05, 'opp': 9.859016070196194e-05, 'windows': 9.859016070196194e-05, 'chavs': 9.859016070196194e-05, 'jrklover': 9.859016070196194e-05, 'jst': 9.859016070196194e-05, 'hopefully': 9.859016070196194e-05, 'tickets': 9.859016070196194e-05, 'masculine': 9.859016070196194e-05, 'lora': 9.859016070196194e-05, 'creepy': 9.859016070196194e-05, 'whose': 9.859016070196194e-05, 'jeweljk': 9.859016070196194e-05, 'chettah': 9.859016070196194e-05, 'foxw': 9.859016070196194e-05, 'congratilations': 9.859016070196194e-05, 'tips': 9.859016070196194e-05, 'msstewart': 9.859016070196194e-05, 'mamaanna': 9.859016070196194e-05, 'miss': 9.859016070196194e-05, 'rapper': 9.859016070196194e-05, 'cali': 9.859016070196194e-05, 'smelly': 9.859016070196194e-05, 'likeee': 9.859016070196194e-05, 'mango': 9.859016070196194e-05, 'dannymcfly': 9.859016070196194e-05, 'kait': 9.859016070196194e-05, 'modes': 9.859016070196194e-05, 'eu': 9.859016070196194e-05, 'writersblock': 9.859016070196194e-05, 'doodie': 9.859016070196194e-05, 'borning': 9.859016070196194e-05, 'conf': 9.859016070196194e-05, 'aah': 9.859016070196194e-05, 'search': 9.859016070196194e-05, 'star': 9.859016070196194e-05, 'tiffin': 9.859016070196194e-05, 'decorate': 9.859016070196194e-05, 'wubsnet': 9.859016070196194e-05, 'ardenkhan': 9.859016070196194e-05, 'ikno': 9.859016070196194e-05, 'jeth2darow': 9.859016070196194e-05, 'egyptians': 9.859016070196194e-05, 'honored': 9.859016070196194e-05, 'barrera': 9.859016070196194e-05, 'wedding': 9.859016070196194e-05, 'cos': 9.859016070196194e-05, 'roach': 9.859016070196194e-05, 'playlist': 9.859016070196194e-05, 'cricket': 9.859016070196194e-05, 'decide': 9.859016070196194e-05, '5000': 9.859016070196194e-05, 'bandits': 9.859016070196194e-05, 'sumthing': 9.859016070196194e-05, 'thehollyjohnson': 9.859016070196194e-05, 'accomplishments': 9.859016070196194e-05, 'twpp': 9.859016070196194e-05, 'moan': 9.859016070196194e-05, 'grandmother': 9.859016070196194e-05, 'presei': 9.859016070196194e-05, 'tomrroow': 9.859016070196194e-05, 'improvement': 9.859016070196194e-05, 'cheap': 9.859016070196194e-05, 'karen': 9.859016070196194e-05, 'geeeasy': 9.859016070196194e-05, 'alkaline': 9.859016070196194e-05, 'ingredients': 9.859016070196194e-05, 'cindayy': 9.859016070196194e-05, 'arjbarker': 9.859016070196194e-05, 'lowcountrybbq': 9.859016070196194e-05, 'bros': 9.859016070196194e-05, 'faster': 9.859016070196194e-05, 'follower': 9.859016070196194e-05, 'rsk': 9.859016070196194e-05, 'eblondie': 9.859016070196194e-05, 'firesty': 9.859016070196194e-05, 'eni': 9.859016070196194e-05, '115': 9.859016070196194e-05, 'charlie': 9.859016070196194e-05, 'paitnbrush': 9.859016070196194e-05, 'computer': 9.859016070196194e-05, 'test': 9.859016070196194e-05, 'minneapolis': 9.859016070196194e-05, 'smth': 9.859016070196194e-05, 'follows': 9.859016070196194e-05, 'intelligent': 9.859016070196194e-05, 'times': 9.859016070196194e-05, 'awesomest': 9.859016070196194e-05, 'nelawish': 9.859016070196194e-05, 'legs': 9.859016070196194e-05, 'house': 9.859016070196194e-05, 'php': 9.859016070196194e-05, 'mynameissasha': 9.859016070196194e-05, 'getknifed': 9.859016070196194e-05, 'booo': 9.859016070196194e-05, 'cradle': 9.859016070196194e-05, 'waterproof': 9.859016070196194e-05, 'omd': 9.859016070196194e-05, 'freaks': 9.859016070196194e-05, 'algebra': 9.859016070196194e-05, 'dim': 9.859016070196194e-05, 'bone': 9.859016070196194e-05, 'our': 9.859016070196194e-05, 'each': 9.859016070196194e-05, 'gabelicious': 9.859016070196194e-05, 'gfalcone601': 9.859016070196194e-05, 'departure': 9.859016070196194e-05, 'vs': 9.859016070196194e-05, 'precious': 9.859016070196194e-05, '1501': 9.859016070196194e-05, 'charger': 9.859016070196194e-05, 'intro': 9.859016070196194e-05, 'fawcett': 9.859016070196194e-05, 'auction': 9.859016070196194e-05, 'cat': 9.859016070196194e-05, 'cinetrip': 9.859016070196194e-05, '1st': 9.859016070196194e-05, 'virgin': 9.859016070196194e-05, 'mcurdy': 9.859016070196194e-05, 'sensei': 9.859016070196194e-05, 'science': 9.859016070196194e-05, 'steffenjason': 9.859016070196194e-05, 'jerrybroughton': 9.859016070196194e-05, 'looking': 9.859016070196194e-05, 'de': 9.859016070196194e-05, 'pizzeria': 9.859016070196194e-05, 'necklace': 9.859016070196194e-05, 'sinuses': 9.859016070196194e-05, 'courtney': 9.859016070196194e-05, 'vicbeezy': 9.859016070196194e-05, 'prime': 9.859016070196194e-05, 'cpt': 9.859016070196194e-05, 'slaves': 9.859016070196194e-05, 'bury': 9.859016070196194e-05, 'moons': 9.859016070196194e-05, 'crying': 9.859016070196194e-05, 'tends': 9.859016070196194e-05, 'juni': 9.859016070196194e-05, 'bak': 9.859016070196194e-05, 'ashamed': 9.859016070196194e-05, 'boil': 9.859016070196194e-05, 'resto': 9.859016070196194e-05, 'friendly': 9.859016070196194e-05, 'ooo': 9.859016070196194e-05, 'sick': 9.859016070196194e-05, 'har': 9.859016070196194e-05, 'laws': 9.859016070196194e-05, 'canon': 9.859016070196194e-05, 'having': 9.859016070196194e-05, 'sz4': 9.859016070196194e-05, 'seat': 9.859016070196194e-05, 'tynisha': 9.859016070196194e-05, 'apps': 9.859016070196194e-05, 'lalo': 9.859016070196194e-05, 'girls': 9.859016070196194e-05, 'rcsaustin': 9.859016070196194e-05, 'undesirables': 9.859016070196194e-05, 'holidaysand': 9.859016070196194e-05, 'sophielynette': 9.859016070196194e-05, 'nob': 9.859016070196194e-05, 'batman': 9.859016070196194e-05, 'caps': 9.859016070196194e-05, 'nycala': 9.859016070196194e-05, 'older': 9.859016070196194e-05, 'lab': 9.859016070196194e-05, 'eww': 9.859016070196194e-05, 'stomach': 9.859016070196194e-05, 'arms': 9.859016070196194e-05, 'paigey': 9.859016070196194e-05, 'pbnj': 9.859016070196194e-05, 'otherwise': 9.859016070196194e-05, 'lessons': 9.859016070196194e-05, 'brightside': 9.859016070196194e-05, 'heavily': 9.859016070196194e-05, 'pumped': 9.859016070196194e-05, 'tricitieschamb': 9.859016070196194e-05, 'bruno108': 9.859016070196194e-05, 'spanish': 9.859016070196194e-05, 'socialist': 9.859016070196194e-05, 'dollhouse': 9.859016070196194e-05, 'configurable': 9.859016070196194e-05, 'fckwhtyaheard': 9.859016070196194e-05, 'indeuppal': 9.859016070196194e-05, 'lysha': 9.859016070196194e-05, 'laniiblunts': 9.859016070196194e-05, 'whore': 9.859016070196194e-05, 'sport': 9.859016070196194e-05, 'opening': 9.859016070196194e-05, 'climbing': 9.859016070196194e-05, 'normally': 9.859016070196194e-05, 'kmnr': 9.859016070196194e-05, 'iamlegend01': 9.859016070196194e-05, 'writing': 9.859016070196194e-05, 'quinoa': 9.859016070196194e-05, 'voiceover': 9.859016070196194e-05, 'standing': 9.859016070196194e-05, 'oo': 9.859016070196194e-05, 'dianamusic': 9.859016070196194e-05, 'rains': 9.859016070196194e-05, 'holland': 9.859016070196194e-05, 'domkoenig': 9.859016070196194e-05, 'contactnaveen': 9.859016070196194e-05, 'cheat': 9.859016070196194e-05, 'severe': 9.859016070196194e-05, 'carcassonne': 9.859016070196194e-05, 'redemption': 9.859016070196194e-05, 'orlando': 9.859016070196194e-05, 'heal': 9.859016070196194e-05, 'consuming': 9.859016070196194e-05, 'amazinggggg': 9.859016070196194e-05, 'club': 9.859016070196194e-05, 'jasonmraz': 9.859016070196194e-05, 'bacon': 9.859016070196194e-05, 'pure': 9.859016070196194e-05, 'acho': 9.859016070196194e-05, 'yt': 9.859016070196194e-05, 'demand': 9.859016070196194e-05, 'aviators': 9.859016070196194e-05, 'hmmff': 9.859016070196194e-05, 'greenday': 9.859016070196194e-05, 'bump': 9.859016070196194e-05, 'pride': 9.859016070196194e-05, 'sorrie': 9.859016070196194e-05, 'dreams': 9.859016070196194e-05, 'verseghy': 9.859016070196194e-05, 'tuck': 9.859016070196194e-05, 'stormlite02': 9.859016070196194e-05, 'msallied': 9.859016070196194e-05, 'ikiller4': 9.859016070196194e-05, 'act': 9.859016070196194e-05, 'rude': 9.859016070196194e-05, 'steveplunkett': 9.859016070196194e-05, 'most': 9.859016070196194e-05, 'heard': 9.859016070196194e-05, 'symphony': 9.859016070196194e-05, 'victim': 9.859016070196194e-05, 'tutor': 9.859016070196194e-05, 'feeeeeeeeeeeeeeling': 9.859016070196194e-05, 'pinboardblog': 9.859016070196194e-05, 'loren': 9.859016070196194e-05, 'cvs': 9.859016070196194e-05, 'pizzy': 9.859016070196194e-05, 'zombieclaire': 9.859016070196194e-05, 'lena': 9.859016070196194e-05, 'drive': 9.859016070196194e-05, 'tomfelton': 9.859016070196194e-05, 'macs': 9.859016070196194e-05, 'athlete': 9.859016070196194e-05, 'location': 9.859016070196194e-05, 'sing': 9.859016070196194e-05, 'cp': 9.859016070196194e-05, 'pole': 9.859016070196194e-05, 'tampa': 9.859016070196194e-05, 'kkkkkk': 9.859016070196194e-05, 'seminar': 9.859016070196194e-05, 'attacked': 9.859016070196194e-05, 'sale': 9.859016070196194e-05, 'tem': 9.859016070196194e-05, 'copeland': 9.859016070196194e-05, 'locked': 9.859016070196194e-05, 'dublin': 9.859016070196194e-05, 'vintage': 9.859016070196194e-05, 'lakes': 9.859016070196194e-05, 'wings': 9.859016070196194e-05, 'destinyhope92': 9.859016070196194e-05, 'kh': 9.859016070196194e-05, 'studies': 9.859016070196194e-05, 'bear': 9.859016070196194e-05, 'johnson': 9.859016070196194e-05, 'itty': 9.859016070196194e-05, 'hero': 9.859016070196194e-05, 'weeky': 9.859016070196194e-05, 'dutchies': 9.859016070196194e-05, 'jaynunez': 9.859016070196194e-05, 'freaking': 9.859016070196194e-05, 'az': 9.859016070196194e-05, 'makan': 9.859016070196194e-05, 'torture': 9.859016070196194e-05, 'arr': 9.859016070196194e-05, 'p90x': 9.859016070196194e-05, 'outside': 9.859016070196194e-05, 'props': 9.859016070196194e-05, 'rafaelvandyke': 9.859016070196194e-05, 'insurance': 9.859016070196194e-05, 'phaerie': 9.859016070196194e-05, 'buses': 9.859016070196194e-05, 'reminders': 9.859016070196194e-05, 'defying': 9.859016070196194e-05, 'get': 9.859016070196194e-05, 'whip': 9.859016070196194e-05, 'domingo': 9.859016070196194e-05, 'gine': 9.859016070196194e-05, 'xiaomantous': 9.859016070196194e-05, 'showed': 9.859016070196194e-05, 'signing': 9.859016070196194e-05, 'bestie': 9.859016070196194e-05, 'mums': 9.859016070196194e-05, 'bawlinggg': 9.859016070196194e-05, 'wherever': 9.859016070196194e-05, 'lunchtime': 9.859016070196194e-05, 'rules': 9.859016070196194e-05, '\\x94': 9.859016070196194e-05, 'yaymen': 9.859016070196194e-05, 'crowe': 9.859016070196194e-05, 'thesharklady': 9.859016070196194e-05, 'empty': 9.859016070196194e-05, 'timeinvestment': 9.859016070196194e-05, 'toothache': 9.859016070196194e-05, 'babybree96': 9.859016070196194e-05, 'insanely': 9.859016070196194e-05, 'toni': 9.859016070196194e-05, 'indiashawn': 9.859016070196194e-05, 'tiffanys': 9.859016070196194e-05, 'wwwbondno9com': 9.859016070196194e-05, 'sup': 9.859016070196194e-05, 'mymovement': 9.859016070196194e-05, 'zocookie': 9.859016070196194e-05, 'dept': 9.859016070196194e-05, 'fever': 9.859016070196194e-05, 'glass': 9.859016070196194e-05, 'eucy': 9.859016070196194e-05, 'remembermeninab': 9.859016070196194e-05, 'representing': 9.859016070196194e-05, 'mommapuff': 9.859016070196194e-05, 'split': 9.859016070196194e-05, 'colleagues': 9.859016070196194e-05, 'jnassi': 9.859016070196194e-05, 'stranglehold': 9.859016070196194e-05, 'peasant': 9.859016070196194e-05, 'watermelon': 9.859016070196194e-05, 'june': 9.859016070196194e-05, 'snl': 9.859016070196194e-05, 'weigh': 9.859016070196194e-05, 'workexpress': 9.859016070196194e-05, 'starving': 9.859016070196194e-05, 'canvass': 9.859016070196194e-05, 'finish': 9.859016070196194e-05, '1000': 9.859016070196194e-05, 'ª': 9.859016070196194e-05, 'mario': 9.859016070196194e-05, 'asap': 9.859016070196194e-05, 'champorado': 9.859016070196194e-05, 'isle': 9.859016070196194e-05, 'heading': 9.859016070196194e-05, 'homegirl': 9.859016070196194e-05, 'richardfrank': 9.859016070196194e-05, '140': 9.859016070196194e-05, 'ty': 9.859016070196194e-05, 'static': 9.859016070196194e-05, 'ooohhh': 9.859016070196194e-05, 'niteguardianx': 9.859016070196194e-05, 'decade': 9.859016070196194e-05, 'pictureeee': 9.859016070196194e-05, 'alone': 9.859016070196194e-05, 'awh': 9.859016070196194e-05, 'west': 9.859016070196194e-05, 'mc': 9.859016070196194e-05, 'whilewhat': 9.859016070196194e-05, 'controllers': 9.859016070196194e-05, 'pepper': 9.859016070196194e-05, 'hyde': 9.859016070196194e-05, 'psyched': 9.859016070196194e-05, 'skint': 9.859016070196194e-05, 'xorainbowbrite': 9.859016070196194e-05, 'lairdattwood': 9.859016070196194e-05, 'jbs': 9.859016070196194e-05, 'iv': 9.859016070196194e-05, 'sales': 9.859016070196194e-05, 'adelaide': 9.859016070196194e-05, 'attacks': 9.859016070196194e-05, 'wrkingg': 9.859016070196194e-05, 'tricks': 9.859016070196194e-05, 'amaaazing': 9.859016070196194e-05, 'makeup': 9.859016070196194e-05, 'yen': 9.859016070196194e-05, 'battery': 9.859016070196194e-05, 'bdawgsc': 9.859016070196194e-05, 'cahsee': 9.859016070196194e-05, 'whenever': 9.859016070196194e-05, 'false': 9.859016070196194e-05, 'iam': 9.859016070196194e-05, 'totzhatz': 9.859016070196194e-05, '523': 9.859016070196194e-05, 'nuit': 9.859016070196194e-05, 'calisummer': 9.859016070196194e-05, 'siruveru': 9.859016070196194e-05, 'palstall': 9.859016070196194e-05, 'imoose': 9.859016070196194e-05, 'archuleta': 9.859016070196194e-05, 'lai': 9.859016070196194e-05, 'ws': 9.859016070196194e-05, 'hexmurda': 9.859016070196194e-05, 'niraihifi': 9.859016070196194e-05, 'chips': 9.859016070196194e-05, 'boards': 9.859016070196194e-05, 'deferred': 9.859016070196194e-05, 'woofwednesday': 9.859016070196194e-05, 'terribly': 9.859016070196194e-05, 'goooooooood': 9.859016070196194e-05, 'itsneet': 9.859016070196194e-05, 'kathybuckworth': 9.859016070196194e-05, 'hw': 9.859016070196194e-05, 'alas': 9.859016070196194e-05, 'theroose': 9.859016070196194e-05, 'removedor': 9.859016070196194e-05, 'floors': 9.859016070196194e-05, 'hardwicke': 9.859016070196194e-05, 'arrives': 9.859016070196194e-05, 'sunscreen': 9.859016070196194e-05, 'kidss': 9.859016070196194e-05, 'cockpitrocks': 9.859016070196194e-05, 'knitpicks': 9.859016070196194e-05, 'vampire': 9.859016070196194e-05, 'lake': 9.859016070196194e-05, 'nycitymama': 9.859016070196194e-05, 'hunny': 9.859016070196194e-05, 'mayoroflondon': 9.859016070196194e-05, 'delivered': 9.859016070196194e-05, 'cookiethief3': 9.859016070196194e-05, 'ace': 9.859016070196194e-05, 'housekeeper': 9.859016070196194e-05, 'witty': 9.859016070196194e-05, 'alright': 9.859016070196194e-05, 'pharobcool': 9.859016070196194e-05, 'agingbackwards': 9.859016070196194e-05, 'missladyswd': 9.859016070196194e-05, 'envious': 9.859016070196194e-05, 'coughs': 9.859016070196194e-05, 'stalking': 9.859016070196194e-05, 'allatwitter': 9.859016070196194e-05, 'karma': 9.859016070196194e-05, 'iheartbeans': 9.859016070196194e-05, 'shymissez': 9.859016070196194e-05, 'nightshiftnurse': 9.859016070196194e-05, 'sundae': 9.859016070196194e-05, 'prop': 9.859016070196194e-05, 'jammies': 9.859016070196194e-05, 'hampton': 9.859016070196194e-05, 'joffhopkins': 9.859016070196194e-05, '2007': 9.859016070196194e-05, 'competition': 9.859016070196194e-05, 'erikagerdemark': 9.859016070196194e-05, 'souvenir': 9.859016070196194e-05, 'hannahfaulkes': 9.859016070196194e-05, 'armour': 9.859016070196194e-05, 'occupy': 9.859016070196194e-05, 'adored': 9.859016070196194e-05, 'myucan91': 9.859016070196194e-05, 'noes': 9.859016070196194e-05, 'akbar': 9.859016070196194e-05, 'yuppp': 9.859016070196194e-05, 'mtvwebmaster': 9.859016070196194e-05, 'beta': 9.859016070196194e-05, 'kidlpn': 9.859016070196194e-05, 'microbiology': 9.859016070196194e-05, 'bluesurrfer': 9.859016070196194e-05, 'towtallee': 9.859016070196194e-05, 'bugger': 9.859016070196194e-05, 'neva': 9.859016070196194e-05, 'lashonp': 9.859016070196194e-05, 'cake': 9.859016070196194e-05, 'legalivy': 9.859016070196194e-05, '32gb': 9.859016070196194e-05, 'public': 9.859016070196194e-05, 'doh': 9.859016070196194e-05, 'cancerfree': 9.859016070196194e-05, 'engineers': 9.859016070196194e-05, 'workinggrumpy': 9.859016070196194e-05, 'jesseshunting': 9.859016070196194e-05, 'gtfo': 9.859016070196194e-05, 'buzzin': 9.859016070196194e-05, 'achcha': 9.859016070196194e-05, 'jeffischill': 9.859016070196194e-05, 'tj0830': 9.859016070196194e-05, 'dmv': 9.859016070196194e-05, 'noahbond': 9.859016070196194e-05, 'ilikebubbles': 9.859016070196194e-05, 'vegan': 9.859016070196194e-05, 'lyyyl': 9.859016070196194e-05, 'jelly1996': 9.859016070196194e-05, 'xxx': 9.859016070196194e-05, 'perth': 9.859016070196194e-05, 'shelzuluaga': 9.859016070196194e-05, 'guess': 9.859016070196194e-05, 'morant': 9.859016070196194e-05, 'emails': 9.859016070196194e-05, 'cloudy': 9.859016070196194e-05, 'equally': 9.859016070196194e-05, 'cannot': 9.859016070196194e-05, 'syria': 9.859016070196194e-05, 'dazzlemethis': 9.859016070196194e-05, 'violence': 9.859016070196194e-05, 'odyssey': 9.859016070196194e-05, 'king617': 9.859016070196194e-05, 'mins': 9.859016070196194e-05, 'aly': 9.859016070196194e-05, 'mayne': 9.859016070196194e-05, 'copywriter': 9.859016070196194e-05, 'yelyahwilliams': 9.859016070196194e-05, 'rid': 9.859016070196194e-05, 'sides': 9.859016070196194e-05, 'xo': 9.859016070196194e-05, 'roddick': 9.859016070196194e-05, 'phases': 9.859016070196194e-05, 'vb': 9.859016070196194e-05, 'awee': 9.859016070196194e-05, 'vaca': 9.859016070196194e-05, 'luvvies': 9.859016070196194e-05, 'pan': 9.859016070196194e-05, 'letch': 9.859016070196194e-05, 'turn': 9.859016070196194e-05, 'replace': 9.859016070196194e-05, 'record': 9.859016070196194e-05, '26th': 9.859016070196194e-05, 'applies': 9.859016070196194e-05, 'freakin': 9.859016070196194e-05, 'att': 9.859016070196194e-05, 'void': 9.859016070196194e-05, 'their': 9.859016070196194e-05, 'ota': 9.859016070196194e-05, 'bakerzin': 9.859016070196194e-05, 'worldwide': 9.859016070196194e-05, 'funeral': 9.859016070196194e-05, 'bags': 9.859016070196194e-05, 'akatoure': 9.859016070196194e-05, 'recognise': 9.859016070196194e-05, 'embarassed': 9.859016070196194e-05, 'weep': 9.859016070196194e-05, 'dense': 9.859016070196194e-05, 'evening': 9.859016070196194e-05, 'credit': 9.859016070196194e-05, 'actor': 9.859016070196194e-05, 'punkin': 9.859016070196194e-05, 'partially': 9.859016070196194e-05, 'celia': 9.859016070196194e-05, 'sunrisesister': 9.859016070196194e-05, 'badge': 9.859016070196194e-05, 'jb': 9.859016070196194e-05, 'helps': 9.859016070196194e-05, 'greatest': 9.859016070196194e-05, 'bulls': 9.859016070196194e-05, 'labela22': 9.859016070196194e-05, 'humid': 9.859016070196194e-05, 'bagels': 9.859016070196194e-05, 'brown': 9.859016070196194e-05, 'likesunday': 9.859016070196194e-05, 'shellimayfield': 9.859016070196194e-05, 'read': 9.859016070196194e-05, 'reunion': 9.859016070196194e-05, 'werewolfleah': 9.859016070196194e-05, 'ahhhhh': 9.859016070196194e-05, 'age': 9.859016070196194e-05, 'geegatessxoh': 9.859016070196194e-05, 'cookies': 9.859016070196194e-05, 'july': 9.859016070196194e-05, 'jasminelynn88': 9.859016070196194e-05, 'mrsmcflygrimmy': 9.859016070196194e-05, 'dis': 9.859016070196194e-05, 'lasses': 9.859016070196194e-05, 'sites': 9.859016070196194e-05, 'hall': 9.859016070196194e-05, 'djannalyze': 9.859016070196194e-05, 'leaves': 9.859016070196194e-05, 'predictors': 9.859016070196194e-05, 'creativeness': 9.859016070196194e-05, 'chloebli': 9.859016070196194e-05, 'wildbil': 9.859016070196194e-05, 'gems': 9.859016070196194e-05, 'haul': 9.859016070196194e-05, 'strategically': 9.859016070196194e-05, 'bigwormy': 9.859016070196194e-05, 'miley': 9.859016070196194e-05, 'ted': 9.859016070196194e-05, 'lbs': 9.859016070196194e-05, 'jayskillz': 9.859016070196194e-05, 'zoo': 9.859016070196194e-05, 'shine': 9.859016070196194e-05, 'tlv': 9.859016070196194e-05, 'never': 9.859016070196194e-05, 'ram8727': 9.859016070196194e-05, 'oop': 9.859016070196194e-05, 'jokes': 9.859016070196194e-05, 'wirelessrage': 9.859016070196194e-05, 'marcomr': 9.859016070196194e-05, 'lady': 9.859016070196194e-05, 'sacharules': 9.859016070196194e-05, 'fab': 9.859016070196194e-05, 'straps': 9.859016070196194e-05, 'din': 9.859016070196194e-05, 'yayayay': 9.859016070196194e-05, 'assholes': 9.859016070196194e-05, 'proper': 9.859016070196194e-05, 'setting': 9.859016070196194e-05, 'miami': 9.859016070196194e-05, 'wooot': 9.859016070196194e-05, 'based': 9.859016070196194e-05, 'levels': 9.859016070196194e-05, 'lcrs': 9.859016070196194e-05, 'fashionchalet': 9.859016070196194e-05, 'thouggh': 9.859016070196194e-05, 'zealand': 9.859016070196194e-05, 'wilw': 9.859016070196194e-05, 'spam': 9.859016070196194e-05, 'weve': 9.859016070196194e-05, 'cold': 9.859016070196194e-05, 'beating': 9.859016070196194e-05, 'shit': 9.859016070196194e-05, 'weeeell': 9.859016070196194e-05, 'no': 9.859016070196194e-05, 'nest': 9.859016070196194e-05, 'tryin': 9.859016070196194e-05, 'comfy': 9.859016070196194e-05, 'ex': 9.859016070196194e-05, 'cellular': 9.859016070196194e-05, 'muchos': 9.859016070196194e-05, 'nikkithebee': 9.859016070196194e-05, 'speechless': 9.859016070196194e-05, 'spongebob': 9.859016070196194e-05, 'grade': 9.859016070196194e-05, 'wishesbut': 9.859016070196194e-05, 'anne': 9.859016070196194e-05, 'drshagwell': 9.859016070196194e-05, 'mosquitos': 9.859016070196194e-05, 'air': 9.859016070196194e-05, 'insomniatichbee': 9.859016070196194e-05, 'intense': 9.859016070196194e-05, 'booked': 9.859016070196194e-05, 'trio': 9.859016070196194e-05, 'minipool': 9.859016070196194e-05, 'twilight': 9.859016070196194e-05, 'joolzp1': 9.859016070196194e-05, 'pixar': 9.859016070196194e-05, 'replaying': 9.859016070196194e-05, 'features': 9.859016070196194e-05, 'mommy': 9.859016070196194e-05, 'nots': 9.859016070196194e-05, 'cyberela': 9.859016070196194e-05, 'labour': 9.859016070196194e-05, 'pint': 9.859016070196194e-05, 'tripp': 9.859016070196194e-05, 'worrywe': 9.859016070196194e-05, 'hunting': 9.859016070196194e-05, '4am': 9.859016070196194e-05, 'futon': 9.859016070196194e-05, 'wendym00n': 9.859016070196194e-05, 'dhughesy': 9.859016070196194e-05, 'comp': 9.859016070196194e-05, 'quickfire': 9.859016070196194e-05, 'joanrivers': 9.859016070196194e-05, 'heheheh': 9.859016070196194e-05, 'hated': 9.859016070196194e-05, 'againtk': 9.859016070196194e-05, 'shoping': 9.859016070196194e-05, 'mrstessyman': 9.859016070196194e-05, 'bfheroes': 9.859016070196194e-05, 'martybuckley': 9.859016070196194e-05, 'accounting': 9.859016070196194e-05, 'yearolds': 9.859016070196194e-05, 'gypsyhippie': 9.859016070196194e-05, 'lips': 9.859016070196194e-05, 'chef': 9.859016070196194e-05, 'tossing': 9.859016070196194e-05, 'happyyyyyyyyyyyyyy': 9.859016070196194e-05, 'catenalady': 9.859016070196194e-05, 'laptop': 9.859016070196194e-05, 'skills': 9.859016070196194e-05, 'draganababy': 9.859016070196194e-05, 'developers': 9.859016070196194e-05, 'chantalalalaxo': 9.859016070196194e-05, 'mrning': 9.859016070196194e-05, 'cigarettes': 9.859016070196194e-05, 'catherine': 9.859016070196194e-05, 'jamesbuckley': 9.859016070196194e-05, 'installed': 9.859016070196194e-05, 'psychemedia': 9.859016070196194e-05, '2g': 9.859016070196194e-05, 'sending': 9.859016070196194e-05, 'fans': 9.859016070196194e-05, 'gna': 9.859016070196194e-05, '938': 9.859016070196194e-05, 'bahamabob': 9.859016070196194e-05, 'safe': 9.859016070196194e-05, 'essay': 9.859016070196194e-05, 'catcarr1': 9.859016070196194e-05, 'distant': 9.859016070196194e-05, 'lauren': 9.859016070196194e-05, 'lucypope': 9.859016070196194e-05, 'hagackure': 9.859016070196194e-05, 'cab': 9.859016070196194e-05, 'sicker': 9.859016070196194e-05, 'hull': 9.859016070196194e-05, 'kids': 9.859016070196194e-05, 'storyfan': 9.859016070196194e-05, 'nbccom': 9.859016070196194e-05, 'entertaining': 9.859016070196194e-05, 'sunlight': 9.859016070196194e-05, '33': 9.859016070196194e-05, 'nicmoneymil': 9.859016070196194e-05, 'terilynns': 9.859016070196194e-05, 'ivez': 9.859016070196194e-05, 'matzah': 9.859016070196194e-05, 'sarabethxvx': 9.859016070196194e-05, 'trailer': 9.859016070196194e-05, 'friday': 9.859016070196194e-05, 'ky': 9.859016070196194e-05, 'shred': 9.859016070196194e-05, 'katgkionis': 9.859016070196194e-05, 'laura': 9.859016070196194e-05, 'ð': 9.859016070196194e-05, 'advantage': 9.859016070196194e-05, 'ikon': 9.859016070196194e-05, 'changing': 9.859016070196194e-05, '3d': 9.859016070196194e-05, 'exist': 9.859016070196194e-05, 'lame': 9.859016070196194e-05, 'scotland': 9.859016070196194e-05, 'resting': 9.859016070196194e-05, 'mastermind': 9.859016070196194e-05, 'answers': 9.859016070196194e-05, 'stephanie': 9.859016070196194e-05, 'kmn': 9.859016070196194e-05, 'boiling': 9.859016070196194e-05, 'poor': 9.859016070196194e-05, 'tfs': 9.859016070196194e-05, 'ozdj': 9.859016070196194e-05, 'elon': 9.859016070196194e-05, 'white': 9.859016070196194e-05, 'overhead': 9.859016070196194e-05, 'jayz': 9.859016070196194e-05, 'mechanics': 9.859016070196194e-05, 'picasso': 9.859016070196194e-05, 'mazziez': 9.859016070196194e-05, 'shes': 9.859016070196194e-05, 'medication': 9.859016070196194e-05, 'suggestions': 9.859016070196194e-05, 'freelance': 9.859016070196194e-05, 'mydetention': 9.859016070196194e-05, 'referring': 9.859016070196194e-05, 'allll': 9.859016070196194e-05, 'slighty': 9.859016070196194e-05, 'imx1': 9.859016070196194e-05, 'desert': 9.859016070196194e-05, 'afternoon': 9.859016070196194e-05, 'panynj': 9.859016070196194e-05, 'weak': 9.859016070196194e-05, 'cup': 9.859016070196194e-05, 'snog': 9.859016070196194e-05, 'perpetuating': 9.859016070196194e-05, 'potency': 9.859016070196194e-05, 'health': 9.859016070196194e-05, 'navarro': 9.859016070196194e-05, 'halfalife': 9.859016070196194e-05, 'juiceegapeach': 9.859016070196194e-05, 'andy': 9.859016070196194e-05, 'naww': 9.859016070196194e-05, 'radioplay': 9.859016070196194e-05, 'rudy': 9.859016070196194e-05, 'roarface': 9.859016070196194e-05, '\\x84': 9.859016070196194e-05, 'thingsihate': 9.859016070196194e-05, 'leeboardman': 9.859016070196194e-05, 'twitrclectic': 9.859016070196194e-05, 'moms': 9.859016070196194e-05, 'no1': 9.859016070196194e-05, 'phoenixpwns': 9.859016070196194e-05, 'imma': 9.859016070196194e-05, 'luving': 9.859016070196194e-05, 'steal': 9.859016070196194e-05, 'tracklists': 9.859016070196194e-05, 'cumbria': 9.859016070196194e-05, 'forte': 9.859016070196194e-05, 'kathbambo': 9.859016070196194e-05, 'graduate': 9.859016070196194e-05, 'look': 9.859016070196194e-05, 'stephenfry': 9.859016070196194e-05, 'series': 9.859016070196194e-05, 'ily': 9.859016070196194e-05, 'cashew': 9.859016070196194e-05, 'bro': 9.859016070196194e-05, 'envy': 9.859016070196194e-05, 'zackalltimelow': 9.859016070196194e-05, 'katchin05': 9.859016070196194e-05, 'bday': 9.859016070196194e-05, 'social': 9.859016070196194e-05, 'jencummins16': 9.859016070196194e-05, 'completely': 9.859016070196194e-05, 'ram': 9.859016070196194e-05, 'kelmul': 9.859016070196194e-05, 'sweetdanigirl': 9.859016070196194e-05, 'slower': 9.859016070196194e-05, 'mysql': 9.859016070196194e-05, 'smc': 9.859016070196194e-05, 'jonasbrothers': 9.859016070196194e-05, 'spoil': 9.859016070196194e-05, 'unbritish': 9.859016070196194e-05, 'maam': 9.859016070196194e-05, 'curious': 9.859016070196194e-05, 'crown': 9.859016070196194e-05, 'notebook': 9.859016070196194e-05, 'upload': 9.859016070196194e-05, 'twitterhappy': 9.859016070196194e-05, 'diving': 9.859016070196194e-05, 'ilanbr': 9.859016070196194e-05, 'beyondbeeton': 9.859016070196194e-05, 'nuqs': 9.859016070196194e-05, 'collection': 9.859016070196194e-05, 'dannijones': 9.859016070196194e-05, 'canadian': 9.859016070196194e-05, 'died': 9.859016070196194e-05, 'aberdeen': 9.859016070196194e-05, 'tells': 9.859016070196194e-05, 'lsat': 9.859016070196194e-05, 'txt': 9.859016070196194e-05, 'movies': 9.859016070196194e-05, 'barracuda808': 9.859016070196194e-05, 'craving': 9.859016070196194e-05, 'writers': 9.859016070196194e-05, 'slap': 9.859016070196194e-05, 'angelajames': 9.859016070196194e-05, 'jferman': 9.859016070196194e-05, 'wrath': 9.859016070196194e-05, 'ever': 9.859016070196194e-05, 'fur': 9.859016070196194e-05, 'btw': 9.859016070196194e-05, 'ccsabathia': 9.859016070196194e-05, 'evbek': 9.859016070196194e-05, 'bright': 9.859016070196194e-05, 'graces': 9.859016070196194e-05, 'ye': 9.859016070196194e-05, 'dirksonguer': 9.859016070196194e-05, 'somethings': 9.859016070196194e-05, 'cravethought': 9.859016070196194e-05, 'paolotarray': 9.859016070196194e-05, 'union': 9.859016070196194e-05, 'jenson': 9.859016070196194e-05, 'horridi': 9.859016070196194e-05, 'longest': 9.859016070196194e-05, '3am': 9.859016070196194e-05, 'joyfirestar': 9.859016070196194e-05, 'announcement': 9.859016070196194e-05, 'parnoid': 9.859016070196194e-05, 'misspear': 9.859016070196194e-05, 'ck': 9.859016070196194e-05, 'cartographic': 9.859016070196194e-05, 'musta': 9.859016070196194e-05, 'rakeshagrawal': 9.859016070196194e-05, 'doubt': 9.859016070196194e-05, 'simmons': 9.859016070196194e-05, 'alaaaa': 9.859016070196194e-05, 'llll': 9.859016070196194e-05, 'according': 9.859016070196194e-05, 'ka': 9.859016070196194e-05, 'princess': 9.859016070196194e-05, 'huge': 9.859016070196194e-05, 'bubb1e5': 9.859016070196194e-05, 'adrie': 9.859016070196194e-05, 'yogi': 9.859016070196194e-05, 'nagging': 9.859016070196194e-05, 'endorphite': 9.859016070196194e-05, 'tyrone': 9.859016070196194e-05, 'condition': 9.859016070196194e-05, 'cholesterol': 9.859016070196194e-05, 'guiltridden': 9.859016070196194e-05, 'long': 9.859016070196194e-05, 'stiff': 9.859016070196194e-05, 'twitprentice': 9.859016070196194e-05, 'vt': 9.859016070196194e-05, 'born': 9.859016070196194e-05, 'longg': 9.859016070196194e-05, 'thx': 9.859016070196194e-05, 'mcguinness': 9.859016070196194e-05, 'identity': 9.859016070196194e-05, 'graduation': 9.859016070196194e-05, 'experience': 9.859016070196194e-05, 'cabinets': 9.859016070196194e-05, 'tinkerbel1013': 9.859016070196194e-05, 'chicke': 9.859016070196194e-05, 'anoo': 9.859016070196194e-05, 'kirankhanzada': 9.859016070196194e-05, 'silent': 9.859016070196194e-05, 'four': 9.859016070196194e-05, 'arnoldkim': 9.859016070196194e-05, 'unfortuate': 9.859016070196194e-05, 'lie': 9.859016070196194e-05, 'jakesonaplane': 9.859016070196194e-05, 'bids': 9.859016070196194e-05, 'christy': 9.859016070196194e-05, 'fingers': 9.859016070196194e-05, 'sorta': 9.859016070196194e-05, 'dsbabygirl': 9.859016070196194e-05, '26': 9.859016070196194e-05, 'luke': 9.859016070196194e-05, 'assorted': 9.859016070196194e-05, 'rickyambury': 9.859016070196194e-05, 'seasoning': 9.859016070196194e-05, 'kellyprovence': 9.859016070196194e-05, 'chamber': 9.859016070196194e-05, 'mmmmmmmmm': 9.859016070196194e-05, 'measuring': 9.859016070196194e-05, 'democrat': 9.859016070196194e-05, 'charltonbrooker': 9.859016070196194e-05, 'confessions': 9.859016070196194e-05, 'euphemism': 9.859016070196194e-05, 'danielhunt': 9.859016070196194e-05, 'berlin': 9.859016070196194e-05, 'stadium': 9.859016070196194e-05, 'screw': 9.859016070196194e-05, 'followgoto': 9.859016070196194e-05, 'bee': 9.859016070196194e-05, 'niiice': 9.859016070196194e-05, 'presentations': 9.859016070196194e-05, 'sewing': 9.859016070196194e-05, 'amazingg': 9.859016070196194e-05, 'means': 9.859016070196194e-05, 'awe': 9.859016070196194e-05, 'jenniekitty': 9.859016070196194e-05, 'version': 9.859016070196194e-05, 'tryingg': 9.859016070196194e-05, 'job': 9.859016070196194e-05, 'bbqevening': 9.859016070196194e-05, 'esso': 9.859016070196194e-05, 'catching': 9.859016070196194e-05, 'tornado': 9.859016070196194e-05, 'lebout': 9.859016070196194e-05, 'fashion': 9.859016070196194e-05, 'physically': 9.859016070196194e-05, 'kinggimini': 9.859016070196194e-05, 'dedicated': 9.859016070196194e-05, 'hiptop': 9.859016070196194e-05, 'pilots': 9.859016070196194e-05, 'person': 9.859016070196194e-05, 'struggle': 9.859016070196194e-05, 'milestones': 9.859016070196194e-05, 'ufc': 9.859016070196194e-05, 'epic': 9.859016070196194e-05, 'watching': 9.859016070196194e-05, 'bb': 9.859016070196194e-05, 'cycle': 9.859016070196194e-05, 'diff': 9.859016070196194e-05, 'punish': 9.859016070196194e-05, 'number': 9.859016070196194e-05, 'burried': 9.859016070196194e-05, 'schoooool': 9.859016070196194e-05, 'butterflies': 9.859016070196194e-05, 'vendorprisey': 9.859016070196194e-05, 'ben': 9.859016070196194e-05, 'whaaaaaa': 9.859016070196194e-05, 'sits': 9.859016070196194e-05, 'workk': 9.859016070196194e-05, 'hula': 9.859016070196194e-05, 'originally': 9.859016070196194e-05, 'reviews': 9.859016070196194e-05, 'excedrin': 9.859016070196194e-05, 'worse': 9.859016070196194e-05, 'transformers': 9.859016070196194e-05, 'itschristablack': 9.859016070196194e-05, 'hunz': 9.859016070196194e-05, 'smell': 9.859016070196194e-05, 'meeegelll': 9.859016070196194e-05, 'courtskies': 9.859016070196194e-05, 'of': 9.859016070196194e-05, 'downloaded': 9.859016070196194e-05, 'sunspot': 9.859016070196194e-05, 'ambiance': 9.859016070196194e-05, 'convention': 9.859016070196194e-05, 'tears': 9.859016070196194e-05, 'xoxoniteee': 9.859016070196194e-05, 'habits': 9.859016070196194e-05, 'somebody': 9.859016070196194e-05, 'kara': 9.859016070196194e-05, 'realized': 9.859016070196194e-05, 'neck': 9.859016070196194e-05, 'banks': 9.859016070196194e-05, 'krissys': 9.859016070196194e-05, 'marjamma': 9.859016070196194e-05, 'thomas': 9.859016070196194e-05}\n"
     ]
    }
   ],
   "source": [
    "for k in smoothed_co_occurrence_matrix.keys():\n",
    "  print(smoothed_co_occurrence_matrix[k])\n",
    "  break"
   ]
  },
  {
   "cell_type": "markdown",
   "metadata": {
    "id": "mFPzIc27mnYZ"
   },
   "source": [
    "# With Beta"
   ]
  },
  {
   "cell_type": "code",
   "execution_count": null,
   "metadata": {
    "id": "6_n_UelHNR6k"
   },
   "outputs": [],
   "source": [
    "def calculate_vader_scores(co_occurrence_matrix):\n",
    "  sent_analyzer = SentimentIntensityAnalyzer()\n",
    "  vader_dict = {}\n",
    "\n",
    "  for token in tqdm(co_occurrence_matrix.keys()):\n",
    "    vader_dict[token] = {}\n",
    "    for token_n in co_occurrence_matrix[token].keys():\n",
    "      score = sent_analyzer.polarity_scores(token + \" \" + token_n)\n",
    "      vader_dict[token][token_n] = (score['pos'], score['neg'], score['compound'])\n",
    "  \n",
    "  return vader_dict"
   ]
  },
  {
   "cell_type": "code",
   "execution_count": null,
   "metadata": {
    "colab": {
     "base_uri": "https://localhost:8080/"
    },
    "id": "oh_rUxm5N_Vq",
    "outputId": "a879a9c8-4490-42ef-d539-09d2b4e0a911"
   },
   "outputs": [],
   "source": [
    "vader_dict = calculate_vader_scores(co_occurrence_matrix)"
   ]
  },
  {
   "cell_type": "code",
   "execution_count": null,
   "metadata": {
    "colab": {
     "base_uri": "https://localhost:8080/"
    },
    "id": "ROE2Not8OG7x",
    "outputId": "759604a0-1ac2-41c3-eaef-dd05ffceb22a"
   },
   "outputs": [],
   "source": [
    "for k in vader_dict.keys():\n",
    "  print(vader_dict[k])\n",
    "  break"
   ]
  },
  {
   "cell_type": "code",
   "execution_count": null,
   "metadata": {},
   "outputs": [],
   "source": [
    "random.seed(100)"
   ]
  },
  {
   "cell_type": "code",
   "execution_count": null,
   "metadata": {
    "id": "oNpsML1nmnEB"
   },
   "outputs": [],
   "source": [
    "#Applying laplace smoothing and returning bigram probabilities\n",
    "def laplace_smoothed_bigram_model_with_beta_pos(unigram_count, bigrams, co_occurrence_matrix, vader_dict, vocab_size):\n",
    "\n",
    "  smoothed_co_occurrence_matrix = {}\n",
    "\n",
    "  sent_analyzer = SentimentIntensityAnalyzer()\n",
    "  # predicted_scores = [sent_analyzer.polarity_scores(text)['compound'] for text in data]\n",
    "\n",
    "  for token in tqdm(co_occurrence_matrix.keys()):\n",
    "    smoothed_co_occurrence_matrix[token] = {}\n",
    "    for token_n in co_occurrence_matrix[token].keys():\n",
    "      smoothed_co_occurrence_matrix[token][token_n] = ((co_occurrence_matrix[token][token_n]+1)/(unigram_count[token]+vocab_size)) + 0.0001*vader_dict[token][token_n][0]\n",
    "\n",
    "  return smoothed_co_occurrence_matrix"
   ]
  },
  {
   "cell_type": "code",
   "execution_count": null,
   "metadata": {
    "id": "xRwnVmQ-IbYH"
   },
   "outputs": [],
   "source": [
    "#Applying laplace smoothing and returning bigram probabilities\n",
    "def laplace_smoothed_bigram_model_with_beta_neg(unigram_count, bigrams, co_occurrence_matrix, vader_dict, vocab_size):\n",
    "\n",
    "  smoothed_co_occurrence_matrix = {}\n",
    "\n",
    "  sent_analyzer = SentimentIntensityAnalyzer()\n",
    "  # predicted_scores = [sent_analyzer.polarity_scores(text)['compound'] for text in data]\n",
    "\n",
    "  for token in tqdm(co_occurrence_matrix.keys()):\n",
    "    smoothed_co_occurrence_matrix[token] = {}\n",
    "    for token_n in co_occurrence_matrix[token].keys():\n",
    "      smoothed_co_occurrence_matrix[token][token_n] = ((co_occurrence_matrix[token][token_n]+1)/(unigram_count[token]+vocab_size)) + 0.0001*vader_dict[token][token_n][1]\n",
    "\n",
    "  return smoothed_co_occurrence_matrix"
   ]
  },
  {
   "cell_type": "code",
   "execution_count": null,
   "metadata": {
    "id": "780C919myF-Q"
   },
   "outputs": [],
   "source": [
    "#Applying laplace smoothing and returning bigram probabilities\n",
    "def laplace_smoothed_bigram_model_with_beta_compound(unigram_count, bigrams, co_occurrence_matrix, vader_dict, vocab_size):\n",
    "\n",
    "  smoothed_co_occurrence_matrix = {}\n",
    "\n",
    "  sent_analyzer = SentimentIntensityAnalyzer()\n",
    "  # predicted_scores = [sent_analyzer.polarity_scores(text)['compound'] for text in data]\n",
    "\n",
    "  for token in tqdm(co_occurrence_matrix.keys()):\n",
    "    smoothed_co_occurrence_matrix[token] = {}\n",
    "    for token_n in co_occurrence_matrix[token].keys():\n",
    "      smoothed_co_occurrence_matrix[token][token_n] = ((co_occurrence_matrix[token][token_n]+1)/(unigram_count[token]+vocab_size)) + 0.0001*abs(vader_dict[token][token_n][2])\n",
    "\n",
    "  return smoothed_co_occurrence_matrix"
   ]
  },
  {
   "cell_type": "code",
   "execution_count": null,
   "metadata": {
    "id": "PqUy3Ei_y6OT"
   },
   "outputs": [],
   "source": [
    "#Applying laplace smoothing with beta positive\n",
    "smoothed_co_occurrence_matrix_with_beta_pos = laplace_smoothed_bigram_model_with_beta_pos(unigram_count, bigrams, co_occurrence_matrix, vader_dict ,len(vocab))"
   ]
  },
  {
   "cell_type": "code",
   "execution_count": null,
   "metadata": {
    "colab": {
     "base_uri": "https://localhost:8080/"
    },
    "id": "R1as02xlncYQ",
    "outputId": "ac57091c-6c90-412d-9a0a-8e733c1235d0"
   },
   "outputs": [],
   "source": [
    "#Applying laplace smoothing with beta negative\n",
    "smoothed_co_occurrence_matrix_with_beta_neg = laplace_smoothed_bigram_model_with_beta_neg(unigram_count, bigrams, co_occurrence_matrix, vader_dict ,len(vocab))"
   ]
  },
  {
   "cell_type": "markdown",
   "metadata": {
    "id": "lXX7IPF-QI-Y"
   },
   "source": [
    "# Helper Functions"
   ]
  },
  {
   "cell_type": "code",
   "execution_count": 17,
   "metadata": {
    "id": "UtJIoG-tb1t5"
   },
   "outputs": [],
   "source": [
    "def calculate_sentence_perplexity(LM, unigram_dict, vocab_size, sentence):\n",
    "  '''\n",
    "  Parameters:\n",
    "    LM (Language Model): dict of dict\n",
    "    unigram_dict: dict\n",
    "    vocab_size: int\n",
    "    sentence: string\n",
    "  \n",
    "  Returns:\n",
    "    Perplexity of a sentence\n",
    "  \n",
    "  Note: Probabilty is calculated in log space to prevent overflow/underflow in calculations\n",
    "  '''\n",
    "\n",
    "  tokens_list = sentence.split()\n",
    "  N = len(tokens_list)\n",
    "  probability = 1\n",
    "\n",
    "  probability *= unigram_dict[tokens_list[0]]/vocab_size\n",
    "\n",
    "  for i in range(1,len(tokens_list)):\n",
    "    probability *= LM[tokens_list[i-1]][tokens_list[i]]\n",
    "  \n",
    "  perplexity = np.power( 1/probability, (1/N) )\n",
    "\n",
    "  return perplexity"
   ]
  },
  {
   "cell_type": "code",
   "execution_count": 18,
   "metadata": {
    "id": "_2MEN21ZQHXn"
   },
   "outputs": [],
   "source": [
    "def calculate_sentence_perplexity_in_log_space(LM, unigram_dict, vocab_size, sentence):\n",
    "  '''\n",
    "  Parameters:\n",
    "    LM (Language Model): dict of dict\n",
    "    unigram_dict: dict\n",
    "    vocab_size: int\n",
    "    sentence: string\n",
    "  \n",
    "  Returns:\n",
    "    Perplexity of a sentence\n",
    "  \n",
    "  Note: Probabilty is calculated in log space to prevent overflow/underflow in calculations\n",
    "  '''\n",
    "\n",
    "  tokens_list = sentence.split()\n",
    "  N = len(tokens_list)\n",
    "  log_probability = 0\n",
    "\n",
    "  log_probability += np.log(unigram_dict[tokens_list[0]]/vocab_size)\n",
    "\n",
    "  for i in range(1,len(tokens_list)):\n",
    "    log_probability += np.log(LM[tokens_list[i-1]][tokens_list[i]])\n",
    "  \n",
    "  perplexity = np.power( -1/log_probability, (1/N) )\n",
    "\n",
    "  return perplexity"
   ]
  },
  {
   "cell_type": "code",
   "execution_count": 19,
   "metadata": {
    "id": "2X8HodypQNto"
   },
   "outputs": [],
   "source": [
    "def calculate_average_perplexity(LM, unigram_dict, vocab_size, sentences_list):\n",
    "  '''\n",
    "  Parameters:\n",
    "    LM (Language Model): dict of dict\n",
    "    unigram_dict: dict\n",
    "    vocab_size: int\n",
    "    sentences_list: list of strings\n",
    "  \n",
    "  Returns: None\n",
    "  '''\n",
    "\n",
    "  total_perplexity = 0\n",
    "  total_perplexity_in_log_space = 0\n",
    "  num_of_sentences = len(sentences_list)\n",
    "\n",
    "  for sentence in sentences_list:\n",
    "    sent_perplexity = calculate_sentence_perplexity(LM, unigram_dict, vocab_size, sentence)\n",
    "    total_perplexity += sent_perplexity\n",
    "    sent_perplexity_in_log_space = calculate_sentence_perplexity_in_log_space(LM, unigram_dict, vocab_size, sentence)\n",
    "    total_perplexity_in_log_space += sent_perplexity_in_log_space\n",
    "  \n",
    "  avg_perplexity = total_perplexity/num_of_sentences\n",
    "  avg_perplexity_in_log_space = total_perplexity_in_log_space/num_of_sentences\n",
    "\n",
    "  print('Average Perplexity: {}'.format( avg_perplexity))\n",
    "  print('Average Perplexity In Log Space: {}'.format( avg_perplexity_in_log_space))"
   ]
  },
  {
   "cell_type": "code",
   "execution_count": 20,
   "metadata": {
    "id": "srC7uBa8QQZe"
   },
   "outputs": [],
   "source": [
    "def train_and_test_model(train_dataset_param, test_dataset_param):\n",
    "  '''\n",
    "  Parameters:\n",
    "    train_dataset: pandas.core.frame.DataFrame\n",
    "    test_dataset: pandas.core.frame.DataFrame\n",
    "  \n",
    "  Returns: float\n",
    "\n",
    "  Trains a ML Model on the train_data and train_labels and return accuracy calculated using test_data and test_labels\n",
    "  '''\n",
    "\n",
    "  train_dataset = train_dataset_param.copy(deep=True)\n",
    "  test_dataset = test_dataset_param.copy(deep=True)\n",
    "\n",
    "  train_dataset['TRAIN_DATA'] = [' '.join(x) for x in train_dataset['TEXT']]\n",
    "  test_dataset['TRAIN_DATA'] = [' '.join(x) for x in test_dataset['TEXT']]\n",
    "\n",
    "\n",
    "  # Randomly shuffle dataset\n",
    "  train_dataset_shuffled = shuffle(train_dataset, random_state=0)\n",
    "\n",
    "  # train data\n",
    "  train_sentences = train_dataset_shuffled['TRAIN_DATA']\n",
    "  train_labels = train_dataset_shuffled['LABEL']\n",
    "\n",
    "  # test data\n",
    "  test_sentences = test_dataset['TRAIN_DATA']\n",
    "  test_labels = test_dataset['LABEL']\n",
    "\n",
    "  # model pipeline\n",
    "  model = make_pipeline(TfidfVectorizer(), MultinomialNB())\n",
    "  \n",
    "  # training model on train data\n",
    "  model.fit(train_sentences, train_labels)\n",
    "\n",
    "  # predicting on test data\n",
    "  predicted_test_labels = model.predict(test_sentences)\n",
    "\n",
    "  # accuracy on test data\n",
    "  test_accuracy = accuracy_score(test_labels, predicted_test_labels)\n",
    "\n",
    "  return test_accuracy"
   ]
  },
  {
   "cell_type": "code",
   "execution_count": 21,
   "metadata": {
    "id": "JriuT9CIQSYC"
   },
   "outputs": [],
   "source": [
    "def extrinsic_evaluation(dataset_A, dataset_B, dataset_test):\n",
    "  '''\n",
    "  Parameters:\n",
    "    dataset_A: pandas.core.frame.DataFrame\n",
    "    dataset_B: pandas.core.frame.DataFrame\n",
    "    dataset_test: pandas.core.frame.DataFrame\n",
    "  \n",
    "  Returns: None\n",
    "\n",
    "  Trains ML model on dataset_A & dataset_B separately and reports their accuracy on test set\n",
    "  '''\n",
    "\n",
    "  accuracy_A = train_and_test_model(dataset_A, dataset_test)\n",
    "  accuracy_B = train_and_test_model(dataset_B, dataset_test)\n",
    "\n",
    "  print('Accuracy on test set after training on dataset A: {}'.format(accuracy_B))\n",
    "  print('Accuracy on test set after training on dataset B: {}'.format(accuracy_A))"
   ]
  },
  {
   "cell_type": "markdown",
   "metadata": {
    "id": "nXxtSaIWHjLk"
   },
   "source": [
    "# Part A a)\n",
    "Storing bigram model after smoothing"
   ]
  },
  {
   "cell_type": "code",
   "execution_count": null,
   "metadata": {
    "id": "UCEkP6Is-1_C"
   },
   "outputs": [],
   "source": [
    "#Pickling co_occurrence_matrix\n",
    "pickle_out = open(\"/content/drive/MyDrive/Sem-7_NLP/A2_co_occurrence_matrix.pickle\",\"wb\")\n",
    "pickle.dump(co_occurrence_matrix, pickle_out)\n",
    "pickle_out.close()\n",
    "\n",
    "#Pickling unigram count\n",
    "pickle_out = open(\"/content/drive/MyDrive/Sem-7_NLP/A2_unigram_count.pickle\",\"wb\")\n",
    "pickle.dump(unigram_count, pickle_out)\n",
    "pickle_out.close()\n",
    "\n",
    "#Pickling smoothed co_occurrence_matrix\n",
    "pickle_out = open(\"/content/drive/MyDrive/Sem-7_NLP/A2_smoothed_co_occurrence_matrix.pickle\",\"wb\")\n",
    "pickle.dump(smoothed_co_occurrence_matrix, pickle_out)\n",
    "pickle_out.close()"
   ]
  },
  {
   "cell_type": "code",
   "execution_count": null,
   "metadata": {
    "id": "poOk03uxKzfs"
   },
   "outputs": [],
   "source": [
    "#Pickling bigrams\n",
    "pickle_out = open(\"/content/drive/MyDrive/Sem-7_NLP/A2_bigrams.pickle\",\"wb\")\n",
    "pickle.dump(bigrams, pickle_out)\n",
    "pickle_out.close()"
   ]
  },
  {
   "cell_type": "code",
   "execution_count": null,
   "metadata": {
    "id": "Wbd0NTOVAoEb"
   },
   "outputs": [],
   "source": [
    "co_occurrence_matrix = pickle.load(open(\"/content/drive/MyDrive/Sem-7_NLP/A2_co_occurrence_matrix.pickle\",\"rb\"))\n",
    "unigram_count = pickle.load(open(\"/content/drive/MyDrive/Sem-7_NLP/A2_unigram_count.pickle\",\"rb\"))\n",
    "smoothed_co_occurrence_matrix = pickle.load(open(\"/content/drive/MyDrive/Sem-7_NLP/A2_smoothed_co_occurrence_matrix.pickle\",\"rb\"))\n",
    "bigrams = pickle.load(open(\"/content/drive/MyDrive/Sem-7_NLP/A2_bigrams.pickle\",\"rb\"))"
   ]
  },
  {
   "cell_type": "code",
   "execution_count": 22,
   "metadata": {},
   "outputs": [],
   "source": [
    "import bz2\n",
    "import _pickle as cPickle"
   ]
  },
  {
   "cell_type": "code",
   "execution_count": 23,
   "metadata": {},
   "outputs": [],
   "source": [
    "def decompress_pickle(file):\n",
    "    data = bz2.BZ2File(file,'rb')\n",
    "    data = cPickle.load(data)\n",
    "    return data"
   ]
  },
  {
   "cell_type": "code",
   "execution_count": 24,
   "metadata": {},
   "outputs": [],
   "source": [
    "vd_pos = decompress_pickle(r\"E:\\Sem7\\NLP\\Assignments\\Assignment 2\\A2_vader_dict_pos.pbz2\")"
   ]
  },
  {
   "cell_type": "code",
   "execution_count": 27,
   "metadata": {},
   "outputs": [],
   "source": [
    "del vd_pos"
   ]
  },
  {
   "cell_type": "code",
   "execution_count": 28,
   "metadata": {},
   "outputs": [],
   "source": [
    "vd_neg = decompress_pickle(r\"E:\\Sem7\\NLP\\Assignments\\Assignment 2\\A2_vader_dict_neg.pbz2\")"
   ]
  },
  {
   "cell_type": "code",
   "execution_count": null,
   "metadata": {},
   "outputs": [],
   "source": [
    "vd_compound = decompress_pickle(r\"E:\\Sem7\\NLP\\Assignments\\Assignment 2\\A2_vader_dict_compound.pbz2\")"
   ]
  },
  {
   "cell_type": "code",
   "execution_count": null,
   "metadata": {
    "id": "xRsnxHsjf647"
   },
   "outputs": [],
   "source": [
    "#Generating a random sentence\n",
    "def generate_random_sentence(start_word, bigram_probabilities, sentence_len):\n",
    "  start = start_word\n",
    "  next_word_prob = 0\n",
    "  sentence = []\n",
    "  sentence.append(start)\n",
    "  final_next_word = ''\n",
    "  for i in range(sentence_len-1):\n",
    "    next_word_prob = 0\n",
    "    final_next_word = ''\n",
    "    for next_word in bigram_probabilities[start]:\n",
    "      if(bigram_probabilities[start][next_word]>next_word_prob):\n",
    "        next_word_prob = bigram_probabilities[start][next_word]\n",
    "        final_next_word = next_word\n",
    "    sentence.append(final_next_word)\n",
    "    start = final_next_word\n",
    "  return ' '.join(sentence)"
   ]
  },
  {
   "cell_type": "code",
   "execution_count": null,
   "metadata": {},
   "outputs": [],
   "source": [
    "#Generating a random sentence\n",
    "def generate_random_sentence_2(start_word, bigram_probabilities, sentence_len, vader_dict, idx):\n",
    "  start = start_word\n",
    "  next_word_prob = 0\n",
    "  sentence = []\n",
    "  sentence.append(start)\n",
    "  final_next_word = ''\n",
    "  for i in range(sentence_len-1):\n",
    "    next_word_prob = 0\n",
    "    final_next_word = ''\n",
    "    for next_word in bigram_probabilities[start]:\n",
    "      if(bigram_probabilities[start][next_word] + 0.0001*abs(vader_dict[start][next_word][idx]) > next_word_prob):\n",
    "        next_word_prob = bigram_probabilities[start][next_word]\n",
    "        final_next_word = next_word\n",
    "    sentence.append(final_next_word)\n",
    "    start = final_next_word\n",
    "  return ' '.join(sentence)"
   ]
  },
  {
   "cell_type": "code",
   "execution_count": null,
   "metadata": {},
   "outputs": [],
   "source": [
    "#Generating a random sentence\n",
    "def generate_random_sentence_3(start_word, bigram_probabilities, sentence_len, vader_dict, idx, k_param):\n",
    "    start = start_word\n",
    "    next_word_prob = 0\n",
    "    sentence = []\n",
    "    sentence.append(start)\n",
    "    final_next_word = ''\n",
    "    for i in range(sentence_len-1):\n",
    "        next_word_prob = 0\n",
    "        final_next_word = ''\n",
    "        final_next_word_possibilities = []\n",
    "        for next_word in bigram_probabilities[start]:\n",
    "            final_next_word_possibilities.append((next_word, bigram_probabilities[start][next_word] + 0.0001*vader_dict[start][next_word][idx]))\n",
    "        final_next_word_possibilities.sort(key = lambda x: x[1], reverse=True)\n",
    "        selected_idx = random.randint(0,k_param)\n",
    "        sentence.append(final_next_word_possibilities[selected_idx][0])\n",
    "        start = final_next_word_possibilities[selected_idx][0]\n",
    "    return ' '.join(sentence)"
   ]
  },
  {
   "cell_type": "code",
   "execution_count": null,
   "metadata": {},
   "outputs": [],
   "source": [
    "#Generating a random sentence\n",
    "def generate_random_sentence_4(start_word, bigram_probabilities, sentence_len, vader_dict):\n",
    "  start = start_word\n",
    "  next_word_prob = 0\n",
    "  sentence = []\n",
    "  sentence.append(start)\n",
    "  final_next_word = ''\n",
    "  for i in range(sentence_len-1):\n",
    "    next_word_prob = 0\n",
    "    final_next_word = ''\n",
    "    for next_word in bigram_probabilities[start]:\n",
    "      if(bigram_probabilities[start][next_word] + 0.0001*abs(vader_dict[start][next_word]) > next_word_prob):\n",
    "        next_word_prob = bigram_probabilities[start][next_word]\n",
    "        final_next_word = next_word\n",
    "    sentence.append(final_next_word)\n",
    "    start = final_next_word\n",
    "  return ' '.join(sentence)"
   ]
  },
  {
   "cell_type": "code",
   "execution_count": null,
   "metadata": {},
   "outputs": [],
   "source": [
    "#Generating a random sentence\n",
    "def generate_random_sentence_5(start_word, bigram_probabilities, sentence_len, vader_dict, k_param):\n",
    "    start = start_word\n",
    "    next_word_prob = 0\n",
    "    sentence = []\n",
    "    sentence.append(start)\n",
    "    final_next_word = ''\n",
    "    for i in range(sentence_len-1):\n",
    "        next_word_prob = 0\n",
    "        final_next_word = ''\n",
    "        final_next_word_possibilities = []\n",
    "        for next_word in bigram_probabilities[start]:\n",
    "            final_next_word_possibilities.append((next_word, bigram_probabilities[start][next_word] + 0.0001*vader_dict[start][next_word]))\n",
    "        final_next_word_possibilities.sort(key = lambda x: x[1], reverse=True)\n",
    "        selected_idx = random.randint(0,k_param)\n",
    "        sentence.append(final_next_word_possibilities[selected_idx][0])\n",
    "        start = final_next_word_possibilities[selected_idx][0]\n",
    "    return ' '.join(sentence)"
   ]
  },
  {
   "cell_type": "code",
   "execution_count": 33,
   "metadata": {},
   "outputs": [],
   "source": [
    "#Generating a random sentence\n",
    "def generate_random_sentence_6(start_word, bigram_probabilities, sentence_len, vader_dict, k_param):\n",
    "    start = start_word\n",
    "    next_word_prob = 0\n",
    "    sentence = []\n",
    "    sentence.append(start)\n",
    "    final_next_word = ''\n",
    "    for i in range(sentence_len-1):\n",
    "        next_word_prob = 0\n",
    "        final_next_word = ''\n",
    "        final_next_word_possibilities = []\n",
    "        for next_word in bigram_probabilities[start]:\n",
    "            final_next_word_possibilities.append((next_word, bigram_probabilities[start][next_word] + 0.0005*vader_dict[start][next_word]))\n",
    "        final_next_word_possibilities.sort(key = lambda x: x[1], reverse=True)\n",
    "        selected_idx = random.randint(0,k_param)\n",
    "        sentence.append(final_next_word_possibilities[selected_idx][0])\n",
    "        start = final_next_word_possibilities[selected_idx][0]\n",
    "    return ' '.join(sentence)"
   ]
  },
  {
   "cell_type": "markdown",
   "metadata": {
    "id": "wa7eyRMNyOyQ"
   },
   "source": [
    "Approach 1"
   ]
  },
  {
   "cell_type": "code",
   "execution_count": null,
   "metadata": {
    "colab": {
     "base_uri": "https://localhost:8080/"
    },
    "id": "SjiwxeIZjcrw",
    "outputId": "3d292623-c56c-469b-dc9f-06f13e19b9d7"
   },
   "outputs": [],
   "source": [
    "# #Generating sentences\n",
    "# sentences = []\n",
    "# sentences_compound = []\n",
    "\n",
    "# #vocab list\n",
    "# vocab_list = list(vocab)\n",
    "\n",
    "# #Generating random numbers\n",
    "# random_start_words = random.sample(range(len(vocab_list)), 500)\n",
    "\n",
    "# #Selecting random start words\n",
    "# for random_idx in range in tqdm(len(random_start_words)):\n",
    "#     sentences_compound.append(generate_random_sentence_2(vocab_list[random_start_words[random_idx]], smoothed_co_occurrence_matrix, random.randint(8,14), vader_dict, 2))\n",
    "#     if random_idx % 2 ==0:\n",
    "#         sentences.append(generate_random_sentence_2(vocab_list[random_start_words[random_idx]], smoothed_co_occurrence_matrix, random.randint(8,14), vader_dict, 0))\n",
    "#     else:\n",
    "#         sentences.append(generate_random_sentence_2(vocab_list[random_start_words[random_idx]], smoothed_co_occurrence_matrix, random.randint(8,14), vader_dict, 1))"
   ]
  },
  {
   "cell_type": "code",
   "execution_count": 26,
   "metadata": {},
   "outputs": [
    {
     "name": "stderr",
     "output_type": "stream",
     "text": [
      "100%|████████████████████████████████████████████████████████████████████████████████| 250/250 [00:20<00:00, 12.41it/s]\n"
     ]
    }
   ],
   "source": [
    "#Generating sentences\n",
    "sentences = []\n",
    "sentences_compound = []\n",
    "sentences_pos = []\n",
    "\n",
    "#vocab list\n",
    "vocab_list = list(vocab)\n",
    "\n",
    "#Generating random numbers\n",
    "random_start_words = random.sample(range(len(vocab_list)), 250)\n",
    "\n",
    "#Selecting random start words\n",
    "for random_idx in tqdm(range(len(random_start_words))):\n",
    "    sentences_pos.append(generate_random_sentence_6(vocab_list[random_start_words[random_idx]], smoothed_co_occurrence_matrix, random.randint(8,14), vd_pos, 5))"
   ]
  },
  {
   "cell_type": "code",
   "execution_count": 34,
   "metadata": {},
   "outputs": [
    {
     "name": "stderr",
     "output_type": "stream",
     "text": [
      "100%|████████████████████████████████████████████████████████████████████████████████| 250/250 [00:20<00:00, 12.31it/s]\n"
     ]
    }
   ],
   "source": [
    "#Generating sentences\n",
    "sentences_neg = []\n",
    "\n",
    "#vocab list\n",
    "vocab_list = list(vocab)\n",
    "\n",
    "#Generating random numbers\n",
    "random_start_words = random.sample(range(len(vocab_list)), 250)\n",
    "\n",
    "#Selecting random start words\n",
    "for random_idx in tqdm(range(len(random_start_words))):\n",
    "    sentences_neg.append(generate_random_sentence_6(vocab_list[random_start_words[random_idx]], smoothed_co_occurrence_matrix, random.randint(8,14), vd_neg, 5))"
   ]
  },
  {
   "cell_type": "code",
   "execution_count": 30,
   "metadata": {},
   "outputs": [
    {
     "data": {
      "text/plain": [
       "['nettz ily honestly honestly honestly excited favorites vip',\n",
       " 'razzle freedom vip excited favorites vip loved promoting loved favorites honestly promoting excited',\n",
       " 'ment freedom vip loved excited about funny promoting',\n",
       " 'kreativeham ily honestly excited about lol jk promoting promoting favorites promoting',\n",
       " 'petewentz glorious promoting honestly excited favorites vip excited to work',\n",
       " 'men paradise honestly promoting promoting honestly excited about',\n",
       " 'lets glorious sunshine promoting favorites excited honestly promoting excited',\n",
       " 'thts freedom excited about funny promoting vip loved',\n",
       " 'yer love it would not get it will love it is it',\n",
       " 'everywhere glorious excited about it would have to see ily promoting favorites excited for',\n",
       " 'maths love you have to see you too xoxo honestly',\n",
       " 'â promoting excited honestly honestly love the good night ily promoting excited favorites',\n",
       " 'defense promoting favorites excited i want to work ily',\n",
       " 'notes love the last ily honestly loved promoting honestly favorites',\n",
       " 'joanna love you have been friending loved promoting',\n",
       " 'millies freedom honestly love it i love u okay thanks',\n",
       " 'home from a lot easier vip promoting favorites vip party a good night hope',\n",
       " 'equally freedom vip promoting loved excited for my fave',\n",
       " 'trio glorious excited for my friends hugs hope your best dreams honestly excited',\n",
       " 'alarms glorious honestly love it will win good day',\n",
       " 'intelligent vip excited to go home super honestly loved',\n",
       " 'ze freedom promoting loved favorites favorites vip favorites vip',\n",
       " '2pm love that thanks lol u okay favorites',\n",
       " 'weigh paradise promoting excited honestly honestly honestly favorites promoting loved honestly love to be',\n",
       " 'mickcornett paradise loved honestly excited for you too i',\n",
       " 'verseghy glorious sunny honestly honestly honestly excited about to the best defense',\n",
       " 'server perfectly honestly favorites loved loved excited honestly honestly',\n",
       " 'butt love it would like to work best thing',\n",
       " 'pull love you get to see you are',\n",
       " 'drealoveslife paradise honestly promoting favorites promoting loved promoting excited to the best friend',\n",
       " 'achieved paradise favorites promoting promoting promoting loved favorites loved',\n",
       " 'runs paradise vip honestly loved loved excited to see ily',\n",
       " 'study perfectly promoting loved loved vip loved promoting favorites honestly',\n",
       " 'columbus love you can love to see perfectly promoting loved vip loved promoting',\n",
       " 'herself paradise promoting favorites honestly love the day',\n",
       " 'brightgirl ily l promoting favorites excited to go back ily',\n",
       " 'anniemacdj ily loved honestly loved excited for a',\n",
       " 'cough freedom promoting vip favorites loved favorites loved loved',\n",
       " 'nada love u okay favorites favorites promoting promoting excited',\n",
       " 'eight perfectly favorites loved loved excited about wish favorites promoting honestly excited favorites loved',\n",
       " 'dclew2 glorious promoting vip excited favorites excited i was',\n",
       " 'visiting paradise favorites promoting excited honestly excited about the last',\n",
       " 'anoo love that thanks so i want some wonderful sunny warm promoting loved honestly',\n",
       " 'within paradise favorites vip party favorites favorites loved excited for',\n",
       " 'modern thanks i want honestly love it i',\n",
       " 'eatinqq ily excited honestly honestly promoting promoting favorites',\n",
       " 'definetly paradise vip excited i want i was a great',\n",
       " 'blown glorious sunny honestly love you are welcome enjoy honestly loved',\n",
       " 'sis perfectly promoting promoting vip excited to the same',\n",
       " 'amusing honestly excited favorites excited to be a good to be good',\n",
       " 'simonech ily l promoting excited for you can love you can appreciate favorites',\n",
       " 'xhtml ily favorites loved excited i am not want a great',\n",
       " 'twits love the same love to go back to',\n",
       " 'yet lol x favorites favorites favorites excited favorites excited favorites excited',\n",
       " 'truly honestly favorites excited for you too cute i have a lot kind',\n",
       " 'fb ily l excited for the same paradise vip promoting excited i want',\n",
       " 'europe ily promoting excited about funny favorites promoting promoting excited favorites favorites favorites loved',\n",
       " 'adjust ily honestly loved favorites favorites promoting honestly loved favorites favorites',\n",
       " 'iknowrite ily promoting honestly love you get ready to be',\n",
       " 'overwhelming ily promoting vip promoting excited to be great weekend hope i',\n",
       " 'fo paradise promoting promoting excited about it would like the way love u',\n",
       " 'itunes perfectly excited i want to be great yeah i am',\n",
       " '5pm freedom excited i am glad honestly excited honestly love to',\n",
       " 'rounders glorious sunny honestly loved honestly honestly honestly',\n",
       " 'graces promoting loved favorites vip honestly loved honestly excited',\n",
       " 'pronounce paradise excited i am sure promoting honestly honestly',\n",
       " 'bradies ily loved promoting loved vip favorites loved excited favorites',\n",
       " 'ftw honestly loved favorites vip favorites vip party i love to go back',\n",
       " 'monchai paradise vip excited to be happy birthday gift',\n",
       " 'sparkle1980 love the day gift excited honestly promoting honestly excited about it is',\n",
       " 'heatworld perfectly loved favorites promoting promoting loved loved',\n",
       " 'written glorious promoting honestly favorites favorites promoting honestly favorites honestly',\n",
       " 'êµ freedom excited honestly excited to see ily l xoxo promoting favorites favorites favorites',\n",
       " 'apply glorious honestly honestly loved honestly love that',\n",
       " 'listen ily l promoting promoting honestly promoting loved loved promoting favorites',\n",
       " 'enrolment paradise promoting vip party i was a lot like',\n",
       " 'graveyard freedom excited i want i love u ok so',\n",
       " 'tifftiff621 glorious sunny sunny honestly honestly honestly honestly loved favorites excited about',\n",
       " 'sexyjoy386 love the way ily excited about funny favorites favorites loved vip promoting',\n",
       " 'reviews glorious sunny warm favorites loved excited about lol',\n",
       " 'typo perfectly excited about wish u please i will not a few',\n",
       " 'bids paradise loved favorites promoting honestly excited favorites',\n",
       " 'media perfectly loved honestly honestly loved vip excited to the last perfectly vip',\n",
       " 'melodic glorious favorites honestly honestly love to get better welcome lol well yeah good',\n",
       " 'echajavajazz paradise promoting loved excited for my friends',\n",
       " 'jon perfectly excited honestly love the day of my phone glorious excited favorites',\n",
       " 'wednesday perfectly promoting loved promoting promoting loved loved promoting honestly',\n",
       " 'fifth perfectly vip favorites loved excited to work best i love',\n",
       " 'chapters freedom loved promoting favorites excited favorites vip excited i was not',\n",
       " 'hehe love to the day to be great i will win i',\n",
       " 'cipriani15 freedom loved vip promoting excited for the way lol j excited for sure',\n",
       " 'rozhan love u love u okay honestly excited for the way',\n",
       " 'haf freedom vip honestly loved excited about funny',\n",
       " 'katip paradise honestly promoting honestly honestly loved excited',\n",
       " 'cocopuffs perfectly excited about the way yay my friends 2 laugh loved',\n",
       " 'rumors glorious sunshine promoting vip party promoting favorites favorites excited to go help',\n",
       " 'noisettes glorious excited about it was awesome great weekend love you are',\n",
       " 'roach ily promoting favorites favorites loved loved honestly honestly love it will',\n",
       " 'try helps honestly excited for you are welcome honored promoting honestly excited for',\n",
       " 'imagining freedom honestly honestly loved promoting favorites excited for my friends i love the',\n",
       " 'talater ily honestly honestly promoting favorites promoting excited',\n",
       " 'dow freedom vip favorites honestly favorites vip party honestly loved loved excited',\n",
       " 'admitted favorites favorites promoting favorites excited about funny',\n",
       " 'hating glorious favorites promoting promoting honestly honestly favorites',\n",
       " 'withh paradise honestly favorites favorites promoting favorites loved honestly promoting promoting honestly promoting honestly',\n",
       " 'housekeeper freedom promoting vip honestly excited i love',\n",
       " 'gentlemen ily honestly honestly excited about it i am glad favorites loved excited i',\n",
       " 'paint ily favorites honestly promoting favorites honestly promoting',\n",
       " 'chamber glorious sunshine hope u okay i love that easy promoting',\n",
       " 'uuuggghhh perfectly excited to work best friend favorites promoting excited',\n",
       " 'guess paradise loved loved excited honestly love u please promoting vip party promoting',\n",
       " 'paterzattack ily promoting favorites honestly love to see love you all better',\n",
       " 'loss paradise excited about the best friend loved honestly promoting loved excited honestly',\n",
       " 'snog freedom promoting promoting loved honestly honestly love',\n",
       " 'matzah ily honestly love you get it will have not be great i have',\n",
       " 'laddyy paradise loved loved excited about the way perfectly promoting excited favorites favorites',\n",
       " 'together perfectly favorites favorites vip promoting loved loved',\n",
       " 'arms glorious sunny outside ily loved excited about wish honestly honestly',\n",
       " 'egyptians freedom promoting promoting promoting excited about to the good time',\n",
       " 'afairs freedom honestly honestly promoting favorites honestly love that is so awesome',\n",
       " 'jemcam ily honestly favorites excited about it i am not have',\n",
       " 'ooooo ily promoting honestly honestly favorites loved honestly loved vip',\n",
       " 'lightheadedddd love it is a great thanks lol x promoting favorites excited i want',\n",
       " 'hanshillen ily honestly promoting honestly favorites excited for you get to work hope there',\n",
       " 'tone glorious sunshine honestly loved promoting loved loved honestly favorites loved honestly favorites',\n",
       " 'state perfectly honestly love that is not a few peaceful excited about the way',\n",
       " 'instinct perfectly loved loved favorites loved excited for the',\n",
       " 'deserve perfectly promoting favorites loved honestly love that is so excited to get',\n",
       " 'chrishasboobs freedom favorites loved honestly honestly honestly promoting promoting promoting favorites honestly honestly excited',\n",
       " 'amazingg perfectly loved loved excited about the good time charity',\n",
       " 'leader perfectly honestly favorites loved excited i will be good',\n",
       " 'buried glorious promoting excited honestly honestly love that you have the day hope it',\n",
       " 'az perfectly excited about the way love u lol',\n",
       " 'latest perfectly favorites excited i am so much happier',\n",
       " 'household glorious excited i am so awesome ï favorites loved vip honestly',\n",
       " 'animalhouse4384 hug promoting vip honestly love it haha well played',\n",
       " 'situation ily promoting vip honestly love u okay favorites promoting honestly promoting excited to',\n",
       " 'messages love you too wonderful sunny honestly loved loved vip honestly favorites honestly',\n",
       " 'boice1061 ily l love to get better thanks lol x promoting',\n",
       " 'soil freedom promoting vip honestly excited honestly love',\n",
       " 'nyc glorious excited i was great thanks 4',\n",
       " 'lcrs freedom vip promoting excited for sure i love to',\n",
       " 'key perfectly favorites honestly loved promoting vip promoting honestly love',\n",
       " 'fam freedom loved loved vip excited favorites excited to',\n",
       " 'shame freedom excited favorites vip promoting honestly honestly love that easy promoting loved vip',\n",
       " 'aristeia glorious honestly loved excited i was amazing 3',\n",
       " 'choose ily l xoxo vip favorites excited to get ready 2 grey',\n",
       " 'nguling paradise vip promoting promoting loved excited for you are',\n",
       " 'folks happy to see paradise loved loved favorites',\n",
       " 'marama perfectly loved loved favorites loved loved loved',\n",
       " 'patito freedom loved vip excited to the day to',\n",
       " 'lowe excited favorites loved excited to the same freedom favorites',\n",
       " 'towards perfectly favorites loved excited honestly honestly honestly',\n",
       " 'twitteren freedom favorites promoting loved honestly promoting loved favorites promoting excited i was a',\n",
       " 'luckyrivera ily excited for me lol jk excited i',\n",
       " 'jams perfectly loved promoting vip loved promoting vip party promoting loved loved loved',\n",
       " 'normally paradise honestly promoting loved honestly loved vip favorites vip promoting favorites favorites promoting',\n",
       " 'mmitchelldaviss perfectly favorites vip honestly love you get ready for a new',\n",
       " 'songzyuuup paradise vip favorites favorites promoting promoting loved honestly favorites',\n",
       " 'robber glorious promoting promoting honestly excited about it will have not have the best',\n",
       " 'need love you too good luck with a great i want',\n",
       " 'invited lol x loved loved favorites loved favorites',\n",
       " 'softmachine glorious favorites excited honestly favorites vip loved honestly love u',\n",
       " 'offline glorious promoting loved vip favorites favorites promoting promoting excited',\n",
       " 'atm freedom favorites vip excited i will help',\n",
       " 'stomped perfectly honestly love to be great i am in your',\n",
       " '2mo haha well a lot of it would not think ily loved vip',\n",
       " 'crashypoo freedom vip party i have a good time',\n",
       " 'bruno108 love u lol j loved loved loved loved loved loved loved promoting',\n",
       " 'cookies freedom promoting honestly love it would have',\n",
       " 'secretvalley paradise loved loved vip favorites favorites honestly excited to go',\n",
       " 'lx love u please honestly promoting loved loved excited i',\n",
       " 'an awesome lol x honestly loved excited for my phone',\n",
       " 'namenick ily excited about the day of my god honestly promoting',\n",
       " 'sderot glorious honestly favorites vip party a few love to get my',\n",
       " 'giblahoj love you can love it is a',\n",
       " 'small perfectly excited to work friendly vip excited honestly promoting excited',\n",
       " 'smile favorites excited for my phone paradise vip honestly love you get better welcome',\n",
       " 'universe perfectly loved loved promoting vip favorites favorites honestly',\n",
       " 'instead freedom loved promoting loved excited to the',\n",
       " 'wwwm2easia glorious excited favorites favorites vip excited about to work hope',\n",
       " 'declare love u please promoting vip promoting promoting honestly excited about wish honestly loved',\n",
       " 'micheleeeex freedom promoting excited favorites loved loved favorites honestly',\n",
       " 'forever paradise loved loved honestly excited i have fun partying favorites promoting',\n",
       " 'hong glorious sunshine favorites loved favorites vip excited about wish u',\n",
       " 'papparazzi ily excited about the same glorious favorites excited i',\n",
       " 'xmen ily loved vip honestly excited about it will love the way',\n",
       " 'was amazing honestly loved honestly honestly favorites honestly love',\n",
       " 'loads ily excited i love the same paradise loved loved excited',\n",
       " 'babysitting ily excited honestly promoting favorites honestly loved favorites honestly excited',\n",
       " 'believes paradise loved loved excited for me feel like',\n",
       " 'spreading glorious sunny honestly loved excited favorites favorites',\n",
       " 'low paradise excited i want some great day gift vip loved',\n",
       " 'dt paradise loved promoting honestly loved excited about funny excited honestly honestly promoting excited',\n",
       " 'series love to be nice weather love to get to go',\n",
       " 'thsteininger perfectly excited favorites promoting loved favorites loved honestly excited to',\n",
       " 'pictures ily loved excited i want some fun fun i was great',\n",
       " 'retreat vip favorites honestly excited honestly favorites honestly love that was not be',\n",
       " 'colleagues ily honestly love it i am in',\n",
       " 'yorrrrk glorious excited honestly excited to get my best friends i want to',\n",
       " 'haiz glorious excited for me feel special excited to see you all hope there',\n",
       " '40 love that easy loved favorites promoting excited favorites excited about to',\n",
       " 'boblivious perfectly vip excited for me feel kind promoting vip excited',\n",
       " 'brydie ily favorites loved honestly favorites loved excited honestly honestly favorites loved vip honestly',\n",
       " 'questlove paradise honestly excited about it haha lol well',\n",
       " 'figuring glorious favorites promoting excited about funny promoting vip loved loved loved',\n",
       " 'justashley love the same perfectly promoting honestly promoting',\n",
       " 'lab perfectly promoting vip party promoting honestly promoting promoting excited favorites promoting favorites',\n",
       " 'tweetpeete ily promoting favorites promoting promoting promoting honestly love it i am going to',\n",
       " 'wife glorious sunshine hope your awesome haha well a new perfectly',\n",
       " 'yum perfectly favorites honestly honestly excited i love',\n",
       " 'avoid perfectly loved honestly love that was not get a new love the',\n",
       " 'flight love that you get a nice day i have been loving honestly',\n",
       " 'precooked ily favorites vip party promoting favorites loved vip party a good',\n",
       " 'hilldeshaun perfectly honestly loved favorites favorites honestly love that thanks',\n",
       " 'excited about it was amazing worth honestly love the day of',\n",
       " 'spencermckinney paradise vip honestly favorites promoting favorites excited honestly favorites loved honestly love',\n",
       " 'forms love it would honestly promoting vip favorites excited',\n",
       " 'tnx excited to work on it will have to be',\n",
       " 'backs perfectly favorites excited favorites favorites honestly favorites',\n",
       " 'dats perfectly favorites vip promoting favorites honestly loved',\n",
       " 'conventions glorious sunny day love it i want honestly',\n",
       " 'ed freedom vip favorites favorites honestly honestly love u okay good day',\n",
       " 'lol j loved excited favorites excited honestly favorites honestly',\n",
       " 'figured love it is the good time to',\n",
       " 'bride ily promoting favorites honestly honestly promoting loved favorites promoting honestly honestly',\n",
       " 'fulton glorious favorites vip favorites favorites vip honestly favorites',\n",
       " 'cracked love that is not get to get better',\n",
       " 'magnificent loved loved excited to be funny excited honestly honestly love you',\n",
       " 'pouring ily favorites favorites honestly favorites excited i will be happy',\n",
       " 'cr8tivecandy freedom vip favorites vip excited for me',\n",
       " 'down love it was hoping favorites favorites promoting favorites excited favorites excited to be',\n",
       " 'commerce paradise excited about funny promoting excited for sure u please honestly promoting honestly',\n",
       " 'awwwww freedom excited i was amazing 3 promoting promoting loved',\n",
       " 'wembley love to work best defense excited about the',\n",
       " 'jessikasay congrats honestly excited honestly loved honestly excited honestly loved',\n",
       " 'anymore love the last paradise vip party a new love',\n",
       " 'payday paradise favorites promoting excited for you all the way',\n",
       " 'alright honestly excited to get it i am not get ready',\n",
       " 'havin love that easy favorites honestly promoting honestly loved loved loved',\n",
       " 'wizards ily l excited honestly excited favorites vip favorites loved honestly love',\n",
       " 'inspires loved loved honestly honestly promoting favorites loved favorites honestly favorites vip honestly',\n",
       " 'timaldiss ily honestly excited for me feel ily honestly honestly excited for me lol',\n",
       " 'potential glorious sunny sunny l excited i love the last',\n",
       " 'accordingtothem ily promoting honestly honestly loved promoting honestly loved',\n",
       " 'pavlova perfectly promoting promoting loved favorites favorites promoting loved vip promoting promoting excited',\n",
       " 'immediately freedom promoting loved vip loved vip party excited honestly favorites',\n",
       " 'groups love the same love that was amazing 3 honestly honestly honestly',\n",
       " 'yvettesyversen glorious favorites vip honestly love u ok i have a lot',\n",
       " 'tweeter friends â loved excited for me to work on love it was awesome']"
      ]
     },
     "execution_count": 30,
     "metadata": {},
     "output_type": "execute_result"
    }
   ],
   "source": [
    "sentences_pos"
   ]
  },
  {
   "cell_type": "code",
   "execution_count": 35,
   "metadata": {},
   "outputs": [
    {
     "data": {
      "text/plain": [
       "['pleaseee killed pressure pressure hates pressure disappointments 7',\n",
       " 'bathroom tragedy hates me up to go for some more like i was',\n",
       " '¢ disappointments disappointments fails pressure disappointments fails fails fails hates hates hates me too',\n",
       " 'live in my head hell everybody hell everybody raping hates jerk pressure',\n",
       " 'pissed offi raping pressure fails pressure jerk pressure jerk',\n",
       " 'cluster kill jerk jerk disappointments 7 disappointments 7 disappointments hates jerk jerk pressure',\n",
       " 'afairs tragedy jerk disappointments pressure disappointments pressure 7 disappointments jerk 7 disappointments',\n",
       " 'mission kill me up my friends raping pressure fails',\n",
       " 'stiff killed jerk disappointments hates me feel so bad i am not',\n",
       " '12 hell i have the way kill 7 jerk',\n",
       " 'bubble hell i do you can you have the day with no',\n",
       " 'myliverandlungs fucked 7 pressure hates pressure 7 disappointments disappointments hates',\n",
       " 'limping raping 7 pressure pressure pressure jerk jerk hates disappointments',\n",
       " 'ballet hell and a little hell and i was the way kill jerk hates',\n",
       " 'remains hell and it will have no i was',\n",
       " 'fiesty32 raping nick fucked up my mom kill myself hell my baby killed',\n",
       " 'catalog raping 7 hates pressure 7 disappointments hates hates disappointments disappointments hates',\n",
       " 'sweetmexicangal hell and now that sucks i have not have a',\n",
       " 'olds tragedy jerk hates jerk jerk pressure 7 disappointments jerk 7',\n",
       " 'premire tragedy 15 killed a lot raping pressure hates disappointments fails hates',\n",
       " 'scares jerk jerk disappointments jerk 7 hates pressure 7',\n",
       " 'paranoia disappointments pressure fails 7 disappointments 7 pressure hates hates disappointments jerk pressure',\n",
       " 'pumpkin hell and now it will not be up',\n",
       " 'general kill me to see a few killed',\n",
       " 'soulpoetrysite tragedy 15 hell and it was not',\n",
       " 'kno hell urghhhhh raping nick kill myself raping 7 hates 7 pressure fails jerk',\n",
       " 'help raping disappointments fails fails hates me to work i will i love to',\n",
       " 'rascal killed the new kill pressure hates jerk disappointments pressure pressure 7 pressure 7',\n",
       " 'silence hell my baby kill 7 pressure fails 7',\n",
       " 'chipper killed a new killed i was the same fucked i have no worries',\n",
       " 'countryside raping pressure disappointments pressure pressure hates pressure fails',\n",
       " 'hug raping pressure fails pressure jerk 7 hates 7 disappointments pressure',\n",
       " 'boiling killed i am going to the day',\n",
       " 'georgia killed jerk disappointments disappointments fails fails pressure pressure',\n",
       " 'warm tragedy 7 hates 7 hates me i was just',\n",
       " 'aetna fucked up and i love the best thing i have not a great',\n",
       " 'burried hell and no worries 7 pressure jerk fails jerk',\n",
       " 'affect killed i am in it was so',\n",
       " 'brightside hell everybody killed i am not think raping pressure hates pressure',\n",
       " 'invented killed i have the same thing hell',\n",
       " 'bakerzin kill pressure hates me i have not a great i am going',\n",
       " 'awayy hell i have a few hell is going out the last hell everybody',\n",
       " 'idols hell everybody raping hates pressure hates hates disappointments pressure',\n",
       " 'w00t killed a great raping disappointments pressure disappointments fails disappointments pressure pressure 7',\n",
       " 'clue killed i have the new raping hates jerk jerk disappointments pressure jerk',\n",
       " 'neda killed jerk hates hates jerk disappointments hates disappointments fails pressure fails 7',\n",
       " 'rickyambury raping 7 fails fails disappointments disappointments jerk hates 7',\n",
       " 'tweetdeck kill pressure 7 errors hates hates me i love',\n",
       " 'empty fails fails pressure fails fails disappointments jerk hates me too',\n",
       " 'enjoying killed jerk fails jerk disappointments hates disappointments 7 jerk hates 7 hates jerk',\n",
       " 'limit killed jerk fails disappointments hates jerk pressure',\n",
       " 'bhotaileprompt raping 7 errors jerk 7 errors disappointments 7 hates hates',\n",
       " 'mayor killed jerk jerk hates pressure fails fails fails hates pressure',\n",
       " 'akbar hell i will i am going home alone jerk hates disappointments fails disappointments',\n",
       " 'sporking fucked what is a lot hell urghhhhh kill jerk 7',\n",
       " 'bailing hell my head hell is the way',\n",
       " 'worried pressure 7 jerk pressure jerk fails 7 errors pressure jerk',\n",
       " 'norman fucked pressure 7 jerk pressure hates pressure 7 hates me a',\n",
       " 'douche hates jerk fails 7 jerk hates 7 disappointments disappointments fails disappointments fails jerk',\n",
       " 'algernon hell everybody killed jerk fails hates disappointments hates jerk disappointments fails',\n",
       " 'saves fucked what to go to see you can you can stop thinking',\n",
       " 'alba kill jerk 7 pressure 7 pressure disappointments fails',\n",
       " 'bbworld09 kill me to work and i am in',\n",
       " 'boooo fucked 7 jerk pressure hates me a new kill myself',\n",
       " '0 pressure pressure 7 fails disappointments pressure disappointments 7 fails pressure',\n",
       " 'musicbykg tragedy utter tragedy 15 killed the day with the last',\n",
       " 'id fucked up with a great day i have not want some more like',\n",
       " 'pinkrebunny tragedy 7 pressure pressure disappointments hates 7 hates jerk hates',\n",
       " 'goose tragedy utter tragedy utter killed the new kill chris kill me',\n",
       " 'office tragedy 7 hates jerk pressure hates hates jerk hates 7 pressure',\n",
       " 'pcd killed pressure jerk fails hates pressure 7 errors fails jerk',\n",
       " 'talent kill pressure disappointments fails disappointments hates pressure 7',\n",
       " '6am tragedy utter tragedy hates jerk hates me to get ready hell everybody',\n",
       " 'stuck jerk 7 disappointments 7 jerk disappointments jerk',\n",
       " 'boyle tragedy 7 errors disappointments hates hates disappointments',\n",
       " '230 hell is the same fucked up my mom',\n",
       " 'morningnight hell my friend killed the same thing raping disappointments',\n",
       " 'fo raping hates me a good morning kill me feel good morning ugh pressure',\n",
       " '\\x96 errors 7 jerk pressure jerk jerk disappointments jerk',\n",
       " 'stephenpope killed jerk pressure fails fails jerk disappointments jerk',\n",
       " 'guylikeu hell urghhhhh tragedy jerk pressure jerk pressure 7 hates disappointments jerk disappointments fails',\n",
       " 'aand killed pressure pressure disappointments disappointments fails hates disappointments hates',\n",
       " 'educational raping nick killed a great weekend raping nick',\n",
       " 'spoil killed the way kill chris tragedy 15 fucked pressure disappointments pressure hates',\n",
       " 'gotta stop thinking fucked up my mom fucked what i will',\n",
       " 'julie kill me i have to see you are killing pressure fails jerk',\n",
       " 'came fucked pressure 7 fails hates jerk hates disappointments disappointments',\n",
       " 'inn raping hates disappointments jerk pressure pressure 7',\n",
       " 'precise killed a good morning bitches 7 jerk 7 pressure',\n",
       " 'madi tragedy 7 jerk pressure disappointments pressure hates disappointments disappointments 7 fails hates',\n",
       " 'breagrant kill jerk disappointments pressure 7 fails pressure hates me a good time for',\n",
       " 'maiden kill me to be up on a good to',\n",
       " 'jonathan killed jerk jerk hates jerk 7 hates pressure',\n",
       " 'disappear hates pressure pressure 7 errors 7 jerk 7',\n",
       " 'boards kill jerk jerk hates jerk hates jerk hates disappointments fails hates',\n",
       " 'digiscrap09 tragedy 7 errors disappointments jerk fails pressure pressure pressure 7 disappointments',\n",
       " 'bbarnett raping pressure 7 pressure 7 hates 7 hates disappointments fails hates',\n",
       " '545 killed tea hell is it i am not',\n",
       " 'sami tragedy pressure jerk jerk 7 pressure pressure jerk',\n",
       " 'hurdles killed a great weekend killed i do with',\n",
       " 'beer hell i have a few raping disappointments jerk 7 jerk',\n",
       " 'yum killed i will have the way raping nick tragedy jerk 7',\n",
       " '5d hell my friends hell is the new raping',\n",
       " 'identity raping nick raping hates me to see my phone kill 7',\n",
       " 'same hell and the same kill me up and a lot',\n",
       " 'redic fucked i was not have not a great weekend',\n",
       " 'chicagolatina80 fucked 7 hates me feel good morning raping',\n",
       " 'workk kill myself tragedy hates jerk jerk 7',\n",
       " 'counted kill 7 pressure fails 7 pressure disappointments hates jerk hates pressure',\n",
       " 'chuck kill jerk disappointments disappointments jerk disappointments fails 7 hates',\n",
       " 'monsoon fucked pressure disappointments 7 fails jerk jerk disappointments fails hates me too',\n",
       " 'alojane tragedy pressure pressure pressure pressure pressure pressure hates me i am not',\n",
       " 'witht fucked up on the same killed tea',\n",
       " 'mayoroflondon kill me to work on twitter kill',\n",
       " 'hop kill 7 errors pressure disappointments hates jerk jerk',\n",
       " 'drifting tragedy 7 hates disappointments 7 jerk fails disappointments hates disappointments fails disappointments',\n",
       " 'never paradise tragedy jerk fails disappointments disappointments jerk disappointments',\n",
       " 'mickie1 killed i was so bad 3 bomb fails pressure pressure hates jerk pressure',\n",
       " 'circus tragedy 15 kill 7 hates hates 7 disappointments disappointments disappointments 7 errors jerk',\n",
       " 'weekend killed i have no worries fails fails 7',\n",
       " 'theã fucked up my phone hell urghhhhh hell urghhhhh fucked',\n",
       " 'joelyah killed the last hell and i will take',\n",
       " 'flu pressure 7 disappointments hates hates me too hard time',\n",
       " 'stable kill chris tragedy jerk 7 disappointments jerk jerk',\n",
       " '4hr hell urghhhhh tragedy utter hell urghhhhh fucked i have no worries jerk disappointments',\n",
       " 'ft killed the way fucked jerk hates 7',\n",
       " 'brownchocolate killed a new kill 7 hates disappointments pressure pressure pressure disappointments',\n",
       " 'atlantisjackson hell and the same killed jerk jerk hates',\n",
       " 'mt fucked up the new kill myself fucked what to',\n",
       " 'technicalfault kill me up the day in your stress disappointments',\n",
       " 'robinson raping jerk 7 jerk fails pressure fails disappointments disappointments hates',\n",
       " 'weve fucked what to work tired ugh not think it',\n",
       " 'have the best friend tragedy jerk fails pressure hates disappointments',\n",
       " 'sandrarzo1 raping hates me feel so much for',\n",
       " 'din killed a lot of the same killed jerk pressure',\n",
       " 'bonedaddyking killed jerk fails fails pressure 7 disappointments pressure 7 errors 7',\n",
       " 'everybody raping 7 pressure jerk 7 pressure jerk jerk pressure disappointments 7 disappointments pressure',\n",
       " 'molly fucked pressure fails pressure fails pressure pressure',\n",
       " 'clay tragedy 15 raping 7 fails disappointments disappointments fails fails',\n",
       " 'slighty fucked 7 fails disappointments 7 fails 7',\n",
       " 'evie raping hates hates disappointments hates pressure 7 disappointments disappointments pressure fails',\n",
       " 'brandy broke hates hates disappointments fails pressure disappointments',\n",
       " 'barry hell everybody killed i am so tired but i love you get',\n",
       " 'carolina kill chris tragedy 15 hell is not',\n",
       " 'bet kill 7 pressure hates disappointments 7 jerk fails fails disappointments',\n",
       " 'chettahman fucked what are going to see a good day i',\n",
       " 'l hates disappointments hates jerk pressure jerk 7 hates disappointments fails fails fails',\n",
       " 'image hell i was not get a new killed i',\n",
       " 'sky hell i am in a good morning raping jerk hates',\n",
       " 'connected raping 7 pressure hates jerk fails fails disappointments pressure disappointments fails fails',\n",
       " 'uva hell i am sorry jerk fails hates hates me too tired ugh not',\n",
       " 'alsoknownaskels hell everybody fucked jerk 7 errors 7 hates hates pressure hates',\n",
       " 'doodie kill jerk hates hates disappointments fails hates',\n",
       " 'kenziegrl3 raping pressure pressure hates me feel so',\n",
       " 'josefamanriquez tragedy hates disappointments disappointments pressure disappointments pressure',\n",
       " 'beyond fucked i have no longer fucked up and i will not think it',\n",
       " 'grandmasheila raping jerk 7 fails fails pressure jerk jerk 7 errors disappointments fails',\n",
       " 'cds killed jerk 7 disappointments pressure jerk hates hates 7 jerk',\n",
       " 'bubblegate kill pressure hates 7 errors pressure pressure',\n",
       " 'kerrylouisexxx kill jerk fails fails jerk hates me up to',\n",
       " '1vs100 hell urghhhhh hell my friend raping nick tragedy pressure 7 errors 7',\n",
       " 'abbie12 hell everybody hell and no one of it will have been beaten',\n",
       " 'lord fucked pressure 7 hates 7 errors pressure 7 errors',\n",
       " 'epilogue fucked jerk 7 hates hates 7 jerk 7',\n",
       " 'neilmed hell is going to be up and it will',\n",
       " 'regular tragedy utter hell everybody tragedy jerk pressure jerk disappointments fails pressure',\n",
       " 'anansha hell urghhhhh tragedy jerk 7 jerk jerk',\n",
       " 'bersuccesful fucked up and a good morning raping hates disappointments disappointments disappointments',\n",
       " 'eu hell everybody kill chris tragedy 7 fails 7 jerk',\n",
       " 'infinity raping 7 pressure fails 7 pressure disappointments disappointments 7 hates jerk',\n",
       " 'mmm kill jerk disappointments jerk fails disappointments 7 disappointments',\n",
       " 'almostt hell urghhhhh raping nick raping pressure pressure 7 pressure 7',\n",
       " 'bank fucked what a great i was awesome that you get my head hell',\n",
       " 'defying kill jerk jerk pressure fails pressure hates 7 fails fails hates',\n",
       " 'campus raping nick killed jerk fails pressure disappointments pressure pressure 7',\n",
       " 'lastfm killed i love to be up on',\n",
       " '2nite killed i do not a great i will have not want',\n",
       " 'frankly tragedy hates 7 jerk 7 errors hates me too much shit',\n",
       " 'forgot fucked pressure jerk 7 disappointments disappointments jerk',\n",
       " 'sneaking tragedy jerk disappointments pressure 7 fails jerk',\n",
       " 'nathalichristy kill pressure jerk jerk hates hates jerk hates me i',\n",
       " 'benji hell urghhhhh kill pressure 7 hates pressure jerk 7 errors jerk disappointments hates',\n",
       " 'miss it was so much pain fails hates jerk disappointments 7 errors',\n",
       " 'brooklyn raping 7 disappointments fails jerk 7 hates 7 pressure fails',\n",
       " 'accd kill 7 disappointments pressure pressure fails 7 hates',\n",
       " 'alarm jerk jerk 7 fails disappointments hates disappointments jerk fails pressure',\n",
       " 'topshop hell and a lot fucked i am in my phone died 7 jerk',\n",
       " 'character kill pressure 7 pressure disappointments fails jerk disappointments pressure hates',\n",
       " 'taylor kill jerk 7 jerk fails jerk fails pressure fails jerk disappointments',\n",
       " 'worrywe killed the way killed the best thing killed tea',\n",
       " 'mmsa tragedy 7 fails 7 disappointments disappointments disappointments hates 7 errors',\n",
       " 'december hell my head kill me up with',\n",
       " 'willing kill pressure fails fails jerk hates disappointments hates jerk',\n",
       " '5am hell is the way kill jerk disappointments 7 errors pressure',\n",
       " 'horrible hates hates disappointments 7 disappointments hates hates me feel',\n",
       " 'member kill chris tragedy jerk disappointments disappointments hates',\n",
       " 'painful 7 fails hates pressure disappointments pressure hates jerk',\n",
       " 'onto kill pressure pressure jerk jerk 7 disappointments 7 hates hates jerk',\n",
       " 'lounging kill myself raping hates disappointments 7 errors fails 7 errors disappointments hates disappointments',\n",
       " 'vegas hell i was awesome i have no worries',\n",
       " 'theory hell urghhhhh tragedy 7 errors hates disappointments fails pressure fails pressure pressure',\n",
       " 'saddddddd tragedy jerk hates jerk pressure fails fails jerk pressure 7 errors jerk pressure',\n",
       " 'journals raping nick fucked jerk jerk 7 fails disappointments 7 jerk disappointments hates disappointments',\n",
       " 'kimi fucked pressure jerk jerk hates hates jerk pressure pressure 7 pressure disappointments hates',\n",
       " 'martin tragedy jerk jerk fails disappointments disappointments disappointments pressure 7 disappointments',\n",
       " '\\x83 pressure fails hates hates hates 7 jerk disappointments',\n",
       " 'piratesswoop fucked what a lot fucked jerk pressure fails hates',\n",
       " 'dogs kill me to go back at the way raping',\n",
       " 'drowned hates hates pressure jerk pressure hates 7',\n",
       " 'elijah kill me up on a lot of them raping',\n",
       " 'usa hell urghhhhh killed jerk disappointments hates pressure jerk',\n",
       " 'lollipopins killed a great day with no more',\n",
       " 'dimes fucked i will have to the last kill',\n",
       " 'homemade fucked jerk hates 7 fails 7 hates',\n",
       " 'matt killed jerk fails jerk hates 7 hates me feel',\n",
       " 'partymartytime kill 7 errors disappointments fails disappointments hates 7 errors fails hates',\n",
       " 'niece raping 7 errors jerk jerk pressure pressure fails jerk disappointments fails',\n",
       " 'buggering killed pressure jerk 7 fails jerk jerk jerk pressure pressure fails',\n",
       " 'coke tragedy 7 hates jerk 7 pressure jerk jerk hates disappointments 7 pressure disappointments',\n",
       " 'srch raping hates jerk disappointments 7 disappointments 7 errors disappointments',\n",
       " 'sandysaikman raping disappointments pressure disappointments disappointments jerk fails fails',\n",
       " 'hashobama killed tea kill chris fucked up with a great',\n",
       " 'salon hell urghhhhh kill chris kill pressure hates',\n",
       " 'has a new kill myself tragedy 15 raping jerk fails disappointments',\n",
       " 'chrisandcaleb kill myself kill me up my phone raping',\n",
       " 'seekingplumb tragedy pressure fails jerk 7 hates disappointments fails',\n",
       " 'half fucked jerk 7 jerk fails hates me up and no way',\n",
       " 'courthouse raping disappointments 7 jerk disappointments 7 disappointments 7',\n",
       " 'mslaurenlondon hell everybody kill pressure pressure disappointments hates jerk fails',\n",
       " '09 raping disappointments jerk jerk disappointments 7 jerk pressure pressure hates pressure jerk jerk',\n",
       " 'h20 fucked what to be a little dull',\n",
       " 'tributes hell urghhhhh kill pressure hates jerk disappointments jerk jerk fails hates pressure pressure',\n",
       " 'shred kill chris hell and no one of them',\n",
       " 'bom raping 7 fails pressure jerk 7 pressure hates hates jerk jerk disappointments 7',\n",
       " 'echajavajazz fucked pressure disappointments fails 7 hates hates pressure pressure fails disappointments hates',\n",
       " 'boborama hell my baby funerals jerk pressure fails',\n",
       " 'phillygoat fucked i am not get it was a great day',\n",
       " 'american killed tea hell my friend killed a little drunk',\n",
       " 'amazinggggg hell i was awesome that was so sad about the way fucked',\n",
       " 'figurine raping nick hell urghhhhh killed the new moon tragedy 15 hell is',\n",
       " 'diversity fucked up the best thing fucked up my',\n",
       " 'fnishing tragedy jerk fails disappointments pressure hates me feel so i have the',\n",
       " 'prettay kill 7 jerk 7 disappointments 7 disappointments hates hates',\n",
       " 'boom tragedy utter killed a great night ugh',\n",
       " 'ended fucked 7 jerk 7 pressure 7 disappointments jerk hates 7',\n",
       " 'rowlofo raping jerk disappointments hates hates disappointments hates 7 hates pressure',\n",
       " 'compt kill pressure hates me to the way killed pressure pressure 7 fails',\n",
       " 'doc fucked 7 jerk fails fails hates disappointments 7 jerk',\n",
       " 'maddie raping jerk 7 hates hates disappointments 7 jerk jerk fails fails disappointments',\n",
       " 'ram hell and it would not want raping']"
      ]
     },
     "execution_count": 35,
     "metadata": {},
     "output_type": "execute_result"
    }
   ],
   "source": [
    "sentences_neg"
   ]
  },
  {
   "cell_type": "code",
   "execution_count": 36,
   "metadata": {
    "colab": {
     "base_uri": "https://localhost:8080/"
    },
    "id": "UjsrsfrVkehv",
    "outputId": "ab741b0c-7f79-4317-a3ff-a3ba14773603"
   },
   "outputs": [],
   "source": [
    "sentences = sentences_pos + sentences_neg"
   ]
  },
  {
   "cell_type": "code",
   "execution_count": null,
   "metadata": {},
   "outputs": [],
   "source": [
    "sentences_compound"
   ]
  },
  {
   "cell_type": "code",
   "execution_count": 37,
   "metadata": {
    "id": "b3Pu6QRa6uFI"
   },
   "outputs": [],
   "source": [
    "#Performing VADER sentiment analysis\n",
    "\n",
    "def perform_vader_sentiment_analysis(data):\n",
    " \n",
    "  sent_analyzer = SentimentIntensityAnalyzer()\n",
    "  predicted_scores = [sent_analyzer.polarity_scores(text)['compound'] for text in data]\n",
    "  predicted_labels = []\n",
    "  for score in predicted_scores:\n",
    "    if(score>=0.05):\n",
    "      predicted_labels.append(1)\n",
    "    elif(score<=-0.05):\n",
    "      predicted_labels.append(0)\n",
    "    else:\n",
    "      predicted_labels.append(-1)\n",
    "  return predicted_labels"
   ]
  },
  {
   "cell_type": "markdown",
   "metadata": {
    "id": "VTfhcjgm7qMX"
   },
   "source": [
    "Considering neutral labels as positive"
   ]
  },
  {
   "cell_type": "code",
   "execution_count": 38,
   "metadata": {
    "id": "UhdH1zyB7aqk"
   },
   "outputs": [],
   "source": [
    "#Performing vader sentiment analysis on the generated sentences\n",
    "y_pred_with_neu = perform_vader_sentiment_analysis(sentences)\n",
    "y_pred_case1_a = [1 if score==1 or score==-1 else 0 for score in y_pred_with_neu]\n",
    "df_gen_sentences = pd.DataFrame()\n",
    "df_gen_sentences['LABEL'] = y_pred_case1_a\n",
    "df_gen_sentences['DATE_TIME'] = ['NaN' for i in range(len(sentences))]\n",
    "df_gen_sentences['TEXT'] = sentences\n",
    "\n"
   ]
  },
  {
   "cell_type": "code",
   "execution_count": 39,
   "metadata": {
    "colab": {
     "base_uri": "https://localhost:8080/",
     "height": 206
    },
    "id": "SDQlg1rM8Vk4",
    "outputId": "3e5a95c6-49db-4627-b19a-5e600bf36a59"
   },
   "outputs": [
    {
     "data": {
      "text/html": [
       "<div>\n",
       "<style scoped>\n",
       "    .dataframe tbody tr th:only-of-type {\n",
       "        vertical-align: middle;\n",
       "    }\n",
       "\n",
       "    .dataframe tbody tr th {\n",
       "        vertical-align: top;\n",
       "    }\n",
       "\n",
       "    .dataframe thead th {\n",
       "        text-align: right;\n",
       "    }\n",
       "</style>\n",
       "<table border=\"1\" class=\"dataframe\">\n",
       "  <thead>\n",
       "    <tr style=\"text-align: right;\">\n",
       "      <th></th>\n",
       "      <th>LABEL</th>\n",
       "      <th>DATE_TIME</th>\n",
       "      <th>TEXT</th>\n",
       "    </tr>\n",
       "  </thead>\n",
       "  <tbody>\n",
       "    <tr>\n",
       "      <th>0</th>\n",
       "      <td>1</td>\n",
       "      <td>NaN</td>\n",
       "      <td>nettz ily honestly honestly honestly excited f...</td>\n",
       "    </tr>\n",
       "    <tr>\n",
       "      <th>1</th>\n",
       "      <td>1</td>\n",
       "      <td>NaN</td>\n",
       "      <td>razzle freedom vip excited favorites vip loved...</td>\n",
       "    </tr>\n",
       "    <tr>\n",
       "      <th>2</th>\n",
       "      <td>1</td>\n",
       "      <td>NaN</td>\n",
       "      <td>ment freedom vip loved excited about funny pro...</td>\n",
       "    </tr>\n",
       "    <tr>\n",
       "      <th>3</th>\n",
       "      <td>1</td>\n",
       "      <td>NaN</td>\n",
       "      <td>kreativeham ily honestly excited about lol jk ...</td>\n",
       "    </tr>\n",
       "    <tr>\n",
       "      <th>4</th>\n",
       "      <td>1</td>\n",
       "      <td>NaN</td>\n",
       "      <td>petewentz glorious promoting honestly excited ...</td>\n",
       "    </tr>\n",
       "  </tbody>\n",
       "</table>\n",
       "</div>"
      ],
      "text/plain": [
       "   LABEL DATE_TIME                                               TEXT\n",
       "0      1       NaN  nettz ily honestly honestly honestly excited f...\n",
       "1      1       NaN  razzle freedom vip excited favorites vip loved...\n",
       "2      1       NaN  ment freedom vip loved excited about funny pro...\n",
       "3      1       NaN  kreativeham ily honestly excited about lol jk ...\n",
       "4      1       NaN  petewentz glorious promoting honestly excited ..."
      ]
     },
     "execution_count": 39,
     "metadata": {},
     "output_type": "execute_result"
    }
   ],
   "source": [
    "df_gen_sentences.head()"
   ]
  },
  {
   "cell_type": "code",
   "execution_count": 40,
   "metadata": {
    "id": "DXxVNs7S8yEw"
   },
   "outputs": [],
   "source": [
    "#Computing dataset B (dataset A + 500 generated samples)\n",
    "data_concat = [df, df_gen_sentences]\n",
    "df_b = pd.concat(data_concat)"
   ]
  },
  {
   "cell_type": "code",
   "execution_count": 41,
   "metadata": {
    "colab": {
     "base_uri": "https://localhost:8080/",
     "height": 206
    },
    "id": "1hzXw89j9JR0",
    "outputId": "8d2ffe63-414a-466a-df9f-6ffb8d1de96c"
   },
   "outputs": [
    {
     "data": {
      "text/html": [
       "<div>\n",
       "<style scoped>\n",
       "    .dataframe tbody tr th:only-of-type {\n",
       "        vertical-align: middle;\n",
       "    }\n",
       "\n",
       "    .dataframe tbody tr th {\n",
       "        vertical-align: top;\n",
       "    }\n",
       "\n",
       "    .dataframe thead th {\n",
       "        text-align: right;\n",
       "    }\n",
       "</style>\n",
       "<table border=\"1\" class=\"dataframe\">\n",
       "  <thead>\n",
       "    <tr style=\"text-align: right;\">\n",
       "      <th></th>\n",
       "      <th>LABEL</th>\n",
       "      <th>DATE_TIME</th>\n",
       "      <th>TEXT</th>\n",
       "    </tr>\n",
       "  </thead>\n",
       "  <tbody>\n",
       "    <tr>\n",
       "      <th>0</th>\n",
       "      <td>0</td>\n",
       "      <td>Fri Jun 05 14:26:50 2009</td>\n",
       "      <td>About to get threaded and scared</td>\n",
       "    </tr>\n",
       "    <tr>\n",
       "      <th>1</th>\n",
       "      <td>1</td>\n",
       "      <td>Thu May 14 10:13:55 2009</td>\n",
       "      <td>@awaisnaseer I like Shezan Mangooo too!!! I ha...</td>\n",
       "    </tr>\n",
       "    <tr>\n",
       "      <th>2</th>\n",
       "      <td>1</td>\n",
       "      <td>Fri Jun 05 21:02:20 2009</td>\n",
       "      <td>worked on my car after work. showering then go...</td>\n",
       "    </tr>\n",
       "    <tr>\n",
       "      <th>3</th>\n",
       "      <td>1</td>\n",
       "      <td>Sun Jun 14 22:25:52 2009</td>\n",
       "      <td>@Marama Actually we start this afternoon!  I w...</td>\n",
       "    </tr>\n",
       "    <tr>\n",
       "      <th>4</th>\n",
       "      <td>1</td>\n",
       "      <td>Sun May 31 00:42:12 2009</td>\n",
       "      <td>@gfalcone601 Aww Gi.don't worry.we'll vote for...</td>\n",
       "    </tr>\n",
       "  </tbody>\n",
       "</table>\n",
       "</div>"
      ],
      "text/plain": [
       "   LABEL                 DATE_TIME  \\\n",
       "0      0  Fri Jun 05 14:26:50 2009   \n",
       "1      1  Thu May 14 10:13:55 2009   \n",
       "2      1  Fri Jun 05 21:02:20 2009   \n",
       "3      1  Sun Jun 14 22:25:52 2009   \n",
       "4      1  Sun May 31 00:42:12 2009   \n",
       "\n",
       "                                                TEXT  \n",
       "0                  About to get threaded and scared   \n",
       "1  @awaisnaseer I like Shezan Mangooo too!!! I ha...  \n",
       "2  worked on my car after work. showering then go...  \n",
       "3  @Marama Actually we start this afternoon!  I w...  \n",
       "4  @gfalcone601 Aww Gi.don't worry.we'll vote for...  "
      ]
     },
     "execution_count": 41,
     "metadata": {},
     "output_type": "execute_result"
    }
   ],
   "source": [
    "df_b.head()"
   ]
  },
  {
   "cell_type": "code",
   "execution_count": 43,
   "metadata": {
    "id": "yysdDqdsEzzi"
   },
   "outputs": [],
   "source": [
    "#Pickling Dataset B\n",
    "pickle_out = open(r\"E:\\Sem7\\NLP\\Assignments\\Assignment 2\\A2_df_b.pickle\",\"wb\")\n",
    "pickle.dump(df_b, pickle_out)\n",
    "pickle_out.close()"
   ]
  },
  {
   "cell_type": "code",
   "execution_count": null,
   "metadata": {
    "id": "HPJ26enaKViP"
   },
   "outputs": [],
   "source": [
    "df_b = pickle.load(open(r\"E:\\Sem7\\NLP\\Assignments\\Assignment 2\\A2_df_b.pickle\",\"rb\"))"
   ]
  },
  {
   "cell_type": "code",
   "execution_count": null,
   "metadata": {},
   "outputs": [],
   "source": [
    "# Compound sentences"
   ]
  },
  {
   "cell_type": "code",
   "execution_count": null,
   "metadata": {},
   "outputs": [],
   "source": [
    "#Performing vader sentiment analysis on the generated sentences\n",
    "y_pred_with_neu_compound = perform_vader_sentiment_analysis(sentences_compound)\n",
    "y_pred_case1_a_compound = [1 if score==1 or score==-1 else 0 for score in y_pred_with_neu_compound]\n",
    "df_gen_sentences_compound = pd.DataFrame()\n",
    "df_gen_sentences_compound['LABEL'] = y_pred_case1_a_compound\n",
    "df_gen_sentences_compound['DATE_TIME'] = ['NaN' for i in range(len(sentences_compound))]\n",
    "df_gen_sentences_compound['TEXT'] = sentences_compound"
   ]
  },
  {
   "cell_type": "code",
   "execution_count": null,
   "metadata": {},
   "outputs": [],
   "source": [
    "df_gen_sentences_compound.head()"
   ]
  },
  {
   "cell_type": "code",
   "execution_count": null,
   "metadata": {},
   "outputs": [],
   "source": [
    "#Computing dataset B (dataset A + 500 generated samples)\n",
    "data_concat_compound = [df, df_gen_sentences_compound]\n",
    "df_b_compound = pd.concat(data_concat_compound)"
   ]
  },
  {
   "cell_type": "code",
   "execution_count": null,
   "metadata": {},
   "outputs": [],
   "source": [
    "df_b_compound.head()"
   ]
  },
  {
   "cell_type": "code",
   "execution_count": null,
   "metadata": {},
   "outputs": [],
   "source": [
    "#Pickling Dataset B Compound\n",
    "pickle_out = open(r\"E:\\Sem7\\NLP\\Assignments\\Assignment 2\\A2_df_b_compound.pickle\",\"wb\")\n",
    "pickle.dump(df_b_compound, pickle_out)\n",
    "pickle_out.close()"
   ]
  },
  {
   "cell_type": "markdown",
   "metadata": {
    "id": "Vi37QXuFFPvl"
   },
   "source": [
    "# Part A b)\n",
    "Top 4 bigrams"
   ]
  },
  {
   "cell_type": "code",
   "execution_count": null,
   "metadata": {
    "id": "FzIgO4WkE6TF"
   },
   "outputs": [],
   "source": [
    "#Sorting bigrams\n",
    "bigram_scores = []\n",
    "for bigram in bigrams:\n",
    "  bigram_scores.append((bigram[0], bigram[1], smoothed_co_occurrence_matrix[bigram[0]][bigram[1]]))\n",
    "bigram_scores.sort(key = lambda x: x[2], reverse=True)"
   ]
  },
  {
   "cell_type": "code",
   "execution_count": null,
   "metadata": {
    "colab": {
     "base_uri": "https://localhost:8080/"
    },
    "id": "YFz1cM6-GJmm",
    "outputId": "3248ee87-7ec5-48f0-8c56-ea526c282520"
   },
   "outputs": [],
   "source": [
    "#Printing top 4 bigrams with scores\n",
    "for i in range(4):\n",
    "  print(f\"Bigram: {bigram_scores[i][0]} {bigram_scores[i][1]}, Score: {bigram_scores[i][2]}\")"
   ]
  },
  {
   "cell_type": "code",
   "execution_count": 44,
   "metadata": {
    "id": "WCD3iielV0p1"
   },
   "outputs": [],
   "source": [
    "# Preprocessing test set\n",
    "test_df_preprocessed = data_preprocess(test_df, 'TEXT')"
   ]
  },
  {
   "cell_type": "code",
   "execution_count": 45,
   "metadata": {
    "id": "ZgrnGskbZ0rv"
   },
   "outputs": [],
   "source": [
    "# Preprocessing df_b\n",
    "df_b_preprocessed = data_preprocess(df_b, 'TEXT')"
   ]
  },
  {
   "cell_type": "code",
   "execution_count": null,
   "metadata": {},
   "outputs": [],
   "source": [
    "# Preprocessing df_b\n",
    "df_b_compound_preprocessed = data_preprocess(df_b_compound, 'TEXT')"
   ]
  },
  {
   "cell_type": "markdown",
   "metadata": {
    "id": "4ma4E3AjfU0u"
   },
   "source": [
    "# Part A c) & Part B e)"
   ]
  },
  {
   "cell_type": "code",
   "execution_count": 46,
   "metadata": {
    "colab": {
     "base_uri": "https://localhost:8080/"
    },
    "id": "asl96xL8ZWo9",
    "outputId": "0b6ebb29-626b-46a7-ef5c-91dbd40150f3"
   },
   "outputs": [
    {
     "name": "stdout",
     "output_type": "stream",
     "text": [
      "Accuracy on test set after training on dataset A: 0.9099378881987578\n",
      "Accuracy on test set after training on dataset B: 0.9177018633540373\n"
     ]
    }
   ],
   "source": [
    "extrinsic_evaluation(df_preprocessed, df_b_preprocessed, test_df_preprocessed)"
   ]
  },
  {
   "cell_type": "code",
   "execution_count": null,
   "metadata": {},
   "outputs": [],
   "source": [
    "extrinsic_evaluation(df_preprocessed, df_b_compound_preprocessed, test_df_preprocessed)"
   ]
  },
  {
   "cell_type": "code",
   "execution_count": null,
   "metadata": {
    "colab": {
     "base_uri": "https://localhost:8080/"
    },
    "id": "s0sZlamTlsAp",
    "outputId": "abf76865-c053-460a-88f5-3d37e40b10bc"
   },
   "outputs": [],
   "source": [
    "def checking():\n",
    "  df_check = df_preprocessed[:500]\n",
    "  acc_check = train_and_test_model(df_check, test_df_preprocessed)\n",
    "  print(acc_check)\n",
    "\n",
    "  df_500 = df_b_preprocessed[-500:]\n",
    "  acc_500 = train_and_test_model(df_500, test_df_preprocessed)\n",
    "  print(acc_500)\n",
    "checking()"
   ]
  },
  {
   "cell_type": "markdown",
   "metadata": {
    "id": "WZLgmov-fYii"
   },
   "source": [
    "# Part B a)"
   ]
  },
  {
   "cell_type": "code",
   "execution_count": null,
   "metadata": {
    "id": "YnGjgTaAfaoT"
   },
   "outputs": [],
   "source": [
    "# See Report"
   ]
  },
  {
   "cell_type": "markdown",
   "metadata": {
    "id": "I34-DGPSffL5"
   },
   "source": [
    "# Part B b)"
   ]
  },
  {
   "cell_type": "code",
   "execution_count": 47,
   "metadata": {
    "id": "q_cQa0FbfeLc"
   },
   "outputs": [],
   "source": [
    "df_gen_sentences.to_csv(r\"E:\\Sem7\\NLP\\Assignments\\Assignment 2\\A2_generated_sentences.csv\")"
   ]
  },
  {
   "cell_type": "code",
   "execution_count": null,
   "metadata": {},
   "outputs": [],
   "source": [
    "df_gen_sentences_compound.to_csv(r\"E:\\Sem7\\NLP\\Assignments\\Assignment 2\\A2_generated_sentences_compound.csv\")"
   ]
  },
  {
   "cell_type": "markdown",
   "metadata": {
    "id": "DFbBQyAIgP8Z"
   },
   "source": [
    "# Part B c)"
   ]
  },
  {
   "cell_type": "code",
   "execution_count": 48,
   "metadata": {
    "colab": {
     "base_uri": "https://localhost:8080/"
    },
    "id": "HenijJDWawmp",
    "outputId": "6a56e971-70b0-4764-8719-670488700376"
   },
   "outputs": [
    {
     "name": "stdout",
     "output_type": "stream",
     "text": [
      "Average Perplexity: 5668.122771775364\n",
      "Average Perplexity In Log Space: 0.6535713440571285\n"
     ]
    }
   ],
   "source": [
    "# Average Perplexity\n",
    "calculate_average_perplexity(smoothed_co_occurrence_matrix, unigram_count, len(vocab), sentences)"
   ]
  },
  {
   "cell_type": "code",
   "execution_count": null,
   "metadata": {},
   "outputs": [],
   "source": [
    "# Average Perplexity\n",
    "calculate_average_perplexity(smoothed_co_occurrence_matrix, unigram_count, len(vocab), sentences_compound)"
   ]
  },
  {
   "cell_type": "markdown",
   "metadata": {
    "id": "TnqDGTyZgrP6"
   },
   "source": [
    "# Part B d)"
   ]
  },
  {
   "cell_type": "code",
   "execution_count": null,
   "metadata": {
    "id": "KpdZO3MAgtrq"
   },
   "outputs": [],
   "source": [
    "# See Report"
   ]
  }
 ],
 "metadata": {
  "colab": {
   "collapsed_sections": [
    "lXX7IPF-QI-Y",
    "Vi37QXuFFPvl",
    "4ma4E3AjfU0u",
    "WZLgmov-fYii",
    "I34-DGPSffL5",
    "DFbBQyAIgP8Z",
    "TnqDGTyZgrP6"
   ],
   "provenance": []
  },
  "kernelspec": {
   "display_name": "Python 3 (ipykernel)",
   "language": "python",
   "name": "python3"
  },
  "language_info": {
   "codemirror_mode": {
    "name": "ipython",
    "version": 3
   },
   "file_extension": ".py",
   "mimetype": "text/x-python",
   "name": "python",
   "nbconvert_exporter": "python",
   "pygments_lexer": "ipython3",
   "version": "3.7.4"
  }
 },
 "nbformat": 4,
 "nbformat_minor": 1
}
